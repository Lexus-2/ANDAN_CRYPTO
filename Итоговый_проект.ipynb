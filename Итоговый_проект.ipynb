{
  "nbformat": 4,
  "nbformat_minor": 0,
  "metadata": {
    "colab": {
      "provenance": [],
      "collapsed_sections": [
        "8rmYuROx4geQ",
        "fWWPSmdZKS_Q",
        "gpzjBc0IJoHf",
        "AIayM_5uctuN",
        "CNfu_jdYuVcG",
        "ugcN8FPmviAs",
        "5ymemb-12C0a"
      ]
    },
    "kernelspec": {
      "name": "python3",
      "display_name": "Python 3"
    },
    "language_info": {
      "name": "python"
    },
    "gpuClass": "standard"
  },
  "cells": [
    {
      "cell_type": "markdown",
      "source": [
        "<center>\n",
        "<img src='https://media.giphy.com/media/v1.Y2lkPTc5MGI3NjExMDBjNTczYzE0NTIxMjlmYjg1OGQwN2UxYzk4M2VlYzRlYTUzNjlkMyZlcD12MV9pbnRlcm5hbF9naWZzX2dpZklkJmN0PWc/8qGPuB8AQW3AZuXVSb/giphy.gif' align='center' width=\"500x\">\n",
        "</center>"
      ],
      "metadata": {
        "id": "7rLQbdxXAY8N"
      }
    },
    {
      "cell_type": "markdown",
      "source": [
        "###**Тема проекта**\n",
        "Венчурные инвестиции в криптопроекты за период с 1 января 2021 года - до 1 января 2023 года\n",
        "\n",
        "\\\n",
        "\n",
        "---\n",
        "\\\n",
        "\n",
        "**Источник:** https://cryptorank.io/funding-rounds\n",
        "\n",
        "> Один из самых авторитетных источников, предоставляющий данные и аналитику о цифровых активах. Для сбора информации cryptorank использует первоначальные и проверенные источники, включая биржи криптовалют, официальные сайты компаний, новостные ресурсы, пресс-релизы, социальные сети проектов и другие источники, чтобы собирать информацию о финансировании проектов.\n",
        "\n",
        "\n"
      ],
      "metadata": {
        "id": "DQgbrsfV4mcP"
      }
    },
    {
      "cell_type": "code",
      "source": [
        "import pandas as pd\n",
        "import numpy as np\n",
        "import seaborn as sns\n",
        "import matplotlib as plt\n",
        "import matplotlib.pyplot as plt\n",
        "import urllib.request\n",
        "import requests\n",
        "from bs4 import BeautifulSoup\n",
        "from typing import  List\n",
        "import seaborn as sns\n",
        "from string import punctuation\n",
        "import math"
      ],
      "metadata": {
        "id": "Q3ZZTJQVueEW"
      },
      "execution_count": null,
      "outputs": []
    },
    {
      "cell_type": "markdown",
      "source": [
        "#Первоначальный сбор данных"
      ],
      "metadata": {
        "id": "8rmYuROx4geQ"
      }
    },
    {
      "cell_type": "markdown",
      "source": [
        "Был выполнен парсинг источника проекта, отфильтрованного по дате за период с 1 января 2021 года - до 1 января 2023 года\n",
        "\n",
        "\\\n",
        "\n",
        "---\n"
      ],
      "metadata": {
        "id": "SPwL0iFgKqgO"
      }
    },
    {
      "cell_type": "markdown",
      "source": [
        "**Шаг 1**\n",
        "\n",
        "Мы нашли в коде сайта местоположения таблиц\n",
        "\n",
        "> Так как outerHTML таблиц большие и по размеру, и по весу - мы сохранили ссылки на страницы, как текстовый файл и перенесли в Google Disk для их открытия\n",
        "\n"
      ],
      "metadata": {
        "id": "_2-1iuN-HkRA"
      }
    },
    {
      "cell_type": "code",
      "source": [
        "url = \"https://drive.google.com/uc?id=1PrjmYUWyA0ncWkkwn_7Girj4OJgjtXId\"\n",
        "with urllib.request.urlopen(url) as response:\n",
        "    html = response.read().decode()\n",
        "html = html.split(\"\\n\")"
      ],
      "metadata": {
        "id": "FOeFEqeB25rx"
      },
      "execution_count": null,
      "outputs": []
    },
    {
      "cell_type": "markdown",
      "source": [
        "**Шаг 2**\n",
        "\n",
        "Далее мы запарсили таблицы с помощью BeautifulSoup, который находит тег table - элемент, где как раз хранятся наши данные\n",
        "\n",
        "Нашли все строки и вытащили из каждой информацию про инвестиции в определенный проект\n",
        "\n",
        "Полученные данные сохранили в df для будущего анализа"
      ],
      "metadata": {
        "id": "O3YMJjfJIZit"
      }
    },
    {
      "cell_type": "code",
      "source": [
        "df = []\n",
        "for i in range(len(html)-1):\n",
        "    beautiful_soup = BeautifulSoup(html[i], 'html.parser')\n",
        "    table = beautiful_soup.find('table')\n",
        "    rows = table.find_all('tr')\n",
        "\n",
        "    for row in rows:\n",
        "        cols = row.find_all('td')\n",
        "        cols = [col.text.strip() for col in cols]\n",
        "        df.append(cols)"
      ],
      "metadata": {
        "id": "23LAo36i3BBz"
      },
      "execution_count": null,
      "outputs": []
    },
    {
      "cell_type": "markdown",
      "source": [
        "**Шаг 3**\n",
        "\n",
        "Переформатировали запарсенные данные df в формат pandas и озаглавили столбцы соответственно для более удобного последующего анализа и моделирования"
      ],
      "metadata": {
        "id": "MEiFHRFDJ_PM"
      }
    },
    {
      "cell_type": "code",
      "source": [
        "funding_rounds = pd.DataFrame(df, columns = ['Project', 'Date', 'Raise', 'Stage', 'Funds and investors', 'Category'])\n",
        "\n",
        "print(funding_rounds.shape)\n",
        "funding_rounds.head()"
      ],
      "metadata": {
        "colab": {
          "base_uri": "https://localhost:8080/"
        },
        "id": "ffu-Srql3Tvs",
        "outputId": "34abf303-dfdf-405e-fbbc-eda8fba36e67"
      },
      "execution_count": null,
      "outputs": [
        {
          "output_type": "stream",
          "name": "stdout",
          "text": [
            "(3742, 6)\n"
          ]
        },
        {
          "output_type": "execute_result",
          "data": {
            "text/plain": [
              "         Project         Date        Raise     Stage Funds and investors  \\\n",
              "0           None         None         None      None                None   \n",
              "1       DeSchool  31 Dec 2022                   Seed     y2z Ventures +5   \n",
              "2  Magic Fantasy  30 Dec 2022  $ 3,000,000   Unknown           Easycoins   \n",
              "3          Twity  29 Dec 2022  $ 6,500,000  Series A        Wave Capital   \n",
              "4     wowTalkies  29 Dec 2022                Unknown  Tangentia Ventures   \n",
              "\n",
              "             Category  \n",
              "0                None  \n",
              "1  Blockchain Service  \n",
              "2              GameFi  \n",
              "3              Social  \n",
              "4              Social  "
            ],
            "text/html": [
              "\n",
              "  <div id=\"df-eb3d5e91-9a6a-4e09-ae88-577f3a370691\">\n",
              "    <div class=\"colab-df-container\">\n",
              "      <div>\n",
              "<style scoped>\n",
              "    .dataframe tbody tr th:only-of-type {\n",
              "        vertical-align: middle;\n",
              "    }\n",
              "\n",
              "    .dataframe tbody tr th {\n",
              "        vertical-align: top;\n",
              "    }\n",
              "\n",
              "    .dataframe thead th {\n",
              "        text-align: right;\n",
              "    }\n",
              "</style>\n",
              "<table border=\"1\" class=\"dataframe\">\n",
              "  <thead>\n",
              "    <tr style=\"text-align: right;\">\n",
              "      <th></th>\n",
              "      <th>Project</th>\n",
              "      <th>Date</th>\n",
              "      <th>Raise</th>\n",
              "      <th>Stage</th>\n",
              "      <th>Funds and investors</th>\n",
              "      <th>Category</th>\n",
              "    </tr>\n",
              "  </thead>\n",
              "  <tbody>\n",
              "    <tr>\n",
              "      <th>0</th>\n",
              "      <td>None</td>\n",
              "      <td>None</td>\n",
              "      <td>None</td>\n",
              "      <td>None</td>\n",
              "      <td>None</td>\n",
              "      <td>None</td>\n",
              "    </tr>\n",
              "    <tr>\n",
              "      <th>1</th>\n",
              "      <td>DeSchool</td>\n",
              "      <td>31 Dec 2022</td>\n",
              "      <td></td>\n",
              "      <td>Seed</td>\n",
              "      <td>y2z Ventures +5</td>\n",
              "      <td>Blockchain Service</td>\n",
              "    </tr>\n",
              "    <tr>\n",
              "      <th>2</th>\n",
              "      <td>Magic Fantasy</td>\n",
              "      <td>30 Dec 2022</td>\n",
              "      <td>$ 3,000,000</td>\n",
              "      <td>Unknown</td>\n",
              "      <td>Easycoins</td>\n",
              "      <td>GameFi</td>\n",
              "    </tr>\n",
              "    <tr>\n",
              "      <th>3</th>\n",
              "      <td>Twity</td>\n",
              "      <td>29 Dec 2022</td>\n",
              "      <td>$ 6,500,000</td>\n",
              "      <td>Series A</td>\n",
              "      <td>Wave Capital</td>\n",
              "      <td>Social</td>\n",
              "    </tr>\n",
              "    <tr>\n",
              "      <th>4</th>\n",
              "      <td>wowTalkies</td>\n",
              "      <td>29 Dec 2022</td>\n",
              "      <td></td>\n",
              "      <td>Unknown</td>\n",
              "      <td>Tangentia Ventures</td>\n",
              "      <td>Social</td>\n",
              "    </tr>\n",
              "  </tbody>\n",
              "</table>\n",
              "</div>\n",
              "      <button class=\"colab-df-convert\" onclick=\"convertToInteractive('df-eb3d5e91-9a6a-4e09-ae88-577f3a370691')\"\n",
              "              title=\"Convert this dataframe to an interactive table.\"\n",
              "              style=\"display:none;\">\n",
              "        \n",
              "  <svg xmlns=\"http://www.w3.org/2000/svg\" height=\"24px\"viewBox=\"0 0 24 24\"\n",
              "       width=\"24px\">\n",
              "    <path d=\"M0 0h24v24H0V0z\" fill=\"none\"/>\n",
              "    <path d=\"M18.56 5.44l.94 2.06.94-2.06 2.06-.94-2.06-.94-.94-2.06-.94 2.06-2.06.94zm-11 1L8.5 8.5l.94-2.06 2.06-.94-2.06-.94L8.5 2.5l-.94 2.06-2.06.94zm10 10l.94 2.06.94-2.06 2.06-.94-2.06-.94-.94-2.06-.94 2.06-2.06.94z\"/><path d=\"M17.41 7.96l-1.37-1.37c-.4-.4-.92-.59-1.43-.59-.52 0-1.04.2-1.43.59L10.3 9.45l-7.72 7.72c-.78.78-.78 2.05 0 2.83L4 21.41c.39.39.9.59 1.41.59.51 0 1.02-.2 1.41-.59l7.78-7.78 2.81-2.81c.8-.78.8-2.07 0-2.86zM5.41 20L4 18.59l7.72-7.72 1.47 1.35L5.41 20z\"/>\n",
              "  </svg>\n",
              "      </button>\n",
              "      \n",
              "  <style>\n",
              "    .colab-df-container {\n",
              "      display:flex;\n",
              "      flex-wrap:wrap;\n",
              "      gap: 12px;\n",
              "    }\n",
              "\n",
              "    .colab-df-convert {\n",
              "      background-color: #E8F0FE;\n",
              "      border: none;\n",
              "      border-radius: 50%;\n",
              "      cursor: pointer;\n",
              "      display: none;\n",
              "      fill: #1967D2;\n",
              "      height: 32px;\n",
              "      padding: 0 0 0 0;\n",
              "      width: 32px;\n",
              "    }\n",
              "\n",
              "    .colab-df-convert:hover {\n",
              "      background-color: #E2EBFA;\n",
              "      box-shadow: 0px 1px 2px rgba(60, 64, 67, 0.3), 0px 1px 3px 1px rgba(60, 64, 67, 0.15);\n",
              "      fill: #174EA6;\n",
              "    }\n",
              "\n",
              "    [theme=dark] .colab-df-convert {\n",
              "      background-color: #3B4455;\n",
              "      fill: #D2E3FC;\n",
              "    }\n",
              "\n",
              "    [theme=dark] .colab-df-convert:hover {\n",
              "      background-color: #434B5C;\n",
              "      box-shadow: 0px 1px 3px 1px rgba(0, 0, 0, 0.15);\n",
              "      filter: drop-shadow(0px 1px 2px rgba(0, 0, 0, 0.3));\n",
              "      fill: #FFFFFF;\n",
              "    }\n",
              "  </style>\n",
              "\n",
              "      <script>\n",
              "        const buttonEl =\n",
              "          document.querySelector('#df-eb3d5e91-9a6a-4e09-ae88-577f3a370691 button.colab-df-convert');\n",
              "        buttonEl.style.display =\n",
              "          google.colab.kernel.accessAllowed ? 'block' : 'none';\n",
              "\n",
              "        async function convertToInteractive(key) {\n",
              "          const element = document.querySelector('#df-eb3d5e91-9a6a-4e09-ae88-577f3a370691');\n",
              "          const dataTable =\n",
              "            await google.colab.kernel.invokeFunction('convertToInteractive',\n",
              "                                                     [key], {});\n",
              "          if (!dataTable) return;\n",
              "\n",
              "          const docLinkHtml = 'Like what you see? Visit the ' +\n",
              "            '<a target=\"_blank\" href=https://colab.research.google.com/notebooks/data_table.ipynb>data table notebook</a>'\n",
              "            + ' to learn more about interactive tables.';\n",
              "          element.innerHTML = '';\n",
              "          dataTable['output_type'] = 'display_data';\n",
              "          await google.colab.output.renderOutput(dataTable, element);\n",
              "          const docLink = document.createElement('div');\n",
              "          docLink.innerHTML = docLinkHtml;\n",
              "          element.appendChild(docLink);\n",
              "        }\n",
              "      </script>\n",
              "    </div>\n",
              "  </div>\n",
              "  "
            ]
          },
          "metadata": {},
          "execution_count": 639
        }
      ]
    },
    {
      "cell_type": "markdown",
      "source": [
        "\n",
        "\n",
        "---\n",
        "\n",
        "\\\n",
        "**Информация о полученных данных (по столбцам):**\n",
        "\n",
        "1.    Project - название проекта (стартапа) в Web3, который находится на стадии рейза\n",
        "2.    Date - дата фандрейза проекта\n",
        "3.    Raise - сумма финансирования (cумма, которую стартап собрал от инвесторов и/или венчурных фондов, $)\n",
        "4.    Stage - раунд/стадия развития стартапа, на которую приходится венчурное финансирование\n",
        "5.    Funds and investors - инвесторы и/или венчурные фонды в проект (ведущий инвестор представленного раунда  + количество других инвесторов проекта)\n",
        "6.    Category - отрасль, тематика проекта\n"
      ],
      "metadata": {
        "id": "CrmM6twBLgkU"
      }
    },
    {
      "cell_type": "markdown",
      "source": [
        "# Предварительная обработка"
      ],
      "metadata": {
        "id": "fWWPSmdZKS_Q"
      }
    },
    {
      "cell_type": "markdown",
      "source": [
        "Была выполнена первоначальная обработка собранной информации: форматирование данных, заполнение пустых значений, нахождение и корректировка выбросов\n",
        "\n",
        "\\\n",
        "\n",
        "---\n"
      ],
      "metadata": {
        "id": "vR40GfgINaME"
      }
    },
    {
      "cell_type": "markdown",
      "source": [
        "**Шаг 1**\n",
        "\n",
        "Преобразуем пустые значения в более привычный нам вид NaN"
      ],
      "metadata": {
        "id": "2Ch06QnMOice"
      }
    },
    {
      "cell_type": "code",
      "source": [
        "funding_rounds = funding_rounds.dropna(how='all').replace('', np.nan)"
      ],
      "metadata": {
        "id": "ulJqOcHZ3bNR"
      },
      "execution_count": null,
      "outputs": []
    },
    {
      "cell_type": "markdown",
      "source": [
        "**Шаг 2**\n",
        "\n",
        "Поработаем над колонкой 'Funds and investors' - разделим ее на два новых столбца:\n",
        "\n",
        "\n",
        "1.   Lead Investor - ведущий инвестор (инвестор, который чаще всего предоставляет наибольший объем финансирования, обычно он вносит первые инвестиции в стартап и принимает большое участие в будущем развитии проекта)\n",
        "2.   Investors quantity - количество инвесторов (не включая лид - инвестора)\n",
        "\n"
      ],
      "metadata": {
        "id": "Ml3vXhmlOxIU"
      }
    },
    {
      "cell_type": "code",
      "source": [
        "funding_rounds[['Lead Investor', 'Investors quantity']] = funding_rounds['Funds and investors'].str.rsplit(' +', n=1, expand=True)\n",
        "funding_rounds = funding_rounds.drop('Funds and investors', axis=1)\n",
        "\n",
        "funding_rounds.head()"
      ],
      "metadata": {
        "colab": {
          "base_uri": "https://localhost:8080/"
        },
        "id": "oAKrajEJOu6Z",
        "outputId": "75e2b28d-3e21-4a10-9763-2e19694840f6"
      },
      "execution_count": null,
      "outputs": [
        {
          "output_type": "execute_result",
          "data": {
            "text/plain": [
              "           Project         Date         Raise           Stage  \\\n",
              "1         DeSchool  31 Dec 2022           NaN            Seed   \n",
              "2    Magic Fantasy  30 Dec 2022   $ 3,000,000         Unknown   \n",
              "3            Twity  29 Dec 2022   $ 6,500,000        Series A   \n",
              "4       wowTalkies  29 Dec 2022           NaN         Unknown   \n",
              "5  Argo Blockchain  28 Dec 2022  $ 35,000,000  Debt Financing   \n",
              "\n",
              "             Category       Lead Investor Investors quantity  \n",
              "1  Blockchain Service        y2z Ventures                  5  \n",
              "2              GameFi           Easycoins               None  \n",
              "3              Social        Wave Capital               None  \n",
              "4              Social  Tangentia Ventures               None  \n",
              "5  Blockchain Service              Galaxy               None  "
            ],
            "text/html": [
              "\n",
              "  <div id=\"df-24249a89-8c01-46ad-b4c8-402201d6fc41\">\n",
              "    <div class=\"colab-df-container\">\n",
              "      <div>\n",
              "<style scoped>\n",
              "    .dataframe tbody tr th:only-of-type {\n",
              "        vertical-align: middle;\n",
              "    }\n",
              "\n",
              "    .dataframe tbody tr th {\n",
              "        vertical-align: top;\n",
              "    }\n",
              "\n",
              "    .dataframe thead th {\n",
              "        text-align: right;\n",
              "    }\n",
              "</style>\n",
              "<table border=\"1\" class=\"dataframe\">\n",
              "  <thead>\n",
              "    <tr style=\"text-align: right;\">\n",
              "      <th></th>\n",
              "      <th>Project</th>\n",
              "      <th>Date</th>\n",
              "      <th>Raise</th>\n",
              "      <th>Stage</th>\n",
              "      <th>Category</th>\n",
              "      <th>Lead Investor</th>\n",
              "      <th>Investors quantity</th>\n",
              "    </tr>\n",
              "  </thead>\n",
              "  <tbody>\n",
              "    <tr>\n",
              "      <th>1</th>\n",
              "      <td>DeSchool</td>\n",
              "      <td>31 Dec 2022</td>\n",
              "      <td>NaN</td>\n",
              "      <td>Seed</td>\n",
              "      <td>Blockchain Service</td>\n",
              "      <td>y2z Ventures</td>\n",
              "      <td>5</td>\n",
              "    </tr>\n",
              "    <tr>\n",
              "      <th>2</th>\n",
              "      <td>Magic Fantasy</td>\n",
              "      <td>30 Dec 2022</td>\n",
              "      <td>$ 3,000,000</td>\n",
              "      <td>Unknown</td>\n",
              "      <td>GameFi</td>\n",
              "      <td>Easycoins</td>\n",
              "      <td>None</td>\n",
              "    </tr>\n",
              "    <tr>\n",
              "      <th>3</th>\n",
              "      <td>Twity</td>\n",
              "      <td>29 Dec 2022</td>\n",
              "      <td>$ 6,500,000</td>\n",
              "      <td>Series A</td>\n",
              "      <td>Social</td>\n",
              "      <td>Wave Capital</td>\n",
              "      <td>None</td>\n",
              "    </tr>\n",
              "    <tr>\n",
              "      <th>4</th>\n",
              "      <td>wowTalkies</td>\n",
              "      <td>29 Dec 2022</td>\n",
              "      <td>NaN</td>\n",
              "      <td>Unknown</td>\n",
              "      <td>Social</td>\n",
              "      <td>Tangentia Ventures</td>\n",
              "      <td>None</td>\n",
              "    </tr>\n",
              "    <tr>\n",
              "      <th>5</th>\n",
              "      <td>Argo Blockchain</td>\n",
              "      <td>28 Dec 2022</td>\n",
              "      <td>$ 35,000,000</td>\n",
              "      <td>Debt Financing</td>\n",
              "      <td>Blockchain Service</td>\n",
              "      <td>Galaxy</td>\n",
              "      <td>None</td>\n",
              "    </tr>\n",
              "  </tbody>\n",
              "</table>\n",
              "</div>\n",
              "      <button class=\"colab-df-convert\" onclick=\"convertToInteractive('df-24249a89-8c01-46ad-b4c8-402201d6fc41')\"\n",
              "              title=\"Convert this dataframe to an interactive table.\"\n",
              "              style=\"display:none;\">\n",
              "        \n",
              "  <svg xmlns=\"http://www.w3.org/2000/svg\" height=\"24px\"viewBox=\"0 0 24 24\"\n",
              "       width=\"24px\">\n",
              "    <path d=\"M0 0h24v24H0V0z\" fill=\"none\"/>\n",
              "    <path d=\"M18.56 5.44l.94 2.06.94-2.06 2.06-.94-2.06-.94-.94-2.06-.94 2.06-2.06.94zm-11 1L8.5 8.5l.94-2.06 2.06-.94-2.06-.94L8.5 2.5l-.94 2.06-2.06.94zm10 10l.94 2.06.94-2.06 2.06-.94-2.06-.94-.94-2.06-.94 2.06-2.06.94z\"/><path d=\"M17.41 7.96l-1.37-1.37c-.4-.4-.92-.59-1.43-.59-.52 0-1.04.2-1.43.59L10.3 9.45l-7.72 7.72c-.78.78-.78 2.05 0 2.83L4 21.41c.39.39.9.59 1.41.59.51 0 1.02-.2 1.41-.59l7.78-7.78 2.81-2.81c.8-.78.8-2.07 0-2.86zM5.41 20L4 18.59l7.72-7.72 1.47 1.35L5.41 20z\"/>\n",
              "  </svg>\n",
              "      </button>\n",
              "      \n",
              "  <style>\n",
              "    .colab-df-container {\n",
              "      display:flex;\n",
              "      flex-wrap:wrap;\n",
              "      gap: 12px;\n",
              "    }\n",
              "\n",
              "    .colab-df-convert {\n",
              "      background-color: #E8F0FE;\n",
              "      border: none;\n",
              "      border-radius: 50%;\n",
              "      cursor: pointer;\n",
              "      display: none;\n",
              "      fill: #1967D2;\n",
              "      height: 32px;\n",
              "      padding: 0 0 0 0;\n",
              "      width: 32px;\n",
              "    }\n",
              "\n",
              "    .colab-df-convert:hover {\n",
              "      background-color: #E2EBFA;\n",
              "      box-shadow: 0px 1px 2px rgba(60, 64, 67, 0.3), 0px 1px 3px 1px rgba(60, 64, 67, 0.15);\n",
              "      fill: #174EA6;\n",
              "    }\n",
              "\n",
              "    [theme=dark] .colab-df-convert {\n",
              "      background-color: #3B4455;\n",
              "      fill: #D2E3FC;\n",
              "    }\n",
              "\n",
              "    [theme=dark] .colab-df-convert:hover {\n",
              "      background-color: #434B5C;\n",
              "      box-shadow: 0px 1px 3px 1px rgba(0, 0, 0, 0.15);\n",
              "      filter: drop-shadow(0px 1px 2px rgba(0, 0, 0, 0.3));\n",
              "      fill: #FFFFFF;\n",
              "    }\n",
              "  </style>\n",
              "\n",
              "      <script>\n",
              "        const buttonEl =\n",
              "          document.querySelector('#df-24249a89-8c01-46ad-b4c8-402201d6fc41 button.colab-df-convert');\n",
              "        buttonEl.style.display =\n",
              "          google.colab.kernel.accessAllowed ? 'block' : 'none';\n",
              "\n",
              "        async function convertToInteractive(key) {\n",
              "          const element = document.querySelector('#df-24249a89-8c01-46ad-b4c8-402201d6fc41');\n",
              "          const dataTable =\n",
              "            await google.colab.kernel.invokeFunction('convertToInteractive',\n",
              "                                                     [key], {});\n",
              "          if (!dataTable) return;\n",
              "\n",
              "          const docLinkHtml = 'Like what you see? Visit the ' +\n",
              "            '<a target=\"_blank\" href=https://colab.research.google.com/notebooks/data_table.ipynb>data table notebook</a>'\n",
              "            + ' to learn more about interactive tables.';\n",
              "          element.innerHTML = '';\n",
              "          dataTable['output_type'] = 'display_data';\n",
              "          await google.colab.output.renderOutput(dataTable, element);\n",
              "          const docLink = document.createElement('div');\n",
              "          docLink.innerHTML = docLinkHtml;\n",
              "          element.appendChild(docLink);\n",
              "        }\n",
              "      </script>\n",
              "    </div>\n",
              "  </div>\n",
              "  "
            ]
          },
          "metadata": {},
          "execution_count": 641
        }
      ]
    },
    {
      "cell_type": "code",
      "source": [
        "funding_rounds.info()"
      ],
      "metadata": {
        "colab": {
          "base_uri": "https://localhost:8080/"
        },
        "id": "q-LP1C_IPpVq",
        "outputId": "90176819-6a0d-4bbd-fd96-51ebbb7f9dbb"
      },
      "execution_count": null,
      "outputs": [
        {
          "output_type": "stream",
          "name": "stdout",
          "text": [
            "<class 'pandas.core.frame.DataFrame'>\n",
            "Int64Index: 3704 entries, 1 to 3741\n",
            "Data columns (total 7 columns):\n",
            " #   Column              Non-Null Count  Dtype \n",
            "---  ------              --------------  ----- \n",
            " 0   Project             3704 non-null   object\n",
            " 1   Date                3704 non-null   object\n",
            " 2   Raise               3244 non-null   object\n",
            " 3   Stage               3704 non-null   object\n",
            " 4   Category            3678 non-null   object\n",
            " 5   Lead Investor       3494 non-null   object\n",
            " 6   Investors quantity  2887 non-null   object\n",
            "dtypes: object(7)\n",
            "memory usage: 231.5+ KB\n"
          ]
        }
      ]
    },
    {
      "cell_type": "markdown",
      "source": [
        "**Проанализировав информацию о данных, мы выявили несколько моментов, требующих обработки:**\n",
        "\n",
        "1.   На данном этапе все данные имеют тип 'object', хотя у нас есть\n",
        "количественные признаки и информация о дате\n",
        "\n",
        "2.   Есть пропущенные значения:\n",
        "*   *Столбец 2* - raise (460 пропущенных)\n",
        "*   *Столбец 4* - category (26 пропущенных)\n",
        "*   *Столбец 5* - lead investor (210 пропущенных)\n",
        "*   *Столбец 6* - Investors quantity (817 пропущенных)\n",
        "\n",
        "\\\n",
        "\n",
        "---\n"
      ],
      "metadata": {
        "id": "rMamk6NfPtqe"
      }
    },
    {
      "cell_type": "code",
      "source": [
        "funding_rounds.isna().sum()"
      ],
      "metadata": {
        "colab": {
          "base_uri": "https://localhost:8080/"
        },
        "id": "UAxawy0M8Elj",
        "outputId": "6f32a241-403e-4f19-8e3b-366030599542"
      },
      "execution_count": null,
      "outputs": [
        {
          "output_type": "execute_result",
          "data": {
            "text/plain": [
              "Project                 0\n",
              "Date                    0\n",
              "Raise                 460\n",
              "Stage                   0\n",
              "Category               26\n",
              "Lead Investor         210\n",
              "Investors quantity    817\n",
              "dtype: int64"
            ]
          },
          "metadata": {},
          "execution_count": 643
        }
      ]
    },
    {
      "cell_type": "markdown",
      "source": [
        "**Шаг 3**\n",
        "\n",
        "Привели значения 'Investors quantity' и 'Raise' к типу float (во втором случае еще удалили значок $ для форматирования)\n",
        "\n",
        "Привели значения 'Date' к типу datetime"
      ],
      "metadata": {
        "id": "wi_4RA4YSDvm"
      }
    },
    {
      "cell_type": "code",
      "source": [
        "funding_rounds['Investors quantity'] = pd.to_numeric(funding_rounds['Investors quantity'], errors='coerce')\n",
        "funding_rounds['Raise'] = funding_rounds['Raise'].astype(str).str.replace(',', '', regex=True).str.replace('$', '', regex=True)\n",
        "funding_rounds['Raise'] = funding_rounds['Raise'].astype(float)\n",
        "funding_rounds['Date'] = pd.to_datetime(funding_rounds['Date'], format='%d %b %Y')"
      ],
      "metadata": {
        "id": "pFX3gOrX3hua"
      },
      "execution_count": null,
      "outputs": []
    },
    {
      "cell_type": "code",
      "source": [
        "funding_rounds.info()"
      ],
      "metadata": {
        "colab": {
          "base_uri": "https://localhost:8080/"
        },
        "id": "rjd8OTprULg0",
        "outputId": "788d1ece-f04b-4755-a659-f119686c89db"
      },
      "execution_count": null,
      "outputs": [
        {
          "output_type": "stream",
          "name": "stdout",
          "text": [
            "<class 'pandas.core.frame.DataFrame'>\n",
            "Int64Index: 3704 entries, 1 to 3741\n",
            "Data columns (total 7 columns):\n",
            " #   Column              Non-Null Count  Dtype         \n",
            "---  ------              --------------  -----         \n",
            " 0   Project             3704 non-null   object        \n",
            " 1   Date                3704 non-null   datetime64[ns]\n",
            " 2   Raise               3244 non-null   float64       \n",
            " 3   Stage               3704 non-null   object        \n",
            " 4   Category            3678 non-null   object        \n",
            " 5   Lead Investor       3494 non-null   object        \n",
            " 6   Investors quantity  2887 non-null   float64       \n",
            "dtypes: datetime64[ns](1), float64(2), object(4)\n",
            "memory usage: 231.5+ KB\n"
          ]
        }
      ]
    },
    {
      "cell_type": "markdown",
      "source": [
        "\n",
        "**Как заполняем пустые значения?**\n",
        "\n",
        ">\n",
        "> ---\n",
        "> *Столбец 2* - Raise\n",
        ">\n",
        "> *Столбец 5* - Lead Investor\n",
        ">\n",
        "> ---\n",
        ">\n",
        "> 1) Если нет данных о рейзе, но есть инвесторы - выносим в отдельную таблицу и находим лучший способ заполнения пропусков\n",
        ">\n",
        "> 2) Если нет данных об инвесторах, но есть данные о рейзе - ставим вместо NaN: 'Private investor' + количество инвесторов 1\n",
        ">\n",
        "> 3) Если проект не поднял никаких инвестиций и нет данных ни об инвесторах, ни о рейзе, то ставим 0 в рейзе, No investors в Lead investor + в количество инвесторов 0\n",
        ">\n",
        "> ---\n",
        ">\n",
        "> *Столбец 6* - Investors quantity\n",
        ">\n",
        "> ---\n",
        ">\n",
        "> 1) К Investors quantity добавить 1 (это неучтенный лид инвестор)\n",
        ">\n",
        "> 2) Где NaN:\n",
        "> - где-то должна быть 1, если есть лид инвестор\n",
        "> - оставшиеся NaN, если его нет, заполняем: либо 1, как Private Investor (если есть рейз) , либо 0 (если нет рейза)\n",
        ">\n",
        "> ---\n",
        ">\n",
        "> *Столбец 4* - Category (≈ 30 пропущенных)\n",
        ">\n",
        "> ---\n",
        ">\n",
        "> Пустые значения вынесим в отдельную таблицу и заполним, анализируя проекты\n",
        "\n",
        "\n"
      ],
      "metadata": {
        "id": "BQvpDKZ6UnNb"
      }
    },
    {
      "cell_type": "markdown",
      "source": [
        "**Шаг 4**\n",
        "\n",
        "Добавили единицу к значениям столбца Investors quantity, поскольку в нём не учитывался ведущий инвестор (такова особенность данных)"
      ],
      "metadata": {
        "id": "Wc2KFdtGeZFC"
      }
    },
    {
      "cell_type": "code",
      "source": [
        "funding_rounds['Investors quantity'] = funding_rounds['Investors quantity'].add(1)"
      ],
      "metadata": {
        "id": "-Z9IneXqevoQ"
      },
      "execution_count": null,
      "outputs": []
    },
    {
      "cell_type": "markdown",
      "source": [
        "**Шаг 5**\n",
        "\n",
        "Там где есть информация о лид инвесторе, но нет количества инвесторов, ставим единицу в Investors quantity\n",
        "\n"
      ],
      "metadata": {
        "id": "SkfFfh3new7G"
      }
    },
    {
      "cell_type": "code",
      "source": [
        "funding_rounds.loc[\n",
        "    funding_rounds['Lead Investor'].notnull() & funding_rounds['Investors quantity'].isnull(),\n",
        "    'Investors quantity'\n",
        "] = 1"
      ],
      "metadata": {
        "id": "kgSfBzBoe5Kb"
      },
      "execution_count": null,
      "outputs": []
    },
    {
      "cell_type": "markdown",
      "source": [
        "**Шаг 6**\n",
        "\n",
        "Там где нет информации о лид инвесторе, но есть информация о рейзе, ставим единицу в Investors quantity и 'Private investor' в столбце лид инвестора\n",
        "\n",
        "\n",
        "> Мы сделали предположение, что, скорее всего, инвестиции осуществил какой-то частный инвестор, которого cryptorank не знает\n",
        "\n",
        "\n",
        "\n"
      ],
      "metadata": {
        "id": "3nE0q5EOfVLq"
      }
    },
    {
      "cell_type": "code",
      "source": [
        "funding_rounds.loc[\n",
        "    (funding_rounds['Lead Investor'].isna()) & (funding_rounds['Raise'].notna()),\n",
        "    ['Lead Investor', 'Investors quantity']\n",
        "] = ['Private investor', 1]"
      ],
      "metadata": {
        "id": "UNfKd2H4fj5D"
      },
      "execution_count": null,
      "outputs": []
    },
    {
      "cell_type": "markdown",
      "source": [
        "\n",
        "**Шаг 7**\n",
        "\n",
        "Там где нет информации о лид инвесторе и нет информации о рейзе, ставим 0 в Investors quantity и 'No investors' в столбце лид инвестора, так как проект не поднял никаких инвестиций"
      ],
      "metadata": {
        "id": "48LFg4DV86xv"
      }
    },
    {
      "cell_type": "code",
      "source": [
        "funding_rounds.loc[\n",
        "    (funding_rounds['Lead Investor'].isna()) & (funding_rounds['Raise'].isna()),\n",
        "    ['Lead Investor', 'Investors quantity', 'Raise']\n",
        "] = ['No investors', 0, 0]\n",
        "\n",
        "funding_rounds.head()"
      ],
      "metadata": {
        "colab": {
          "base_uri": "https://localhost:8080/"
        },
        "id": "IX91N9eQ3m0-",
        "outputId": "0f41de4f-3022-4829-da19-ffac6fd3f9fd"
      },
      "execution_count": null,
      "outputs": [
        {
          "output_type": "execute_result",
          "data": {
            "text/plain": [
              "           Project       Date        Raise           Stage  \\\n",
              "1         DeSchool 2022-12-31          NaN            Seed   \n",
              "2    Magic Fantasy 2022-12-30  3000000.000         Unknown   \n",
              "3            Twity 2022-12-29  6500000.000        Series A   \n",
              "4       wowTalkies 2022-12-29          NaN         Unknown   \n",
              "5  Argo Blockchain 2022-12-28 35000000.000  Debt Financing   \n",
              "\n",
              "             Category       Lead Investor  Investors quantity  \n",
              "1  Blockchain Service        y2z Ventures               6.000  \n",
              "2              GameFi           Easycoins               1.000  \n",
              "3              Social        Wave Capital               1.000  \n",
              "4              Social  Tangentia Ventures               1.000  \n",
              "5  Blockchain Service              Galaxy               1.000  "
            ],
            "text/html": [
              "\n",
              "  <div id=\"df-bb4cf74b-10a4-4b0e-9e8e-ca4bef133f48\">\n",
              "    <div class=\"colab-df-container\">\n",
              "      <div>\n",
              "<style scoped>\n",
              "    .dataframe tbody tr th:only-of-type {\n",
              "        vertical-align: middle;\n",
              "    }\n",
              "\n",
              "    .dataframe tbody tr th {\n",
              "        vertical-align: top;\n",
              "    }\n",
              "\n",
              "    .dataframe thead th {\n",
              "        text-align: right;\n",
              "    }\n",
              "</style>\n",
              "<table border=\"1\" class=\"dataframe\">\n",
              "  <thead>\n",
              "    <tr style=\"text-align: right;\">\n",
              "      <th></th>\n",
              "      <th>Project</th>\n",
              "      <th>Date</th>\n",
              "      <th>Raise</th>\n",
              "      <th>Stage</th>\n",
              "      <th>Category</th>\n",
              "      <th>Lead Investor</th>\n",
              "      <th>Investors quantity</th>\n",
              "    </tr>\n",
              "  </thead>\n",
              "  <tbody>\n",
              "    <tr>\n",
              "      <th>1</th>\n",
              "      <td>DeSchool</td>\n",
              "      <td>2022-12-31</td>\n",
              "      <td>NaN</td>\n",
              "      <td>Seed</td>\n",
              "      <td>Blockchain Service</td>\n",
              "      <td>y2z Ventures</td>\n",
              "      <td>6.000</td>\n",
              "    </tr>\n",
              "    <tr>\n",
              "      <th>2</th>\n",
              "      <td>Magic Fantasy</td>\n",
              "      <td>2022-12-30</td>\n",
              "      <td>3000000.000</td>\n",
              "      <td>Unknown</td>\n",
              "      <td>GameFi</td>\n",
              "      <td>Easycoins</td>\n",
              "      <td>1.000</td>\n",
              "    </tr>\n",
              "    <tr>\n",
              "      <th>3</th>\n",
              "      <td>Twity</td>\n",
              "      <td>2022-12-29</td>\n",
              "      <td>6500000.000</td>\n",
              "      <td>Series A</td>\n",
              "      <td>Social</td>\n",
              "      <td>Wave Capital</td>\n",
              "      <td>1.000</td>\n",
              "    </tr>\n",
              "    <tr>\n",
              "      <th>4</th>\n",
              "      <td>wowTalkies</td>\n",
              "      <td>2022-12-29</td>\n",
              "      <td>NaN</td>\n",
              "      <td>Unknown</td>\n",
              "      <td>Social</td>\n",
              "      <td>Tangentia Ventures</td>\n",
              "      <td>1.000</td>\n",
              "    </tr>\n",
              "    <tr>\n",
              "      <th>5</th>\n",
              "      <td>Argo Blockchain</td>\n",
              "      <td>2022-12-28</td>\n",
              "      <td>35000000.000</td>\n",
              "      <td>Debt Financing</td>\n",
              "      <td>Blockchain Service</td>\n",
              "      <td>Galaxy</td>\n",
              "      <td>1.000</td>\n",
              "    </tr>\n",
              "  </tbody>\n",
              "</table>\n",
              "</div>\n",
              "      <button class=\"colab-df-convert\" onclick=\"convertToInteractive('df-bb4cf74b-10a4-4b0e-9e8e-ca4bef133f48')\"\n",
              "              title=\"Convert this dataframe to an interactive table.\"\n",
              "              style=\"display:none;\">\n",
              "        \n",
              "  <svg xmlns=\"http://www.w3.org/2000/svg\" height=\"24px\"viewBox=\"0 0 24 24\"\n",
              "       width=\"24px\">\n",
              "    <path d=\"M0 0h24v24H0V0z\" fill=\"none\"/>\n",
              "    <path d=\"M18.56 5.44l.94 2.06.94-2.06 2.06-.94-2.06-.94-.94-2.06-.94 2.06-2.06.94zm-11 1L8.5 8.5l.94-2.06 2.06-.94-2.06-.94L8.5 2.5l-.94 2.06-2.06.94zm10 10l.94 2.06.94-2.06 2.06-.94-2.06-.94-.94-2.06-.94 2.06-2.06.94z\"/><path d=\"M17.41 7.96l-1.37-1.37c-.4-.4-.92-.59-1.43-.59-.52 0-1.04.2-1.43.59L10.3 9.45l-7.72 7.72c-.78.78-.78 2.05 0 2.83L4 21.41c.39.39.9.59 1.41.59.51 0 1.02-.2 1.41-.59l7.78-7.78 2.81-2.81c.8-.78.8-2.07 0-2.86zM5.41 20L4 18.59l7.72-7.72 1.47 1.35L5.41 20z\"/>\n",
              "  </svg>\n",
              "      </button>\n",
              "      \n",
              "  <style>\n",
              "    .colab-df-container {\n",
              "      display:flex;\n",
              "      flex-wrap:wrap;\n",
              "      gap: 12px;\n",
              "    }\n",
              "\n",
              "    .colab-df-convert {\n",
              "      background-color: #E8F0FE;\n",
              "      border: none;\n",
              "      border-radius: 50%;\n",
              "      cursor: pointer;\n",
              "      display: none;\n",
              "      fill: #1967D2;\n",
              "      height: 32px;\n",
              "      padding: 0 0 0 0;\n",
              "      width: 32px;\n",
              "    }\n",
              "\n",
              "    .colab-df-convert:hover {\n",
              "      background-color: #E2EBFA;\n",
              "      box-shadow: 0px 1px 2px rgba(60, 64, 67, 0.3), 0px 1px 3px 1px rgba(60, 64, 67, 0.15);\n",
              "      fill: #174EA6;\n",
              "    }\n",
              "\n",
              "    [theme=dark] .colab-df-convert {\n",
              "      background-color: #3B4455;\n",
              "      fill: #D2E3FC;\n",
              "    }\n",
              "\n",
              "    [theme=dark] .colab-df-convert:hover {\n",
              "      background-color: #434B5C;\n",
              "      box-shadow: 0px 1px 3px 1px rgba(0, 0, 0, 0.15);\n",
              "      filter: drop-shadow(0px 1px 2px rgba(0, 0, 0, 0.3));\n",
              "      fill: #FFFFFF;\n",
              "    }\n",
              "  </style>\n",
              "\n",
              "      <script>\n",
              "        const buttonEl =\n",
              "          document.querySelector('#df-bb4cf74b-10a4-4b0e-9e8e-ca4bef133f48 button.colab-df-convert');\n",
              "        buttonEl.style.display =\n",
              "          google.colab.kernel.accessAllowed ? 'block' : 'none';\n",
              "\n",
              "        async function convertToInteractive(key) {\n",
              "          const element = document.querySelector('#df-bb4cf74b-10a4-4b0e-9e8e-ca4bef133f48');\n",
              "          const dataTable =\n",
              "            await google.colab.kernel.invokeFunction('convertToInteractive',\n",
              "                                                     [key], {});\n",
              "          if (!dataTable) return;\n",
              "\n",
              "          const docLinkHtml = 'Like what you see? Visit the ' +\n",
              "            '<a target=\"_blank\" href=https://colab.research.google.com/notebooks/data_table.ipynb>data table notebook</a>'\n",
              "            + ' to learn more about interactive tables.';\n",
              "          element.innerHTML = '';\n",
              "          dataTable['output_type'] = 'display_data';\n",
              "          await google.colab.output.renderOutput(dataTable, element);\n",
              "          const docLink = document.createElement('div');\n",
              "          docLink.innerHTML = docLinkHtml;\n",
              "          element.appendChild(docLink);\n",
              "        }\n",
              "      </script>\n",
              "    </div>\n",
              "  </div>\n",
              "  "
            ]
          },
          "metadata": {},
          "execution_count": 649
        }
      ]
    },
    {
      "cell_type": "markdown",
      "source": [
        "**Шаг 8**\n",
        "\n",
        "Мы решили, что заполнять оставшиеся пропуски в столбце Raise стоит, учитывая все три критерия\n",
        "\n",
        "\n",
        "> *Логика:*\n",
        ">\n",
        "> Мы видим, что Raise неизвестен, но зато мы знаем три самых важных признака проекта (стадию, категорию и количество инвесторов), запоминаем их и ищём во всей таблице аналогичные случаи, но те, у которых Raise известен. По всем нашедшим данным нашли среднее значение и заполнили искомый Raise:)\n",
        "\n",
        "\\\n",
        "\n",
        "> *Замечание*:\n",
        ">\n",
        "> Поиск среднего даёт нам число, которое совсем не похоже на реальный рэйз. Вряд ли кто-то будет инвестировать в проект странную сумму, например, 3872691823.4832! Этот факт подтверждают прочие суммы рэйзов в таблице - все они ровные, без \"копеек\". Именно поэтому мы приняли решение округлить среднее до миллионов.\n",
        "\n",
        "\n",
        "\n",
        "\n"
      ],
      "metadata": {
        "id": "dLw24_xehe0D"
      }
    },
    {
      "cell_type": "code",
      "source": [
        "missing_raise = funding_rounds[funding_rounds['Raise'].isna()]    # находим, где неизвестен Raise\n",
        "\n",
        "for index, row in missing_raise.iterrows():\n",
        "    inv_qty = row['Investors quantity']\n",
        "    category = row['Category']\n",
        "    stage = row['Stage']\n",
        "\n",
        "    # фильтруем таблицу, оставляя только известные Raise с таким же количеством инвесторов, категорией и стадией\n",
        "    known_raise = funding_rounds[\n",
        "        (funding_rounds['Raise'].notna()) &\n",
        "        (funding_rounds['Investors quantity'] == inv_qty) &\n",
        "        (funding_rounds['Category'] == category) &\n",
        "        (funding_rounds['Stage'] == stage)\n",
        "    ]\n",
        "\n",
        "    if not known_raise.empty:\n",
        "        avg_raise = known_raise['Raise'].mean()\n",
        "        avg_raise = round(avg_raise / 1000000) * 1000000    # округляем до миллионов\n",
        "    else:\n",
        "        avg_raise = np.nan\n",
        "\n",
        "    funding_rounds.at[index, 'Raise'] = avg_raise    # заполняем пропуск средним значением\n"
      ],
      "metadata": {
        "id": "9DWf_Us00tsW"
      },
      "execution_count": null,
      "outputs": []
    },
    {
      "cell_type": "code",
      "source": [
        "funding_rounds.isna().sum()"
      ],
      "metadata": {
        "colab": {
          "base_uri": "https://localhost:8080/"
        },
        "id": "tNwqLkw9pxy2",
        "outputId": "841ae58d-c7f2-4f1f-e8a4-f19bcbcd7edd"
      },
      "execution_count": null,
      "outputs": [
        {
          "output_type": "execute_result",
          "data": {
            "text/plain": [
              "Project                0\n",
              "Date                   0\n",
              "Raise                 42\n",
              "Stage                  0\n",
              "Category              26\n",
              "Lead Investor          0\n",
              "Investors quantity     0\n",
              "dtype: int64"
            ]
          },
          "metadata": {},
          "execution_count": 651
        }
      ]
    },
    {
      "cell_type": "markdown",
      "source": [
        "\n",
        "\n",
        "> К сожалению, полностью заполнить пропуски не удалось и у нас осталось ещё **42 пустых рейза.** Это могло произойти из-за отсутствия аналогичных случаев. Мы решили снизить наши требования: теперь для нас достаточно соответствия двум критериям (категории и количеству инвесторов) для того, чтобы считать проект аналогичным и посчитать среднее\n",
        "\n",
        "\n"
      ],
      "metadata": {
        "id": "CM7_1sLUqZIO"
      }
    },
    {
      "cell_type": "code",
      "source": [
        "unknown_raise = funding_rounds[funding_rounds['Raise'].isna()]\n",
        "\n",
        "for index, row in unknown_raise.iterrows():\n",
        "    inv_qty = row['Investors quantity']    # количество инвесторов в текущей строке\n",
        "    category = row['Category']    # категория текущей строки\n",
        "\n",
        "    # фильтруем таблицу, оставляя только известные Raise с таким же количеством инвесторов и категорией\n",
        "    known_raise = funding_rounds[\n",
        "    (funding_rounds['Raise'].notna()) &\n",
        "    (funding_rounds['Investors quantity'] == inv_qty) &\n",
        "    (funding_rounds['Category'] == category)\n",
        "    ]\n",
        "\n",
        "    if not known_raise.empty:\n",
        "        avg_raise = known_raise['Raise'].mean()\n",
        "    else:\n",
        "        avg_raise = np.nan\n",
        "\n",
        "    funding_rounds.at[index, 'Raise'] = avg_raise"
      ],
      "metadata": {
        "id": "1PaI5ukil_dS"
      },
      "execution_count": null,
      "outputs": []
    },
    {
      "cell_type": "markdown",
      "source": [
        "\n",
        "> У нас осталось всего **2 затерявшихся рейза**!\n",
        ">\n",
        "> Посмотрим на них:\n",
        "\n",
        "\n",
        "\n",
        "\n"
      ],
      "metadata": {
        "id": "cbZjIp3VrqEV"
      }
    },
    {
      "cell_type": "code",
      "source": [
        "unknown_raise = funding_rounds.loc[funding_rounds['Raise'].isna()]\n",
        "unknown_raise"
      ],
      "metadata": {
        "id": "ykfHRecW5hZ2",
        "colab": {
          "base_uri": "https://localhost:8080/"
        },
        "outputId": "366a6317-a1b4-4307-b343-9a23ed5cb753"
      },
      "execution_count": null,
      "outputs": [
        {
          "output_type": "execute_result",
          "data": {
            "text/plain": [
              "        Project       Date  Raise    Stage Category  \\\n",
              "756     LF Labs 2022-07-13    NaN     Seed      NaN   \n",
              "1253  Syndicate 2022-05-03    NaN  Unknown     DeFi   \n",
              "\n",
              "                   Lead Investor  Investors quantity  \n",
              "756                 Alliance DAO               1.000  \n",
              "1253  Andreessen Horowitz (a16z)              46.000  "
            ],
            "text/html": [
              "\n",
              "  <div id=\"df-62f6a5f2-6bd8-4d14-bf47-5be9e5add5be\">\n",
              "    <div class=\"colab-df-container\">\n",
              "      <div>\n",
              "<style scoped>\n",
              "    .dataframe tbody tr th:only-of-type {\n",
              "        vertical-align: middle;\n",
              "    }\n",
              "\n",
              "    .dataframe tbody tr th {\n",
              "        vertical-align: top;\n",
              "    }\n",
              "\n",
              "    .dataframe thead th {\n",
              "        text-align: right;\n",
              "    }\n",
              "</style>\n",
              "<table border=\"1\" class=\"dataframe\">\n",
              "  <thead>\n",
              "    <tr style=\"text-align: right;\">\n",
              "      <th></th>\n",
              "      <th>Project</th>\n",
              "      <th>Date</th>\n",
              "      <th>Raise</th>\n",
              "      <th>Stage</th>\n",
              "      <th>Category</th>\n",
              "      <th>Lead Investor</th>\n",
              "      <th>Investors quantity</th>\n",
              "    </tr>\n",
              "  </thead>\n",
              "  <tbody>\n",
              "    <tr>\n",
              "      <th>756</th>\n",
              "      <td>LF Labs</td>\n",
              "      <td>2022-07-13</td>\n",
              "      <td>NaN</td>\n",
              "      <td>Seed</td>\n",
              "      <td>NaN</td>\n",
              "      <td>Alliance DAO</td>\n",
              "      <td>1.000</td>\n",
              "    </tr>\n",
              "    <tr>\n",
              "      <th>1253</th>\n",
              "      <td>Syndicate</td>\n",
              "      <td>2022-05-03</td>\n",
              "      <td>NaN</td>\n",
              "      <td>Unknown</td>\n",
              "      <td>DeFi</td>\n",
              "      <td>Andreessen Horowitz (a16z)</td>\n",
              "      <td>46.000</td>\n",
              "    </tr>\n",
              "  </tbody>\n",
              "</table>\n",
              "</div>\n",
              "      <button class=\"colab-df-convert\" onclick=\"convertToInteractive('df-62f6a5f2-6bd8-4d14-bf47-5be9e5add5be')\"\n",
              "              title=\"Convert this dataframe to an interactive table.\"\n",
              "              style=\"display:none;\">\n",
              "        \n",
              "  <svg xmlns=\"http://www.w3.org/2000/svg\" height=\"24px\"viewBox=\"0 0 24 24\"\n",
              "       width=\"24px\">\n",
              "    <path d=\"M0 0h24v24H0V0z\" fill=\"none\"/>\n",
              "    <path d=\"M18.56 5.44l.94 2.06.94-2.06 2.06-.94-2.06-.94-.94-2.06-.94 2.06-2.06.94zm-11 1L8.5 8.5l.94-2.06 2.06-.94-2.06-.94L8.5 2.5l-.94 2.06-2.06.94zm10 10l.94 2.06.94-2.06 2.06-.94-2.06-.94-.94-2.06-.94 2.06-2.06.94z\"/><path d=\"M17.41 7.96l-1.37-1.37c-.4-.4-.92-.59-1.43-.59-.52 0-1.04.2-1.43.59L10.3 9.45l-7.72 7.72c-.78.78-.78 2.05 0 2.83L4 21.41c.39.39.9.59 1.41.59.51 0 1.02-.2 1.41-.59l7.78-7.78 2.81-2.81c.8-.78.8-2.07 0-2.86zM5.41 20L4 18.59l7.72-7.72 1.47 1.35L5.41 20z\"/>\n",
              "  </svg>\n",
              "      </button>\n",
              "      \n",
              "  <style>\n",
              "    .colab-df-container {\n",
              "      display:flex;\n",
              "      flex-wrap:wrap;\n",
              "      gap: 12px;\n",
              "    }\n",
              "\n",
              "    .colab-df-convert {\n",
              "      background-color: #E8F0FE;\n",
              "      border: none;\n",
              "      border-radius: 50%;\n",
              "      cursor: pointer;\n",
              "      display: none;\n",
              "      fill: #1967D2;\n",
              "      height: 32px;\n",
              "      padding: 0 0 0 0;\n",
              "      width: 32px;\n",
              "    }\n",
              "\n",
              "    .colab-df-convert:hover {\n",
              "      background-color: #E2EBFA;\n",
              "      box-shadow: 0px 1px 2px rgba(60, 64, 67, 0.3), 0px 1px 3px 1px rgba(60, 64, 67, 0.15);\n",
              "      fill: #174EA6;\n",
              "    }\n",
              "\n",
              "    [theme=dark] .colab-df-convert {\n",
              "      background-color: #3B4455;\n",
              "      fill: #D2E3FC;\n",
              "    }\n",
              "\n",
              "    [theme=dark] .colab-df-convert:hover {\n",
              "      background-color: #434B5C;\n",
              "      box-shadow: 0px 1px 3px 1px rgba(0, 0, 0, 0.15);\n",
              "      filter: drop-shadow(0px 1px 2px rgba(0, 0, 0, 0.3));\n",
              "      fill: #FFFFFF;\n",
              "    }\n",
              "  </style>\n",
              "\n",
              "      <script>\n",
              "        const buttonEl =\n",
              "          document.querySelector('#df-62f6a5f2-6bd8-4d14-bf47-5be9e5add5be button.colab-df-convert');\n",
              "        buttonEl.style.display =\n",
              "          google.colab.kernel.accessAllowed ? 'block' : 'none';\n",
              "\n",
              "        async function convertToInteractive(key) {\n",
              "          const element = document.querySelector('#df-62f6a5f2-6bd8-4d14-bf47-5be9e5add5be');\n",
              "          const dataTable =\n",
              "            await google.colab.kernel.invokeFunction('convertToInteractive',\n",
              "                                                     [key], {});\n",
              "          if (!dataTable) return;\n",
              "\n",
              "          const docLinkHtml = 'Like what you see? Visit the ' +\n",
              "            '<a target=\"_blank\" href=https://colab.research.google.com/notebooks/data_table.ipynb>data table notebook</a>'\n",
              "            + ' to learn more about interactive tables.';\n",
              "          element.innerHTML = '';\n",
              "          dataTable['output_type'] = 'display_data';\n",
              "          await google.colab.output.renderOutput(dataTable, element);\n",
              "          const docLink = document.createElement('div');\n",
              "          docLink.innerHTML = docLinkHtml;\n",
              "          element.appendChild(docLink);\n",
              "        }\n",
              "      </script>\n",
              "    </div>\n",
              "  </div>\n",
              "  "
            ]
          },
          "metadata": {},
          "execution_count": 653
        }
      ]
    },
    {
      "cell_type": "markdown",
      "source": [
        "Рэйз проекта LF Labs нашли по аналогичной стадии и количеству инвесторов:"
      ],
      "metadata": {
        "id": "WOiwKbld23lo"
      }
    },
    {
      "cell_type": "code",
      "source": [
        "filtered_df = funding_rounds[(funding_rounds['Stage'] == 'Seed') & (funding_rounds['Investors quantity'] == 1)]\n",
        "average_raise = filtered_df['Raise'].mean()\n",
        "funding_rounds.at[756, 'Raise'] = average_raise"
      ],
      "metadata": {
        "id": "AoAsREo-tKSX"
      },
      "execution_count": null,
      "outputs": []
    },
    {
      "cell_type": "markdown",
      "source": [
        "Данные по Syndicate\tмы нашли вручную, поскольку аналогов этому проекту в таблице нет. Нам известен Lead Investor, поэтому сделать это не составило большого труда - мы смогли даже найти стадию и категорию!\n",
        "\n",
        "> https://cryptorank.io/ru/ico/syndicate-dao#funding-rounds\n",
        "\n"
      ],
      "metadata": {
        "id": "zbA3yqxA3Ub4"
      }
    },
    {
      "cell_type": "code",
      "source": [
        "funding_rounds.at[1253, 'Raise'] = int(2000000)\n",
        "funding_rounds.at[1253, 'Stage'] = 'Series A'\n",
        "funding_rounds.at[1253, 'Category'] = 'DeFi'\n",
        "funding_rounds.isna().sum()"
      ],
      "metadata": {
        "colab": {
          "base_uri": "https://localhost:8080/"
        },
        "id": "xFuFP0P_3Y7b",
        "outputId": "21c692bd-2cf5-49fe-a129-26f78151f971"
      },
      "execution_count": null,
      "outputs": [
        {
          "output_type": "execute_result",
          "data": {
            "text/plain": [
              "Project                0\n",
              "Date                   0\n",
              "Raise                  0\n",
              "Stage                  0\n",
              "Category              26\n",
              "Lead Investor          0\n",
              "Investors quantity     0\n",
              "dtype: int64"
            ]
          },
          "metadata": {},
          "execution_count": 655
        }
      ]
    },
    {
      "cell_type": "markdown",
      "source": [
        "**Шаг 9**\n",
        "\n",
        "Так как проектов, где неизвестны категории не много, мы сами расставили им данные значения, проанализировав сайты и социальные сети проктов и поняв их функцию и цель"
      ],
      "metadata": {
        "id": "NcCnsNMJkL2I"
      }
    },
    {
      "cell_type": "code",
      "source": [
        "funding_rounds['Category'].value_counts()"
      ],
      "metadata": {
        "id": "79N-P5543uHo",
        "colab": {
          "base_uri": "https://localhost:8080/"
        },
        "outputId": "678c2ec2-14af-4c6f-d1fd-8b48a78b4925"
      },
      "execution_count": null,
      "outputs": [
        {
          "output_type": "execute_result",
          "data": {
            "text/plain": [
              "Blockchain Service           1137\n",
              "DeFi                          713\n",
              "GameFi                        521\n",
              "CeFi                          444\n",
              "NFT                           368\n",
              "Social                        240\n",
              "Blockchain Infrastructure     237\n",
              "Stablecoin                     14\n",
              "Currency                        3\n",
              "Tokenized Stock                 1\n",
              "Name: Category, dtype: int64"
            ]
          },
          "metadata": {},
          "execution_count": 656
        }
      ]
    },
    {
      "cell_type": "code",
      "source": [
        "no_info_category = funding_rounds.loc[funding_rounds['Category'].isna()]\n",
        "no_info_category_index = no_info_category.index\n",
        "no_info_category.head()"
      ],
      "metadata": {
        "id": "G0-NJ5Rl3yFi",
        "colab": {
          "base_uri": "https://localhost:8080/"
        },
        "outputId": "af4c1210-7fa2-4d98-b020-aeb1791f7cb3"
      },
      "execution_count": null,
      "outputs": [
        {
          "output_type": "execute_result",
          "data": {
            "text/plain": [
              "              Project       Date        Raise               Stage Category  \\\n",
              "756           LF Labs 2022-07-13  7443013.636                Seed      NaN   \n",
              "782   META WORLDMETAD 2022-07-10 30000000.000             Unknown      NaN   \n",
              "1134    Seed ClubCLUB 2022-05-18 15000000.000  Private Token Sale      NaN   \n",
              "1284      PeculiumPCL 2022-04-27 10550000.000             Unknown      NaN   \n",
              "2004   CardashiftCLAP 2022-01-16  1500000.000  Private Token Sale      NaN   \n",
              "\n",
              "                                Lead Investor  Investors quantity  \n",
              "756                              Alliance DAO               1.000  \n",
              "782                               Mai Vu Minh               1.000  \n",
              "1134                        Multicoin Capital              15.000  \n",
              "1284  The Global Emerging Markets Group (GEM)               1.000  \n",
              "2004                         Private investor               1.000  "
            ],
            "text/html": [
              "\n",
              "  <div id=\"df-059f7712-e2bc-4a96-81a3-8956d94a6155\">\n",
              "    <div class=\"colab-df-container\">\n",
              "      <div>\n",
              "<style scoped>\n",
              "    .dataframe tbody tr th:only-of-type {\n",
              "        vertical-align: middle;\n",
              "    }\n",
              "\n",
              "    .dataframe tbody tr th {\n",
              "        vertical-align: top;\n",
              "    }\n",
              "\n",
              "    .dataframe thead th {\n",
              "        text-align: right;\n",
              "    }\n",
              "</style>\n",
              "<table border=\"1\" class=\"dataframe\">\n",
              "  <thead>\n",
              "    <tr style=\"text-align: right;\">\n",
              "      <th></th>\n",
              "      <th>Project</th>\n",
              "      <th>Date</th>\n",
              "      <th>Raise</th>\n",
              "      <th>Stage</th>\n",
              "      <th>Category</th>\n",
              "      <th>Lead Investor</th>\n",
              "      <th>Investors quantity</th>\n",
              "    </tr>\n",
              "  </thead>\n",
              "  <tbody>\n",
              "    <tr>\n",
              "      <th>756</th>\n",
              "      <td>LF Labs</td>\n",
              "      <td>2022-07-13</td>\n",
              "      <td>7443013.636</td>\n",
              "      <td>Seed</td>\n",
              "      <td>NaN</td>\n",
              "      <td>Alliance DAO</td>\n",
              "      <td>1.000</td>\n",
              "    </tr>\n",
              "    <tr>\n",
              "      <th>782</th>\n",
              "      <td>META WORLDMETAD</td>\n",
              "      <td>2022-07-10</td>\n",
              "      <td>30000000.000</td>\n",
              "      <td>Unknown</td>\n",
              "      <td>NaN</td>\n",
              "      <td>Mai Vu Minh</td>\n",
              "      <td>1.000</td>\n",
              "    </tr>\n",
              "    <tr>\n",
              "      <th>1134</th>\n",
              "      <td>Seed ClubCLUB</td>\n",
              "      <td>2022-05-18</td>\n",
              "      <td>15000000.000</td>\n",
              "      <td>Private Token Sale</td>\n",
              "      <td>NaN</td>\n",
              "      <td>Multicoin Capital</td>\n",
              "      <td>15.000</td>\n",
              "    </tr>\n",
              "    <tr>\n",
              "      <th>1284</th>\n",
              "      <td>PeculiumPCL</td>\n",
              "      <td>2022-04-27</td>\n",
              "      <td>10550000.000</td>\n",
              "      <td>Unknown</td>\n",
              "      <td>NaN</td>\n",
              "      <td>The Global Emerging Markets Group (GEM)</td>\n",
              "      <td>1.000</td>\n",
              "    </tr>\n",
              "    <tr>\n",
              "      <th>2004</th>\n",
              "      <td>CardashiftCLAP</td>\n",
              "      <td>2022-01-16</td>\n",
              "      <td>1500000.000</td>\n",
              "      <td>Private Token Sale</td>\n",
              "      <td>NaN</td>\n",
              "      <td>Private investor</td>\n",
              "      <td>1.000</td>\n",
              "    </tr>\n",
              "  </tbody>\n",
              "</table>\n",
              "</div>\n",
              "      <button class=\"colab-df-convert\" onclick=\"convertToInteractive('df-059f7712-e2bc-4a96-81a3-8956d94a6155')\"\n",
              "              title=\"Convert this dataframe to an interactive table.\"\n",
              "              style=\"display:none;\">\n",
              "        \n",
              "  <svg xmlns=\"http://www.w3.org/2000/svg\" height=\"24px\"viewBox=\"0 0 24 24\"\n",
              "       width=\"24px\">\n",
              "    <path d=\"M0 0h24v24H0V0z\" fill=\"none\"/>\n",
              "    <path d=\"M18.56 5.44l.94 2.06.94-2.06 2.06-.94-2.06-.94-.94-2.06-.94 2.06-2.06.94zm-11 1L8.5 8.5l.94-2.06 2.06-.94-2.06-.94L8.5 2.5l-.94 2.06-2.06.94zm10 10l.94 2.06.94-2.06 2.06-.94-2.06-.94-.94-2.06-.94 2.06-2.06.94z\"/><path d=\"M17.41 7.96l-1.37-1.37c-.4-.4-.92-.59-1.43-.59-.52 0-1.04.2-1.43.59L10.3 9.45l-7.72 7.72c-.78.78-.78 2.05 0 2.83L4 21.41c.39.39.9.59 1.41.59.51 0 1.02-.2 1.41-.59l7.78-7.78 2.81-2.81c.8-.78.8-2.07 0-2.86zM5.41 20L4 18.59l7.72-7.72 1.47 1.35L5.41 20z\"/>\n",
              "  </svg>\n",
              "      </button>\n",
              "      \n",
              "  <style>\n",
              "    .colab-df-container {\n",
              "      display:flex;\n",
              "      flex-wrap:wrap;\n",
              "      gap: 12px;\n",
              "    }\n",
              "\n",
              "    .colab-df-convert {\n",
              "      background-color: #E8F0FE;\n",
              "      border: none;\n",
              "      border-radius: 50%;\n",
              "      cursor: pointer;\n",
              "      display: none;\n",
              "      fill: #1967D2;\n",
              "      height: 32px;\n",
              "      padding: 0 0 0 0;\n",
              "      width: 32px;\n",
              "    }\n",
              "\n",
              "    .colab-df-convert:hover {\n",
              "      background-color: #E2EBFA;\n",
              "      box-shadow: 0px 1px 2px rgba(60, 64, 67, 0.3), 0px 1px 3px 1px rgba(60, 64, 67, 0.15);\n",
              "      fill: #174EA6;\n",
              "    }\n",
              "\n",
              "    [theme=dark] .colab-df-convert {\n",
              "      background-color: #3B4455;\n",
              "      fill: #D2E3FC;\n",
              "    }\n",
              "\n",
              "    [theme=dark] .colab-df-convert:hover {\n",
              "      background-color: #434B5C;\n",
              "      box-shadow: 0px 1px 3px 1px rgba(0, 0, 0, 0.15);\n",
              "      filter: drop-shadow(0px 1px 2px rgba(0, 0, 0, 0.3));\n",
              "      fill: #FFFFFF;\n",
              "    }\n",
              "  </style>\n",
              "\n",
              "      <script>\n",
              "        const buttonEl =\n",
              "          document.querySelector('#df-059f7712-e2bc-4a96-81a3-8956d94a6155 button.colab-df-convert');\n",
              "        buttonEl.style.display =\n",
              "          google.colab.kernel.accessAllowed ? 'block' : 'none';\n",
              "\n",
              "        async function convertToInteractive(key) {\n",
              "          const element = document.querySelector('#df-059f7712-e2bc-4a96-81a3-8956d94a6155');\n",
              "          const dataTable =\n",
              "            await google.colab.kernel.invokeFunction('convertToInteractive',\n",
              "                                                     [key], {});\n",
              "          if (!dataTable) return;\n",
              "\n",
              "          const docLinkHtml = 'Like what you see? Visit the ' +\n",
              "            '<a target=\"_blank\" href=https://colab.research.google.com/notebooks/data_table.ipynb>data table notebook</a>'\n",
              "            + ' to learn more about interactive tables.';\n",
              "          element.innerHTML = '';\n",
              "          dataTable['output_type'] = 'display_data';\n",
              "          await google.colab.output.renderOutput(dataTable, element);\n",
              "          const docLink = document.createElement('div');\n",
              "          docLink.innerHTML = docLinkHtml;\n",
              "          element.appendChild(docLink);\n",
              "        }\n",
              "      </script>\n",
              "    </div>\n",
              "  </div>\n",
              "  "
            ]
          },
          "metadata": {},
          "execution_count": 657
        }
      ]
    },
    {
      "cell_type": "markdown",
      "source": [
        "\n",
        "**Meta World** - многопользовательская онлайн-игра (GameFi)\n",
        "\n",
        "**Seed Club** - инкубатор для создания и развития DAO (Blockchain Service)\n",
        "\n",
        "**PeculiumPCL** - предоставляет финансовые услуги и инвестиции, есть элементы DeFi и AI (DeFi)\n",
        "\n",
        "**Cardashift** - платформа для продажи и покупки цифровых активов (Blockchain Service)\n",
        "\n",
        "**Aster Protocol** - космическая игра с использованием технологии блокчейна (GameFi)\n",
        "\n",
        "**Popop World** - платформа для создания и обмена цифровыми коллекционными карточками, известными как \"Pops\" (Social)\n",
        "\n",
        "**Whalemap** - предоставляет аналитические данные и инструменты для трейдеров и инвесторов криптовалют (Blockchain Service)\n",
        "\n",
        "**Whydah** - платформа для безопасной передачи и хранения данных, авторизации и идентификации (Blockchain Service)\n",
        "\n",
        "**Saddle** -  протокол, предназначенный для обмена stablecoins на блокчейне Ethereum (DeFi)\n",
        "\n",
        "**Republic Note** - платформа-посредник между предпринимателями и инвесторами (Blockchain Service)\n",
        "\n",
        "**PrivacySwap**  - децентрализованная платформа для обмена криптовалюты с фокусом на приватность пользователей (DeFi)\n",
        "\n",
        "**TAIKAI**  - платформа для проведения соревнований и хакатонов (Blockchain Service)\n",
        "\n",
        "**FynCom** - система генерации откликов, которая вознаграждает потенциальных клиентов за ответы на звонки/сообщения/эл.письма (Blockchain Service)\n",
        "\n",
        "**BlockTrade** - CEX / централизованная криптовалютная биржа (DeFi)\n",
        "\n",
        "**WIVA** - платформа, обеспечивающая доступ к инвестиционным возможностям (Blockchain Service)\n",
        "\n",
        "**IAGON** - платформа, объединяющая вычислительные ресурсы в глобальное сетевое облако (Blockchain Service)\n",
        "\n",
        "**EmiSwap** - децентрализованная платформа обмена криптовалютами (DeFi)\n",
        "\n",
        "**Cryption NetworkC** - экосистема, предоставляющая различные блокчейн-сервисы и инструменты управления цифровыми активами (Blockchain Service)\n",
        "\n",
        "**Zkchaos** - блокчеин сервис, предоставляющий инструменты для обеспечения конфиденциальности при совершении транзакций с различными криптовалютами (Blockchain Service)\n",
        "\n",
        "**PolkaDomain** - масштабируемая блокчейн платформа, предоставляющая инфраструктуру для взаимодействия с другими блокчейнами (Blockchain Infrastructure)\n",
        "\n",
        "**Sil.Finance** - услуги децентрализованного финансового обеспечения (DeFi)\n",
        "\n",
        "**Siren** - платформа для создания и торговли финансовыми производными на базе блокчейна (DeFi)\n",
        "\n",
        "**LF Labs**\t- не работает сайт - можно\tудалить\n"
      ],
      "metadata": {
        "id": "PXX74EfxlXZl"
      }
    },
    {
      "cell_type": "code",
      "source": [
        "funding_rounds.at[782, 'Category'] = 'GameFi'\n",
        "funding_rounds.at[1134, 'Category'] = 'Blockchain Service'\n",
        "funding_rounds.at[1284, 'Category'] = 'DeFi'\n",
        "funding_rounds.at[2004, 'Category'] = 'Blockchain Service'\n",
        "funding_rounds.at[2077, 'Category'] = 'GameFi'\n",
        "funding_rounds.at[2227, 'Category'] = 'Social'\n",
        "funding_rounds.at[2229, 'Category'] = 'Blockchain Service'\n",
        "funding_rounds.at[2230, 'Category'] = 'Blockchain Service'\n",
        "funding_rounds.at[2380, 'Category'] = 'DeFi'\n",
        "funding_rounds.at[2518, 'Category'] = 'Blockchain Service'\n",
        "funding_rounds.at[2526, 'Category'] = 'DeFi'\n",
        "funding_rounds.at[2728, 'Category'] = 'Blockchain Service'\n",
        "funding_rounds.at[2786, 'Category'] = 'Blockchain Service'\n",
        "funding_rounds.at[2834, 'Category'] = 'CeFi'\n",
        "funding_rounds.at[2913, 'Category'] = 'Blockchain Service'\n",
        "funding_rounds.at[2954, 'Category'] = 'Blockchain Service'\n",
        "funding_rounds.at[2980, 'Category'] = 'Blockchain Service'\n",
        "funding_rounds.at[3099, 'Category'] = 'DeFi'\n",
        "funding_rounds.at[3138, 'Category'] = 'Blockchain Service'\n",
        "funding_rounds.at[3188, 'Category'] = 'Blockchain Service'\n",
        "funding_rounds.at[3390, 'Category'] = 'Blockchain Infrastructure'\n",
        "funding_rounds.at[3452, 'Category'] = 'Blockchain Service'\n",
        "funding_rounds.at[3527, 'Category'] = 'DeFi'\n",
        "funding_rounds.at[3576, 'Category'] = 'DeFi'\n",
        "funding_rounds.at[3696, 'Category'] = 'DeFi'\n",
        "funding_rounds = funding_rounds.drop(756)"
      ],
      "metadata": {
        "id": "Njs9f9dRrHSX"
      },
      "execution_count": null,
      "outputs": []
    },
    {
      "cell_type": "markdown",
      "source": [
        "\n",
        "\n",
        "> *Замечание*:\n",
        ">\n",
        "> Мы заметили, что некоторые проекты повторяются, но данные собраны по разным раундам инвестирования стартапа, поэтому мы их не удаляем. Но в будущем, при построении модели - надо скорее всего эту особенность данных учесть\n",
        "\n"
      ],
      "metadata": {
        "id": "amoxL2-xoaq7"
      }
    },
    {
      "cell_type": "code",
      "source": [
        "duplicates = funding_rounds[funding_rounds.duplicated(['Project'], keep=False)]\n",
        "duplicates = funding_rounds.loc[funding_rounds['Project'].isin(duplicates['Project'])]\n",
        "duplicates.sort_values(by = 'Project')"
      ],
      "metadata": {
        "id": "RrJow0U231mz",
        "colab": {
          "base_uri": "https://localhost:8080/"
        },
        "outputId": "caa94314-9ca0-4482-b4ff-8fac805ec1b9"
      },
      "execution_count": null,
      "outputs": [
        {
          "output_type": "execute_result",
          "data": {
            "text/plain": [
              "             Project       Date         Raise      Stage  \\\n",
              "3653  0x ProtocolZRX 2021-02-05  15000000.000   Series A   \n",
              "1291  0x ProtocolZRX 2022-04-26  70000000.000   Series B   \n",
              "2276             2TM 2021-11-30  50300000.000   Series B   \n",
              "3103             2TM 2021-06-01 200000000.000   Series B   \n",
              "2445        5ire5IRE 2021-10-28  21000000.000       Seed   \n",
              "...              ...        ...           ...        ...   \n",
              "1748           tZERO 2022-02-22  54821785.714  Strategic   \n",
              "521         thirdweb 2022-08-25  24000000.000   Series A   \n",
              "2195        thirdweb 2021-12-13   5000000.000       Seed   \n",
              "3392  zCloak Network 2021-04-09   1300000.000       Seed   \n",
              "908   zCloak Network 2022-06-17   5800000.000    Unknown   \n",
              "\n",
              "                       Category              Lead Investor  Investors quantity  \n",
              "3653                       DeFi            Pantera Capital               7.000  \n",
              "1291                       DeFi          Greylock Partners              10.000  \n",
              "2276         Blockchain Service              Tribe Capital               5.000  \n",
              "3103         Blockchain Service                   SoftBank               1.000  \n",
              "2445  Blockchain Infrastructure                GEM Digital               1.000  \n",
              "...                         ...                        ...                 ...  \n",
              "1748                       CeFi  Intercontinental Exchange               3.000  \n",
              "521          Blockchain Service              Haun Ventures               7.000  \n",
              "2195         Blockchain Service                 Mark Cuban               2.000  \n",
              "3392         Blockchain Service                       IOSG               7.000  \n",
              "908          Blockchain Service          Coinbase Ventures              21.000  \n",
              "\n",
              "[1357 rows x 7 columns]"
            ],
            "text/html": [
              "\n",
              "  <div id=\"df-044ba8f5-6a3b-4bf2-8c74-502e6f7011bc\">\n",
              "    <div class=\"colab-df-container\">\n",
              "      <div>\n",
              "<style scoped>\n",
              "    .dataframe tbody tr th:only-of-type {\n",
              "        vertical-align: middle;\n",
              "    }\n",
              "\n",
              "    .dataframe tbody tr th {\n",
              "        vertical-align: top;\n",
              "    }\n",
              "\n",
              "    .dataframe thead th {\n",
              "        text-align: right;\n",
              "    }\n",
              "</style>\n",
              "<table border=\"1\" class=\"dataframe\">\n",
              "  <thead>\n",
              "    <tr style=\"text-align: right;\">\n",
              "      <th></th>\n",
              "      <th>Project</th>\n",
              "      <th>Date</th>\n",
              "      <th>Raise</th>\n",
              "      <th>Stage</th>\n",
              "      <th>Category</th>\n",
              "      <th>Lead Investor</th>\n",
              "      <th>Investors quantity</th>\n",
              "    </tr>\n",
              "  </thead>\n",
              "  <tbody>\n",
              "    <tr>\n",
              "      <th>3653</th>\n",
              "      <td>0x ProtocolZRX</td>\n",
              "      <td>2021-02-05</td>\n",
              "      <td>15000000.000</td>\n",
              "      <td>Series A</td>\n",
              "      <td>DeFi</td>\n",
              "      <td>Pantera Capital</td>\n",
              "      <td>7.000</td>\n",
              "    </tr>\n",
              "    <tr>\n",
              "      <th>1291</th>\n",
              "      <td>0x ProtocolZRX</td>\n",
              "      <td>2022-04-26</td>\n",
              "      <td>70000000.000</td>\n",
              "      <td>Series B</td>\n",
              "      <td>DeFi</td>\n",
              "      <td>Greylock Partners</td>\n",
              "      <td>10.000</td>\n",
              "    </tr>\n",
              "    <tr>\n",
              "      <th>2276</th>\n",
              "      <td>2TM</td>\n",
              "      <td>2021-11-30</td>\n",
              "      <td>50300000.000</td>\n",
              "      <td>Series B</td>\n",
              "      <td>Blockchain Service</td>\n",
              "      <td>Tribe Capital</td>\n",
              "      <td>5.000</td>\n",
              "    </tr>\n",
              "    <tr>\n",
              "      <th>3103</th>\n",
              "      <td>2TM</td>\n",
              "      <td>2021-06-01</td>\n",
              "      <td>200000000.000</td>\n",
              "      <td>Series B</td>\n",
              "      <td>Blockchain Service</td>\n",
              "      <td>SoftBank</td>\n",
              "      <td>1.000</td>\n",
              "    </tr>\n",
              "    <tr>\n",
              "      <th>2445</th>\n",
              "      <td>5ire5IRE</td>\n",
              "      <td>2021-10-28</td>\n",
              "      <td>21000000.000</td>\n",
              "      <td>Seed</td>\n",
              "      <td>Blockchain Infrastructure</td>\n",
              "      <td>GEM Digital</td>\n",
              "      <td>1.000</td>\n",
              "    </tr>\n",
              "    <tr>\n",
              "      <th>...</th>\n",
              "      <td>...</td>\n",
              "      <td>...</td>\n",
              "      <td>...</td>\n",
              "      <td>...</td>\n",
              "      <td>...</td>\n",
              "      <td>...</td>\n",
              "      <td>...</td>\n",
              "    </tr>\n",
              "    <tr>\n",
              "      <th>1748</th>\n",
              "      <td>tZERO</td>\n",
              "      <td>2022-02-22</td>\n",
              "      <td>54821785.714</td>\n",
              "      <td>Strategic</td>\n",
              "      <td>CeFi</td>\n",
              "      <td>Intercontinental Exchange</td>\n",
              "      <td>3.000</td>\n",
              "    </tr>\n",
              "    <tr>\n",
              "      <th>521</th>\n",
              "      <td>thirdweb</td>\n",
              "      <td>2022-08-25</td>\n",
              "      <td>24000000.000</td>\n",
              "      <td>Series A</td>\n",
              "      <td>Blockchain Service</td>\n",
              "      <td>Haun Ventures</td>\n",
              "      <td>7.000</td>\n",
              "    </tr>\n",
              "    <tr>\n",
              "      <th>2195</th>\n",
              "      <td>thirdweb</td>\n",
              "      <td>2021-12-13</td>\n",
              "      <td>5000000.000</td>\n",
              "      <td>Seed</td>\n",
              "      <td>Blockchain Service</td>\n",
              "      <td>Mark Cuban</td>\n",
              "      <td>2.000</td>\n",
              "    </tr>\n",
              "    <tr>\n",
              "      <th>3392</th>\n",
              "      <td>zCloak Network</td>\n",
              "      <td>2021-04-09</td>\n",
              "      <td>1300000.000</td>\n",
              "      <td>Seed</td>\n",
              "      <td>Blockchain Service</td>\n",
              "      <td>IOSG</td>\n",
              "      <td>7.000</td>\n",
              "    </tr>\n",
              "    <tr>\n",
              "      <th>908</th>\n",
              "      <td>zCloak Network</td>\n",
              "      <td>2022-06-17</td>\n",
              "      <td>5800000.000</td>\n",
              "      <td>Unknown</td>\n",
              "      <td>Blockchain Service</td>\n",
              "      <td>Coinbase Ventures</td>\n",
              "      <td>21.000</td>\n",
              "    </tr>\n",
              "  </tbody>\n",
              "</table>\n",
              "<p>1357 rows × 7 columns</p>\n",
              "</div>\n",
              "      <button class=\"colab-df-convert\" onclick=\"convertToInteractive('df-044ba8f5-6a3b-4bf2-8c74-502e6f7011bc')\"\n",
              "              title=\"Convert this dataframe to an interactive table.\"\n",
              "              style=\"display:none;\">\n",
              "        \n",
              "  <svg xmlns=\"http://www.w3.org/2000/svg\" height=\"24px\"viewBox=\"0 0 24 24\"\n",
              "       width=\"24px\">\n",
              "    <path d=\"M0 0h24v24H0V0z\" fill=\"none\"/>\n",
              "    <path d=\"M18.56 5.44l.94 2.06.94-2.06 2.06-.94-2.06-.94-.94-2.06-.94 2.06-2.06.94zm-11 1L8.5 8.5l.94-2.06 2.06-.94-2.06-.94L8.5 2.5l-.94 2.06-2.06.94zm10 10l.94 2.06.94-2.06 2.06-.94-2.06-.94-.94-2.06-.94 2.06-2.06.94z\"/><path d=\"M17.41 7.96l-1.37-1.37c-.4-.4-.92-.59-1.43-.59-.52 0-1.04.2-1.43.59L10.3 9.45l-7.72 7.72c-.78.78-.78 2.05 0 2.83L4 21.41c.39.39.9.59 1.41.59.51 0 1.02-.2 1.41-.59l7.78-7.78 2.81-2.81c.8-.78.8-2.07 0-2.86zM5.41 20L4 18.59l7.72-7.72 1.47 1.35L5.41 20z\"/>\n",
              "  </svg>\n",
              "      </button>\n",
              "      \n",
              "  <style>\n",
              "    .colab-df-container {\n",
              "      display:flex;\n",
              "      flex-wrap:wrap;\n",
              "      gap: 12px;\n",
              "    }\n",
              "\n",
              "    .colab-df-convert {\n",
              "      background-color: #E8F0FE;\n",
              "      border: none;\n",
              "      border-radius: 50%;\n",
              "      cursor: pointer;\n",
              "      display: none;\n",
              "      fill: #1967D2;\n",
              "      height: 32px;\n",
              "      padding: 0 0 0 0;\n",
              "      width: 32px;\n",
              "    }\n",
              "\n",
              "    .colab-df-convert:hover {\n",
              "      background-color: #E2EBFA;\n",
              "      box-shadow: 0px 1px 2px rgba(60, 64, 67, 0.3), 0px 1px 3px 1px rgba(60, 64, 67, 0.15);\n",
              "      fill: #174EA6;\n",
              "    }\n",
              "\n",
              "    [theme=dark] .colab-df-convert {\n",
              "      background-color: #3B4455;\n",
              "      fill: #D2E3FC;\n",
              "    }\n",
              "\n",
              "    [theme=dark] .colab-df-convert:hover {\n",
              "      background-color: #434B5C;\n",
              "      box-shadow: 0px 1px 3px 1px rgba(0, 0, 0, 0.15);\n",
              "      filter: drop-shadow(0px 1px 2px rgba(0, 0, 0, 0.3));\n",
              "      fill: #FFFFFF;\n",
              "    }\n",
              "  </style>\n",
              "\n",
              "      <script>\n",
              "        const buttonEl =\n",
              "          document.querySelector('#df-044ba8f5-6a3b-4bf2-8c74-502e6f7011bc button.colab-df-convert');\n",
              "        buttonEl.style.display =\n",
              "          google.colab.kernel.accessAllowed ? 'block' : 'none';\n",
              "\n",
              "        async function convertToInteractive(key) {\n",
              "          const element = document.querySelector('#df-044ba8f5-6a3b-4bf2-8c74-502e6f7011bc');\n",
              "          const dataTable =\n",
              "            await google.colab.kernel.invokeFunction('convertToInteractive',\n",
              "                                                     [key], {});\n",
              "          if (!dataTable) return;\n",
              "\n",
              "          const docLinkHtml = 'Like what you see? Visit the ' +\n",
              "            '<a target=\"_blank\" href=https://colab.research.google.com/notebooks/data_table.ipynb>data table notebook</a>'\n",
              "            + ' to learn more about interactive tables.';\n",
              "          element.innerHTML = '';\n",
              "          dataTable['output_type'] = 'display_data';\n",
              "          await google.colab.output.renderOutput(dataTable, element);\n",
              "          const docLink = document.createElement('div');\n",
              "          docLink.innerHTML = docLinkHtml;\n",
              "          element.appendChild(docLink);\n",
              "        }\n",
              "      </script>\n",
              "    </div>\n",
              "  </div>\n",
              "  "
            ]
          },
          "metadata": {},
          "execution_count": 659
        }
      ]
    },
    {
      "cell_type": "markdown",
      "source": [
        "# Добавление и обработка новых данных"
      ],
      "metadata": {
        "id": "gpzjBc0IJoHf"
      }
    },
    {
      "cell_type": "markdown",
      "source": [
        "**Шаг 1**\n",
        "\n",
        "Для увеличения данных и большей выборки мы запарсили дополнительные данные. которые характеризуют лид инвестора\n"
      ],
      "metadata": {
        "id": "Y5hcFBprBsFB"
      }
    },
    {
      "cell_type": "code",
      "source": [
        "url_funds = \"https://drive.google.com/uc?id=1_8HTYcEA98CUo9UPfAi0JiySEm57Du0h&export=download\"\n",
        "with urllib.request.urlopen(url_funds) as response:\n",
        "    html_funds = response.read().decode()\n",
        "html_funds = html_funds.split(\"\\n\")"
      ],
      "metadata": {
        "id": "MBD8M5wuJvqj"
      },
      "execution_count": null,
      "outputs": []
    },
    {
      "cell_type": "code",
      "source": [
        "df_2 = []\n",
        "for i in range(len(html_funds)-1):\n",
        "    beautiful_soup = BeautifulSoup(html_funds[i], 'html.parser')\n",
        "    table = beautiful_soup.find('table')\n",
        "    rows = table.find_all('tr')\n",
        "\n",
        "    for row in rows:\n",
        "        cols = row.find_all('td')\n",
        "        cols = [col.text.strip() for col in cols]\n",
        "        df_2.append(cols)"
      ],
      "metadata": {
        "id": "w5O9OlNbMRE6"
      },
      "execution_count": null,
      "outputs": []
    },
    {
      "cell_type": "code",
      "source": [
        "funds = pd.DataFrame(df_2, columns = ['Fund', 'Tier', 'Type', 'Avg.Chg (24H)', 'Mcap', 'Volume', 'Dominance', 'Gainers/Losers'])\n",
        "funds['Fund'] = funds['Fund'].str.strip()\n",
        "funds = funds.drop_duplicates(subset=['Fund'], keep='first')\n",
        "funds.head()"
      ],
      "metadata": {
        "colab": {
          "base_uri": "https://localhost:8080/"
        },
        "id": "x9Zg92knMe15",
        "outputId": "51ed6598-3366-4e7a-aaa5-38ab8337e1e5"
      },
      "execution_count": null,
      "outputs": [
        {
          "output_type": "execute_result",
          "data": {
            "text/plain": [
              "                Fund  Tier     Type Avg.Chg (24H)       Mcap     Volume  \\\n",
              "0               None  None     None          None       None       None   \n",
              "1     Animoca Brands     1  Venture        +1.08%   $ 11.60B  $ 393.96M   \n",
              "2          BlackRock     1  Venture            0%        N/A    $ 4.54M   \n",
              "3           Paradigm     1  Venture        +0.94%  $ 222.77B    $ 1.84B   \n",
              "4  DragonFly Capital     1  Venture        +2.19%   $ 20.48B  $ 566.57M   \n",
              "\n",
              "  Dominance  Gainers/Losers  \n",
              "0      None            None  \n",
              "1    0.99 %  67(56%)53(44%)  \n",
              "2     0.00%    1(100%)0(0%)  \n",
              "3   19.03 %   19(73%)7(27%)  \n",
              "4    1.75 %  27(66%)14(34%)  "
            ],
            "text/html": [
              "\n",
              "  <div id=\"df-901a0f25-fcf3-4c42-b603-a8f67ef452f3\">\n",
              "    <div class=\"colab-df-container\">\n",
              "      <div>\n",
              "<style scoped>\n",
              "    .dataframe tbody tr th:only-of-type {\n",
              "        vertical-align: middle;\n",
              "    }\n",
              "\n",
              "    .dataframe tbody tr th {\n",
              "        vertical-align: top;\n",
              "    }\n",
              "\n",
              "    .dataframe thead th {\n",
              "        text-align: right;\n",
              "    }\n",
              "</style>\n",
              "<table border=\"1\" class=\"dataframe\">\n",
              "  <thead>\n",
              "    <tr style=\"text-align: right;\">\n",
              "      <th></th>\n",
              "      <th>Fund</th>\n",
              "      <th>Tier</th>\n",
              "      <th>Type</th>\n",
              "      <th>Avg.Chg (24H)</th>\n",
              "      <th>Mcap</th>\n",
              "      <th>Volume</th>\n",
              "      <th>Dominance</th>\n",
              "      <th>Gainers/Losers</th>\n",
              "    </tr>\n",
              "  </thead>\n",
              "  <tbody>\n",
              "    <tr>\n",
              "      <th>0</th>\n",
              "      <td>None</td>\n",
              "      <td>None</td>\n",
              "      <td>None</td>\n",
              "      <td>None</td>\n",
              "      <td>None</td>\n",
              "      <td>None</td>\n",
              "      <td>None</td>\n",
              "      <td>None</td>\n",
              "    </tr>\n",
              "    <tr>\n",
              "      <th>1</th>\n",
              "      <td>Animoca Brands</td>\n",
              "      <td>1</td>\n",
              "      <td>Venture</td>\n",
              "      <td>+1.08%</td>\n",
              "      <td>$ 11.60B</td>\n",
              "      <td>$ 393.96M</td>\n",
              "      <td>0.99 %</td>\n",
              "      <td>67(56%)53(44%)</td>\n",
              "    </tr>\n",
              "    <tr>\n",
              "      <th>2</th>\n",
              "      <td>BlackRock</td>\n",
              "      <td>1</td>\n",
              "      <td>Venture</td>\n",
              "      <td>0%</td>\n",
              "      <td>N/A</td>\n",
              "      <td>$ 4.54M</td>\n",
              "      <td>0.00%</td>\n",
              "      <td>1(100%)0(0%)</td>\n",
              "    </tr>\n",
              "    <tr>\n",
              "      <th>3</th>\n",
              "      <td>Paradigm</td>\n",
              "      <td>1</td>\n",
              "      <td>Venture</td>\n",
              "      <td>+0.94%</td>\n",
              "      <td>$ 222.77B</td>\n",
              "      <td>$ 1.84B</td>\n",
              "      <td>19.03 %</td>\n",
              "      <td>19(73%)7(27%)</td>\n",
              "    </tr>\n",
              "    <tr>\n",
              "      <th>4</th>\n",
              "      <td>DragonFly Capital</td>\n",
              "      <td>1</td>\n",
              "      <td>Venture</td>\n",
              "      <td>+2.19%</td>\n",
              "      <td>$ 20.48B</td>\n",
              "      <td>$ 566.57M</td>\n",
              "      <td>1.75 %</td>\n",
              "      <td>27(66%)14(34%)</td>\n",
              "    </tr>\n",
              "  </tbody>\n",
              "</table>\n",
              "</div>\n",
              "      <button class=\"colab-df-convert\" onclick=\"convertToInteractive('df-901a0f25-fcf3-4c42-b603-a8f67ef452f3')\"\n",
              "              title=\"Convert this dataframe to an interactive table.\"\n",
              "              style=\"display:none;\">\n",
              "        \n",
              "  <svg xmlns=\"http://www.w3.org/2000/svg\" height=\"24px\"viewBox=\"0 0 24 24\"\n",
              "       width=\"24px\">\n",
              "    <path d=\"M0 0h24v24H0V0z\" fill=\"none\"/>\n",
              "    <path d=\"M18.56 5.44l.94 2.06.94-2.06 2.06-.94-2.06-.94-.94-2.06-.94 2.06-2.06.94zm-11 1L8.5 8.5l.94-2.06 2.06-.94-2.06-.94L8.5 2.5l-.94 2.06-2.06.94zm10 10l.94 2.06.94-2.06 2.06-.94-2.06-.94-.94-2.06-.94 2.06-2.06.94z\"/><path d=\"M17.41 7.96l-1.37-1.37c-.4-.4-.92-.59-1.43-.59-.52 0-1.04.2-1.43.59L10.3 9.45l-7.72 7.72c-.78.78-.78 2.05 0 2.83L4 21.41c.39.39.9.59 1.41.59.51 0 1.02-.2 1.41-.59l7.78-7.78 2.81-2.81c.8-.78.8-2.07 0-2.86zM5.41 20L4 18.59l7.72-7.72 1.47 1.35L5.41 20z\"/>\n",
              "  </svg>\n",
              "      </button>\n",
              "      \n",
              "  <style>\n",
              "    .colab-df-container {\n",
              "      display:flex;\n",
              "      flex-wrap:wrap;\n",
              "      gap: 12px;\n",
              "    }\n",
              "\n",
              "    .colab-df-convert {\n",
              "      background-color: #E8F0FE;\n",
              "      border: none;\n",
              "      border-radius: 50%;\n",
              "      cursor: pointer;\n",
              "      display: none;\n",
              "      fill: #1967D2;\n",
              "      height: 32px;\n",
              "      padding: 0 0 0 0;\n",
              "      width: 32px;\n",
              "    }\n",
              "\n",
              "    .colab-df-convert:hover {\n",
              "      background-color: #E2EBFA;\n",
              "      box-shadow: 0px 1px 2px rgba(60, 64, 67, 0.3), 0px 1px 3px 1px rgba(60, 64, 67, 0.15);\n",
              "      fill: #174EA6;\n",
              "    }\n",
              "\n",
              "    [theme=dark] .colab-df-convert {\n",
              "      background-color: #3B4455;\n",
              "      fill: #D2E3FC;\n",
              "    }\n",
              "\n",
              "    [theme=dark] .colab-df-convert:hover {\n",
              "      background-color: #434B5C;\n",
              "      box-shadow: 0px 1px 3px 1px rgba(0, 0, 0, 0.15);\n",
              "      filter: drop-shadow(0px 1px 2px rgba(0, 0, 0, 0.3));\n",
              "      fill: #FFFFFF;\n",
              "    }\n",
              "  </style>\n",
              "\n",
              "      <script>\n",
              "        const buttonEl =\n",
              "          document.querySelector('#df-901a0f25-fcf3-4c42-b603-a8f67ef452f3 button.colab-df-convert');\n",
              "        buttonEl.style.display =\n",
              "          google.colab.kernel.accessAllowed ? 'block' : 'none';\n",
              "\n",
              "        async function convertToInteractive(key) {\n",
              "          const element = document.querySelector('#df-901a0f25-fcf3-4c42-b603-a8f67ef452f3');\n",
              "          const dataTable =\n",
              "            await google.colab.kernel.invokeFunction('convertToInteractive',\n",
              "                                                     [key], {});\n",
              "          if (!dataTable) return;\n",
              "\n",
              "          const docLinkHtml = 'Like what you see? Visit the ' +\n",
              "            '<a target=\"_blank\" href=https://colab.research.google.com/notebooks/data_table.ipynb>data table notebook</a>'\n",
              "            + ' to learn more about interactive tables.';\n",
              "          element.innerHTML = '';\n",
              "          dataTable['output_type'] = 'display_data';\n",
              "          await google.colab.output.renderOutput(dataTable, element);\n",
              "          const docLink = document.createElement('div');\n",
              "          docLink.innerHTML = docLinkHtml;\n",
              "          element.appendChild(docLink);\n",
              "        }\n",
              "      </script>\n",
              "    </div>\n",
              "  </div>\n",
              "  "
            ]
          },
          "metadata": {},
          "execution_count": 662
        }
      ]
    },
    {
      "cell_type": "markdown",
      "source": [
        "**Шаг 2**\n",
        "\n",
        "Соединили две таблицы по лид инвестору"
      ],
      "metadata": {
        "id": "oyXLjBMoCHZ_"
      }
    },
    {
      "cell_type": "code",
      "source": [
        "df_total = funding_rounds.merge(funds, how='inner', left_on='Lead Investor', right_on='Fund')\n",
        "\n",
        "print(df_total.shape)\n",
        "df_total.head()"
      ],
      "metadata": {
        "colab": {
          "base_uri": "https://localhost:8080/"
        },
        "id": "WumLLb5QOfbQ",
        "outputId": "6abe36d4-67b6-4eca-a5d9-3ee36c14e121"
      },
      "execution_count": null,
      "outputs": [
        {
          "output_type": "stream",
          "name": "stdout",
          "text": [
            "(3107, 15)\n"
          ]
        },
        {
          "output_type": "execute_result",
          "data": {
            "text/plain": [
              "         Project       Date       Raise     Stage            Category  \\\n",
              "0       DeSchool 2022-12-31 6000000.000      Seed  Blockchain Service   \n",
              "1        NFTScan 2021-04-16  550000.000      Seed                 NFT   \n",
              "2  Magic Fantasy 2022-12-30 3000000.000   Unknown              GameFi   \n",
              "3          Twity 2022-12-29 6500000.000  Series A              Social   \n",
              "4     wowTalkies 2022-12-29 9000000.000   Unknown              Social   \n",
              "\n",
              "        Lead Investor  Investors quantity                Fund Tier       Type  \\\n",
              "0        y2z Ventures               6.000        y2z Ventures    4    Venture   \n",
              "1        y2z Ventures               1.000        y2z Ventures    4    Venture   \n",
              "2           Easycoins               1.000           Easycoins       Corporate   \n",
              "3        Wave Capital               1.000        Wave Capital    3    Venture   \n",
              "4  Tangentia Ventures               1.000  Tangentia Ventures    4    Venture   \n",
              "\n",
              "  Avg.Chg (24H)       Mcap    Volume Dominance Gainers/Losers  \n",
              "0            0%  $ 358.84M  $ 23.87M    0.03 %   2(40%)3(60%)  \n",
              "1            0%  $ 358.84M  $ 23.87M    0.03 %   2(40%)3(60%)  \n",
              "2            0%        N/A       N/A     0.00%        Not Set  \n",
              "3            0%        N/A       N/A     0.00%        Not Set  \n",
              "4            0%        N/A       N/A     0.00%        Not Set  "
            ],
            "text/html": [
              "\n",
              "  <div id=\"df-3ee36f18-d05f-4c75-b31c-7bad5f4ca0e5\">\n",
              "    <div class=\"colab-df-container\">\n",
              "      <div>\n",
              "<style scoped>\n",
              "    .dataframe tbody tr th:only-of-type {\n",
              "        vertical-align: middle;\n",
              "    }\n",
              "\n",
              "    .dataframe tbody tr th {\n",
              "        vertical-align: top;\n",
              "    }\n",
              "\n",
              "    .dataframe thead th {\n",
              "        text-align: right;\n",
              "    }\n",
              "</style>\n",
              "<table border=\"1\" class=\"dataframe\">\n",
              "  <thead>\n",
              "    <tr style=\"text-align: right;\">\n",
              "      <th></th>\n",
              "      <th>Project</th>\n",
              "      <th>Date</th>\n",
              "      <th>Raise</th>\n",
              "      <th>Stage</th>\n",
              "      <th>Category</th>\n",
              "      <th>Lead Investor</th>\n",
              "      <th>Investors quantity</th>\n",
              "      <th>Fund</th>\n",
              "      <th>Tier</th>\n",
              "      <th>Type</th>\n",
              "      <th>Avg.Chg (24H)</th>\n",
              "      <th>Mcap</th>\n",
              "      <th>Volume</th>\n",
              "      <th>Dominance</th>\n",
              "      <th>Gainers/Losers</th>\n",
              "    </tr>\n",
              "  </thead>\n",
              "  <tbody>\n",
              "    <tr>\n",
              "      <th>0</th>\n",
              "      <td>DeSchool</td>\n",
              "      <td>2022-12-31</td>\n",
              "      <td>6000000.000</td>\n",
              "      <td>Seed</td>\n",
              "      <td>Blockchain Service</td>\n",
              "      <td>y2z Ventures</td>\n",
              "      <td>6.000</td>\n",
              "      <td>y2z Ventures</td>\n",
              "      <td>4</td>\n",
              "      <td>Venture</td>\n",
              "      <td>0%</td>\n",
              "      <td>$ 358.84M</td>\n",
              "      <td>$ 23.87M</td>\n",
              "      <td>0.03 %</td>\n",
              "      <td>2(40%)3(60%)</td>\n",
              "    </tr>\n",
              "    <tr>\n",
              "      <th>1</th>\n",
              "      <td>NFTScan</td>\n",
              "      <td>2021-04-16</td>\n",
              "      <td>550000.000</td>\n",
              "      <td>Seed</td>\n",
              "      <td>NFT</td>\n",
              "      <td>y2z Ventures</td>\n",
              "      <td>1.000</td>\n",
              "      <td>y2z Ventures</td>\n",
              "      <td>4</td>\n",
              "      <td>Venture</td>\n",
              "      <td>0%</td>\n",
              "      <td>$ 358.84M</td>\n",
              "      <td>$ 23.87M</td>\n",
              "      <td>0.03 %</td>\n",
              "      <td>2(40%)3(60%)</td>\n",
              "    </tr>\n",
              "    <tr>\n",
              "      <th>2</th>\n",
              "      <td>Magic Fantasy</td>\n",
              "      <td>2022-12-30</td>\n",
              "      <td>3000000.000</td>\n",
              "      <td>Unknown</td>\n",
              "      <td>GameFi</td>\n",
              "      <td>Easycoins</td>\n",
              "      <td>1.000</td>\n",
              "      <td>Easycoins</td>\n",
              "      <td></td>\n",
              "      <td>Corporate</td>\n",
              "      <td>0%</td>\n",
              "      <td>N/A</td>\n",
              "      <td>N/A</td>\n",
              "      <td>0.00%</td>\n",
              "      <td>Not Set</td>\n",
              "    </tr>\n",
              "    <tr>\n",
              "      <th>3</th>\n",
              "      <td>Twity</td>\n",
              "      <td>2022-12-29</td>\n",
              "      <td>6500000.000</td>\n",
              "      <td>Series A</td>\n",
              "      <td>Social</td>\n",
              "      <td>Wave Capital</td>\n",
              "      <td>1.000</td>\n",
              "      <td>Wave Capital</td>\n",
              "      <td>3</td>\n",
              "      <td>Venture</td>\n",
              "      <td>0%</td>\n",
              "      <td>N/A</td>\n",
              "      <td>N/A</td>\n",
              "      <td>0.00%</td>\n",
              "      <td>Not Set</td>\n",
              "    </tr>\n",
              "    <tr>\n",
              "      <th>4</th>\n",
              "      <td>wowTalkies</td>\n",
              "      <td>2022-12-29</td>\n",
              "      <td>9000000.000</td>\n",
              "      <td>Unknown</td>\n",
              "      <td>Social</td>\n",
              "      <td>Tangentia Ventures</td>\n",
              "      <td>1.000</td>\n",
              "      <td>Tangentia Ventures</td>\n",
              "      <td>4</td>\n",
              "      <td>Venture</td>\n",
              "      <td>0%</td>\n",
              "      <td>N/A</td>\n",
              "      <td>N/A</td>\n",
              "      <td>0.00%</td>\n",
              "      <td>Not Set</td>\n",
              "    </tr>\n",
              "  </tbody>\n",
              "</table>\n",
              "</div>\n",
              "      <button class=\"colab-df-convert\" onclick=\"convertToInteractive('df-3ee36f18-d05f-4c75-b31c-7bad5f4ca0e5')\"\n",
              "              title=\"Convert this dataframe to an interactive table.\"\n",
              "              style=\"display:none;\">\n",
              "        \n",
              "  <svg xmlns=\"http://www.w3.org/2000/svg\" height=\"24px\"viewBox=\"0 0 24 24\"\n",
              "       width=\"24px\">\n",
              "    <path d=\"M0 0h24v24H0V0z\" fill=\"none\"/>\n",
              "    <path d=\"M18.56 5.44l.94 2.06.94-2.06 2.06-.94-2.06-.94-.94-2.06-.94 2.06-2.06.94zm-11 1L8.5 8.5l.94-2.06 2.06-.94-2.06-.94L8.5 2.5l-.94 2.06-2.06.94zm10 10l.94 2.06.94-2.06 2.06-.94-2.06-.94-.94-2.06-.94 2.06-2.06.94z\"/><path d=\"M17.41 7.96l-1.37-1.37c-.4-.4-.92-.59-1.43-.59-.52 0-1.04.2-1.43.59L10.3 9.45l-7.72 7.72c-.78.78-.78 2.05 0 2.83L4 21.41c.39.39.9.59 1.41.59.51 0 1.02-.2 1.41-.59l7.78-7.78 2.81-2.81c.8-.78.8-2.07 0-2.86zM5.41 20L4 18.59l7.72-7.72 1.47 1.35L5.41 20z\"/>\n",
              "  </svg>\n",
              "      </button>\n",
              "      \n",
              "  <style>\n",
              "    .colab-df-container {\n",
              "      display:flex;\n",
              "      flex-wrap:wrap;\n",
              "      gap: 12px;\n",
              "    }\n",
              "\n",
              "    .colab-df-convert {\n",
              "      background-color: #E8F0FE;\n",
              "      border: none;\n",
              "      border-radius: 50%;\n",
              "      cursor: pointer;\n",
              "      display: none;\n",
              "      fill: #1967D2;\n",
              "      height: 32px;\n",
              "      padding: 0 0 0 0;\n",
              "      width: 32px;\n",
              "    }\n",
              "\n",
              "    .colab-df-convert:hover {\n",
              "      background-color: #E2EBFA;\n",
              "      box-shadow: 0px 1px 2px rgba(60, 64, 67, 0.3), 0px 1px 3px 1px rgba(60, 64, 67, 0.15);\n",
              "      fill: #174EA6;\n",
              "    }\n",
              "\n",
              "    [theme=dark] .colab-df-convert {\n",
              "      background-color: #3B4455;\n",
              "      fill: #D2E3FC;\n",
              "    }\n",
              "\n",
              "    [theme=dark] .colab-df-convert:hover {\n",
              "      background-color: #434B5C;\n",
              "      box-shadow: 0px 1px 3px 1px rgba(0, 0, 0, 0.15);\n",
              "      filter: drop-shadow(0px 1px 2px rgba(0, 0, 0, 0.3));\n",
              "      fill: #FFFFFF;\n",
              "    }\n",
              "  </style>\n",
              "\n",
              "      <script>\n",
              "        const buttonEl =\n",
              "          document.querySelector('#df-3ee36f18-d05f-4c75-b31c-7bad5f4ca0e5 button.colab-df-convert');\n",
              "        buttonEl.style.display =\n",
              "          google.colab.kernel.accessAllowed ? 'block' : 'none';\n",
              "\n",
              "        async function convertToInteractive(key) {\n",
              "          const element = document.querySelector('#df-3ee36f18-d05f-4c75-b31c-7bad5f4ca0e5');\n",
              "          const dataTable =\n",
              "            await google.colab.kernel.invokeFunction('convertToInteractive',\n",
              "                                                     [key], {});\n",
              "          if (!dataTable) return;\n",
              "\n",
              "          const docLinkHtml = 'Like what you see? Visit the ' +\n",
              "            '<a target=\"_blank\" href=https://colab.research.google.com/notebooks/data_table.ipynb>data table notebook</a>'\n",
              "            + ' to learn more about interactive tables.';\n",
              "          element.innerHTML = '';\n",
              "          dataTable['output_type'] = 'display_data';\n",
              "          await google.colab.output.renderOutput(dataTable, element);\n",
              "          const docLink = document.createElement('div');\n",
              "          docLink.innerHTML = docLinkHtml;\n",
              "          element.appendChild(docLink);\n",
              "        }\n",
              "      </script>\n",
              "    </div>\n",
              "  </div>\n",
              "  "
            ]
          },
          "metadata": {},
          "execution_count": 663
        }
      ]
    },
    {
      "cell_type": "markdown",
      "source": [
        "Привтупаем к обработке данных:\n",
        "\n",
        "-------"
      ],
      "metadata": {
        "id": "C0lL0TqaCziN"
      }
    },
    {
      "cell_type": "markdown",
      "source": [
        "**Шаг 3**\n",
        "\n",
        "Если нет информации по капитализации, объему и прибылях, то данные удаляем, так как вставка значений в несколько параметров приведет к искажению, а пустых знаечний не настолько много, чтобы жертвовать качеством выборки.\n",
        "\n",
        "Также дропнули колонку 'Fund', так как она повторяет 'Lead investor'\n",
        "\n",
        "Поменяли местами колонки 'Lead Investor' и 'Investors quantity', чтобы таблица вышлядела логичнее и информация по инвестору была срзу же почле него\n"
      ],
      "metadata": {
        "id": "Vroai-ZYCOnL"
      }
    },
    {
      "cell_type": "code",
      "source": [
        "df_total = df_total.loc[(df_total['Mcap'] !='N/A')&(df_total['Volume']!='N/A')& (df_total['Gainers/Losers'] != 'Not Set')]\n",
        "df_total = df_total.drop('Fund', axis=1)\n",
        "df_total['Lead Investor'], df_total['Investors quantity'] = df_total['Investors quantity'], df_total['Lead Investor']\n",
        "df_total = df_total.rename(columns={'Investors quantity': 'Lead Investor', 'Lead Investor': 'Investors quantity'})\n",
        "df_total.reset_index(drop= True, inplace= True)"
      ],
      "metadata": {
        "id": "jECPcpztQaj7"
      },
      "execution_count": null,
      "outputs": []
    },
    {
      "cell_type": "markdown",
      "source": [
        "Изменяем тип данных:\n",
        "\n",
        "------"
      ],
      "metadata": {
        "id": "6-GZ0YX5ETr4"
      }
    },
    {
      "cell_type": "markdown",
      "source": [
        "**Шаг 4**\n",
        "\n",
        "Начнем с капитализации:\n",
        "- уберем значок $ и вставим его в название колонки\n",
        "- числовые обозначения ('M' обозначает миллион (1,000,000), 'B'- миллиард (1,000,000,000), 'K' - тысячу (1,000)) переведем в несокращенный вид\n",
        "- изменяем тип со строки на int"
      ],
      "metadata": {
        "id": "Cl2-PgFBEItC"
      }
    },
    {
      "cell_type": "code",
      "source": [
        "df_total['Mcap'] = df_total['Mcap'].str.replace('$', '')\n",
        "replace = {'M': 'E6', 'B': 'E9', 'K': 'E3'}\n",
        "df_total['Mcap'] = df_total['Mcap'].replace(replace, regex=True).map(pd.eval).astype(int)\n",
        "df_total.rename(columns={'Mcap': 'Mcap, $'}, inplace=True)\n",
        "pd.options.display.float_format = '{:.3f}'.format"
      ],
      "metadata": {
        "colab": {
          "base_uri": "https://localhost:8080/"
        },
        "id": "BsIia9Q2Rhj7",
        "outputId": "f9f5b564-c38e-407b-ff02-8e7e0e0b64eb"
      },
      "execution_count": null,
      "outputs": [
        {
          "output_type": "stream",
          "name": "stderr",
          "text": [
            "<ipython-input-665-f6ae09081750>:1: FutureWarning: The default value of regex will change from True to False in a future version. In addition, single character regular expressions will *not* be treated as literal strings when regex=True.\n",
            "  df_total['Mcap'] = df_total['Mcap'].str.replace('$', '')\n"
          ]
        }
      ]
    },
    {
      "cell_type": "markdown",
      "source": [
        "**Шаг 5**\n",
        "\n",
        "Аналогично с объемом:\n",
        "- уберем значок $ и вставим его в название колонки\n",
        "- числовые обозначения ('M' обозначает миллион (1,000,000), 'B'- миллиард (1,000,000,000), 'K' - тысячу (1,000)) переведем в несокращенный вид\n",
        "- изменяем тип со строки на int"
      ],
      "metadata": {
        "id": "eW-MAHEZFfvX"
      }
    },
    {
      "cell_type": "code",
      "source": [
        "df_total['Volume'] = df_total['Volume'].str.replace('$', '').str.replace(' ', '')\n",
        "replace_volume = {'M': 'E6', 'B': 'E9', 'K': 'E3'}\n",
        "df_total['Volume'] = df_total['Volume'].replace(replace_volume, regex=True).map(pd.eval).astype(int)\n",
        "df_total.rename(columns={'Volume': 'Volume, $'}, inplace=True)"
      ],
      "metadata": {
        "colab": {
          "base_uri": "https://localhost:8080/"
        },
        "id": "Op0WkcmoSPzS",
        "outputId": "8f1350e6-da2a-41ec-a899-ba842cae2b35"
      },
      "execution_count": null,
      "outputs": [
        {
          "output_type": "stream",
          "name": "stderr",
          "text": [
            "<ipython-input-666-ce9c1bde419a>:1: FutureWarning: The default value of regex will change from True to False in a future version. In addition, single character regular expressions will *not* be treated as literal strings when regex=True.\n",
            "  df_total['Volume'] = df_total['Volume'].str.replace('$', '').str.replace(' ', '')\n"
          ]
        }
      ]
    },
    {
      "cell_type": "markdown",
      "source": [
        "**Шаг 6**\n",
        "\n",
        "Обрабатываем колонку доминирование фонда на рынке:\n",
        "- уберем значок % и вставим его в название колонки\n",
        "- переведем обозначение '<0.01' в число 0.001\n",
        "- изменяем тип со строки на float"
      ],
      "metadata": {
        "id": "7RcW9JdhFpYB"
      }
    },
    {
      "cell_type": "code",
      "source": [
        "df_total['Dominance'] = df_total['Dominance'].str.replace('%', '')\n",
        "df_total['Dominance'] = df_total['Dominance'].replace('<0.01', '0.001')\n",
        "df_total['Dominance'] = df_total['Dominance'].astype(float)\n",
        "df_total.rename(columns={'Dominance': 'Dominance, %'}, inplace=True)"
      ],
      "metadata": {
        "id": "SYDiWx8MT9yC"
      },
      "execution_count": null,
      "outputs": []
    },
    {
      "cell_type": "markdown",
      "source": [
        "**Шаг 7**\n",
        "\n",
        "Форматируем Avg.Chg (24H):\n",
        "- уберем значок % и вставим его в название колонки\n",
        "- изменяем тип со строки на float"
      ],
      "metadata": {
        "id": "Lt417gskGOfE"
      }
    },
    {
      "cell_type": "code",
      "source": [
        "df_total['Avg.Chg (24H)'] = df_total['Avg.Chg (24H)'].str.replace('%', '').str.replace('+', '')\n",
        "df_total['Avg.Chg (24H)'] = df_total['Avg.Chg (24H)'].astype(float)\n",
        "df_total.rename(columns={'Avg.Chg (24H)': 'Avg.Chg (24H), %'}, inplace=True)"
      ],
      "metadata": {
        "colab": {
          "base_uri": "https://localhost:8080/"
        },
        "id": "VSNYbvWJVy3_",
        "outputId": "d496ecfe-7366-45fa-ba4a-c2057a2d81ba"
      },
      "execution_count": null,
      "outputs": [
        {
          "output_type": "stream",
          "name": "stderr",
          "text": [
            "<ipython-input-668-60d79c653783>:1: FutureWarning: The default value of regex will change from True to False in a future version. In addition, single character regular expressions will *not* be treated as literal strings when regex=True.\n",
            "  df_total['Avg.Chg (24H)'] = df_total['Avg.Chg (24H)'].str.replace('%', '').str.replace('+', '')\n"
          ]
        }
      ]
    },
    {
      "cell_type": "markdown",
      "source": [
        "**Шаг 8**\n",
        "\n",
        "Работаем с колонкой результатов Gainers/Losers:\n",
        "- создаем новые пустые колонки, разделяющие выигрыши и потери\n",
        "- переносим данные количества Gainers и Losers по созданным колонкам\n",
        "- удаляем колонку 'Gainers/Losers'\n",
        "- изменяем тип со строки на float"
      ],
      "metadata": {
        "id": "N0KrbBsKGlwW"
      }
    },
    {
      "cell_type": "code",
      "source": [
        "df_total['Gainers'] = ''\n",
        "df_total['Losers'] = ''\n",
        "df_total[['Gainers', 'Losers']] = df_total['Gainers/Losers'].str.extract(r'(\\d+)\\([^()]*\\)(\\d+)')\n",
        "df_total = df_total.drop('Gainers/Losers', axis=1)\n",
        "df_total['Gainers'] = pd.to_numeric(df_total['Gainers'].str.strip())\n",
        "df_total['Losers'] = pd.to_numeric(df_total['Losers'].str.strip())"
      ],
      "metadata": {
        "id": "r9lpCKQOZiEO"
      },
      "execution_count": null,
      "outputs": []
    },
    {
      "cell_type": "markdown",
      "source": [
        "**Шаг 9**\n",
        "\n",
        "Погружаемся в колонку уровня фонда - тир:\n",
        "- пустые значения в колонке заменим на 0"
      ],
      "metadata": {
        "id": "4qH-1WUEHhdR"
      }
    },
    {
      "cell_type": "code",
      "source": [
        "df_total['Tier'] = pd.to_numeric(df_total['Tier'].str.strip(), errors='coerce').fillna(0).astype(int)"
      ],
      "metadata": {
        "id": "cimTZsD7GtHQ"
      },
      "execution_count": null,
      "outputs": []
    },
    {
      "cell_type": "markdown",
      "source": [
        "- С пустыми значениями тира были ангелы, так как это частные индивиды, которые заходят в проект, у них нет тира и рипутацию для проекта они своим именем не поднимают, но факт инвестирования, конечно, играет роль, поэтому мы решили поставить им самый низкий тир 6\n",
        "- Также посмотрели, какие еще группы инвесторов остались без тира"
      ],
      "metadata": {
        "id": "dT30UZg8paNk"
      }
    },
    {
      "cell_type": "code",
      "source": [
        "df_total.loc[(df_total['Tier'] == 0) & (df_total['Type'] == 'Angel Investor'), 'Tier'] = 6\n",
        "no_tier = df_total[df_total['Tier'] == 0]\n",
        "no_tier.groupby(['Lead Investor', 'Type', 'Tier']).size().reset_index(name='Count')"
      ],
      "metadata": {
        "colab": {
          "base_uri": "https://localhost:8080/"
        },
        "id": "iYmovE-knBVy",
        "outputId": "204ef5aa-5357-4c66-86cb-5a8c82003bcb"
      },
      "execution_count": null,
      "outputs": [
        {
          "output_type": "execute_result",
          "data": {
            "text/plain": [
              "          Lead Investor       Type  Tier  Count\n",
              "0      Alameda Research    Venture     0     21\n",
              "1       Celsius Network  Corporate     0      1\n",
              "2               Central  Corporate     0      1\n",
              "3          Dragon Roark    Venture     0      1\n",
              "4          FTX Ventures   Exchange     0     13\n",
              "5           Nine Realms  Corporate     0      1\n",
              "6  Three Arrows Capital    Venture     0      7\n",
              "7                Webjet  Corporate     0      1"
            ],
            "text/html": [
              "\n",
              "  <div id=\"df-b1496916-79cf-4ce4-8376-333f5768677d\">\n",
              "    <div class=\"colab-df-container\">\n",
              "      <div>\n",
              "<style scoped>\n",
              "    .dataframe tbody tr th:only-of-type {\n",
              "        vertical-align: middle;\n",
              "    }\n",
              "\n",
              "    .dataframe tbody tr th {\n",
              "        vertical-align: top;\n",
              "    }\n",
              "\n",
              "    .dataframe thead th {\n",
              "        text-align: right;\n",
              "    }\n",
              "</style>\n",
              "<table border=\"1\" class=\"dataframe\">\n",
              "  <thead>\n",
              "    <tr style=\"text-align: right;\">\n",
              "      <th></th>\n",
              "      <th>Lead Investor</th>\n",
              "      <th>Type</th>\n",
              "      <th>Tier</th>\n",
              "      <th>Count</th>\n",
              "    </tr>\n",
              "  </thead>\n",
              "  <tbody>\n",
              "    <tr>\n",
              "      <th>0</th>\n",
              "      <td>Alameda Research</td>\n",
              "      <td>Venture</td>\n",
              "      <td>0</td>\n",
              "      <td>21</td>\n",
              "    </tr>\n",
              "    <tr>\n",
              "      <th>1</th>\n",
              "      <td>Celsius Network</td>\n",
              "      <td>Corporate</td>\n",
              "      <td>0</td>\n",
              "      <td>1</td>\n",
              "    </tr>\n",
              "    <tr>\n",
              "      <th>2</th>\n",
              "      <td>Central</td>\n",
              "      <td>Corporate</td>\n",
              "      <td>0</td>\n",
              "      <td>1</td>\n",
              "    </tr>\n",
              "    <tr>\n",
              "      <th>3</th>\n",
              "      <td>Dragon Roark</td>\n",
              "      <td>Venture</td>\n",
              "      <td>0</td>\n",
              "      <td>1</td>\n",
              "    </tr>\n",
              "    <tr>\n",
              "      <th>4</th>\n",
              "      <td>FTX Ventures</td>\n",
              "      <td>Exchange</td>\n",
              "      <td>0</td>\n",
              "      <td>13</td>\n",
              "    </tr>\n",
              "    <tr>\n",
              "      <th>5</th>\n",
              "      <td>Nine Realms</td>\n",
              "      <td>Corporate</td>\n",
              "      <td>0</td>\n",
              "      <td>1</td>\n",
              "    </tr>\n",
              "    <tr>\n",
              "      <th>6</th>\n",
              "      <td>Three Arrows Capital</td>\n",
              "      <td>Venture</td>\n",
              "      <td>0</td>\n",
              "      <td>7</td>\n",
              "    </tr>\n",
              "    <tr>\n",
              "      <th>7</th>\n",
              "      <td>Webjet</td>\n",
              "      <td>Corporate</td>\n",
              "      <td>0</td>\n",
              "      <td>1</td>\n",
              "    </tr>\n",
              "  </tbody>\n",
              "</table>\n",
              "</div>\n",
              "      <button class=\"colab-df-convert\" onclick=\"convertToInteractive('df-b1496916-79cf-4ce4-8376-333f5768677d')\"\n",
              "              title=\"Convert this dataframe to an interactive table.\"\n",
              "              style=\"display:none;\">\n",
              "        \n",
              "  <svg xmlns=\"http://www.w3.org/2000/svg\" height=\"24px\"viewBox=\"0 0 24 24\"\n",
              "       width=\"24px\">\n",
              "    <path d=\"M0 0h24v24H0V0z\" fill=\"none\"/>\n",
              "    <path d=\"M18.56 5.44l.94 2.06.94-2.06 2.06-.94-2.06-.94-.94-2.06-.94 2.06-2.06.94zm-11 1L8.5 8.5l.94-2.06 2.06-.94-2.06-.94L8.5 2.5l-.94 2.06-2.06.94zm10 10l.94 2.06.94-2.06 2.06-.94-2.06-.94-.94-2.06-.94 2.06-2.06.94z\"/><path d=\"M17.41 7.96l-1.37-1.37c-.4-.4-.92-.59-1.43-.59-.52 0-1.04.2-1.43.59L10.3 9.45l-7.72 7.72c-.78.78-.78 2.05 0 2.83L4 21.41c.39.39.9.59 1.41.59.51 0 1.02-.2 1.41-.59l7.78-7.78 2.81-2.81c.8-.78.8-2.07 0-2.86zM5.41 20L4 18.59l7.72-7.72 1.47 1.35L5.41 20z\"/>\n",
              "  </svg>\n",
              "      </button>\n",
              "      \n",
              "  <style>\n",
              "    .colab-df-container {\n",
              "      display:flex;\n",
              "      flex-wrap:wrap;\n",
              "      gap: 12px;\n",
              "    }\n",
              "\n",
              "    .colab-df-convert {\n",
              "      background-color: #E8F0FE;\n",
              "      border: none;\n",
              "      border-radius: 50%;\n",
              "      cursor: pointer;\n",
              "      display: none;\n",
              "      fill: #1967D2;\n",
              "      height: 32px;\n",
              "      padding: 0 0 0 0;\n",
              "      width: 32px;\n",
              "    }\n",
              "\n",
              "    .colab-df-convert:hover {\n",
              "      background-color: #E2EBFA;\n",
              "      box-shadow: 0px 1px 2px rgba(60, 64, 67, 0.3), 0px 1px 3px 1px rgba(60, 64, 67, 0.15);\n",
              "      fill: #174EA6;\n",
              "    }\n",
              "\n",
              "    [theme=dark] .colab-df-convert {\n",
              "      background-color: #3B4455;\n",
              "      fill: #D2E3FC;\n",
              "    }\n",
              "\n",
              "    [theme=dark] .colab-df-convert:hover {\n",
              "      background-color: #434B5C;\n",
              "      box-shadow: 0px 1px 3px 1px rgba(0, 0, 0, 0.15);\n",
              "      filter: drop-shadow(0px 1px 2px rgba(0, 0, 0, 0.3));\n",
              "      fill: #FFFFFF;\n",
              "    }\n",
              "  </style>\n",
              "\n",
              "      <script>\n",
              "        const buttonEl =\n",
              "          document.querySelector('#df-b1496916-79cf-4ce4-8376-333f5768677d button.colab-df-convert');\n",
              "        buttonEl.style.display =\n",
              "          google.colab.kernel.accessAllowed ? 'block' : 'none';\n",
              "\n",
              "        async function convertToInteractive(key) {\n",
              "          const element = document.querySelector('#df-b1496916-79cf-4ce4-8376-333f5768677d');\n",
              "          const dataTable =\n",
              "            await google.colab.kernel.invokeFunction('convertToInteractive',\n",
              "                                                     [key], {});\n",
              "          if (!dataTable) return;\n",
              "\n",
              "          const docLinkHtml = 'Like what you see? Visit the ' +\n",
              "            '<a target=\"_blank\" href=https://colab.research.google.com/notebooks/data_table.ipynb>data table notebook</a>'\n",
              "            + ' to learn more about interactive tables.';\n",
              "          element.innerHTML = '';\n",
              "          dataTable['output_type'] = 'display_data';\n",
              "          await google.colab.output.renderOutput(dataTable, element);\n",
              "          const docLink = document.createElement('div');\n",
              "          docLink.innerHTML = docLinkHtml;\n",
              "          element.appendChild(docLink);\n",
              "        }\n",
              "      </script>\n",
              "    </div>\n",
              "  </div>\n",
              "  "
            ]
          },
          "metadata": {},
          "execution_count": 671
        }
      ]
    },
    {
      "cell_type": "markdown",
      "source": [
        "\n",
        "\n",
        "> Alameda research и FTX биржа: главные фигуры в осеннем обвале крипторынка. Вкратце, после публикации в СМИ разоблачающих материалов, констатирующих, что\n",
        "только токены, выпущенные дочерней компанией - Alameda research, являются\n",
        "обеспечением второй биржи FTX, на рынке началась паника. Инвесторы, включая\n",
        "Binance, начали продавать свои токены - по окончании дня были выведены\n",
        "средства на сумму 6 млрд долларов, что повлекло за собой банкротство биржи.\n",
        ">\n",
        "> История обвала и его причины очень интересные. Оставим ссылки на больший обзор кейса:\n",
        ">\n",
        "> https://www.nytimes.com/2022/11/14/technology/ftx-sam-bankman-fried-crypto-bankruptcy.html\n",
        "> https://www.forbes.com/sites/forbesstaff/article/the-fall-of-ftx/?sh=1c22ce817d0c\n",
        "\n",
        "\n",
        "Так как сейчас компания обанкротилась тир cryptorank убрал, но до обвала Alameda research и FTX Ventures были одними из лидерами на рынке, поэтому проставили тиры по дате рейза проекта:\n",
        "\n",
        "- до обвала ставим тир 1\n",
        "- за месяц до обвала (крах биржи - ноябрь 2022) ставим тир\n",
        "\n",
        "Так как авторитет их понизился и тот факт, что лид инвестор проекта - мошенник, не украшает ситуацию, но в тоже время фонд биржи инвестировал в стартапы высокого уровня и заходил немелкими чеками, поэтому для многих участников рынка инвестор - Alameda research все еще остается показателем\n",
        "\n",
        "\n",
        "\n"
      ],
      "metadata": {
        "id": "NXLkX3S7swMf"
      }
    },
    {
      "cell_type": "code",
      "source": [
        "df_total.loc[(df_total['Date'] < pd.to_datetime('2022-10-01')) & (df_total['Lead Investor'].isin(['Alameda Research', 'FTX Ventures'])), 'Tier'] = 1\n",
        "df_total.loc[(df_total['Date'] >= pd.to_datetime('2022-10-01')) & (df_total['Lead Investor'].isin(['Alameda Research', 'FTX Ventures'])), 'Tier'] = 3"
      ],
      "metadata": {
        "id": "JDbIm0Qcx61t"
      },
      "execution_count": null,
      "outputs": []
    },
    {
      "cell_type": "markdown",
      "source": [
        "> Three Arrows Capital - тоже банкротство хедж-фонда летом 2022\n",
        ">\n",
        "> Если интересен кейс, можете почитать по ссылкам (история на фоне краха стейблкоина luna):\n",
        ">\n",
        "> https://nymag.com/intelligencer/article/three-arrows-capital-kyle-davies-su-zhu-crash.html\n",
        "> https://www.nytimes.com/2023/06/09/technology/three-arrows-cryto-bali.html\n",
        "\n",
        "Аналогично:\n",
        "- до обвала ставим тир 1\n",
        "- за месяц до обвала (июль 2022) удаляем\n",
        "\n",
        "Приняли решения дропнуть данные, собранные после обвала, так как там их немного (вроде 1-2 проекта), а фонд был хоть был и тир 1, но не самым знаменитым, поэтому сложно определить, как тот факт, что Three Arrows Capital на борту, повлиял на рейз после их инвестирования\n",
        "\n",
        "- Оставшиеся компании неочень известные и инветировали не в такое большое количество проектов - по ним будет сложно верно определить тир, поэтому самым оптимальным решением будет не включать эти данные, чтобы не искажать результат\n"
      ],
      "metadata": {
        "id": "D9H0aAKVyMQS"
      }
    },
    {
      "cell_type": "code",
      "source": [
        "df_total.loc[(df_total['Date'] < pd.to_datetime('2022-06-01')) & (df_total['Lead Investor'] == 'Three Arrows Capital'), 'Tier'] = 1\n",
        "df_total = df_total.loc[~((df_total['Date'] >= pd.to_datetime('2022-06-01')) & (df_total['Lead Investor'] == 'Three Arrows Capital'))]\n",
        "df_total = df_total[df_total['Tier'] != 0]"
      ],
      "metadata": {
        "id": "pHcQ5JMZz4vF"
      },
      "execution_count": null,
      "outputs": []
    },
    {
      "cell_type": "markdown",
      "source": [
        "# Создание новых признаков"
      ],
      "metadata": {
        "id": "AIayM_5uctuN"
      }
    },
    {
      "cell_type": "markdown",
      "source": [
        "**Шаг 1**\n",
        "\n",
        "Проанализировав данные, были созданы новые показатели, которые еще больше характеризуют лид инвестора и его влияние на рейз:\n",
        "\n",
        "- **Ликвидность:** высчитывалась, как произведениие объема и среднего изменения за 24 часа. Данный показатель отражает общую величину, отражающую ликвидность и волатильность фонда, на что опираются трейдоры и инвесторы. Более ликвидные фонды обычно имеют больший объем торговли, узкий спред между ценой покупки и продажи, а также меньшую волатильность. Чем показатель больше, тем лучше\n",
        "\n",
        "- **Относительная рыночная капитализация:** высчитывалась, как деление капитализации на % доминирования. Можем оценить, какую долю от общего рынка занимает фонд и определить относительный вклад инвестора в рынок\n",
        "\n",
        "- **Средняя разность:** высчитывалась, как разность между прибыльными компаними и несущими потерями, деленные на общее количество. Признак позволяет оценить, как распределены прибыльность и убыточность. Положительное значение этого признака указывает на то, что фонд имеет больше прибыльных случаев (Gainers) по сравнению с убыточными (Losers). Это может свидетельствовать о лучшей финансовой производительности данного инветора. Отрицательное значение признака приводит к противоположным выводам"
      ],
      "metadata": {
        "id": "zzvEckLZRokm"
      }
    },
    {
      "cell_type": "code",
      "source": [
        "df_total['Liquidity'] = df_total['Volume, $'] * df_total['Avg.Chg (24H), %']\n",
        "df_total['Relative Market Capitalization'] = df_total['Mcap, $'] / df_total['Dominance, %']\n",
        "df_total['Average difference'] = (df_total['Gainers'] - df_total['Losers'])/(df_total['Gainers'] + df_total['Losers'])\n",
        "df_total = df_total.drop('Gainers', axis=1)\n",
        "df_total = df_total.drop('Losers', axis=1)\n",
        "df_total = df_total.drop('Avg.Chg (24H), %', axis=1)\n",
        "\n",
        "df_total.head()"
      ],
      "metadata": {
        "colab": {
          "base_uri": "https://localhost:8080/",
          "height": 392
        },
        "id": "pG7hjlVTczFs",
        "outputId": "31cecdf1-cf3e-4e05-a678-7d10a0e90dc3"
      },
      "execution_count": null,
      "outputs": [
        {
          "output_type": "execute_result",
          "data": {
            "text/plain": [
              "           Project       Date        Raise           Stage  \\\n",
              "0         DeSchool 2022-12-31  6000000.000            Seed   \n",
              "1          NFTScan 2021-04-16   550000.000            Seed   \n",
              "2  Argo Blockchain 2022-12-28 35000000.000  Debt Financing   \n",
              "3         Sealance 2022-10-24  6000000.000            Seed   \n",
              "4    Skip Protocol 2022-09-22  6500000.000         Unknown   \n",
              "\n",
              "             Category  Investors quantity Lead Investor  Tier     Type  \\\n",
              "0  Blockchain Service               6.000  y2z Ventures     4  Venture   \n",
              "1                 NFT               1.000  y2z Ventures     4  Venture   \n",
              "2  Blockchain Service               1.000        Galaxy     1  Venture   \n",
              "3  Blockchain Service               6.000        Galaxy     1  Venture   \n",
              "4  Blockchain Service              37.000        Galaxy     1  Venture   \n",
              "\n",
              "        Mcap, $   Volume, $  Dominance, %      Liquidity  \\\n",
              "0     358840000    23870000         0.030          0.000   \n",
              "1     358840000    23870000         0.030          0.000   \n",
              "2  225540000000  2010000000        19.270 4623000000.000   \n",
              "3  225540000000  2010000000        19.270 4623000000.000   \n",
              "4  225540000000  2010000000        19.270 4623000000.000   \n",
              "\n",
              "   Relative Market Capitalization  Average difference  \n",
              "0                 11961333333.333              -0.200  \n",
              "1                 11961333333.333              -0.200  \n",
              "2                 11704203425.013               0.484  \n",
              "3                 11704203425.013               0.484  \n",
              "4                 11704203425.013               0.484  "
            ],
            "text/html": [
              "\n",
              "  <div id=\"df-73eaf429-7808-4564-9a0d-8aa0a562b0b3\">\n",
              "    <div class=\"colab-df-container\">\n",
              "      <div>\n",
              "<style scoped>\n",
              "    .dataframe tbody tr th:only-of-type {\n",
              "        vertical-align: middle;\n",
              "    }\n",
              "\n",
              "    .dataframe tbody tr th {\n",
              "        vertical-align: top;\n",
              "    }\n",
              "\n",
              "    .dataframe thead th {\n",
              "        text-align: right;\n",
              "    }\n",
              "</style>\n",
              "<table border=\"1\" class=\"dataframe\">\n",
              "  <thead>\n",
              "    <tr style=\"text-align: right;\">\n",
              "      <th></th>\n",
              "      <th>Project</th>\n",
              "      <th>Date</th>\n",
              "      <th>Raise</th>\n",
              "      <th>Stage</th>\n",
              "      <th>Category</th>\n",
              "      <th>Investors quantity</th>\n",
              "      <th>Lead Investor</th>\n",
              "      <th>Tier</th>\n",
              "      <th>Type</th>\n",
              "      <th>Mcap, $</th>\n",
              "      <th>Volume, $</th>\n",
              "      <th>Dominance, %</th>\n",
              "      <th>Liquidity</th>\n",
              "      <th>Relative Market Capitalization</th>\n",
              "      <th>Average difference</th>\n",
              "    </tr>\n",
              "  </thead>\n",
              "  <tbody>\n",
              "    <tr>\n",
              "      <th>0</th>\n",
              "      <td>DeSchool</td>\n",
              "      <td>2022-12-31</td>\n",
              "      <td>6000000.000</td>\n",
              "      <td>Seed</td>\n",
              "      <td>Blockchain Service</td>\n",
              "      <td>6.000</td>\n",
              "      <td>y2z Ventures</td>\n",
              "      <td>4</td>\n",
              "      <td>Venture</td>\n",
              "      <td>358840000</td>\n",
              "      <td>23870000</td>\n",
              "      <td>0.030</td>\n",
              "      <td>0.000</td>\n",
              "      <td>11961333333.333</td>\n",
              "      <td>-0.200</td>\n",
              "    </tr>\n",
              "    <tr>\n",
              "      <th>1</th>\n",
              "      <td>NFTScan</td>\n",
              "      <td>2021-04-16</td>\n",
              "      <td>550000.000</td>\n",
              "      <td>Seed</td>\n",
              "      <td>NFT</td>\n",
              "      <td>1.000</td>\n",
              "      <td>y2z Ventures</td>\n",
              "      <td>4</td>\n",
              "      <td>Venture</td>\n",
              "      <td>358840000</td>\n",
              "      <td>23870000</td>\n",
              "      <td>0.030</td>\n",
              "      <td>0.000</td>\n",
              "      <td>11961333333.333</td>\n",
              "      <td>-0.200</td>\n",
              "    </tr>\n",
              "    <tr>\n",
              "      <th>2</th>\n",
              "      <td>Argo Blockchain</td>\n",
              "      <td>2022-12-28</td>\n",
              "      <td>35000000.000</td>\n",
              "      <td>Debt Financing</td>\n",
              "      <td>Blockchain Service</td>\n",
              "      <td>1.000</td>\n",
              "      <td>Galaxy</td>\n",
              "      <td>1</td>\n",
              "      <td>Venture</td>\n",
              "      <td>225540000000</td>\n",
              "      <td>2010000000</td>\n",
              "      <td>19.270</td>\n",
              "      <td>4623000000.000</td>\n",
              "      <td>11704203425.013</td>\n",
              "      <td>0.484</td>\n",
              "    </tr>\n",
              "    <tr>\n",
              "      <th>3</th>\n",
              "      <td>Sealance</td>\n",
              "      <td>2022-10-24</td>\n",
              "      <td>6000000.000</td>\n",
              "      <td>Seed</td>\n",
              "      <td>Blockchain Service</td>\n",
              "      <td>6.000</td>\n",
              "      <td>Galaxy</td>\n",
              "      <td>1</td>\n",
              "      <td>Venture</td>\n",
              "      <td>225540000000</td>\n",
              "      <td>2010000000</td>\n",
              "      <td>19.270</td>\n",
              "      <td>4623000000.000</td>\n",
              "      <td>11704203425.013</td>\n",
              "      <td>0.484</td>\n",
              "    </tr>\n",
              "    <tr>\n",
              "      <th>4</th>\n",
              "      <td>Skip Protocol</td>\n",
              "      <td>2022-09-22</td>\n",
              "      <td>6500000.000</td>\n",
              "      <td>Unknown</td>\n",
              "      <td>Blockchain Service</td>\n",
              "      <td>37.000</td>\n",
              "      <td>Galaxy</td>\n",
              "      <td>1</td>\n",
              "      <td>Venture</td>\n",
              "      <td>225540000000</td>\n",
              "      <td>2010000000</td>\n",
              "      <td>19.270</td>\n",
              "      <td>4623000000.000</td>\n",
              "      <td>11704203425.013</td>\n",
              "      <td>0.484</td>\n",
              "    </tr>\n",
              "  </tbody>\n",
              "</table>\n",
              "</div>\n",
              "      <button class=\"colab-df-convert\" onclick=\"convertToInteractive('df-73eaf429-7808-4564-9a0d-8aa0a562b0b3')\"\n",
              "              title=\"Convert this dataframe to an interactive table.\"\n",
              "              style=\"display:none;\">\n",
              "        \n",
              "  <svg xmlns=\"http://www.w3.org/2000/svg\" height=\"24px\"viewBox=\"0 0 24 24\"\n",
              "       width=\"24px\">\n",
              "    <path d=\"M0 0h24v24H0V0z\" fill=\"none\"/>\n",
              "    <path d=\"M18.56 5.44l.94 2.06.94-2.06 2.06-.94-2.06-.94-.94-2.06-.94 2.06-2.06.94zm-11 1L8.5 8.5l.94-2.06 2.06-.94-2.06-.94L8.5 2.5l-.94 2.06-2.06.94zm10 10l.94 2.06.94-2.06 2.06-.94-2.06-.94-.94-2.06-.94 2.06-2.06.94z\"/><path d=\"M17.41 7.96l-1.37-1.37c-.4-.4-.92-.59-1.43-.59-.52 0-1.04.2-1.43.59L10.3 9.45l-7.72 7.72c-.78.78-.78 2.05 0 2.83L4 21.41c.39.39.9.59 1.41.59.51 0 1.02-.2 1.41-.59l7.78-7.78 2.81-2.81c.8-.78.8-2.07 0-2.86zM5.41 20L4 18.59l7.72-7.72 1.47 1.35L5.41 20z\"/>\n",
              "  </svg>\n",
              "      </button>\n",
              "      \n",
              "  <style>\n",
              "    .colab-df-container {\n",
              "      display:flex;\n",
              "      flex-wrap:wrap;\n",
              "      gap: 12px;\n",
              "    }\n",
              "\n",
              "    .colab-df-convert {\n",
              "      background-color: #E8F0FE;\n",
              "      border: none;\n",
              "      border-radius: 50%;\n",
              "      cursor: pointer;\n",
              "      display: none;\n",
              "      fill: #1967D2;\n",
              "      height: 32px;\n",
              "      padding: 0 0 0 0;\n",
              "      width: 32px;\n",
              "    }\n",
              "\n",
              "    .colab-df-convert:hover {\n",
              "      background-color: #E2EBFA;\n",
              "      box-shadow: 0px 1px 2px rgba(60, 64, 67, 0.3), 0px 1px 3px 1px rgba(60, 64, 67, 0.15);\n",
              "      fill: #174EA6;\n",
              "    }\n",
              "\n",
              "    [theme=dark] .colab-df-convert {\n",
              "      background-color: #3B4455;\n",
              "      fill: #D2E3FC;\n",
              "    }\n",
              "\n",
              "    [theme=dark] .colab-df-convert:hover {\n",
              "      background-color: #434B5C;\n",
              "      box-shadow: 0px 1px 3px 1px rgba(0, 0, 0, 0.15);\n",
              "      filter: drop-shadow(0px 1px 2px rgba(0, 0, 0, 0.3));\n",
              "      fill: #FFFFFF;\n",
              "    }\n",
              "  </style>\n",
              "\n",
              "      <script>\n",
              "        const buttonEl =\n",
              "          document.querySelector('#df-73eaf429-7808-4564-9a0d-8aa0a562b0b3 button.colab-df-convert');\n",
              "        buttonEl.style.display =\n",
              "          google.colab.kernel.accessAllowed ? 'block' : 'none';\n",
              "\n",
              "        async function convertToInteractive(key) {\n",
              "          const element = document.querySelector('#df-73eaf429-7808-4564-9a0d-8aa0a562b0b3');\n",
              "          const dataTable =\n",
              "            await google.colab.kernel.invokeFunction('convertToInteractive',\n",
              "                                                     [key], {});\n",
              "          if (!dataTable) return;\n",
              "\n",
              "          const docLinkHtml = 'Like what you see? Visit the ' +\n",
              "            '<a target=\"_blank\" href=https://colab.research.google.com/notebooks/data_table.ipynb>data table notebook</a>'\n",
              "            + ' to learn more about interactive tables.';\n",
              "          element.innerHTML = '';\n",
              "          dataTable['output_type'] = 'display_data';\n",
              "          await google.colab.output.renderOutput(dataTable, element);\n",
              "          const docLink = document.createElement('div');\n",
              "          docLink.innerHTML = docLinkHtml;\n",
              "          element.appendChild(docLink);\n",
              "        }\n",
              "      </script>\n",
              "    </div>\n",
              "  </div>\n",
              "  "
            ]
          },
          "metadata": {},
          "execution_count": 674
        }
      ]
    },
    {
      "cell_type": "markdown",
      "source": [
        "**Шаг 2**\n",
        "\n",
        "Проанализируем корреляцию признаков"
      ],
      "metadata": {
        "id": "1ryeJlilNaE-"
      }
    },
    {
      "cell_type": "code",
      "source": [
        "sns.heatmap(df_total.corr())"
      ],
      "metadata": {
        "colab": {
          "base_uri": "https://localhost:8080/",
          "height": 638
        },
        "id": "Bdl-a5ZAI8A5",
        "outputId": "fd8f4f99-de15-4fee-8c83-84984a06929e"
      },
      "execution_count": null,
      "outputs": [
        {
          "output_type": "stream",
          "name": "stderr",
          "text": [
            "<ipython-input-675-c82b967d8ed3>:1: FutureWarning: The default value of numeric_only in DataFrame.corr is deprecated. In a future version, it will default to False. Select only valid columns or specify the value of numeric_only to silence this warning.\n",
            "  sns.heatmap(df_total.corr())\n"
          ]
        },
        {
          "output_type": "execute_result",
          "data": {
            "text/plain": [
              "<Axes: >"
            ]
          },
          "metadata": {},
          "execution_count": 675
        },
        {
          "output_type": "display_data",
          "data": {
            "text/plain": [
              "<Figure size 640x480 with 2 Axes>"
            ],
            "image/png": "[encoded data removed]"
          },
          "metadata": {}
        }
      ]
    },
    {
      "cell_type": "markdown",
      "source": [
        "> Линейная связь отсутствует, поэтому могут возникнуть проблемы при построении линейной регрессии. Необходимо это учитывать при построении модели"
      ],
      "metadata": {
        "id": "M6ZxF3YINgPj"
      }
    },
    {
      "cell_type": "markdown",
      "source": [
        "**Информация о конечных данных (по столбцам):**\n",
        "\n",
        "Project - название проекта (стартапа) в Web3, который находится на стадии рейза\n",
        "\n",
        "Date - дата фандрейза проекта\n",
        "\n",
        "Raise - сумма финансирования (cумма, которую стартап собрал от инвесторов и/или венчурных фондов, $)\n",
        "\n",
        "Stage - раунд/стадия развития стартапа, на которую приходится венчурное финансирование\n",
        "\n",
        "Category - отрасль, тематика проекта\n",
        "\n",
        "Investors quantity - количество инвесторов и/или венчурных фондов в проекте\n",
        "\n",
        "Lead Investor - лид инвестор/ ведущий инвестор представленного раунда\n",
        "\n",
        "Tier  - уровень инвестора на рынке (1 - топ и далее по убыванию)\n",
        "\n",
        "Type - структура инвестиционного сообщества (фонд, компания, сервис-провайдер, ангел и т.д.)\n",
        "\n",
        "Mcap, $ - market capitalization, рыночная капитализация\n",
        "\n",
        "Volume, $  - объем, выраженный в долларах\n",
        "\n",
        "Dominance, % - доля доминирования фонда на рынке\n",
        "\n",
        "Liquidity - ликвидность и волатильность фонда *(добавленный собственноручно)*\n",
        "\n",
        "Relative Market Capitalization - относительная рыночная капитализация, оценивающая вклад инвестора в рынок *(добавленный собственноручно)*\n",
        "\n",
        "Average difference - признак позволяет оценить, как распределены прибыльность и убыточность *(добавленный собственноручно)*"
      ],
      "metadata": {
        "id": "e2-k-vjhr7fN"
      }
    },
    {
      "cell_type": "markdown",
      "source": [
        "# Выбросы"
      ],
      "metadata": {
        "id": "CNfu_jdYuVcG"
      }
    },
    {
      "cell_type": "markdown",
      "source": [
        "**Проанализируем данные на выбросы**\n",
        "\n",
        "\\\n",
        "\n",
        "**Шаг 1**\n",
        "\n",
        "Построим ящик с усами, чтобы понять, есть ли у нас выбросы или наши данные однородны"
      ],
      "metadata": {
        "id": "KPudiKrlqOhf"
      }
    },
    {
      "cell_type": "code",
      "source": [
        "fig, axs = plt.subplots(2,1, figsize = (15, 7), sharey=True)\n",
        "hist_1 = sns.boxplot(data=df_total, x=\"Raise\", color = 'cadetblue', ax = axs[0])\n",
        "hist_1.legend(['Выбросы в столбце Raise'])\n",
        "hist_2 = sns.boxplot(data = df_total, x =\"Investors quantity\", color = \"indianred\",ax = axs[1])\n",
        "hist_2.legend(['Выбросы в столбце Investors quantity'])\n",
        "plt.show()"
      ],
      "metadata": {
        "id": "SSpArNamzo7g",
        "colab": {
          "base_uri": "https://localhost:8080/"
        },
        "outputId": "d0a9fe79-a953-4cab-afdb-234a2624364b"
      },
      "execution_count": null,
      "outputs": [
        {
          "output_type": "display_data",
          "data": {
            "text/plain": [
              "<Figure size 1500x700 with 2 Axes>"
            ],
            "image/png": "[encoded data removed]"
          },
          "metadata": {}
        }
      ]
    },
    {
      "cell_type": "markdown",
      "source": [
        "- В первом графике есть выбросы в столбце \"Raise\", что вполне объяснимо: проекты могут получать разное количество финансирования в зависимости от множества факторов.\n",
        "- В столбце \"Investors quantity\" также есть экстремальные значения: есть проекты, в которые входят множество инвесторов и занимают в них маленькие доли.\n",
        "- Сравнивая ящики двух графиков, можно заключить, что в столбце \"Investors quantity\" разброс значений больше, чем в столбце \"Raise\".\n"
      ],
      "metadata": {
        "id": "bkaAYjX78Xem"
      }
    },
    {
      "cell_type": "markdown",
      "source": [
        "\n",
        "\n",
        "> В первую очередь заметим, что ящики несимметричны - усики имеют разную длину, что указывает на наличие выбросов и асимметрии в данных.\n",
        "Ассиметрия логична, ведь есть нижнее ограничение рейза (можно не поднять инвестиций вообще и у нас были такие примеры), а вот верхней границы тут нет: некоторые криптопроекты поднимают инвестиции в несколько миллиардов долларов.\n",
        ">\n",
        "> Что можно еще заметить - это сильно сжатые ящики, что указывает, что в данных нет значительной вариации или разброса и дисперсия скорее всего низкая.\n",
        ">\n",
        "> В третьих, у нас есть достаточно много выбросов, так как ящик содержит точки за пределами усов, эчто говорит о наличии экстремальных значений в данных.\n"
      ],
      "metadata": {
        "id": "Vrx3crgsq-ff"
      }
    },
    {
      "cell_type": "markdown",
      "source": [
        "**Шаг 2**\n",
        "\n",
        "Чтобы избавиться от выбросов, которые исказят в будущем анализ и модель, мы использовали метод межквартильного размаха:\n",
        "\n",
        "\n",
        "1) Вычислили первый и третий квантиль для переменной 'Raise' с помощью функции quantile\n",
        "\n",
        "2) Вычислили межквартильного размаха (IQR) путем вычитания первого квантиля из третьего\n",
        "\n",
        "3) Определили нижнюю и верхнюю границы для определения выбросов, которые не входят в данный диапазон\n"
      ],
      "metadata": {
        "id": "DCChkANFtR_W"
      }
    },
    {
      "cell_type": "code",
      "source": [
        "q_1 = df_total['Raise'].quantile(0.25)\n",
        "q_3 = df_total['Raise'].quantile(0.75)\n",
        "IQR = q_3 - q_1\n",
        "low = q_1 - 1.5 * IQR\n",
        "up = q_3 + 1.5 * IQR\n",
        "\n",
        "df_total_new = df_total[(df_total['Raise'] >= low) & (df_total['Raise'] <= up)]\n",
        "df_total_new.head()"
      ],
      "metadata": {
        "id": "1tHJ7ZWruVTh",
        "colab": {
          "base_uri": "https://localhost:8080/"
        },
        "outputId": "385431ab-5398-49f4-85ea-594dd4f270bf"
      },
      "execution_count": null,
      "outputs": [
        {
          "output_type": "execute_result",
          "data": {
            "text/plain": [
              "         Project       Date       Raise    Stage            Category  \\\n",
              "0       DeSchool 2022-12-31 6000000.000     Seed  Blockchain Service   \n",
              "1        NFTScan 2021-04-16  550000.000     Seed                 NFT   \n",
              "3       Sealance 2022-10-24 6000000.000     Seed  Blockchain Service   \n",
              "4  Skip Protocol 2022-09-22 6500000.000  Unknown  Blockchain Service   \n",
              "5          Mural 2022-08-23 5600000.000     Seed  Blockchain Service   \n",
              "\n",
              "   Investors quantity Lead Investor  Tier     Type       Mcap, $   Volume, $  \\\n",
              "0               6.000  y2z Ventures     4  Venture     358840000    23870000   \n",
              "1               1.000  y2z Ventures     4  Venture     358840000    23870000   \n",
              "3               6.000        Galaxy     1  Venture  225540000000  2010000000   \n",
              "4              37.000        Galaxy     1  Venture  225540000000  2010000000   \n",
              "5               5.000        Galaxy     1  Venture  225540000000  2010000000   \n",
              "\n",
              "   Dominance, %      Liquidity  Relative Market Capitalization  \\\n",
              "0         0.030          0.000                 11961333333.333   \n",
              "1         0.030          0.000                 11961333333.333   \n",
              "3        19.270 4623000000.000                 11704203425.013   \n",
              "4        19.270 4623000000.000                 11704203425.013   \n",
              "5        19.270 4623000000.000                 11704203425.013   \n",
              "\n",
              "   Average difference  \n",
              "0              -0.200  \n",
              "1              -0.200  \n",
              "3               0.484  \n",
              "4               0.484  \n",
              "5               0.484  "
            ],
            "text/html": [
              "\n",
              "  <div id=\"df-df6ab493-573c-4bf9-8963-ddd8837efe38\">\n",
              "    <div class=\"colab-df-container\">\n",
              "      <div>\n",
              "<style scoped>\n",
              "    .dataframe tbody tr th:only-of-type {\n",
              "        vertical-align: middle;\n",
              "    }\n",
              "\n",
              "    .dataframe tbody tr th {\n",
              "        vertical-align: top;\n",
              "    }\n",
              "\n",
              "    .dataframe thead th {\n",
              "        text-align: right;\n",
              "    }\n",
              "</style>\n",
              "<table border=\"1\" class=\"dataframe\">\n",
              "  <thead>\n",
              "    <tr style=\"text-align: right;\">\n",
              "      <th></th>\n",
              "      <th>Project</th>\n",
              "      <th>Date</th>\n",
              "      <th>Raise</th>\n",
              "      <th>Stage</th>\n",
              "      <th>Category</th>\n",
              "      <th>Investors quantity</th>\n",
              "      <th>Lead Investor</th>\n",
              "      <th>Tier</th>\n",
              "      <th>Type</th>\n",
              "      <th>Mcap, $</th>\n",
              "      <th>Volume, $</th>\n",
              "      <th>Dominance, %</th>\n",
              "      <th>Liquidity</th>\n",
              "      <th>Relative Market Capitalization</th>\n",
              "      <th>Average difference</th>\n",
              "    </tr>\n",
              "  </thead>\n",
              "  <tbody>\n",
              "    <tr>\n",
              "      <th>0</th>\n",
              "      <td>DeSchool</td>\n",
              "      <td>2022-12-31</td>\n",
              "      <td>6000000.000</td>\n",
              "      <td>Seed</td>\n",
              "      <td>Blockchain Service</td>\n",
              "      <td>6.000</td>\n",
              "      <td>y2z Ventures</td>\n",
              "      <td>4</td>\n",
              "      <td>Venture</td>\n",
              "      <td>358840000</td>\n",
              "      <td>23870000</td>\n",
              "      <td>0.030</td>\n",
              "      <td>0.000</td>\n",
              "      <td>11961333333.333</td>\n",
              "      <td>-0.200</td>\n",
              "    </tr>\n",
              "    <tr>\n",
              "      <th>1</th>\n",
              "      <td>NFTScan</td>\n",
              "      <td>2021-04-16</td>\n",
              "      <td>550000.000</td>\n",
              "      <td>Seed</td>\n",
              "      <td>NFT</td>\n",
              "      <td>1.000</td>\n",
              "      <td>y2z Ventures</td>\n",
              "      <td>4</td>\n",
              "      <td>Venture</td>\n",
              "      <td>358840000</td>\n",
              "      <td>23870000</td>\n",
              "      <td>0.030</td>\n",
              "      <td>0.000</td>\n",
              "      <td>11961333333.333</td>\n",
              "      <td>-0.200</td>\n",
              "    </tr>\n",
              "    <tr>\n",
              "      <th>3</th>\n",
              "      <td>Sealance</td>\n",
              "      <td>2022-10-24</td>\n",
              "      <td>6000000.000</td>\n",
              "      <td>Seed</td>\n",
              "      <td>Blockchain Service</td>\n",
              "      <td>6.000</td>\n",
              "      <td>Galaxy</td>\n",
              "      <td>1</td>\n",
              "      <td>Venture</td>\n",
              "      <td>225540000000</td>\n",
              "      <td>2010000000</td>\n",
              "      <td>19.270</td>\n",
              "      <td>4623000000.000</td>\n",
              "      <td>11704203425.013</td>\n",
              "      <td>0.484</td>\n",
              "    </tr>\n",
              "    <tr>\n",
              "      <th>4</th>\n",
              "      <td>Skip Protocol</td>\n",
              "      <td>2022-09-22</td>\n",
              "      <td>6500000.000</td>\n",
              "      <td>Unknown</td>\n",
              "      <td>Blockchain Service</td>\n",
              "      <td>37.000</td>\n",
              "      <td>Galaxy</td>\n",
              "      <td>1</td>\n",
              "      <td>Venture</td>\n",
              "      <td>225540000000</td>\n",
              "      <td>2010000000</td>\n",
              "      <td>19.270</td>\n",
              "      <td>4623000000.000</td>\n",
              "      <td>11704203425.013</td>\n",
              "      <td>0.484</td>\n",
              "    </tr>\n",
              "    <tr>\n",
              "      <th>5</th>\n",
              "      <td>Mural</td>\n",
              "      <td>2022-08-23</td>\n",
              "      <td>5600000.000</td>\n",
              "      <td>Seed</td>\n",
              "      <td>Blockchain Service</td>\n",
              "      <td>5.000</td>\n",
              "      <td>Galaxy</td>\n",
              "      <td>1</td>\n",
              "      <td>Venture</td>\n",
              "      <td>225540000000</td>\n",
              "      <td>2010000000</td>\n",
              "      <td>19.270</td>\n",
              "      <td>4623000000.000</td>\n",
              "      <td>11704203425.013</td>\n",
              "      <td>0.484</td>\n",
              "    </tr>\n",
              "  </tbody>\n",
              "</table>\n",
              "</div>\n",
              "      <button class=\"colab-df-convert\" onclick=\"convertToInteractive('df-df6ab493-573c-4bf9-8963-ddd8837efe38')\"\n",
              "              title=\"Convert this dataframe to an interactive table.\"\n",
              "              style=\"display:none;\">\n",
              "        \n",
              "  <svg xmlns=\"http://www.w3.org/2000/svg\" height=\"24px\"viewBox=\"0 0 24 24\"\n",
              "       width=\"24px\">\n",
              "    <path d=\"M0 0h24v24H0V0z\" fill=\"none\"/>\n",
              "    <path d=\"M18.56 5.44l.94 2.06.94-2.06 2.06-.94-2.06-.94-.94-2.06-.94 2.06-2.06.94zm-11 1L8.5 8.5l.94-2.06 2.06-.94-2.06-.94L8.5 2.5l-.94 2.06-2.06.94zm10 10l.94 2.06.94-2.06 2.06-.94-2.06-.94-.94-2.06-.94 2.06-2.06.94z\"/><path d=\"M17.41 7.96l-1.37-1.37c-.4-.4-.92-.59-1.43-.59-.52 0-1.04.2-1.43.59L10.3 9.45l-7.72 7.72c-.78.78-.78 2.05 0 2.83L4 21.41c.39.39.9.59 1.41.59.51 0 1.02-.2 1.41-.59l7.78-7.78 2.81-2.81c.8-.78.8-2.07 0-2.86zM5.41 20L4 18.59l7.72-7.72 1.47 1.35L5.41 20z\"/>\n",
              "  </svg>\n",
              "      </button>\n",
              "      \n",
              "  <style>\n",
              "    .colab-df-container {\n",
              "      display:flex;\n",
              "      flex-wrap:wrap;\n",
              "      gap: 12px;\n",
              "    }\n",
              "\n",
              "    .colab-df-convert {\n",
              "      background-color: #E8F0FE;\n",
              "      border: none;\n",
              "      border-radius: 50%;\n",
              "      cursor: pointer;\n",
              "      display: none;\n",
              "      fill: #1967D2;\n",
              "      height: 32px;\n",
              "      padding: 0 0 0 0;\n",
              "      width: 32px;\n",
              "    }\n",
              "\n",
              "    .colab-df-convert:hover {\n",
              "      background-color: #E2EBFA;\n",
              "      box-shadow: 0px 1px 2px rgba(60, 64, 67, 0.3), 0px 1px 3px 1px rgba(60, 64, 67, 0.15);\n",
              "      fill: #174EA6;\n",
              "    }\n",
              "\n",
              "    [theme=dark] .colab-df-convert {\n",
              "      background-color: #3B4455;\n",
              "      fill: #D2E3FC;\n",
              "    }\n",
              "\n",
              "    [theme=dark] .colab-df-convert:hover {\n",
              "      background-color: #434B5C;\n",
              "      box-shadow: 0px 1px 3px 1px rgba(0, 0, 0, 0.15);\n",
              "      filter: drop-shadow(0px 1px 2px rgba(0, 0, 0, 0.3));\n",
              "      fill: #FFFFFF;\n",
              "    }\n",
              "  </style>\n",
              "\n",
              "      <script>\n",
              "        const buttonEl =\n",
              "          document.querySelector('#df-df6ab493-573c-4bf9-8963-ddd8837efe38 button.colab-df-convert');\n",
              "        buttonEl.style.display =\n",
              "          google.colab.kernel.accessAllowed ? 'block' : 'none';\n",
              "\n",
              "        async function convertToInteractive(key) {\n",
              "          const element = document.querySelector('#df-df6ab493-573c-4bf9-8963-ddd8837efe38');\n",
              "          const dataTable =\n",
              "            await google.colab.kernel.invokeFunction('convertToInteractive',\n",
              "                                                     [key], {});\n",
              "          if (!dataTable) return;\n",
              "\n",
              "          const docLinkHtml = 'Like what you see? Visit the ' +\n",
              "            '<a target=\"_blank\" href=https://colab.research.google.com/notebooks/data_table.ipynb>data table notebook</a>'\n",
              "            + ' to learn more about interactive tables.';\n",
              "          element.innerHTML = '';\n",
              "          dataTable['output_type'] = 'display_data';\n",
              "          await google.colab.output.renderOutput(dataTable, element);\n",
              "          const docLink = document.createElement('div');\n",
              "          docLink.innerHTML = docLinkHtml;\n",
              "          element.appendChild(docLink);\n",
              "        }\n",
              "      </script>\n",
              "    </div>\n",
              "  </div>\n",
              "  "
            ]
          },
          "metadata": {},
          "execution_count": 677
        }
      ]
    },
    {
      "cell_type": "markdown",
      "source": [
        "Посмотрим, что получилось:"
      ],
      "metadata": {
        "id": "OarfxmwBuuLD"
      }
    },
    {
      "cell_type": "code",
      "source": [
        "fig, axs = plt.subplots(2,1, figsize = (15, 7), sharey=True)\n",
        "hist_1 = sns.boxplot(data= df_total_new, x=\"Raise\", color = 'cadetblue', ax = axs[0])\n",
        "hist_1.legend(['Выбросы в столбце Raise'])\n",
        "hist_2 = sns.boxplot(data = df_total_new, x =\"Investors quantity\", color = \"indianred\",ax = axs[1])\n",
        "hist_2.legend(['Выбросы в столбце Investors quantity'])\n",
        "plt.show()"
      ],
      "metadata": {
        "colab": {
          "base_uri": "https://localhost:8080/"
        },
        "id": "JRUagWPIvMTe",
        "outputId": "5a0ab02d-ba67-4ba7-a03b-86f8a3845af4"
      },
      "execution_count": null,
      "outputs": [
        {
          "output_type": "display_data",
          "data": {
            "text/plain": [
              "<Figure size 1500x700 with 2 Axes>"
            ],
            "image/png": "[encoded data removed]"
          },
          "metadata": {}
        }
      ]
    },
    {
      "cell_type": "markdown",
      "source": [
        "\n",
        "> Ящики все еще несимметричны, но как обговаривалось ранне тут это логично. Также ящики менее сжатые и выбросов за их пределами меньше.\n",
        ">\n",
        "> В целом, метод межквартильного размаха улучшил ситуацию"
      ],
      "metadata": {
        "id": "fRYWzR--u5n_"
      }
    },
    {
      "cell_type": "markdown",
      "source": [
        "# Визуализация"
      ],
      "metadata": {
        "id": "ugcN8FPmviAs"
      }
    },
    {
      "cell_type": "markdown",
      "source": [
        "**Шаг 1**\n",
        "\n",
        "Мы рассмотрели категориальный признак - Category"
      ],
      "metadata": {
        "id": "0r7ev4Ro4MaS"
      }
    },
    {
      "cell_type": "code",
      "source": [
        "plt.figure(figsize=(9, 5))\n",
        "df_total['Category'].value_counts()\n",
        "sns.histplot(data = df_total_new, x = 'Category', color = 'royalblue')\n",
        "plt.xticks(rotation=45)\n",
        "plt.grid(True)\n",
        "plt.title('Категории проектов по их популярности')\n",
        "plt.show()"
      ],
      "metadata": {
        "colab": {
          "base_uri": "https://localhost:8080/",
          "height": 607
        },
        "id": "pGWI9YpZukxy",
        "outputId": "567a071e-ac61-4d4e-d7f4-a01e597c0baa"
      },
      "execution_count": null,
      "outputs": [
        {
          "output_type": "display_data",
          "data": {
            "text/plain": [
              "<Figure size 900x500 with 1 Axes>"
            ],
            "image/png": "[encoded data removed]"
          },
          "metadata": {}
        }
      ]
    },
    {
      "cell_type": "code",
      "source": [
        "plt.figure(figsize=(9, 5))\n",
        "df_total['Category'].value_counts()\n",
        "sns.barplot(data = df_total_new, x = 'Category', y = 'Raise', color = 'darkgrey')\n",
        "plt.xticks(rotation=45)\n",
        "plt.grid(True)\n",
        "plt.title('Категории проектов по raise (в млн долларов)')\n",
        "plt.show()"
      ],
      "metadata": {
        "id": "gDJbWSVjzjtP",
        "colab": {
          "base_uri": "https://localhost:8080/",
          "height": 607
        },
        "outputId": "dd7567ce-365b-422a-b0b9-00f9b71bd886"
      },
      "execution_count": null,
      "outputs": [
        {
          "output_type": "display_data",
          "data": {
            "text/plain": [
              "<Figure size 900x500 with 1 Axes>"
            ],
            "image/png": "[encoded data removed]"
          },
          "metadata": {}
        }
      ]
    },
    {
      "cell_type": "markdown",
      "source": [
        "> Заметим, что лидирующие места по рейзу занимают CeFi и Infra, хотя проектов из этой категории тоже немного.\n",
        ">\n",
        "> Подавляющее количество проектов собрано в Blockchain Service и DeFi, что делает данные категории самыми разношерстными по показателям рейза.\n",
        ">\n",
        "> Многие скатегории (NFT, Social, GameFi) имеют приблизительно одинаковые показатели рейза.\n",
        ">\n",
        "> \\\n",
        ">\n",
        "> *Несколько **выводов**:*\n",
        "> 1.   Количество проектов в категории и рейз по ней имеют небольшую отрицательную корреляцию -  признаки друг от друга обратно зависимы\n",
        "> 2.   Данный категориальный признак оказывает влияние на рейз, но оно несильное (так как многие данные имеют приблизительно одинаковые показатели)\n"
      ],
      "metadata": {
        "id": "9YBYv2UJ3LG8"
      }
    },
    {
      "cell_type": "markdown",
      "source": [
        "**Шаг 2**\n",
        "\n",
        "Посмотрим на признак - тир фонда"
      ],
      "metadata": {
        "id": "UUYWXVlpYDWL"
      }
    },
    {
      "cell_type": "code",
      "source": [
        "fig = plt.figure(figsize = (9, 5))\n",
        "sns.barplot(x=\"Tier\", y=\"Raise\", data=df_total_new, palette=\"summer\")\n",
        "plt.title(\"Tier - Raise\")\n",
        "plt.ylabel('Raise M$')\n",
        "plt.show()"
      ],
      "metadata": {
        "colab": {
          "base_uri": "https://localhost:8080/",
          "height": 487
        },
        "id": "JWFzWaVBRQld",
        "outputId": "7a8935a0-5eac-4ff5-c820-0e4dd96f6c5b"
      },
      "execution_count": null,
      "outputs": [
        {
          "output_type": "display_data",
          "data": {
            "text/plain": [
              "<Figure size 900x500 with 1 Axes>"
            ],
            "image/png": "[encoded data removed]"
          },
          "metadata": {}
        }
      ]
    },
    {
      "cell_type": "markdown",
      "source": [
        "> Можно сделать **вывод**, что Raise не особо зависит от значения tier (больше ties != больше сумма рэйза)\n",
        ">\n",
        "> Тут логично, что у тир 1 фондов проекты с большим рейзом, так как у них есть и имя и многие фонды тир 2-5 заходят в проекты только после сильного лида. Также у этих фондов большие AUM, что чаще всего ведет к высокому ticketsize, и их доля в поднятых средствах составляет большую часть\n",
        ">\n",
        "> Вспомнив природу тир 6 инвесторов, также понимаем , почему это вторая группа по рейзу. Ангелы вносят свои деньги в проекты - их риски велики, они делают очень серьезный и тщательный дью-дилидженс, поэтому уровень проектов чаще всего высокий, что, конечно, ведет к будующему росту рейза"
      ],
      "metadata": {
        "id": "zcAVjZYv--q4"
      }
    },
    {
      "cell_type": "markdown",
      "source": [
        "**Шаг 3**\n",
        "\n",
        "Проанализируем показатель рейза"
      ],
      "metadata": {
        "id": "ot6rHjpFbFwG"
      }
    },
    {
      "cell_type": "code",
      "source": [
        "stage_ind = df_total_new['Stage'].value_counts()[0:11].index.to_list()\n",
        "pk = df_total_new[['Stage', 'Raise']][df_total_new['Stage'].apply(lambda x : x in stage_ind)]\n",
        "plt.figure(figsize=(9, 5))\n",
        "sns.barplot(data = pk, x= 'Stage', y = 'Raise')\n",
        "plt.title(\"Stage - Raise\")\n",
        "plt.ylabel('Raise M$')\n",
        "plt.xticks(rotation=45)\n",
        "plt.show()"
      ],
      "metadata": {
        "colab": {
          "base_uri": "https://localhost:8080/",
          "height": 598
        },
        "id": "FMHgiUc5RpEJ",
        "outputId": "47b0609d-68f3-44f5-b026-bfc855d402bc"
      },
      "execution_count": null,
      "outputs": [
        {
          "output_type": "display_data",
          "data": {
            "text/plain": [
              "<Figure size 900x500 with 1 Axes>"
            ],
            "image/png": "[encoded data removed]"
          },
          "metadata": {}
        }
      ]
    },
    {
      "cell_type": "markdown",
      "source": [
        "Мы поняли, что на стадии Series B проекты получают наибольшее финансирование.\n",
        "Это может произойти вследствие того, что проекты серии B часто уже прошли начальную стадию разработки и продемонстрировали свою концепцию или бизнес-модель на практике. Кроме того, проекты серии B обычно нацелены на масштабирование своего бизнеса и расширение, поэтому инвесторы могут видеть высокий потенциал роста и масштабирования в этих проектах и вкладывают туда больше денег."
      ],
      "metadata": {
        "id": "7NMTocf6AvH5"
      }
    },
    {
      "cell_type": "markdown",
      "source": [
        "**Шаг 4**\n",
        "\n",
        "Любопытно взглянуть, в какие сферы инвестируют топ фонды - даже просто, чтобы понять тренды последних лет и в каких проектах видят будущее криптовалютного рынка"
      ],
      "metadata": {
        "id": "ynomb9GBbYB3"
      }
    },
    {
      "cell_type": "code",
      "source": [
        "plt.figure(figsize=(9, 5))\n",
        "top_lead_ind = df_total_new['Mcap, $'].sort_values(ascending = False)[1:11].index.to_list() #Индексы топ 10 лид инвесторов по капитализации\n",
        "df_total_new.iloc[top_lead_ind]['Category'].hist()\n",
        "plt.xlabel('Категории проектов')\n",
        "plt.ylabel('Количество проектов')\n",
        "plt.title('В какие категории проектов инвестируют топ 10 лид инвесторов по рын. кап.')"
      ],
      "metadata": {
        "colab": {
          "base_uri": "https://localhost:8080/",
          "height": 505
        },
        "id": "itSfcpJtR0O7",
        "outputId": "b55cae6c-fa80-4dde-edb9-805440af4ad1"
      },
      "execution_count": null,
      "outputs": [
        {
          "output_type": "execute_result",
          "data": {
            "text/plain": [
              "Text(0.5, 1.0, 'В какие категории проектов инвестируют топ 10 лид инвесторов по рын. кап.')"
            ]
          },
          "metadata": {},
          "execution_count": 683
        },
        {
          "output_type": "display_data",
          "data": {
            "text/plain": [
              "<Figure size 900x500 with 1 Axes>"
            ],
            "image/png": "[encoded data removed]"
          },
          "metadata": {}
        }
      ]
    },
    {
      "cell_type": "markdown",
      "source": [
        "**Шаг 5**\n",
        "\n",
        "Далее рассмотрели признак - Date. Есть некоторые мысли по этому поводу, так как с 2021 года рынок подвергался взлетам и резким падениям, поэтому очень интересно проанализировать именно эту взаимосвязь"
      ],
      "metadata": {
        "id": "8ZDoOq9N7jYV"
      }
    },
    {
      "cell_type": "code",
      "source": [
        "funding_rounds_Q = df_total_new\n",
        "first_cvar_2021 = funding_rounds_Q[(funding_rounds_Q['Date'] >= '2021-01-01') & (funding_rounds_Q['Date'] <= '2021-03-31')]\n",
        "second_cvar_2021 = funding_rounds_Q[(funding_rounds_Q['Date'] > '2021-03-31') & (funding_rounds_Q['Date'] <= '2021-06-30')]\n",
        "third_cvar_2021 = funding_rounds_Q[(funding_rounds_Q['Date'] > '2021-06-30') & (funding_rounds_Q['Date'] <= '2021-09-30')]\n",
        "forth_cvar_2021 = funding_rounds_Q[(funding_rounds_Q['Date'] > '2021-09-30') & (funding_rounds_Q['Date'] <= '2021-12-31')]\n",
        "number_projects_1_2021 = len(first_cvar_2021['Project'])\n",
        "number_projects_2_2021 = len(second_cvar_2021['Project'])\n",
        "number_projects_3_2021 = len(third_cvar_2021['Project'])\n",
        "number_projects_4_2021 = len(forth_cvar_2021['Project'])\n",
        "\n",
        "first_cvar_2022 = funding_rounds_Q[(funding_rounds_Q['Date'] > '2022-01-01') & (funding_rounds_Q['Date'] <= '2022-03-31')]\n",
        "second_cvar_2022 = funding_rounds_Q[(funding_rounds_Q['Date'] > '2022-03-31') & (funding_rounds_Q['Date'] <= '2022-06-30')]\n",
        "third_cvar_2022 = funding_rounds_Q[(funding_rounds_Q['Date'] > '2022-06-30') & (funding_rounds_Q['Date'] <= '2022-09-30')]\n",
        "forth_cvar_2022 = funding_rounds_Q[(funding_rounds_Q['Date'] > '2022-09-30') & (funding_rounds_Q['Date'] <= '2022-12-31')]\n",
        "number_projects_1_2022 = len(first_cvar_2022['Project'])\n",
        "number_projects_2_2022 = len(second_cvar_2022['Project'])\n",
        "number_projects_3_2022 = len(third_cvar_2022['Project'])\n",
        "number_projects_4_2022 = len(forth_cvar_2022['Project'])\n",
        "\n",
        "Number_project_per_cvartal = [number_projects_1_2021, number_projects_2_2021, number_projects_3_2021, number_projects_4_2021,\n",
        "                             number_projects_1_2022, number_projects_2_2022, number_projects_3_2022, number_projects_4_2022]\n",
        "data_cvar = ['1 квартал 2021', '2 квартал 2021', '3 квартал 2021', '4 квартал 2021', '1 квартал 2022', '2 квартал 2022', '3 квартал 2022', '4 квартал 2022']\n",
        "plt.figure(figsize=(9, 5))\n",
        "sns.barplot(y = data_cvar, x = Number_project_per_cvartal, color = 'royalblue', orient = \"h\")\n",
        "plt.xticks(rotation=45)\n",
        "plt.grid(True)\n",
        "plt.title('Количество проектов по кварталам с 2021 по 2023')\n",
        "plt.xlabel('Количество проектов')\n",
        "plt.show()"
      ],
      "metadata": {
        "id": "68_QLgtE1RX4",
        "colab": {
          "base_uri": "https://localhost:8080/",
          "height": 502
        },
        "outputId": "9f91f0ac-d35c-4471-d3bc-498ab6b92aca"
      },
      "execution_count": null,
      "outputs": [
        {
          "output_type": "display_data",
          "data": {
            "text/plain": [
              "<Figure size 900x500 with 1 Axes>"
            ],
            "image/png": "[encoded data removed]"
          },
          "metadata": {}
        }
      ]
    },
    {
      "cell_type": "code",
      "source": [
        "first_cvar_2021 = funding_rounds_Q[(funding_rounds_Q['Date'] >= '2021-01-01') & (funding_rounds_Q['Date'] <= '2021-03-31')]\n",
        "second_cvar_2021 = funding_rounds_Q[(funding_rounds_Q['Date'] > '2021-03-31') & (funding_rounds_Q['Date'] <= '2021-06-30')]\n",
        "third_cvar_2021 = funding_rounds_Q[(funding_rounds_Q['Date'] > '2021-06-30') & (funding_rounds_Q['Date'] <= '2021-09-30')]\n",
        "forth_cvar_2021 = funding_rounds_Q[(funding_rounds_Q['Date'] > '2021-09-30') & (funding_rounds_Q['Date'] <= '2021-12-31')]\n",
        "mean_raise_1_2021 = first_cvar_2021['Raise'].mean()\n",
        "mean_raise_2_2021 = second_cvar_2021['Raise'].mean()\n",
        "mean_raise_3_2021 = third_cvar_2021['Raise'].mean()\n",
        "mean_raise_4_2021 = forth_cvar_2021['Raise'].mean()\n",
        "\n",
        "\n",
        "first_cvar_2022 = funding_rounds_Q[(funding_rounds_Q['Date'] > '2022-01-01') & (funding_rounds_Q['Date'] <= '2022-03-31')]\n",
        "second_cvar_2022 = funding_rounds_Q[(funding_rounds_Q['Date'] > '2022-03-31') & (funding_rounds_Q['Date'] <= '2022-06-30')]\n",
        "third_cvar_2022 = funding_rounds_Q[(funding_rounds_Q['Date'] > '2022-06-30') & (funding_rounds_Q['Date'] <= '2022-09-30')]\n",
        "forth_cvar_2022 = funding_rounds_Q[(funding_rounds_Q['Date'] > '2022-09-30') & (funding_rounds_Q['Date'] <= '2022-12-31')]\n",
        "mean_raise_1_2022 = first_cvar_2022['Raise'].mean()\n",
        "mean_raise_2_2022 = second_cvar_2022['Raise'].mean()\n",
        "mean_raise_3_2022 = third_cvar_2022['Raise'].mean()\n",
        "mean_raise_4_2022 = forth_cvar_2022['Raise'].mean()\n",
        "data_cvar = ['1 квартал 2021', '2 квартал 2021', '3 квартал 2021', '4 квартал 2021', '1 квартал 2022', '2 квартал 2022', '3 квартал 2022', '4 квартал 2022']\n",
        "mean_raise = [mean_raise_1_2021, mean_raise_2_2021, mean_raise_3_2021, mean_raise_4_2021, mean_raise_1_2022, mean_raise_2_2022, mean_raise_3_2022, mean_raise_4_2022]\n",
        "\n",
        "\n",
        "plt.figure(figsize=(9, 5))\n",
        "sns.barplot(y = data_cvar, x = mean_raise, color = 'darkgrey', orient = \"h\")\n",
        "plt.xticks(rotation=45)\n",
        "plt.grid(True)\n",
        "plt.title('Средний raise проектов по кварталам в млн долларов')\n",
        "plt.xlabel('Средний Raise')\n",
        "plt.show()"
      ],
      "metadata": {
        "id": "CCyjp97gvBZU",
        "colab": {
          "base_uri": "https://localhost:8080/",
          "height": 489
        },
        "outputId": "7c6df941-2fde-46dd-d7f5-94f50fa15dd5"
      },
      "execution_count": null,
      "outputs": [
        {
          "output_type": "display_data",
          "data": {
            "text/plain": [
              "<Figure size 900x500 with 1 Axes>"
            ],
            "image/png": "[encoded data removed]"
          },
          "metadata": {}
        }
      ]
    },
    {
      "cell_type": "markdown",
      "source": [
        "> По получившимся графикам прослеживается корреляция с ценами криптовалютного рынка:\n",
        "> *   пандемия в 2021 году привела к огромному скачку капитализаций цифровых активов и вызвало огромный интерес к криптовалюте, что послужило стимвулом создания проектов в Web3 и инвестирования в быстроменяющиеся тренды растущего рынка\n",
        "> *   во 2-3 квартале 2022 года произошел обвал криптовалютного сегмента, что послужило началом криптозимы\n",
        ">\n",
        "> Есть два типа инвесторов: те, кто входят в много проектов с низкими чеками и те, кто инвестируют очень изборочно, но с большим ticketsize. Так криптозима могла сказаться и на тех, и на тех, но в разной мере.\n",
        ">\n",
        "> Как мы видим количество проектов, которые собирают раунды резко снизилось с падением цен активов, а вот показатель сренего рейза хоть и снизился, но не так резко, как того ожидалось. Это можно объяснить несколькими причинами:\n",
        "> *   Многие проекты перенесли свои запуски на биржах (как на CEX, так и на DEX) из-за непопулярности рынка и большого риска плохого лаунча\n",
        "> *   Многие фонды и инвесторы потеряли свои активы и у них нет возможности продолжать деятельность, а это в большей мере фонды tier 3-5. Средние/слабые проекты это понимают и поэтому не начинают или затягивают раунды\n",
        "> *   Но сильные фонды продолжают деятельность, так еще и более активно, так как лучше инвестировать и покупать активы на низах рынка, поэтому показатель среднего рейза не так сильно упал, ведь tier 1-2 фонды имеют высокий AUM даже после обвала рынка и готовы заходить в сильные проекты во время криптозимы с большими суммами\n",
        ">\n",
        "> \\\n",
        ">\n",
        "> *Тут можно выдвинуть интересную **гипотезу**:*\n",
        "> 1.   Дата оказывает влияние на рейз (в 1Q 2022 показатель растет, в 3Q снижается), но не так значительно, как количество стартапов, которые поднимают рейз\n",
        ">"
      ],
      "metadata": {
        "id": "63IhPjqM8SRC"
      }
    },
    {
      "cell_type": "markdown",
      "source": [
        "# Гипотезы"
      ],
      "metadata": {
        "id": "5ymemb-12C0a"
      }
    },
    {
      "cell_type": "markdown",
      "source": [
        "**1 Гипотеза - дата**\n",
        "\n",
        "Начнем с гипотезы про дату:\n",
        "\n",
        "Так как мы взяли ограниченный временной промежуток, если рассматривать данные по кварталам получится слишком маленькая выборка, которая не будет репрезентативной.\n",
        "\n",
        "Поэтому мы приняли решение посмотреть взимосвязь по месяцам\n",
        "\n",
        "- разбили данные на месяцы и посчитали среднее значение рейза и количество проектов в месяце, которые находятся на стадии рейза"
      ],
      "metadata": {
        "id": "mqoVrNW2cEBN"
      }
    },
    {
      "cell_type": "code",
      "source": [
        "df_total_stat = df_total_new.copy()\n",
        "df_total_stat['Month'] = df_total_stat['Date'].dt.to_period('M')\n",
        "\n",
        "monthly_mean_raise = df_total_stat.groupby('Month')['Raise'].mean()\n",
        "monthly_project_count = df_total_stat.groupby('Month')['Project'].count()"
      ],
      "metadata": {
        "id": "Oh-SZ-NMgbc1"
      },
      "execution_count": null,
      "outputs": []
    },
    {
      "cell_type": "markdown",
      "source": [
        "- рассмотрим корреляцию по месяцам между средним рейзом и количеством проектов\n",
        "\n",
        "**H0:** коэффициент корреляции между показателями равен нулю или близок к нулю\n",
        "\n",
        "**H1:** наличие ненулевой корреляционной связи между переменными\n",
        "\n",
        "> Больше всего подойдет для рассмотрения гипотезы коэффициент корреляции Пирсона и Z-статистику\n",
        "\n",
        "-----\n",
        "\n",
        "- рассмотрим волатильность показателей среднего рейза по месяцам и количества проектов\n",
        "\n",
        "**H0:** нет статистически значимых различий в волатильности количества проектов и волатильности среднего рейза\n",
        "\n",
        "**H1:** волатильность количества проектов и волатильность среднего рейза различны\n",
        "\n",
        "> Больше всего подойдет для рассмотрения гипотезы тест Левена для проверки гомоскедастичности - однородности дисперсий между двумя группами данных\n",
        "\n",
        "----\n",
        "\n",
        "> **Предпосылки**\n",
        "> - нормальность рапределения (проверим через тест Шапиро-Уилка)\n",
        ">- гомоскедастичности (проверим через тест Бройша-Пагана)\n",
        "\n"
      ],
      "metadata": {
        "id": "-VnzM2ZWdGfJ"
      }
    },
    {
      "cell_type": "code",
      "source": [
        "import statsmodels.api as sm\n",
        "from scipy.stats import shapiro\n",
        "\n",
        "_, p_value_norm_raise = shapiro(monthly_mean_raise)\n",
        "_, p_value_norm_count = shapiro(monthly_project_count)\n",
        "\n",
        "p_value_norm_raise, p_value_norm_count"
      ],
      "metadata": {
        "colab": {
          "base_uri": "https://localhost:8080/"
        },
        "id": "wHJbRkqknI5f",
        "outputId": "b7a72552-8d66-4772-a36b-fdd41405ae7b"
      },
      "execution_count": null,
      "outputs": [
        {
          "output_type": "execute_result",
          "data": {
            "text/plain": [
              "(0.7987710237503052, 0.39010846614837646)"
            ]
          },
          "metadata": {},
          "execution_count": 687
        }
      ]
    },
    {
      "cell_type": "markdown",
      "source": [
        "Уровень значимости = 0.05.\n",
        "В данном случае, оба p_значения значительно больше уровня значимости.\n",
        "\n",
        "На основании полученных результатов можно предположить, что предпосылка о нормальности выполнена для обоих наборов данных"
      ],
      "metadata": {
        "id": "nAkyqmgKiG4Z"
      }
    },
    {
      "cell_type": "code",
      "source": [
        "from statsmodels.stats.diagnostic import het_breuschpagan\n",
        "\n",
        "X = sm.add_constant(monthly_project_count)\n",
        "model = sm.OLS(monthly_mean_raise, X)\n",
        "results = model.fit()\n",
        "_, p_value_br, _, _ = het_breuschpagan(results.resid, X)\n",
        "p_value_br"
      ],
      "metadata": {
        "colab": {
          "base_uri": "https://localhost:8080/"
        },
        "id": "ohDVz5Aqhij3",
        "outputId": "df99e60e-e989-4aab-8f3f-fb59428f6f2b"
      },
      "execution_count": null,
      "outputs": [
        {
          "output_type": "execute_result",
          "data": {
            "text/plain": [
              "0.6856611420195327"
            ]
          },
          "metadata": {},
          "execution_count": 688
        }
      ]
    },
    {
      "cell_type": "markdown",
      "source": [
        "Предпосылка о гомоскедастичности выполнена для данного набора данных\n",
        "\n",
        "Тогда переходим к гипотезам:"
      ],
      "metadata": {
        "id": "BCx3LMaWig6w"
      }
    },
    {
      "cell_type": "code",
      "source": [
        "from scipy.stats import pearsonr, norm\n",
        "\n",
        "monthly_mean_raise = monthly_mean_raise.astype(float)\n",
        "\n",
        "corr_raise, _ = pearsonr(monthly_mean_raise, monthly_project_count)\n",
        "corr_raise_z = np.arctanh(corr_raise)\n",
        "\n",
        "n = len(monthly_mean_raise)\n",
        "se_raise = 1 / (n - 3) ** 0.5\n",
        "se_raise_z = se_raise / (1 - corr_raise ** 2) ** 0.5\n",
        "\n",
        "z_statistic = abs(corr_raise_z / se_raise_z)\n",
        "p_value = 2 * (1 - norm.cdf(z_statistic))\n",
        "\n",
        "print('corr', corr_raise)\n",
        "print('Z_stat:', z_statistic)\n",
        "print('p_value:', p_value)"
      ],
      "metadata": {
        "colab": {
          "base_uri": "https://localhost:8080/"
        },
        "id": "IGyL84yHgktU",
        "outputId": "ba829d5a-fe9b-4d46-8479-a5bb801734ae"
      },
      "execution_count": null,
      "outputs": [
        {
          "output_type": "stream",
          "name": "stdout",
          "text": [
            "corr 0.1329910579300203\n",
            "Z_stat: 0.6076274108222888\n",
            "p_value: 0.5434346166949711\n"
          ]
        }
      ]
    },
    {
      "cell_type": "markdown",
      "source": [
        "p_value **больше** уровенz значимости 0.05. Поэтому, на основании данного анализа, нет оснований для отвержения нулевой гипотезы, что означает, что не существует статистически значимой корреляционной связи между рассматриваемыми показателями\n",
        "\n",
        "\n",
        "\n",
        "> Интересно заметить, что тут очень маленькая положительная корреляционная связь, хотя при квартальном рассмотрении там даже просто по графику видно, что есть одинаковый тренд\n",
        "\n"
      ],
      "metadata": {
        "id": "LvX1_Hxwi1oe"
      }
    },
    {
      "cell_type": "code",
      "source": [
        "from scipy.stats import levene\n",
        "\n",
        "_, p_value = levene(monthly_project_count, monthly_mean_raise)\n",
        "\n",
        "alpha = 0.05\n",
        "p_value"
      ],
      "metadata": {
        "colab": {
          "base_uri": "https://localhost:8080/"
        },
        "id": "O3pb-rOJjkGH",
        "outputId": "eba7ac36-9143-4a90-f7ae-c70799c7c379"
      },
      "execution_count": null,
      "outputs": [
        {
          "output_type": "execute_result",
          "data": {
            "text/plain": [
              "5.43888863997587e-06"
            ]
          },
          "metadata": {},
          "execution_count": 690
        }
      ]
    },
    {
      "cell_type": "markdown",
      "source": [
        "p_value **меньше** выбранного уровня значимости 0.05. Поэтому есть основания отвергнуть нулевую гипотезу, что означает, что существуют статистически значимые различия в волатильности количества проектов и волатильности среднего рейза\n",
        "\n",
        "\n",
        "\n",
        "> Тут заключение совпало с графиком по кварталам: волатильность разная. Количество проектов, которые на рейзе более чувствительны к раночным шокам\n",
        "\n"
      ],
      "metadata": {
        "id": "w2Kzg64LZlFa"
      }
    },
    {
      "cell_type": "markdown",
      "source": [
        "**2 Гипотеза:**\n",
        "\n",
        "**H0:** Средние значения Raise не различаются для разных категорий проектов.\n",
        "\n",
        "**H1:** Средние значения Raise различаются для разных категорий проектов.\n",
        "\n",
        "Почему были выбраны такие гипотезы? Во-первых, категория проекта - достаточно специфическое понятие. Очень многие инвесторы вкладываются в кучу различных стартапов и для них категория проекта не особо важный признак, так как они стараются диверсифицировать свой портфель из инвестиций и вкладываются во все по-немногу. Конечно, они не будут всегда вкладывать деньги ровно в одну категорию проектов, это слишком рискованно для них, но так как в области криптовалют (и, в частности, в наших данных) эти категории имеют вполне \"условные\" границы, логично предположить, что в среднем Raise будет одинаковый во всех категориях проектов\n"
      ],
      "metadata": {
        "id": "ymjvNNbjYT3j"
      }
    },
    {
      "cell_type": "code",
      "source": [
        "import pandas as pd\n",
        "import scipy.stats as stats\n",
        "\n",
        "raise_values_by_category = df_total_new.groupby(\"Category\")[\"Raise\"].apply(list)\n",
        "\n",
        "f_statistic, p_value = stats.f_oneway(*raise_values_by_category)\n",
        "\n",
        "p_value"
      ],
      "metadata": {
        "id": "CeutwPdWYdLj",
        "colab": {
          "base_uri": "https://localhost:8080/"
        },
        "outputId": "3a4c1fb2-b8f3-4fee-bc3f-bac1df349fe4"
      },
      "execution_count": null,
      "outputs": [
        {
          "output_type": "execute_result",
          "data": {
            "text/plain": [
              "5.1754499486667276e-21"
            ]
          },
          "metadata": {},
          "execution_count": 691
        }
      ]
    },
    {
      "cell_type": "markdown",
      "source": [
        "p_value **меньше** выбранного уровня значимости 0.05. Отвергаем нулевую гипотезу, средние значения Raise различаются для разных категорий проектов\n",
        "\n",
        "\n",
        "> В действительности средние Raise отличаются в зависимости от категории проекта. Это можно объяснить тем, что в любом случае есть популярные категории и мода, есть тенденции. Для инвесторов крайне важно быть в курсе основных мейнстримов (в хорошем смысле) в венчурном крипто-инвестировании, поскольку именно это задает фундамент для краткосрочного и долгосрочного роста крипто-стартапа. Категория, которая \"на хайпе\" безусловно будет получать более высокий рейз, чем та, что находится в тени.\n",
        "\n"
      ],
      "metadata": {
        "id": "Em2AM2tWZVJT"
      }
    },
    {
      "cell_type": "markdown",
      "source": [
        "Посмотрим на прошлый график. Действительно, он подтверждает наши выводы."
      ],
      "metadata": {
        "id": "s8pgaCPCZ23G"
      }
    },
    {
      "cell_type": "code",
      "source": [
        "plt.figure(figsize=(9, 5))\n",
        "df_total['Category'].value_counts()\n",
        "sns.barplot(data = df_total_new, x = 'Category', y = 'Raise', color = 'darkgrey')\n",
        "plt.xticks(rotation=45)\n",
        "plt.grid(True)\n",
        "plt.title('Категории проектов по raise (в млн долларов)')\n",
        "plt.show()"
      ],
      "metadata": {
        "colab": {
          "base_uri": "https://localhost:8080/",
          "height": 607
        },
        "id": "TNKRmFFFZ7U0",
        "outputId": "87808b42-4ae6-412e-c62d-d689c7e03587"
      },
      "execution_count": null,
      "outputs": [
        {
          "output_type": "display_data",
          "data": {
            "text/plain": [
              "<Figure size 900x500 with 1 Axes>"
            ],
            "image/png": "[encoded data removed]"
          },
          "metadata": {}
        }
      ]
    },
    {
      "cell_type": "markdown",
      "source": [
        "# Машинное обучение\n"
      ],
      "metadata": {
        "id": "Vg7CL1LUxPEv"
      }
    },
    {
      "cell_type": "markdown",
      "source": [
        "Что касается блока \"Машинное обучение\", то тут седующие планы:\n",
        "\n",
        "\n",
        "В качестве переменной, которую будем предсказывать, выбрали колонку RAISE\n",
        "Импортируем все нужные библиотеки. МЫ будем использовать следующие модели: Линейная регрессия, Ridge-регрессия, Lasso-регрессия, а также рещающие деревья и случайные леса. Начнём с регрессии:\n",
        "\n"
      ],
      "metadata": {
        "id": "OY6VT97CxUG0"
      }
    },
    {
      "cell_type": "code",
      "source": [
        "from sklearn.ensemble import BaggingClassifier, RandomForestClassifier\n",
        "from sklearn.model_selection import train_test_split\n",
        "from sklearn.tree import DecisionTreeClassifier\n",
        "from sklearn.model_selection import GridSearchCV\n",
        "from sklearn.model_selection import train_test_split\n",
        "from sklearn.preprocessing import OneHotEncoder\n",
        "from sklearn import preprocessing\n",
        "from sklearn.linear_model import LinearRegression\n",
        "from sklearn import metrics\n",
        "from sklearn.ensemble import RandomForestRegressor\n",
        "from sklearn.preprocessing import OneHotEncoder, StandardScaler\n",
        "from sklearn.compose import ColumnTransformer\n",
        "from sklearn.linear_model import Lasso, Ridge\n",
        "from sklearn.preprocessing import PolynomialFeatures\n",
        "from sklearn.tree import DecisionTreeRegressor"
      ],
      "metadata": {
        "id": "aApHoq-1P-uM"
      },
      "execution_count": null,
      "outputs": []
    },
    {
      "cell_type": "markdown",
      "source": [
        "Удалим все не нужные столбцы, которые вряд ли помогут нам в предсказании переменной Raise. Также выделим наш таргет."
      ],
      "metadata": {
        "id": "RxmOoer2nR6_"
      }
    },
    {
      "cell_type": "code",
      "source": [
        "df_total_new"
      ],
      "metadata": {
        "colab": {
          "base_uri": "https://localhost:8080/",
          "height": 748
        },
        "id": "O73TIAkNnHMd",
        "outputId": "52740e3a-076d-4787-d390-7ff6ad9b620f"
      },
      "execution_count": null,
      "outputs": [
        {
          "output_type": "execute_result",
          "data": {
            "text/plain": [
              "                 Project       Date        Raise      Stage  \\\n",
              "0               DeSchool 2022-12-31  6000000.000       Seed   \n",
              "1                NFTScan 2021-04-16   550000.000       Seed   \n",
              "3               Sealance 2022-10-24  6000000.000       Seed   \n",
              "4          Skip Protocol 2022-09-22  6500000.000    Unknown   \n",
              "5                  Mural 2022-08-23  5600000.000       Seed   \n",
              "...                  ...        ...          ...        ...   \n",
              "2518   GoCrypto TokenGOC 2021-01-07  4000000.000  Strategic   \n",
              "2519     Wrapped NXMWNXM 2021-02-16  2700000.000    Unknown   \n",
              "2520                Arca 2021-01-13 10000000.000   Series A   \n",
              "2521  Conflux NetworkCFX 2021-01-12  5000000.000      Grant   \n",
              "2522    PAID NetworkPAID 2021-01-04  2000000.000  Strategic   \n",
              "\n",
              "                       Category  Investors quantity  \\\n",
              "0            Blockchain Service               6.000   \n",
              "1                           NFT               1.000   \n",
              "3            Blockchain Service               6.000   \n",
              "4            Blockchain Service              37.000   \n",
              "5            Blockchain Service               5.000   \n",
              "...                         ...                 ...   \n",
              "2518         Blockchain Service               2.000   \n",
              "2519                       DeFi               6.000   \n",
              "2520                       CeFi               2.000   \n",
              "2521  Blockchain Infrastructure               1.000   \n",
              "2522                       DeFi               7.000   \n",
              "\n",
              "                                  Lead Investor  Tier            Type  \\\n",
              "0                                  y2z Ventures     4         Venture   \n",
              "1                                  y2z Ventures     4         Venture   \n",
              "3                                        Galaxy     1         Venture   \n",
              "4                                        Galaxy     1         Venture   \n",
              "5                                        Galaxy     1         Venture   \n",
              "...                                         ...   ...             ...   \n",
              "2518                                  Roger Ver     6  Angel Investor   \n",
              "2519                          Collider Ventures     4         Venture   \n",
              "2520                               RRE Ventures     4         Venture   \n",
              "2521  Shanghai Science and Technology Committee     4       Corporate   \n",
              "2522                            Master Ventures     3         Venture   \n",
              "\n",
              "           Mcap, $   Volume, $  Dominance, %      Liquidity  \\\n",
              "0        358840000    23870000         0.030          0.000   \n",
              "1        358840000    23870000         0.030          0.000   \n",
              "3     225540000000  2010000000        19.270 4623000000.000   \n",
              "4     225540000000  2010000000        19.270 4623000000.000   \n",
              "5     225540000000  2010000000        19.270 4623000000.000   \n",
              "...            ...         ...           ...            ...   \n",
              "2518     299730000     1710000         0.030          0.000   \n",
              "2519      96620000     1490000         0.010          0.000   \n",
              "2520   30820000000   808250000         2.630          0.000   \n",
              "2521     538530000    37460000         0.050          0.000   \n",
              "2522     604960000    10850000         0.050  -15515500.000   \n",
              "\n",
              "      Relative Market Capitalization  Average difference  \n",
              "0                    11961333333.333              -0.200  \n",
              "1                    11961333333.333              -0.200  \n",
              "3                    11704203425.013               0.484  \n",
              "4                    11704203425.013               0.484  \n",
              "5                    11704203425.013               0.484  \n",
              "...                              ...                 ...  \n",
              "2518                  9991000000.000              -0.200  \n",
              "2519                  9662000000.000              -0.200  \n",
              "2520                 11718631178.707               0.500  \n",
              "2521                 10770600000.000               1.000  \n",
              "2522                 12099200000.000               0.020  \n",
              "\n",
              "[2171 rows x 15 columns]"
            ],
            "text/html": [
              "\n",
              "  <div id=\"df-a96abb2c-1cbe-4e59-aae2-6a7136c1e924\">\n",
              "    <div class=\"colab-df-container\">\n",
              "      <div>\n",
              "<style scoped>\n",
              "    .dataframe tbody tr th:only-of-type {\n",
              "        vertical-align: middle;\n",
              "    }\n",
              "\n",
              "    .dataframe tbody tr th {\n",
              "        vertical-align: top;\n",
              "    }\n",
              "\n",
              "    .dataframe thead th {\n",
              "        text-align: right;\n",
              "    }\n",
              "</style>\n",
              "<table border=\"1\" class=\"dataframe\">\n",
              "  <thead>\n",
              "    <tr style=\"text-align: right;\">\n",
              "      <th></th>\n",
              "      <th>Project</th>\n",
              "      <th>Date</th>\n",
              "      <th>Raise</th>\n",
              "      <th>Stage</th>\n",
              "      <th>Category</th>\n",
              "      <th>Investors quantity</th>\n",
              "      <th>Lead Investor</th>\n",
              "      <th>Tier</th>\n",
              "      <th>Type</th>\n",
              "      <th>Mcap, $</th>\n",
              "      <th>Volume, $</th>\n",
              "      <th>Dominance, %</th>\n",
              "      <th>Liquidity</th>\n",
              "      <th>Relative Market Capitalization</th>\n",
              "      <th>Average difference</th>\n",
              "    </tr>\n",
              "  </thead>\n",
              "  <tbody>\n",
              "    <tr>\n",
              "      <th>0</th>\n",
              "      <td>DeSchool</td>\n",
              "      <td>2022-12-31</td>\n",
              "      <td>6000000.000</td>\n",
              "      <td>Seed</td>\n",
              "      <td>Blockchain Service</td>\n",
              "      <td>6.000</td>\n",
              "      <td>y2z Ventures</td>\n",
              "      <td>4</td>\n",
              "      <td>Venture</td>\n",
              "      <td>358840000</td>\n",
              "      <td>23870000</td>\n",
              "      <td>0.030</td>\n",
              "      <td>0.000</td>\n",
              "      <td>11961333333.333</td>\n",
              "      <td>-0.200</td>\n",
              "    </tr>\n",
              "    <tr>\n",
              "      <th>1</th>\n",
              "      <td>NFTScan</td>\n",
              "      <td>2021-04-16</td>\n",
              "      <td>550000.000</td>\n",
              "      <td>Seed</td>\n",
              "      <td>NFT</td>\n",
              "      <td>1.000</td>\n",
              "      <td>y2z Ventures</td>\n",
              "      <td>4</td>\n",
              "      <td>Venture</td>\n",
              "      <td>358840000</td>\n",
              "      <td>23870000</td>\n",
              "      <td>0.030</td>\n",
              "      <td>0.000</td>\n",
              "      <td>11961333333.333</td>\n",
              "      <td>-0.200</td>\n",
              "    </tr>\n",
              "    <tr>\n",
              "      <th>3</th>\n",
              "      <td>Sealance</td>\n",
              "      <td>2022-10-24</td>\n",
              "      <td>6000000.000</td>\n",
              "      <td>Seed</td>\n",
              "      <td>Blockchain Service</td>\n",
              "      <td>6.000</td>\n",
              "      <td>Galaxy</td>\n",
              "      <td>1</td>\n",
              "      <td>Venture</td>\n",
              "      <td>225540000000</td>\n",
              "      <td>2010000000</td>\n",
              "      <td>19.270</td>\n",
              "      <td>4623000000.000</td>\n",
              "      <td>11704203425.013</td>\n",
              "      <td>0.484</td>\n",
              "    </tr>\n",
              "    <tr>\n",
              "      <th>4</th>\n",
              "      <td>Skip Protocol</td>\n",
              "      <td>2022-09-22</td>\n",
              "      <td>6500000.000</td>\n",
              "      <td>Unknown</td>\n",
              "      <td>Blockchain Service</td>\n",
              "      <td>37.000</td>\n",
              "      <td>Galaxy</td>\n",
              "      <td>1</td>\n",
              "      <td>Venture</td>\n",
              "      <td>225540000000</td>\n",
              "      <td>2010000000</td>\n",
              "      <td>19.270</td>\n",
              "      <td>4623000000.000</td>\n",
              "      <td>11704203425.013</td>\n",
              "      <td>0.484</td>\n",
              "    </tr>\n",
              "    <tr>\n",
              "      <th>5</th>\n",
              "      <td>Mural</td>\n",
              "      <td>2022-08-23</td>\n",
              "      <td>5600000.000</td>\n",
              "      <td>Seed</td>\n",
              "      <td>Blockchain Service</td>\n",
              "      <td>5.000</td>\n",
              "      <td>Galaxy</td>\n",
              "      <td>1</td>\n",
              "      <td>Venture</td>\n",
              "      <td>225540000000</td>\n",
              "      <td>2010000000</td>\n",
              "      <td>19.270</td>\n",
              "      <td>4623000000.000</td>\n",
              "      <td>11704203425.013</td>\n",
              "      <td>0.484</td>\n",
              "    </tr>\n",
              "    <tr>\n",
              "      <th>...</th>\n",
              "      <td>...</td>\n",
              "      <td>...</td>\n",
              "      <td>...</td>\n",
              "      <td>...</td>\n",
              "      <td>...</td>\n",
              "      <td>...</td>\n",
              "      <td>...</td>\n",
              "      <td>...</td>\n",
              "      <td>...</td>\n",
              "      <td>...</td>\n",
              "      <td>...</td>\n",
              "      <td>...</td>\n",
              "      <td>...</td>\n",
              "      <td>...</td>\n",
              "      <td>...</td>\n",
              "    </tr>\n",
              "    <tr>\n",
              "      <th>2518</th>\n",
              "      <td>GoCrypto TokenGOC</td>\n",
              "      <td>2021-01-07</td>\n",
              "      <td>4000000.000</td>\n",
              "      <td>Strategic</td>\n",
              "      <td>Blockchain Service</td>\n",
              "      <td>2.000</td>\n",
              "      <td>Roger Ver</td>\n",
              "      <td>6</td>\n",
              "      <td>Angel Investor</td>\n",
              "      <td>299730000</td>\n",
              "      <td>1710000</td>\n",
              "      <td>0.030</td>\n",
              "      <td>0.000</td>\n",
              "      <td>9991000000.000</td>\n",
              "      <td>-0.200</td>\n",
              "    </tr>\n",
              "    <tr>\n",
              "      <th>2519</th>\n",
              "      <td>Wrapped NXMWNXM</td>\n",
              "      <td>2021-02-16</td>\n",
              "      <td>2700000.000</td>\n",
              "      <td>Unknown</td>\n",
              "      <td>DeFi</td>\n",
              "      <td>6.000</td>\n",
              "      <td>Collider Ventures</td>\n",
              "      <td>4</td>\n",
              "      <td>Venture</td>\n",
              "      <td>96620000</td>\n",
              "      <td>1490000</td>\n",
              "      <td>0.010</td>\n",
              "      <td>0.000</td>\n",
              "      <td>9662000000.000</td>\n",
              "      <td>-0.200</td>\n",
              "    </tr>\n",
              "    <tr>\n",
              "      <th>2520</th>\n",
              "      <td>Arca</td>\n",
              "      <td>2021-01-13</td>\n",
              "      <td>10000000.000</td>\n",
              "      <td>Series A</td>\n",
              "      <td>CeFi</td>\n",
              "      <td>2.000</td>\n",
              "      <td>RRE Ventures</td>\n",
              "      <td>4</td>\n",
              "      <td>Venture</td>\n",
              "      <td>30820000000</td>\n",
              "      <td>808250000</td>\n",
              "      <td>2.630</td>\n",
              "      <td>0.000</td>\n",
              "      <td>11718631178.707</td>\n",
              "      <td>0.500</td>\n",
              "    </tr>\n",
              "    <tr>\n",
              "      <th>2521</th>\n",
              "      <td>Conflux NetworkCFX</td>\n",
              "      <td>2021-01-12</td>\n",
              "      <td>5000000.000</td>\n",
              "      <td>Grant</td>\n",
              "      <td>Blockchain Infrastructure</td>\n",
              "      <td>1.000</td>\n",
              "      <td>Shanghai Science and Technology Committee</td>\n",
              "      <td>4</td>\n",
              "      <td>Corporate</td>\n",
              "      <td>538530000</td>\n",
              "      <td>37460000</td>\n",
              "      <td>0.050</td>\n",
              "      <td>0.000</td>\n",
              "      <td>10770600000.000</td>\n",
              "      <td>1.000</td>\n",
              "    </tr>\n",
              "    <tr>\n",
              "      <th>2522</th>\n",
              "      <td>PAID NetworkPAID</td>\n",
              "      <td>2021-01-04</td>\n",
              "      <td>2000000.000</td>\n",
              "      <td>Strategic</td>\n",
              "      <td>DeFi</td>\n",
              "      <td>7.000</td>\n",
              "      <td>Master Ventures</td>\n",
              "      <td>3</td>\n",
              "      <td>Venture</td>\n",
              "      <td>604960000</td>\n",
              "      <td>10850000</td>\n",
              "      <td>0.050</td>\n",
              "      <td>-15515500.000</td>\n",
              "      <td>12099200000.000</td>\n",
              "      <td>0.020</td>\n",
              "    </tr>\n",
              "  </tbody>\n",
              "</table>\n",
              "<p>2171 rows × 15 columns</p>\n",
              "</div>\n",
              "      <button class=\"colab-df-convert\" onclick=\"convertToInteractive('df-a96abb2c-1cbe-4e59-aae2-6a7136c1e924')\"\n",
              "              title=\"Convert this dataframe to an interactive table.\"\n",
              "              style=\"display:none;\">\n",
              "        \n",
              "  <svg xmlns=\"http://www.w3.org/2000/svg\" height=\"24px\"viewBox=\"0 0 24 24\"\n",
              "       width=\"24px\">\n",
              "    <path d=\"M0 0h24v24H0V0z\" fill=\"none\"/>\n",
              "    <path d=\"M18.56 5.44l.94 2.06.94-2.06 2.06-.94-2.06-.94-.94-2.06-.94 2.06-2.06.94zm-11 1L8.5 8.5l.94-2.06 2.06-.94-2.06-.94L8.5 2.5l-.94 2.06-2.06.94zm10 10l.94 2.06.94-2.06 2.06-.94-2.06-.94-.94-2.06-.94 2.06-2.06.94z\"/><path d=\"M17.41 7.96l-1.37-1.37c-.4-.4-.92-.59-1.43-.59-.52 0-1.04.2-1.43.59L10.3 9.45l-7.72 7.72c-.78.78-.78 2.05 0 2.83L4 21.41c.39.39.9.59 1.41.59.51 0 1.02-.2 1.41-.59l7.78-7.78 2.81-2.81c.8-.78.8-2.07 0-2.86zM5.41 20L4 18.59l7.72-7.72 1.47 1.35L5.41 20z\"/>\n",
              "  </svg>\n",
              "      </button>\n",
              "      \n",
              "  <style>\n",
              "    .colab-df-container {\n",
              "      display:flex;\n",
              "      flex-wrap:wrap;\n",
              "      gap: 12px;\n",
              "    }\n",
              "\n",
              "    .colab-df-convert {\n",
              "      background-color: #E8F0FE;\n",
              "      border: none;\n",
              "      border-radius: 50%;\n",
              "      cursor: pointer;\n",
              "      display: none;\n",
              "      fill: #1967D2;\n",
              "      height: 32px;\n",
              "      padding: 0 0 0 0;\n",
              "      width: 32px;\n",
              "    }\n",
              "\n",
              "    .colab-df-convert:hover {\n",
              "      background-color: #E2EBFA;\n",
              "      box-shadow: 0px 1px 2px rgba(60, 64, 67, 0.3), 0px 1px 3px 1px rgba(60, 64, 67, 0.15);\n",
              "      fill: #174EA6;\n",
              "    }\n",
              "\n",
              "    [theme=dark] .colab-df-convert {\n",
              "      background-color: #3B4455;\n",
              "      fill: #D2E3FC;\n",
              "    }\n",
              "\n",
              "    [theme=dark] .colab-df-convert:hover {\n",
              "      background-color: #434B5C;\n",
              "      box-shadow: 0px 1px 3px 1px rgba(0, 0, 0, 0.15);\n",
              "      filter: drop-shadow(0px 1px 2px rgba(0, 0, 0, 0.3));\n",
              "      fill: #FFFFFF;\n",
              "    }\n",
              "  </style>\n",
              "\n",
              "      <script>\n",
              "        const buttonEl =\n",
              "          document.querySelector('#df-a96abb2c-1cbe-4e59-aae2-6a7136c1e924 button.colab-df-convert');\n",
              "        buttonEl.style.display =\n",
              "          google.colab.kernel.accessAllowed ? 'block' : 'none';\n",
              "\n",
              "        async function convertToInteractive(key) {\n",
              "          const element = document.querySelector('#df-a96abb2c-1cbe-4e59-aae2-6a7136c1e924');\n",
              "          const dataTable =\n",
              "            await google.colab.kernel.invokeFunction('convertToInteractive',\n",
              "                                                     [key], {});\n",
              "          if (!dataTable) return;\n",
              "\n",
              "          const docLinkHtml = 'Like what you see? Visit the ' +\n",
              "            '<a target=\"_blank\" href=https://colab.research.google.com/notebooks/data_table.ipynb>data table notebook</a>'\n",
              "            + ' to learn more about interactive tables.';\n",
              "          element.innerHTML = '';\n",
              "          dataTable['output_type'] = 'display_data';\n",
              "          await google.colab.output.renderOutput(dataTable, element);\n",
              "          const docLink = document.createElement('div');\n",
              "          docLink.innerHTML = docLinkHtml;\n",
              "          element.appendChild(docLink);\n",
              "        }\n",
              "      </script>\n",
              "    </div>\n",
              "  </div>\n",
              "  "
            ]
          },
          "metadata": {},
          "execution_count": 694
        }
      ]
    },
    {
      "cell_type": "code",
      "source": [
        "X = df_total_new.drop(columns = ['Project', 'Date', 'Raise', 'Lead Investor'])\n",
        "y = df_total_new['Raise']"
      ],
      "metadata": {
        "id": "4QNkLZLnnHPH"
      },
      "execution_count": null,
      "outputs": []
    },
    {
      "cell_type": "code",
      "source": [
        "numeric_features = ['Investors quantity', 'Mcap, $', 'Volume, $', 'Dominance, %',\n",
        "                    'Liquidity', 'Relative Market Capitalization', 'Average difference']\n",
        "categorical_features= ['Tier', 'Type', 'Category', 'Stage']"
      ],
      "metadata": {
        "id": "8oeZgqWinHRv"
      },
      "execution_count": null,
      "outputs": []
    },
    {
      "cell_type": "markdown",
      "source": [
        "Приведём данные в порядок. Проскалируем их и закодируем категориальные переменные."
      ],
      "metadata": {
        "id": "4kfJapFunrMU"
      }
    },
    {
      "cell_type": "code",
      "source": [
        "column_transformer = ColumnTransformer([\n",
        "    ('scaling', StandardScaler(), numeric_features),\n",
        "    ('ohe', OneHotEncoder(handle_unknown=\"ignore\", drop=\"first\",\n",
        "                         min_frequency=0.01), categorical_features)\n",
        "])"
      ],
      "metadata": {
        "id": "40I8ha7MnHUe"
      },
      "execution_count": null,
      "outputs": []
    },
    {
      "cell_type": "markdown",
      "source": [
        "Разделим нашу выборку на тест и трейн"
      ],
      "metadata": {
        "id": "1tylKuQhnw1Z"
      }
    },
    {
      "cell_type": "code",
      "source": [
        "X_train, X_test, y_train, y_test = train_test_split(X, y, test_size=0.30, random_state=3)"
      ],
      "metadata": {
        "id": "NJJqSQvznHXI"
      },
      "execution_count": null,
      "outputs": []
    },
    {
      "cell_type": "markdown",
      "source": [
        "Проведём обработку наших колонок"
      ],
      "metadata": {
        "id": "-wo0Ie-Zn4Ue"
      }
    },
    {
      "cell_type": "code",
      "source": [
        "X_train = column_transformer.fit_transform(X_train)\n",
        "X_test = column_transformer.transform(X_test)"
      ],
      "metadata": {
        "colab": {
          "base_uri": "https://localhost:8080/"
        },
        "id": "_zYz33U-nHZ4",
        "outputId": "f71a4d2c-77f6-4fa6-a2f4-016809736261"
      },
      "execution_count": null,
      "outputs": [
        {
          "output_type": "stream",
          "name": "stderr",
          "text": [
            "/usr/local/lib/python3.10/dist-packages/sklearn/preprocessing/_encoders.py:202: UserWarning: Found unknown categories in columns [3] during transform. These unknown categories will be encoded as all zeros\n",
            "  warnings.warn(\n"
          ]
        }
      ]
    },
    {
      "cell_type": "markdown",
      "source": [
        "Обучим самую обыкновенную линейную регрессию. В качестве метрик будут выступать MAE, MSE и R2-score"
      ],
      "metadata": {
        "id": "kflJQwVdn_Yu"
      }
    },
    {
      "cell_type": "code",
      "source": [
        "clf_lr = LinearRegression()\n",
        "clf_lr.fit(X_train, y_train)"
      ],
      "metadata": {
        "colab": {
          "base_uri": "https://localhost:8080/",
          "height": 75
        },
        "id": "048WucP5nHcy",
        "outputId": "884c5517-9a47-4576-9352-31c4e6fd0aaf"
      },
      "execution_count": null,
      "outputs": [
        {
          "output_type": "execute_result",
          "data": {
            "text/plain": [
              "LinearRegression()"
            ],
            "text/html": [
              "<style>#sk-container-id-1 {color: black;background-color: white;}#sk-container-id-1 pre{padding: 0;}#sk-container-id-1 div.sk-toggleable {background-color: white;}#sk-container-id-1 label.sk-toggleable__label {cursor: pointer;display: block;width: 100%;margin-bottom: 0;padding: 0.3em;box-sizing: border-box;text-align: center;}#sk-container-id-1 label.sk-toggleable__label-arrow:before {content: \"▸\";float: left;margin-right: 0.25em;color: #696969;}#sk-container-id-1 label.sk-toggleable__label-arrow:hover:before {color: black;}#sk-container-id-1 div.sk-estimator:hover label.sk-toggleable__label-arrow:before {color: black;}#sk-container-id-1 div.sk-toggleable__content {max-height: 0;max-width: 0;overflow: hidden;text-align: left;background-color: #f0f8ff;}#sk-container-id-1 div.sk-toggleable__content pre {margin: 0.2em;color: black;border-radius: 0.25em;background-color: #f0f8ff;}#sk-container-id-1 input.sk-toggleable__control:checked~div.sk-toggleable__content {max-height: 200px;max-width: 100%;overflow: auto;}#sk-container-id-1 input.sk-toggleable__control:checked~label.sk-toggleable__label-arrow:before {content: \"▾\";}#sk-container-id-1 div.sk-estimator input.sk-toggleable__control:checked~label.sk-toggleable__label {background-color: #d4ebff;}#sk-container-id-1 div.sk-label input.sk-toggleable__control:checked~label.sk-toggleable__label {background-color: #d4ebff;}#sk-container-id-1 input.sk-hidden--visually {border: 0;clip: rect(1px 1px 1px 1px);clip: rect(1px, 1px, 1px, 1px);height: 1px;margin: -1px;overflow: hidden;padding: 0;position: absolute;width: 1px;}#sk-container-id-1 div.sk-estimator {font-family: monospace;background-color: #f0f8ff;border: 1px dotted black;border-radius: 0.25em;box-sizing: border-box;margin-bottom: 0.5em;}#sk-container-id-1 div.sk-estimator:hover {background-color: #d4ebff;}#sk-container-id-1 div.sk-parallel-item::after {content: \"\";width: 100%;border-bottom: 1px solid gray;flex-grow: 1;}#sk-container-id-1 div.sk-label:hover label.sk-toggleable__label {background-color: #d4ebff;}#sk-container-id-1 div.sk-serial::before {content: \"\";position: absolute;border-left: 1px solid gray;box-sizing: border-box;top: 0;bottom: 0;left: 50%;z-index: 0;}#sk-container-id-1 div.sk-serial {display: flex;flex-direction: column;align-items: center;background-color: white;padding-right: 0.2em;padding-left: 0.2em;position: relative;}#sk-container-id-1 div.sk-item {position: relative;z-index: 1;}#sk-container-id-1 div.sk-parallel {display: flex;align-items: stretch;justify-content: center;background-color: white;position: relative;}#sk-container-id-1 div.sk-item::before, #sk-container-id-1 div.sk-parallel-item::before {content: \"\";position: absolute;border-left: 1px solid gray;box-sizing: border-box;top: 0;bottom: 0;left: 50%;z-index: -1;}#sk-container-id-1 div.sk-parallel-item {display: flex;flex-direction: column;z-index: 1;position: relative;background-color: white;}#sk-container-id-1 div.sk-parallel-item:first-child::after {align-self: flex-end;width: 50%;}#sk-container-id-1 div.sk-parallel-item:last-child::after {align-self: flex-start;width: 50%;}#sk-container-id-1 div.sk-parallel-item:only-child::after {width: 0;}#sk-container-id-1 div.sk-dashed-wrapped {border: 1px dashed gray;margin: 0 0.4em 0.5em 0.4em;box-sizing: border-box;padding-bottom: 0.4em;background-color: white;}#sk-container-id-1 div.sk-label label {font-family: monospace;font-weight: bold;display: inline-block;line-height: 1.2em;}#sk-container-id-1 div.sk-label-container {text-align: center;}#sk-container-id-1 div.sk-container {/* jupyter's `normalize.less` sets `[hidden] { display: none; }` but bootstrap.min.css set `[hidden] { display: none !important; }` so we also need the `!important` here to be able to override the default hidden behavior on the sphinx rendered scikit-learn.org. See: https://github.com/scikit-learn/scikit-learn/issues/21755 */display: inline-block !important;position: relative;}#sk-container-id-1 div.sk-text-repr-fallback {display: none;}</style><div id=\"sk-container-id-1\" class=\"sk-top-container\"><div class=\"sk-text-repr-fallback\"><pre>LinearRegression()</pre><b>In a Jupyter environment, please rerun this cell to show the HTML representation or trust the notebook. <br />On GitHub, the HTML representation is unable to render, please try loading this page with nbviewer.org.</b></div><div class=\"sk-container\" hidden><div class=\"sk-item\"><div class=\"sk-estimator sk-toggleable\"><input class=\"sk-toggleable__control sk-hidden--visually\" id=\"sk-estimator-id-1\" type=\"checkbox\" checked><label for=\"sk-estimator-id-1\" class=\"sk-toggleable__label sk-toggleable__label-arrow\">LinearRegression</label><div class=\"sk-toggleable__content\"><pre>LinearRegression()</pre></div></div></div></div></div>"
            ]
          },
          "metadata": {},
          "execution_count": 700
        }
      ]
    },
    {
      "cell_type": "code",
      "source": [
        "y_pred = clf_lr.predict(X_test)\n",
        "y_pred_train = clf_lr.predict(X_train)\n",
        "print(\"Test MAE = %.4f\" % metrics.mean_absolute_error(y_test, y_pred))\n",
        "print(\"Train MAE = %.4f\" % metrics.mean_absolute_error(y_train, y_pred_train))\n",
        "print(f\"Train MSE: { metrics.mean_squared_error(y_train, y_pred_train)}\")\n",
        "print(f\"Test MSE: { metrics.mean_squared_error(y_test, y_pred)}\")\n",
        "print(f\"Train R2: { metrics.r2_score(y_train, y_pred_train)}\")\n",
        "print(f\"Test R2: { metrics.r2_score(y_test, y_pred)}\")"
      ],
      "metadata": {
        "colab": {
          "base_uri": "https://localhost:8080/"
        },
        "id": "jfDR_Kvon6ZK",
        "outputId": "975e78de-645f-4ab6-b18e-7dce192bf417"
      },
      "execution_count": null,
      "outputs": [
        {
          "output_type": "stream",
          "name": "stdout",
          "text": [
            "Test MAE = 3906854.2590\n",
            "Train MAE = 3622849.6414\n",
            "Train MSE: 26202906701920.047\n",
            "Test MSE: 31521613086433.57\n",
            "Train R2: 0.34908324167257454\n",
            "Test R2: 0.2715629970849702\n"
          ]
        }
      ]
    },
    {
      "cell_type": "markdown",
      "source": [
        "Получились довольно плохие результаты. Наша модель описывает тестовые данные только на 27 процентов. Значение MSE огромное. В MAE мы ошибаемся на 3 миллиона долларов, что довольно существенно. Давайте попробуем применить другие модели."
      ],
      "metadata": {
        "id": "ozgdjg41oG7p"
      }
    },
    {
      "cell_type": "markdown",
      "source": [
        " **Обучим Ridge регрессию**"
      ],
      "metadata": {
        "id": "RFhuviHdoMyl"
      }
    },
    {
      "cell_type": "code",
      "source": [
        "ridge_lr = Ridge(max_iter = 1000, solver = 'auto').fit(X_train, y_train)\n",
        "y_pred = ridge_lr.predict(X_test)\n",
        "y_pred_train = ridge_lr.predict(X_train)\n",
        "print(\"Test MAE = %.4f\" % metrics.mean_absolute_error(y_test, y_pred))\n",
        "print(\"Train MAE = %.4f\" % metrics.mean_absolute_error(y_train, y_pred_train))\n",
        "print(f\"Train MSE: { metrics.mean_squared_error(y_train, y_pred_train)}\")\n",
        "print(f\"Test MSE: { metrics.mean_squared_error(y_test, y_pred)}\")\n",
        "print(f\"Train R2: { metrics.r2_score(y_train, y_pred_train)}\")\n",
        "print(f\"Test R2: { metrics.r2_score(y_test, y_pred)}\")"
      ],
      "metadata": {
        "colab": {
          "base_uri": "https://localhost:8080/"
        },
        "id": "4s8FUNNAn6b2",
        "outputId": "f41ba184-1a2b-49c1-d644-b40338fc5ccb"
      },
      "execution_count": null,
      "outputs": [
        {
          "output_type": "stream",
          "name": "stdout",
          "text": [
            "Test MAE = 3909943.5119\n",
            "Train MAE = 3624987.2558\n",
            "Train MSE: 26230955234773.53\n",
            "Test MSE: 31682252540406.227\n",
            "Train R2: 0.34838647698579683\n",
            "Test R2: 0.2678507593235052\n"
          ]
        }
      ]
    },
    {
      "cell_type": "markdown",
      "source": [
        "Попробуем подобрать параметры по сетке"
      ],
      "metadata": {
        "id": "JZ4ySymLoaaw"
      }
    },
    {
      "cell_type": "code",
      "source": [
        "param = {'fit_intercept': [True, False], 'alpha': [1, 2, 5, 10], 'positive': [True, False]}\n",
        "grid_ridge_lr = GridSearchCV(estimator = ridge_lr, param_grid = param, scoring = 'r2')\n",
        "grid_ridge_lr.fit(X_train, y_train)\n",
        "print(grid_ridge_lr.best_params_)"
      ],
      "metadata": {
        "colab": {
          "base_uri": "https://localhost:8080/"
        },
        "id": "e-W3Sujen6ea",
        "outputId": "eeb81aa8-cafb-4955-f072-28da44f699fc"
      },
      "execution_count": null,
      "outputs": [
        {
          "output_type": "stream",
          "name": "stdout",
          "text": [
            "{'alpha': 5, 'fit_intercept': True, 'positive': False}\n"
          ]
        }
      ]
    },
    {
      "cell_type": "code",
      "source": [
        "ridge_best =  grid_ridge_lr.best_estimator_\n",
        "ridge_best.fit(X_train, y_train)\n",
        "y_pred = ridge_best.predict(X_test)\n",
        "y_pred_train = ridge_best.predict(X_train)\n",
        "\n",
        "print(\"Test MAE = %.4f\" % metrics.mean_absolute_error(y_test, y_pred))\n",
        "print(\"Train MAE = %.4f\" % metrics.mean_absolute_error(y_train, y_pred_train))\n",
        "print(f\"Train MSE: { metrics.mean_squared_error(y_train, y_pred_train)}\")\n",
        "print(f\"Test MSE: { metrics.mean_squared_error(y_test, y_pred)}\")\n",
        "print(f\"Train R2: { metrics.r2_score(y_train, y_pred_train)}\")\n",
        "print(f\"Test R2: { metrics.r2_score(y_test, y_pred)}\")"
      ],
      "metadata": {
        "colab": {
          "base_uri": "https://localhost:8080/"
        },
        "id": "weFevON7n6g9",
        "outputId": "8a4729e8-b691-4f83-d6b2-17a799b3d831"
      },
      "execution_count": null,
      "outputs": [
        {
          "output_type": "stream",
          "name": "stdout",
          "text": [
            "Test MAE = 3912467.5646\n",
            "Train MAE = 3630681.2455\n",
            "Train MSE: 26358557421931.22\n",
            "Test MSE: 31856909815231.645\n",
            "Train R2: 0.3452166606381285\n",
            "Test R2: 0.26381458194063223\n"
          ]
        }
      ]
    },
    {
      "cell_type": "markdown",
      "source": [
        "Ситуация с обычной регрессией стала немного лучше в трейне, однако на тесте модель показала результаты ещё хуже. Попробуем обучить Lasso регрессию."
      ],
      "metadata": {
        "id": "c2ZIGxXCokh_"
      }
    },
    {
      "cell_type": "markdown",
      "source": [
        "**Обучим Lasso регрессию**"
      ],
      "metadata": {
        "id": "exb__Z-cooJe"
      }
    },
    {
      "cell_type": "code",
      "source": [
        "lasso_lr = Lasso(max_iter = 1000, random_state = 29).fit(X_train, y_train)\n",
        "y_pred = lasso_lr.predict(X_test)\n",
        "y_pred_train = lasso_lr.predict(X_train)\n",
        "print(\"Test MAE = %.4f\" % metrics.mean_absolute_error(y_test, y_pred))\n",
        "print(\"Train MAE = %.4f\" % metrics.mean_absolute_error(y_train, y_pred_train))\n",
        "print(f\"Train MSE: { metrics.mean_squared_error(y_train, y_pred_train)}\")\n",
        "print(f\"Test MSE: { metrics.mean_squared_error(y_test, y_pred)}\")\n",
        "print(f\"Train R2: { metrics.r2_score(y_train, y_pred_train)}\")\n",
        "print(f\"Test R2: { metrics.r2_score(y_test, y_pred)}\")"
      ],
      "metadata": {
        "colab": {
          "base_uri": "https://localhost:8080/"
        },
        "id": "HoqEIyy-onjl",
        "outputId": "b2dd4c3c-b274-4362-8eb2-519d13201fc3"
      },
      "execution_count": null,
      "outputs": [
        {
          "output_type": "stream",
          "name": "stdout",
          "text": [
            "Test MAE = 3909975.1533\n",
            "Train MAE = 3623016.2574\n",
            "Train MSE: 26209265269929.91\n",
            "Test MSE: 31596582752169.57\n",
            "Train R2: 0.3489252859723284\n",
            "Test R2: 0.2698305134564031\n"
          ]
        },
        {
          "output_type": "stream",
          "name": "stderr",
          "text": [
            "/usr/local/lib/python3.10/dist-packages/sklearn/linear_model/_coordinate_descent.py:631: ConvergenceWarning: Objective did not converge. You might want to increase the number of iterations, check the scale of the features or consider increasing regularisation. Duality gap: 1.950e+16, tolerance: 6.115e+12\n",
            "  model = cd_fast.enet_coordinate_descent(\n"
          ]
        }
      ]
    },
    {
      "cell_type": "code",
      "source": [
        "param = {'fit_intercept': [True, False], 'alpha': [0.01, 0.1, 0, 1, 2, 5, 20, 100, 2000]}\n",
        "grid_lasso_lr = GridSearchCV(estimator = lasso_lr, param_grid = param, scoring = 'r2')\n",
        "grid_lasso_lr.fit(X_train, y_train)\n",
        "print(grid_lasso_lr.best_params_)"
      ],
      "metadata": {
        "colab": {
          "base_uri": "https://localhost:8080/"
        },
        "id": "oLIaz2eDn6jn",
        "outputId": "f971555e-fe4b-4f46-828e-361a6fe50b57"
      },
      "execution_count": null,
      "outputs": [
        {
          "output_type": "stream",
          "name": "stderr",
          "text": [
            "/usr/local/lib/python3.10/dist-packages/sklearn/linear_model/_coordinate_descent.py:631: ConvergenceWarning: Objective did not converge. You might want to increase the number of iterations, check the scale of the features or consider increasing regularisation. Duality gap: 1.647e+16, tolerance: 4.939e+12\n",
            "  model = cd_fast.enet_coordinate_descent(\n",
            "/usr/local/lib/python3.10/dist-packages/sklearn/linear_model/_coordinate_descent.py:631: ConvergenceWarning: Objective did not converge. You might want to increase the number of iterations, check the scale of the features or consider increasing regularisation. Duality gap: 1.537e+16, tolerance: 4.879e+12\n",
            "  model = cd_fast.enet_coordinate_descent(\n",
            "/usr/local/lib/python3.10/dist-packages/sklearn/linear_model/_coordinate_descent.py:631: ConvergenceWarning: Objective did not converge. You might want to increase the number of iterations, check the scale of the features or consider increasing regularisation. Duality gap: 1.547e+16, tolerance: 4.762e+12\n",
            "  model = cd_fast.enet_coordinate_descent(\n",
            "/usr/local/lib/python3.10/dist-packages/sklearn/linear_model/_coordinate_descent.py:631: ConvergenceWarning: Objective did not converge. You might want to increase the number of iterations, check the scale of the features or consider increasing regularisation. Duality gap: 1.555e+16, tolerance: 4.787e+12\n",
            "  model = cd_fast.enet_coordinate_descent(\n",
            "/usr/local/lib/python3.10/dist-packages/sklearn/linear_model/_coordinate_descent.py:631: ConvergenceWarning: Objective did not converge. You might want to increase the number of iterations, check the scale of the features or consider increasing regularisation. Duality gap: 1.616e+16, tolerance: 5.088e+12\n",
            "  model = cd_fast.enet_coordinate_descent(\n",
            "/usr/local/lib/python3.10/dist-packages/sklearn/linear_model/_coordinate_descent.py:631: ConvergenceWarning: Objective did not converge. You might want to increase the number of iterations, check the scale of the features or consider increasing regularisation. Duality gap: 1.647e+16, tolerance: 1.024e+13\n",
            "  model = cd_fast.enet_coordinate_descent(\n",
            "/usr/local/lib/python3.10/dist-packages/sklearn/linear_model/_coordinate_descent.py:631: ConvergenceWarning: Objective did not converge. You might want to increase the number of iterations, check the scale of the features or consider increasing regularisation. Duality gap: 1.537e+16, tolerance: 1.033e+13\n",
            "  model = cd_fast.enet_coordinate_descent(\n",
            "/usr/local/lib/python3.10/dist-packages/sklearn/linear_model/_coordinate_descent.py:631: ConvergenceWarning: Objective did not converge. You might want to increase the number of iterations, check the scale of the features or consider increasing regularisation. Duality gap: 1.547e+16, tolerance: 9.967e+12\n",
            "  model = cd_fast.enet_coordinate_descent(\n",
            "/usr/local/lib/python3.10/dist-packages/sklearn/linear_model/_coordinate_descent.py:631: ConvergenceWarning: Objective did not converge. You might want to increase the number of iterations, check the scale of the features or consider increasing regularisation. Duality gap: 1.555e+16, tolerance: 9.872e+12\n",
            "  model = cd_fast.enet_coordinate_descent(\n",
            "/usr/local/lib/python3.10/dist-packages/sklearn/linear_model/_coordinate_descent.py:631: ConvergenceWarning: Objective did not converge. You might want to increase the number of iterations, check the scale of the features or consider increasing regularisation. Duality gap: 1.616e+16, tolerance: 1.054e+13\n",
            "  model = cd_fast.enet_coordinate_descent(\n",
            "/usr/local/lib/python3.10/dist-packages/sklearn/linear_model/_coordinate_descent.py:631: ConvergenceWarning: Objective did not converge. You might want to increase the number of iterations, check the scale of the features or consider increasing regularisation. Duality gap: 1.646e+16, tolerance: 4.939e+12\n",
            "  model = cd_fast.enet_coordinate_descent(\n",
            "/usr/local/lib/python3.10/dist-packages/sklearn/linear_model/_coordinate_descent.py:631: ConvergenceWarning: Objective did not converge. You might want to increase the number of iterations, check the scale of the features or consider increasing regularisation. Duality gap: 1.534e+16, tolerance: 4.879e+12\n",
            "  model = cd_fast.enet_coordinate_descent(\n",
            "/usr/local/lib/python3.10/dist-packages/sklearn/linear_model/_coordinate_descent.py:631: ConvergenceWarning: Objective did not converge. You might want to increase the number of iterations, check the scale of the features or consider increasing regularisation. Duality gap: 1.544e+16, tolerance: 4.762e+12\n",
            "  model = cd_fast.enet_coordinate_descent(\n",
            "/usr/local/lib/python3.10/dist-packages/sklearn/linear_model/_coordinate_descent.py:631: ConvergenceWarning: Objective did not converge. You might want to increase the number of iterations, check the scale of the features or consider increasing regularisation. Duality gap: 1.550e+16, tolerance: 4.787e+12\n",
            "  model = cd_fast.enet_coordinate_descent(\n",
            "/usr/local/lib/python3.10/dist-packages/sklearn/linear_model/_coordinate_descent.py:631: ConvergenceWarning: Objective did not converge. You might want to increase the number of iterations, check the scale of the features or consider increasing regularisation. Duality gap: 1.615e+16, tolerance: 5.088e+12\n",
            "  model = cd_fast.enet_coordinate_descent(\n",
            "/usr/local/lib/python3.10/dist-packages/sklearn/linear_model/_coordinate_descent.py:631: ConvergenceWarning: Objective did not converge. You might want to increase the number of iterations, check the scale of the features or consider increasing regularisation. Duality gap: 1.646e+16, tolerance: 1.024e+13\n",
            "  model = cd_fast.enet_coordinate_descent(\n",
            "/usr/local/lib/python3.10/dist-packages/sklearn/linear_model/_coordinate_descent.py:631: ConvergenceWarning: Objective did not converge. You might want to increase the number of iterations, check the scale of the features or consider increasing regularisation. Duality gap: 1.534e+16, tolerance: 1.033e+13\n",
            "  model = cd_fast.enet_coordinate_descent(\n",
            "/usr/local/lib/python3.10/dist-packages/sklearn/linear_model/_coordinate_descent.py:631: ConvergenceWarning: Objective did not converge. You might want to increase the number of iterations, check the scale of the features or consider increasing regularisation. Duality gap: 1.544e+16, tolerance: 9.967e+12\n",
            "  model = cd_fast.enet_coordinate_descent(\n",
            "/usr/local/lib/python3.10/dist-packages/sklearn/linear_model/_coordinate_descent.py:631: ConvergenceWarning: Objective did not converge. You might want to increase the number of iterations, check the scale of the features or consider increasing regularisation. Duality gap: 1.550e+16, tolerance: 9.872e+12\n",
            "  model = cd_fast.enet_coordinate_descent(\n",
            "/usr/local/lib/python3.10/dist-packages/sklearn/linear_model/_coordinate_descent.py:631: ConvergenceWarning: Objective did not converge. You might want to increase the number of iterations, check the scale of the features or consider increasing regularisation. Duality gap: 1.615e+16, tolerance: 1.054e+13\n",
            "  model = cd_fast.enet_coordinate_descent(\n",
            "/usr/local/lib/python3.10/dist-packages/sklearn/model_selection/_validation.py:686: UserWarning: With alpha=0, this algorithm does not converge well. You are advised to use the LinearRegression estimator\n",
            "  estimator.fit(X_train, y_train, **fit_params)\n",
            "/usr/local/lib/python3.10/dist-packages/sklearn/linear_model/_coordinate_descent.py:631: UserWarning: Coordinate descent with no regularization may lead to unexpected results and is discouraged.\n",
            "  model = cd_fast.enet_coordinate_descent(\n",
            "/usr/local/lib/python3.10/dist-packages/sklearn/linear_model/_coordinate_descent.py:631: ConvergenceWarning: Objective did not converge. You might want to increase the number of iterations, check the scale of the features or consider increasing regularisation. Duality gap: 1.647e+16, tolerance: 4.939e+12 Linear regression models with null weight for the l1 regularization term are more efficiently fitted using one of the solvers implemented in sklearn.linear_model.Ridge/RidgeCV instead.\n",
            "  model = cd_fast.enet_coordinate_descent(\n",
            "/usr/local/lib/python3.10/dist-packages/sklearn/model_selection/_validation.py:686: UserWarning: With alpha=0, this algorithm does not converge well. You are advised to use the LinearRegression estimator\n",
            "  estimator.fit(X_train, y_train, **fit_params)\n",
            "/usr/local/lib/python3.10/dist-packages/sklearn/linear_model/_coordinate_descent.py:631: UserWarning: Coordinate descent with no regularization may lead to unexpected results and is discouraged.\n",
            "  model = cd_fast.enet_coordinate_descent(\n",
            "/usr/local/lib/python3.10/dist-packages/sklearn/linear_model/_coordinate_descent.py:631: ConvergenceWarning: Objective did not converge. You might want to increase the number of iterations, check the scale of the features or consider increasing regularisation. Duality gap: 1.537e+16, tolerance: 4.879e+12 Linear regression models with null weight for the l1 regularization term are more efficiently fitted using one of the solvers implemented in sklearn.linear_model.Ridge/RidgeCV instead.\n",
            "  model = cd_fast.enet_coordinate_descent(\n",
            "/usr/local/lib/python3.10/dist-packages/sklearn/model_selection/_validation.py:686: UserWarning: With alpha=0, this algorithm does not converge well. You are advised to use the LinearRegression estimator\n",
            "  estimator.fit(X_train, y_train, **fit_params)\n",
            "/usr/local/lib/python3.10/dist-packages/sklearn/linear_model/_coordinate_descent.py:631: UserWarning: Coordinate descent with no regularization may lead to unexpected results and is discouraged.\n",
            "  model = cd_fast.enet_coordinate_descent(\n",
            "/usr/local/lib/python3.10/dist-packages/sklearn/linear_model/_coordinate_descent.py:631: ConvergenceWarning: Objective did not converge. You might want to increase the number of iterations, check the scale of the features or consider increasing regularisation. Duality gap: 1.547e+16, tolerance: 4.762e+12 Linear regression models with null weight for the l1 regularization term are more efficiently fitted using one of the solvers implemented in sklearn.linear_model.Ridge/RidgeCV instead.\n",
            "  model = cd_fast.enet_coordinate_descent(\n",
            "/usr/local/lib/python3.10/dist-packages/sklearn/model_selection/_validation.py:686: UserWarning: With alpha=0, this algorithm does not converge well. You are advised to use the LinearRegression estimator\n",
            "  estimator.fit(X_train, y_train, **fit_params)\n",
            "/usr/local/lib/python3.10/dist-packages/sklearn/linear_model/_coordinate_descent.py:631: UserWarning: Coordinate descent with no regularization may lead to unexpected results and is discouraged.\n",
            "  model = cd_fast.enet_coordinate_descent(\n",
            "/usr/local/lib/python3.10/dist-packages/sklearn/linear_model/_coordinate_descent.py:631: ConvergenceWarning: Objective did not converge. You might want to increase the number of iterations, check the scale of the features or consider increasing regularisation. Duality gap: 1.556e+16, tolerance: 4.787e+12 Linear regression models with null weight for the l1 regularization term are more efficiently fitted using one of the solvers implemented in sklearn.linear_model.Ridge/RidgeCV instead.\n",
            "  model = cd_fast.enet_coordinate_descent(\n",
            "/usr/local/lib/python3.10/dist-packages/sklearn/model_selection/_validation.py:686: UserWarning: With alpha=0, this algorithm does not converge well. You are advised to use the LinearRegression estimator\n",
            "  estimator.fit(X_train, y_train, **fit_params)\n",
            "/usr/local/lib/python3.10/dist-packages/sklearn/linear_model/_coordinate_descent.py:631: UserWarning: Coordinate descent with no regularization may lead to unexpected results and is discouraged.\n",
            "  model = cd_fast.enet_coordinate_descent(\n",
            "/usr/local/lib/python3.10/dist-packages/sklearn/linear_model/_coordinate_descent.py:631: ConvergenceWarning: Objective did not converge. You might want to increase the number of iterations, check the scale of the features or consider increasing regularisation. Duality gap: 1.616e+16, tolerance: 5.088e+12 Linear regression models with null weight for the l1 regularization term are more efficiently fitted using one of the solvers implemented in sklearn.linear_model.Ridge/RidgeCV instead.\n",
            "  model = cd_fast.enet_coordinate_descent(\n",
            "/usr/local/lib/python3.10/dist-packages/sklearn/model_selection/_validation.py:686: UserWarning: With alpha=0, this algorithm does not converge well. You are advised to use the LinearRegression estimator\n",
            "  estimator.fit(X_train, y_train, **fit_params)\n",
            "/usr/local/lib/python3.10/dist-packages/sklearn/linear_model/_coordinate_descent.py:631: UserWarning: Coordinate descent with no regularization may lead to unexpected results and is discouraged.\n",
            "  model = cd_fast.enet_coordinate_descent(\n",
            "/usr/local/lib/python3.10/dist-packages/sklearn/linear_model/_coordinate_descent.py:631: ConvergenceWarning: Objective did not converge. You might want to increase the number of iterations, check the scale of the features or consider increasing regularisation. Duality gap: 1.647e+16, tolerance: 1.024e+13 Linear regression models with null weight for the l1 regularization term are more efficiently fitted using one of the solvers implemented in sklearn.linear_model.Ridge/RidgeCV instead.\n",
            "  model = cd_fast.enet_coordinate_descent(\n",
            "/usr/local/lib/python3.10/dist-packages/sklearn/model_selection/_validation.py:686: UserWarning: With alpha=0, this algorithm does not converge well. You are advised to use the LinearRegression estimator\n",
            "  estimator.fit(X_train, y_train, **fit_params)\n",
            "/usr/local/lib/python3.10/dist-packages/sklearn/linear_model/_coordinate_descent.py:631: UserWarning: Coordinate descent with no regularization may lead to unexpected results and is discouraged.\n",
            "  model = cd_fast.enet_coordinate_descent(\n",
            "/usr/local/lib/python3.10/dist-packages/sklearn/linear_model/_coordinate_descent.py:631: ConvergenceWarning: Objective did not converge. You might want to increase the number of iterations, check the scale of the features or consider increasing regularisation. Duality gap: 1.537e+16, tolerance: 1.033e+13 Linear regression models with null weight for the l1 regularization term are more efficiently fitted using one of the solvers implemented in sklearn.linear_model.Ridge/RidgeCV instead.\n",
            "  model = cd_fast.enet_coordinate_descent(\n",
            "/usr/local/lib/python3.10/dist-packages/sklearn/model_selection/_validation.py:686: UserWarning: With alpha=0, this algorithm does not converge well. You are advised to use the LinearRegression estimator\n",
            "  estimator.fit(X_train, y_train, **fit_params)\n",
            "/usr/local/lib/python3.10/dist-packages/sklearn/linear_model/_coordinate_descent.py:631: UserWarning: Coordinate descent with no regularization may lead to unexpected results and is discouraged.\n",
            "  model = cd_fast.enet_coordinate_descent(\n",
            "/usr/local/lib/python3.10/dist-packages/sklearn/linear_model/_coordinate_descent.py:631: ConvergenceWarning: Objective did not converge. You might want to increase the number of iterations, check the scale of the features or consider increasing regularisation. Duality gap: 1.547e+16, tolerance: 9.967e+12 Linear regression models with null weight for the l1 regularization term are more efficiently fitted using one of the solvers implemented in sklearn.linear_model.Ridge/RidgeCV instead.\n",
            "  model = cd_fast.enet_coordinate_descent(\n",
            "/usr/local/lib/python3.10/dist-packages/sklearn/model_selection/_validation.py:686: UserWarning: With alpha=0, this algorithm does not converge well. You are advised to use the LinearRegression estimator\n",
            "  estimator.fit(X_train, y_train, **fit_params)\n",
            "/usr/local/lib/python3.10/dist-packages/sklearn/linear_model/_coordinate_descent.py:631: UserWarning: Coordinate descent with no regularization may lead to unexpected results and is discouraged.\n",
            "  model = cd_fast.enet_coordinate_descent(\n",
            "/usr/local/lib/python3.10/dist-packages/sklearn/linear_model/_coordinate_descent.py:631: ConvergenceWarning: Objective did not converge. You might want to increase the number of iterations, check the scale of the features or consider increasing regularisation. Duality gap: 1.556e+16, tolerance: 9.872e+12 Linear regression models with null weight for the l1 regularization term are more efficiently fitted using one of the solvers implemented in sklearn.linear_model.Ridge/RidgeCV instead.\n",
            "  model = cd_fast.enet_coordinate_descent(\n",
            "/usr/local/lib/python3.10/dist-packages/sklearn/model_selection/_validation.py:686: UserWarning: With alpha=0, this algorithm does not converge well. You are advised to use the LinearRegression estimator\n",
            "  estimator.fit(X_train, y_train, **fit_params)\n",
            "/usr/local/lib/python3.10/dist-packages/sklearn/linear_model/_coordinate_descent.py:631: UserWarning: Coordinate descent with no regularization may lead to unexpected results and is discouraged.\n",
            "  model = cd_fast.enet_coordinate_descent(\n",
            "/usr/local/lib/python3.10/dist-packages/sklearn/linear_model/_coordinate_descent.py:631: ConvergenceWarning: Objective did not converge. You might want to increase the number of iterations, check the scale of the features or consider increasing regularisation. Duality gap: 1.616e+16, tolerance: 1.054e+13 Linear regression models with null weight for the l1 regularization term are more efficiently fitted using one of the solvers implemented in sklearn.linear_model.Ridge/RidgeCV instead.\n",
            "  model = cd_fast.enet_coordinate_descent(\n",
            "/usr/local/lib/python3.10/dist-packages/sklearn/linear_model/_coordinate_descent.py:631: ConvergenceWarning: Objective did not converge. You might want to increase the number of iterations, check the scale of the features or consider increasing regularisation. Duality gap: 1.635e+16, tolerance: 4.939e+12\n",
            "  model = cd_fast.enet_coordinate_descent(\n",
            "/usr/local/lib/python3.10/dist-packages/sklearn/linear_model/_coordinate_descent.py:631: ConvergenceWarning: Objective did not converge. You might want to increase the number of iterations, check the scale of the features or consider increasing regularisation. Duality gap: 1.507e+16, tolerance: 4.879e+12\n",
            "  model = cd_fast.enet_coordinate_descent(\n",
            "/usr/local/lib/python3.10/dist-packages/sklearn/linear_model/_coordinate_descent.py:631: ConvergenceWarning: Objective did not converge. You might want to increase the number of iterations, check the scale of the features or consider increasing regularisation. Duality gap: 1.511e+16, tolerance: 4.762e+12\n",
            "  model = cd_fast.enet_coordinate_descent(\n",
            "/usr/local/lib/python3.10/dist-packages/sklearn/linear_model/_coordinate_descent.py:631: ConvergenceWarning: Objective did not converge. You might want to increase the number of iterations, check the scale of the features or consider increasing regularisation. Duality gap: 1.503e+16, tolerance: 4.787e+12\n",
            "  model = cd_fast.enet_coordinate_descent(\n",
            "/usr/local/lib/python3.10/dist-packages/sklearn/linear_model/_coordinate_descent.py:631: ConvergenceWarning: Objective did not converge. You might want to increase the number of iterations, check the scale of the features or consider increasing regularisation. Duality gap: 1.603e+16, tolerance: 5.088e+12\n",
            "  model = cd_fast.enet_coordinate_descent(\n",
            "/usr/local/lib/python3.10/dist-packages/sklearn/linear_model/_coordinate_descent.py:631: ConvergenceWarning: Objective did not converge. You might want to increase the number of iterations, check the scale of the features or consider increasing regularisation. Duality gap: 1.635e+16, tolerance: 1.024e+13\n",
            "  model = cd_fast.enet_coordinate_descent(\n",
            "/usr/local/lib/python3.10/dist-packages/sklearn/linear_model/_coordinate_descent.py:631: ConvergenceWarning: Objective did not converge. You might want to increase the number of iterations, check the scale of the features or consider increasing regularisation. Duality gap: 1.507e+16, tolerance: 1.033e+13\n",
            "  model = cd_fast.enet_coordinate_descent(\n",
            "/usr/local/lib/python3.10/dist-packages/sklearn/linear_model/_coordinate_descent.py:631: ConvergenceWarning: Objective did not converge. You might want to increase the number of iterations, check the scale of the features or consider increasing regularisation. Duality gap: 1.511e+16, tolerance: 9.967e+12\n",
            "  model = cd_fast.enet_coordinate_descent(\n",
            "/usr/local/lib/python3.10/dist-packages/sklearn/linear_model/_coordinate_descent.py:631: ConvergenceWarning: Objective did not converge. You might want to increase the number of iterations, check the scale of the features or consider increasing regularisation. Duality gap: 1.503e+16, tolerance: 9.872e+12\n",
            "  model = cd_fast.enet_coordinate_descent(\n",
            "/usr/local/lib/python3.10/dist-packages/sklearn/linear_model/_coordinate_descent.py:631: ConvergenceWarning: Objective did not converge. You might want to increase the number of iterations, check the scale of the features or consider increasing regularisation. Duality gap: 1.603e+16, tolerance: 1.054e+13\n",
            "  model = cd_fast.enet_coordinate_descent(\n",
            "/usr/local/lib/python3.10/dist-packages/sklearn/linear_model/_coordinate_descent.py:631: ConvergenceWarning: Objective did not converge. You might want to increase the number of iterations, check the scale of the features or consider increasing regularisation. Duality gap: 1.624e+16, tolerance: 4.939e+12\n",
            "  model = cd_fast.enet_coordinate_descent(\n",
            "/usr/local/lib/python3.10/dist-packages/sklearn/linear_model/_coordinate_descent.py:631: ConvergenceWarning: Objective did not converge. You might want to increase the number of iterations, check the scale of the features or consider increasing regularisation. Duality gap: 1.478e+16, tolerance: 4.879e+12\n",
            "  model = cd_fast.enet_coordinate_descent(\n",
            "/usr/local/lib/python3.10/dist-packages/sklearn/linear_model/_coordinate_descent.py:631: ConvergenceWarning: Objective did not converge. You might want to increase the number of iterations, check the scale of the features or consider increasing regularisation. Duality gap: 1.475e+16, tolerance: 4.762e+12\n",
            "  model = cd_fast.enet_coordinate_descent(\n",
            "/usr/local/lib/python3.10/dist-packages/sklearn/linear_model/_coordinate_descent.py:631: ConvergenceWarning: Objective did not converge. You might want to increase the number of iterations, check the scale of the features or consider increasing regularisation. Duality gap: 1.454e+16, tolerance: 4.787e+12\n",
            "  model = cd_fast.enet_coordinate_descent(\n",
            "/usr/local/lib/python3.10/dist-packages/sklearn/linear_model/_coordinate_descent.py:631: ConvergenceWarning: Objective did not converge. You might want to increase the number of iterations, check the scale of the features or consider increasing regularisation. Duality gap: 1.590e+16, tolerance: 5.088e+12\n",
            "  model = cd_fast.enet_coordinate_descent(\n",
            "/usr/local/lib/python3.10/dist-packages/sklearn/linear_model/_coordinate_descent.py:631: ConvergenceWarning: Objective did not converge. You might want to increase the number of iterations, check the scale of the features or consider increasing regularisation. Duality gap: 1.624e+16, tolerance: 1.024e+13\n",
            "  model = cd_fast.enet_coordinate_descent(\n",
            "/usr/local/lib/python3.10/dist-packages/sklearn/linear_model/_coordinate_descent.py:631: ConvergenceWarning: Objective did not converge. You might want to increase the number of iterations, check the scale of the features or consider increasing regularisation. Duality gap: 1.478e+16, tolerance: 1.033e+13\n",
            "  model = cd_fast.enet_coordinate_descent(\n",
            "/usr/local/lib/python3.10/dist-packages/sklearn/linear_model/_coordinate_descent.py:631: ConvergenceWarning: Objective did not converge. You might want to increase the number of iterations, check the scale of the features or consider increasing regularisation. Duality gap: 1.475e+16, tolerance: 9.967e+12\n",
            "  model = cd_fast.enet_coordinate_descent(\n",
            "/usr/local/lib/python3.10/dist-packages/sklearn/linear_model/_coordinate_descent.py:631: ConvergenceWarning: Objective did not converge. You might want to increase the number of iterations, check the scale of the features or consider increasing regularisation. Duality gap: 1.454e+16, tolerance: 9.872e+12\n",
            "  model = cd_fast.enet_coordinate_descent(\n",
            "/usr/local/lib/python3.10/dist-packages/sklearn/linear_model/_coordinate_descent.py:631: ConvergenceWarning: Objective did not converge. You might want to increase the number of iterations, check the scale of the features or consider increasing regularisation. Duality gap: 1.590e+16, tolerance: 1.054e+13\n",
            "  model = cd_fast.enet_coordinate_descent(\n",
            "/usr/local/lib/python3.10/dist-packages/sklearn/linear_model/_coordinate_descent.py:631: ConvergenceWarning: Objective did not converge. You might want to increase the number of iterations, check the scale of the features or consider increasing regularisation. Duality gap: 1.588e+16, tolerance: 4.939e+12\n",
            "  model = cd_fast.enet_coordinate_descent(\n",
            "/usr/local/lib/python3.10/dist-packages/sklearn/linear_model/_coordinate_descent.py:631: ConvergenceWarning: Objective did not converge. You might want to increase the number of iterations, check the scale of the features or consider increasing regularisation. Duality gap: 1.396e+16, tolerance: 4.879e+12\n",
            "  model = cd_fast.enet_coordinate_descent(\n",
            "/usr/local/lib/python3.10/dist-packages/sklearn/linear_model/_coordinate_descent.py:631: ConvergenceWarning: Objective did not converge. You might want to increase the number of iterations, check the scale of the features or consider increasing regularisation. Duality gap: 1.365e+16, tolerance: 4.762e+12\n",
            "  model = cd_fast.enet_coordinate_descent(\n",
            "/usr/local/lib/python3.10/dist-packages/sklearn/linear_model/_coordinate_descent.py:631: ConvergenceWarning: Objective did not converge. You might want to increase the number of iterations, check the scale of the features or consider increasing regularisation. Duality gap: 1.319e+16, tolerance: 4.787e+12\n",
            "  model = cd_fast.enet_coordinate_descent(\n",
            "/usr/local/lib/python3.10/dist-packages/sklearn/linear_model/_coordinate_descent.py:631: ConvergenceWarning: Objective did not converge. You might want to increase the number of iterations, check the scale of the features or consider increasing regularisation. Duality gap: 1.550e+16, tolerance: 5.088e+12\n",
            "  model = cd_fast.enet_coordinate_descent(\n",
            "/usr/local/lib/python3.10/dist-packages/sklearn/linear_model/_coordinate_descent.py:631: ConvergenceWarning: Objective did not converge. You might want to increase the number of iterations, check the scale of the features or consider increasing regularisation. Duality gap: 1.588e+16, tolerance: 1.024e+13\n",
            "  model = cd_fast.enet_coordinate_descent(\n",
            "/usr/local/lib/python3.10/dist-packages/sklearn/linear_model/_coordinate_descent.py:631: ConvergenceWarning: Objective did not converge. You might want to increase the number of iterations, check the scale of the features or consider increasing regularisation. Duality gap: 1.396e+16, tolerance: 1.033e+13\n",
            "  model = cd_fast.enet_coordinate_descent(\n",
            "/usr/local/lib/python3.10/dist-packages/sklearn/linear_model/_coordinate_descent.py:631: ConvergenceWarning: Objective did not converge. You might want to increase the number of iterations, check the scale of the features or consider increasing regularisation. Duality gap: 1.365e+16, tolerance: 9.967e+12\n",
            "  model = cd_fast.enet_coordinate_descent(\n",
            "/usr/local/lib/python3.10/dist-packages/sklearn/linear_model/_coordinate_descent.py:631: ConvergenceWarning: Objective did not converge. You might want to increase the number of iterations, check the scale of the features or consider increasing regularisation. Duality gap: 1.319e+16, tolerance: 9.872e+12\n",
            "  model = cd_fast.enet_coordinate_descent(\n",
            "/usr/local/lib/python3.10/dist-packages/sklearn/linear_model/_coordinate_descent.py:631: ConvergenceWarning: Objective did not converge. You might want to increase the number of iterations, check the scale of the features or consider increasing regularisation. Duality gap: 1.550e+16, tolerance: 1.054e+13\n",
            "  model = cd_fast.enet_coordinate_descent(\n",
            "/usr/local/lib/python3.10/dist-packages/sklearn/linear_model/_coordinate_descent.py:631: ConvergenceWarning: Objective did not converge. You might want to increase the number of iterations, check the scale of the features or consider increasing regularisation. Duality gap: 1.403e+16, tolerance: 4.939e+12\n",
            "  model = cd_fast.enet_coordinate_descent(\n",
            "/usr/local/lib/python3.10/dist-packages/sklearn/linear_model/_coordinate_descent.py:631: ConvergenceWarning: Objective did not converge. You might want to increase the number of iterations, check the scale of the features or consider increasing regularisation. Duality gap: 1.072e+16, tolerance: 4.879e+12\n",
            "  model = cd_fast.enet_coordinate_descent(\n",
            "/usr/local/lib/python3.10/dist-packages/sklearn/linear_model/_coordinate_descent.py:631: ConvergenceWarning: Objective did not converge. You might want to increase the number of iterations, check the scale of the features or consider increasing regularisation. Duality gap: 7.642e+15, tolerance: 4.762e+12\n",
            "  model = cd_fast.enet_coordinate_descent(\n",
            "/usr/local/lib/python3.10/dist-packages/sklearn/linear_model/_coordinate_descent.py:631: ConvergenceWarning: Objective did not converge. You might want to increase the number of iterations, check the scale of the features or consider increasing regularisation. Duality gap: 8.610e+15, tolerance: 4.787e+12\n",
            "  model = cd_fast.enet_coordinate_descent(\n",
            "/usr/local/lib/python3.10/dist-packages/sklearn/linear_model/_coordinate_descent.py:631: ConvergenceWarning: Objective did not converge. You might want to increase the number of iterations, check the scale of the features or consider increasing regularisation. Duality gap: 1.341e+16, tolerance: 5.088e+12\n",
            "  model = cd_fast.enet_coordinate_descent(\n",
            "/usr/local/lib/python3.10/dist-packages/sklearn/linear_model/_coordinate_descent.py:631: ConvergenceWarning: Objective did not converge. You might want to increase the number of iterations, check the scale of the features or consider increasing regularisation. Duality gap: 1.403e+16, tolerance: 1.024e+13\n",
            "  model = cd_fast.enet_coordinate_descent(\n",
            "/usr/local/lib/python3.10/dist-packages/sklearn/linear_model/_coordinate_descent.py:631: ConvergenceWarning: Objective did not converge. You might want to increase the number of iterations, check the scale of the features or consider increasing regularisation. Duality gap: 1.072e+16, tolerance: 1.033e+13\n",
            "  model = cd_fast.enet_coordinate_descent(\n",
            "/usr/local/lib/python3.10/dist-packages/sklearn/linear_model/_coordinate_descent.py:631: ConvergenceWarning: Objective did not converge. You might want to increase the number of iterations, check the scale of the features or consider increasing regularisation. Duality gap: 7.646e+15, tolerance: 9.967e+12\n",
            "  model = cd_fast.enet_coordinate_descent(\n",
            "/usr/local/lib/python3.10/dist-packages/sklearn/linear_model/_coordinate_descent.py:631: ConvergenceWarning: Objective did not converge. You might want to increase the number of iterations, check the scale of the features or consider increasing regularisation. Duality gap: 8.611e+15, tolerance: 9.872e+12\n",
            "  model = cd_fast.enet_coordinate_descent(\n",
            "/usr/local/lib/python3.10/dist-packages/sklearn/linear_model/_coordinate_descent.py:631: ConvergenceWarning: Objective did not converge. You might want to increase the number of iterations, check the scale of the features or consider increasing regularisation. Duality gap: 1.341e+16, tolerance: 1.054e+13\n",
            "  model = cd_fast.enet_coordinate_descent(\n",
            "/usr/local/lib/python3.10/dist-packages/sklearn/linear_model/_coordinate_descent.py:631: ConvergenceWarning: Objective did not converge. You might want to increase the number of iterations, check the scale of the features or consider increasing regularisation. Duality gap: 3.216e+15, tolerance: 4.939e+12\n",
            "  model = cd_fast.enet_coordinate_descent(\n",
            "/usr/local/lib/python3.10/dist-packages/sklearn/linear_model/_coordinate_descent.py:631: ConvergenceWarning: Objective did not converge. You might want to increase the number of iterations, check the scale of the features or consider increasing regularisation. Duality gap: 3.871e+15, tolerance: 4.879e+12\n",
            "  model = cd_fast.enet_coordinate_descent(\n",
            "/usr/local/lib/python3.10/dist-packages/sklearn/linear_model/_coordinate_descent.py:631: ConvergenceWarning: Objective did not converge. You might want to increase the number of iterations, check the scale of the features or consider increasing regularisation. Duality gap: 2.122e+15, tolerance: 4.787e+12\n",
            "  model = cd_fast.enet_coordinate_descent(\n",
            "/usr/local/lib/python3.10/dist-packages/sklearn/linear_model/_coordinate_descent.py:631: ConvergenceWarning: Objective did not converge. You might want to increase the number of iterations, check the scale of the features or consider increasing regularisation. Duality gap: 1.496e+15, tolerance: 5.088e+12\n",
            "  model = cd_fast.enet_coordinate_descent(\n",
            "/usr/local/lib/python3.10/dist-packages/sklearn/linear_model/_coordinate_descent.py:631: ConvergenceWarning: Objective did not converge. You might want to increase the number of iterations, check the scale of the features or consider increasing regularisation. Duality gap: 3.226e+15, tolerance: 1.024e+13\n",
            "  model = cd_fast.enet_coordinate_descent(\n",
            "/usr/local/lib/python3.10/dist-packages/sklearn/linear_model/_coordinate_descent.py:631: ConvergenceWarning: Objective did not converge. You might want to increase the number of iterations, check the scale of the features or consider increasing regularisation. Duality gap: 3.870e+15, tolerance: 1.033e+13\n",
            "  model = cd_fast.enet_coordinate_descent(\n",
            "/usr/local/lib/python3.10/dist-packages/sklearn/linear_model/_coordinate_descent.py:631: ConvergenceWarning: Objective did not converge. You might want to increase the number of iterations, check the scale of the features or consider increasing regularisation. Duality gap: 2.125e+15, tolerance: 9.872e+12\n",
            "  model = cd_fast.enet_coordinate_descent(\n",
            "/usr/local/lib/python3.10/dist-packages/sklearn/linear_model/_coordinate_descent.py:631: ConvergenceWarning: Objective did not converge. You might want to increase the number of iterations, check the scale of the features or consider increasing regularisation. Duality gap: 1.505e+15, tolerance: 1.054e+13\n",
            "  model = cd_fast.enet_coordinate_descent(\n",
            "/usr/local/lib/python3.10/dist-packages/sklearn/linear_model/_coordinate_descent.py:631: ConvergenceWarning: Objective did not converge. You might want to increase the number of iterations, check the scale of the features or consider increasing regularisation. Duality gap: 3.418e+13, tolerance: 4.879e+12\n",
            "  model = cd_fast.enet_coordinate_descent(\n",
            "/usr/local/lib/python3.10/dist-packages/sklearn/linear_model/_coordinate_descent.py:631: ConvergenceWarning: Objective did not converge. You might want to increase the number of iterations, check the scale of the features or consider increasing regularisation. Duality gap: 2.140e+13, tolerance: 4.787e+12\n",
            "  model = cd_fast.enet_coordinate_descent(\n"
          ]
        },
        {
          "output_type": "stream",
          "name": "stdout",
          "text": [
            "{'alpha': 2000, 'fit_intercept': True}\n"
          ]
        },
        {
          "output_type": "stream",
          "name": "stderr",
          "text": [
            "/usr/local/lib/python3.10/dist-packages/sklearn/linear_model/_coordinate_descent.py:631: ConvergenceWarning: Objective did not converge. You might want to increase the number of iterations, check the scale of the features or consider increasing regularisation. Duality gap: 3.688e+13, tolerance: 1.033e+13\n",
            "  model = cd_fast.enet_coordinate_descent(\n",
            "/usr/local/lib/python3.10/dist-packages/sklearn/linear_model/_coordinate_descent.py:631: ConvergenceWarning: Objective did not converge. You might want to increase the number of iterations, check the scale of the features or consider increasing regularisation. Duality gap: 2.329e+13, tolerance: 9.872e+12\n",
            "  model = cd_fast.enet_coordinate_descent(\n"
          ]
        }
      ]
    },
    {
      "cell_type": "code",
      "source": [
        "lasso_best =  grid_lasso_lr.best_estimator_\n",
        "lasso_best.fit(X_train, y_train)\n",
        "y_pred = lasso_best.predict(X_test)\n",
        "y_pred_train = lasso_best.predict(X_train)\n",
        "\n",
        "print(\"Test MAE = %.4f\" % metrics.mean_absolute_error(y_test, y_pred))\n",
        "print(\"Train MAE = %.4f\" % metrics.mean_absolute_error(y_train, y_pred_train))\n",
        "print(f\"Train MSE: { metrics.mean_squared_error(y_train, y_pred_train)}\")\n",
        "print(f\"Test MSE: { metrics.mean_squared_error(y_test, y_pred)}\")\n",
        "print(f\"Train R2: { metrics.r2_score(y_train, y_pred_train)}\")\n",
        "print(f\"Test R2: { metrics.r2_score(y_test, y_pred)}\")"
      ],
      "metadata": {
        "colab": {
          "base_uri": "https://localhost:8080/"
        },
        "id": "mjitkiahn6mH",
        "outputId": "22110ca6-d052-4b55-d4e3-a4b08000cae4"
      },
      "execution_count": null,
      "outputs": [
        {
          "output_type": "stream",
          "name": "stdout",
          "text": [
            "Test MAE = 3908510.0122\n",
            "Train MAE = 3621168.3714\n",
            "Train MSE: 26220811399870.516\n",
            "Test MSE: 31645134743861.324\n",
            "Train R2: 0.3486384639965201\n",
            "Test R2: 0.26870851924828565\n"
          ]
        }
      ]
    },
    {
      "cell_type": "markdown",
      "source": [
        "Тут ситуация немного получше: модель увеличила качества на тестовой выборке, однако по сравнению с обычной линейной регрессией результат получается хуже. Возможно данные связаны нелинейно и нужно использовать полиномы?"
      ],
      "metadata": {
        "id": "NewLWcopo8gR"
      }
    },
    {
      "cell_type": "code",
      "source": [
        "polinom_transform = PolynomialFeatures(2)\n",
        "\n",
        "X_train_poly = polinom_transform.fit_transform(X_train)\n",
        "X_test_poly = polinom_transform.transform(X_test)\n",
        "\n",
        "clf_lr.fit(X_train_poly, y_train)\n",
        "y_pred = clf_lr.predict(X_test_poly)\n",
        "y_pred_train = clf_lr.predict(X_train_poly)\n",
        "print(\"Test MAE = %.4f\" % metrics.mean_absolute_error(y_test, y_pred))\n",
        "print(\"Train MAE = %.4f\" % metrics.mean_absolute_error(y_train, y_pred_train))\n",
        "print(f\"Train MSE: { metrics.mean_squared_error(y_train, y_pred_train)}\")\n",
        "print(f\"Test MSE: { metrics.mean_squared_error(y_test, y_pred)}\")\n",
        "print(f\"Train R2: { metrics.r2_score(y_train, y_pred_train)}\")\n",
        "print(f\"Test R2: { metrics.r2_score(y_test, y_pred)}\")"
      ],
      "metadata": {
        "colab": {
          "base_uri": "https://localhost:8080/"
        },
        "id": "E6nXZ0Pbn6o3",
        "outputId": "7d8a2796-c6d7-46ba-9b8b-7a150b924f82"
      },
      "execution_count": null,
      "outputs": [
        {
          "output_type": "stream",
          "name": "stdout",
          "text": [
            "Test MAE = 1606932880731511.2500\n",
            "Train MAE = 2915379.0818\n",
            "Train MSE: 18021292849507.402\n",
            "Test MSE: 2.6214239598448407e+32\n",
            "Train R2: 0.5523259439911292\n",
            "Test R2: -6.057882277290128e+18\n"
          ]
        }
      ]
    },
    {
      "cell_type": "code",
      "source": [
        "lasso_best.fit(X_train_poly, y_train)\n",
        "y_pred = lasso_best.predict(X_test_poly)\n",
        "y_pred_train = lasso_best.predict(X_train_poly)\n",
        "print(\"Test MAE = %.4f\" % metrics.mean_absolute_error(y_test, y_pred))\n",
        "print(\"Train MAE = %.4f\" % metrics.mean_absolute_error(y_train, y_pred_train))\n",
        "print(f\"Train MSE: { metrics.mean_squared_error(y_train, y_pred_train)}\")\n",
        "print(f\"Test MSE: { metrics.mean_squared_error(y_test, y_pred)}\")\n",
        "print(f\"Train R2: { metrics.r2_score(y_train, y_pred_train)}\")\n",
        "print(f\"Test R2: { metrics.r2_score(y_test, y_pred)}\")"
      ],
      "metadata": {
        "colab": {
          "base_uri": "https://localhost:8080/"
        },
        "id": "w6JFpp_5n6re",
        "outputId": "df968ba6-3941-417f-a8c2-7a12ca9ac771"
      },
      "execution_count": null,
      "outputs": [
        {
          "output_type": "stream",
          "name": "stdout",
          "text": [
            "Test MAE = 4182110.7827\n",
            "Train MAE = 3129560.3622\n",
            "Train MSE: 19628001511444.98\n",
            "Test MSE: 40061032080653.92\n",
            "Train R2: 0.5124130592985172\n",
            "Test R2: 0.07422446743139965\n"
          ]
        },
        {
          "output_type": "stream",
          "name": "stderr",
          "text": [
            "/usr/local/lib/python3.10/dist-packages/sklearn/linear_model/_coordinate_descent.py:631: ConvergenceWarning: Objective did not converge. You might want to increase the number of iterations, check the scale of the features or consider increasing regularisation. Duality gap: 2.684e+15, tolerance: 6.115e+12\n",
            "  model = cd_fast.enet_coordinate_descent(\n"
          ]
        }
      ]
    },
    {
      "cell_type": "code",
      "source": [
        "ridge_best.fit(X_train_poly, y_train)\n",
        "y_pred = ridge_best.predict(X_test_poly)\n",
        "y_pred_train = ridge_best.predict(X_train_poly)\n",
        "print(\"Test MAE = %.4f\" % metrics.mean_absolute_error(y_test, y_pred))\n",
        "print(\"Train MAE = %.4f\" % metrics.mean_absolute_error(y_train, y_pred_train))\n",
        "print(f\"Train MSE: { metrics.mean_squared_error(y_train, y_pred_train)}\")\n",
        "print(f\"Test MSE: { metrics.mean_squared_error(y_test, y_pred)}\")\n",
        "print(f\"Train R2: { metrics.r2_score(y_train, y_pred_train)}\")\n",
        "print(f\"Test R2: { metrics.r2_score(y_test, y_pred)}\")"
      ],
      "metadata": {
        "colab": {
          "base_uri": "https://localhost:8080/"
        },
        "id": "dtoPXz4mn6uF",
        "outputId": "ee6a0acc-8784-4fa4-a3ea-1e790c88dc03"
      },
      "execution_count": null,
      "outputs": [
        {
          "output_type": "stream",
          "name": "stdout",
          "text": [
            "Test MAE = 4009792.5411\n",
            "Train MAE = 3200038.0758\n",
            "Train MSE: 20349456694083.28\n",
            "Test MSE: 33705557644185.14\n",
            "Train R2: 0.4944911060547944\n",
            "Test R2: 0.22109394196970933\n"
          ]
        }
      ]
    },
    {
      "cell_type": "markdown",
      "source": [
        "К сожалению, даже полиномы нас не спасли. Скорее всего, всё дело в том, что линейные модели не могут решить такую задачу из-за того что у признаков отсутствует линейная связь с целевой переменной. Надеюсь,  ошибки в обработке данных не были допущены и результаты действительно пусть и плохие, но без ошибок. Однако, остались ещё модели, которые как раз должны учитывать эту нелинейность, передём к ним"
      ],
      "metadata": {
        "id": "wXvSoaFwpPsA"
      }
    },
    {
      "cell_type": "markdown",
      "source": [
        "**Попробуем построить леса и решающие деревья**"
      ],
      "metadata": {
        "id": "HiN5WBtGpfyY"
      }
    },
    {
      "cell_type": "code",
      "source": [
        "dt = DecisionTreeRegressor(random_state=0)\n",
        "dt.fit(X_train, y_train)\n",
        "y_pred = dt.predict(X_test)\n",
        "y_pred_train = dt.predict(X_train)\n",
        "print(\"Test MAE = %.4f\" % metrics.mean_absolute_error(y_test, y_pred))\n",
        "print(\"Train MAE = %.4f\" % metrics.mean_absolute_error(y_train, y_pred_train))\n",
        "print(f\"Train MSE: { metrics.mean_squared_error(y_train, y_pred_train)}\")\n",
        "print(f\"Test MSE: { metrics.mean_squared_error(y_test, y_pred)}\")\n",
        "print(f\"Train R2: { metrics.r2_score(y_train, y_pred_train)}\")\n",
        "print(f\"Test R2: { metrics.r2_score(y_test, y_pred)}\")"
      ],
      "metadata": {
        "colab": {
          "base_uri": "https://localhost:8080/"
        },
        "id": "G1pVfcF1n6wl",
        "outputId": "6097eafa-2205-4a7d-a022-8cbb6065ffde"
      },
      "execution_count": null,
      "outputs": [
        {
          "output_type": "stream",
          "name": "stdout",
          "text": [
            "Test MAE = 4623254.5691\n",
            "Train MAE = 167337.0639\n",
            "Train MSE: 946678261465.8766\n",
            "Test MSE: 48556899110699.78\n",
            "Train R2: 0.976483191267965\n",
            "Test R2: -0.12210761429175143\n"
          ]
        }
      ]
    },
    {
      "cell_type": "markdown",
      "source": [
        "**Попробуем подобрать параметры**"
      ],
      "metadata": {
        "id": "drf1LZqtpt9S"
      }
    },
    {
      "cell_type": "code",
      "source": [
        "param = {'max_depth': [3, 7, 12, 16, 20], 'min_samples_leaf': [1, 5, 10, 15, 20], 'min_samples_split': [2, 3, 4, 5, 6],\n",
        "        'min_samples_leaf': [1, 2, 3, 4, 5]}\n",
        "grid_dt = GridSearchCV(estimator = dt, param_grid = param, scoring = 'r2')\n",
        "grid_dt.fit(X_train, y_train)\n",
        "print(grid_dt.best_params_)"
      ],
      "metadata": {
        "colab": {
          "base_uri": "https://localhost:8080/"
        },
        "id": "CBQe0fKWpfL7",
        "outputId": "c9d06979-2f14-475a-d94f-0bf498290be3"
      },
      "execution_count": null,
      "outputs": [
        {
          "output_type": "stream",
          "name": "stdout",
          "text": [
            "{'max_depth': 3, 'min_samples_leaf': 2, 'min_samples_split': 2}\n"
          ]
        }
      ]
    },
    {
      "cell_type": "code",
      "source": [
        "dt_best =  grid_dt.best_estimator_\n",
        "dt_best.fit(X_train, y_train)\n",
        "y_pred = dt_best.predict(X_test)\n",
        "y_pred_train = dt_best.predict(X_train)\n",
        "print(\"Test MAE = %.4f\" % metrics.mean_absolute_error(y_test, y_pred))\n",
        "print(\"Train MAE = %.4f\" % metrics.mean_absolute_error(y_train, y_pred_train))\n",
        "print(f\"Train MSE: { metrics.mean_squared_error(y_train, y_pred_train)}\")\n",
        "print(f\"Test MSE: { metrics.mean_squared_error(y_test, y_pred)}\")\n",
        "print(f\"Train R2: { metrics.r2_score(y_train, y_pred_train)}\")\n",
        "print(f\"Test R2: { metrics.r2_score(y_test, y_pred)}\")"
      ],
      "metadata": {
        "colab": {
          "base_uri": "https://localhost:8080/"
        },
        "id": "v_50WFMKpfOl",
        "outputId": "ae0fc0f2-6469-4963-c73d-5e457476d295"
      },
      "execution_count": null,
      "outputs": [
        {
          "output_type": "stream",
          "name": "stdout",
          "text": [
            "Test MAE = 4074121.0329\n",
            "Train MAE = 3819316.4838\n",
            "Train MSE: 28791596450109.66\n",
            "Test MSE: 35462865950330.07\n",
            "Train R2: 0.28477657682903057\n",
            "Test R2: 0.1804840787556713\n"
          ]
        }
      ]
    },
    {
      "cell_type": "markdown",
      "source": [
        "Получается результат ещё хуже. В голове появляется гипотеза о том, что данные вообще не имеют связи и предсказазать нормально целевую переменную невозможно. Надеюсь, никакие ошибки в обработке данных не были допущены."
      ],
      "metadata": {
        "id": "YqDNBUivqAJh"
      }
    },
    {
      "cell_type": "markdown",
      "source": [
        "**Построим случайный лес**"
      ],
      "metadata": {
        "id": "TfdN1uJdqUCN"
      }
    },
    {
      "cell_type": "code",
      "source": [
        "rf = RandomForestRegressor(n_estimators=50, random_state=123, n_jobs=4)\n",
        "rf.fit(X_train, y_train)\n",
        "y_pred = rf.predict(X_test)\n",
        "y_pred_train = rf.predict(X_train)\n",
        "print(\"Test MAE = %.4f\" % metrics.mean_absolute_error(y_test, y_pred))\n",
        "print(\"Train MAE = %.4f\" % metrics.mean_absolute_error(y_train, y_pred_train))\n",
        "print(f\"Train MSE: { metrics.mean_squared_error(y_train, y_pred_train)}\")\n",
        "print(f\"Test MSE: { metrics.mean_squared_error(y_test, y_pred)}\")\n",
        "print(f\"Train R2: { metrics.r2_score(y_train, y_pred_train)}\")\n",
        "print(f\"Test R2: { metrics.r2_score(y_test, y_pred)}\")"
      ],
      "metadata": {
        "colab": {
          "base_uri": "https://localhost:8080/"
        },
        "id": "WIQ-7d5npfQ9",
        "outputId": "8a71e9a5-f3ed-4282-e4b1-8b8cc8c8735e"
      },
      "execution_count": null,
      "outputs": [
        {
          "output_type": "stream",
          "name": "stdout",
          "text": [
            "Test MAE = 3945626.9355\n",
            "Train MAE = 1477425.8274\n",
            "Train MSE: 4947020485624.319\n",
            "Test MSE: 33598754510781.465\n",
            "Train R2: 0.8771091095154725\n",
            "Test R2: 0.2235620692887389\n"
          ]
        }
      ]
    },
    {
      "cell_type": "markdown",
      "source": [
        "Внимание, может быть очень долго! В джупитере подбиралось быстрее, за 1 минуту."
      ],
      "metadata": {
        "id": "OKN5uBnxrmCh"
      }
    },
    {
      "cell_type": "code",
      "source": [
        "param = {'max_depth': [1, 2, 3, 4, 5, 7], 'min_samples_leaf': [1, 5, 10, 15, 20], 'min_samples_split': [2, 3, 4, 5, 6],\n",
        "        'min_samples_leaf': [1, 2, 3, 4, 5]}\n",
        "grid_rf = GridSearchCV(estimator = rf, param_grid = param, scoring = 'r2')\n",
        "grid_rf.fit(X_train, y_train)\n",
        "print(grid_rf.best_params_)"
      ],
      "metadata": {
        "id": "noEwa6oUpfTo",
        "colab": {
          "base_uri": "https://localhost:8080/"
        },
        "outputId": "af32913b-bf94-4d18-fce6-8996e32423ef"
      },
      "execution_count": null,
      "outputs": [
        {
          "output_type": "stream",
          "name": "stdout",
          "text": [
            "{'max_depth': 7, 'min_samples_leaf': 4, 'min_samples_split': 2}\n"
          ]
        }
      ]
    },
    {
      "cell_type": "code",
      "source": [
        "rf_best =  grid_rf.best_estimator_\n",
        "rf_best.fit(X_train, y_train)\n",
        "y_pred = rf_best.predict(X_test)\n",
        "y_pred_train = rf_best.predict(X_train)\n",
        "print(\"Test MAE = %.4f\" % metrics.mean_absolute_error(y_test, y_pred))\n",
        "print(\"Train MAE = %.4f\" % metrics.mean_absolute_error(y_train, y_pred_train))\n",
        "print(f\"Train MSE: { metrics.mean_squared_error(y_train, y_pred_train)}\")\n",
        "print(f\"Test MSE: { metrics.mean_squared_error(y_test, y_pred)}\")\n",
        "print(f\"Train R2: { metrics.r2_score(y_train, y_pred_train)}\")\n",
        "print(f\"Test R2: { metrics.r2_score(y_test, y_pred)}\")"
      ],
      "metadata": {
        "id": "rDMU1i33pfWA",
        "colab": {
          "base_uri": "https://localhost:8080/"
        },
        "outputId": "f7ec55c4-7bcb-4b0d-8905-24e8b0ac85e9"
      },
      "execution_count": null,
      "outputs": [
        {
          "output_type": "stream",
          "name": "stdout",
          "text": [
            "Test MAE = 3970388.6387\n",
            "Train MAE = 3182500.8720\n",
            "Train MSE: 19918057003099.34\n",
            "Test MSE: 32831053875719.11\n",
            "Train R2: 0.5052076762274518\n",
            "Test R2: 0.24130296180611666\n"
          ]
        }
      ]
    },
    {
      "cell_type": "markdown",
      "source": [
        "Случайные леса, к сожалению, также не помогли решить проблему."
      ],
      "metadata": {
        "id": "lAy9JPoaq15M"
      }
    },
    {
      "cell_type": "markdown",
      "source": [
        "**Бэггинг**"
      ],
      "metadata": {
        "id": "fuA9FPstq1-3"
      }
    },
    {
      "cell_type": "code",
      "source": [
        "bag = BaggingRegressor(dt_best, n_estimators=50, n_jobs=4)\n",
        "bag.fit(X_train, y_train)\n",
        "y_pred_train = bag.predict(X_train)\n",
        "y_pred =  bag.predict(X_test)\n",
        "# TODO: рассчитайте MSE на тренировочной и тестовой выборках\n",
        "print(\"Test MAE = %.4f\" % metrics.mean_absolute_error(y_test, y_pred))\n",
        "print(\"Train MAE = %.4f\" % metrics.mean_absolute_error(y_train, y_pred_train))\n",
        "print(f\"Train MSE: { metrics.mean_squared_error(y_train, y_pred_train)}\")\n",
        "print(f\"Test MSE: { metrics.mean_squared_error(y_test, y_pred)}\")\n",
        "print(f\"Train R2: { metrics.r2_score(y_train, y_pred_train)}\")\n",
        "print(f\"Test R2: { metrics.r2_score(y_test, y_pred)}\")"
      ],
      "metadata": {
        "id": "4hzltTofpfYH",
        "colab": {
          "base_uri": "https://localhost:8080/",
          "height": 240
        },
        "outputId": "00d95ef5-4871-4e50-e78f-0d14759b7c4b"
      },
      "execution_count": null,
      "outputs": [
        {
          "output_type": "error",
          "ename": "NameError",
          "evalue": "ignored",
          "traceback": [
            "\u001b[0;31m---------------------------------------------------------------------------\u001b[0m",
            "\u001b[0;31mNameError\u001b[0m                                 Traceback (most recent call last)",
            "\u001b[0;32m<ipython-input-717-9b07d7bfc8b1>\u001b[0m in \u001b[0;36m<cell line: 1>\u001b[0;34m()\u001b[0m\n\u001b[0;32m----> 1\u001b[0;31m \u001b[0mbag\u001b[0m \u001b[0;34m=\u001b[0m \u001b[0mBaggingRegressor\u001b[0m\u001b[0;34m(\u001b[0m\u001b[0mdt_best\u001b[0m\u001b[0;34m,\u001b[0m \u001b[0mn_estimators\u001b[0m\u001b[0;34m=\u001b[0m\u001b[0;36m50\u001b[0m\u001b[0;34m,\u001b[0m \u001b[0mn_jobs\u001b[0m\u001b[0;34m=\u001b[0m\u001b[0;36m4\u001b[0m\u001b[0;34m)\u001b[0m\u001b[0;34m\u001b[0m\u001b[0;34m\u001b[0m\u001b[0m\n\u001b[0m\u001b[1;32m      2\u001b[0m \u001b[0mbag\u001b[0m\u001b[0;34m.\u001b[0m\u001b[0mfit\u001b[0m\u001b[0;34m(\u001b[0m\u001b[0mX_train\u001b[0m\u001b[0;34m,\u001b[0m \u001b[0my_train\u001b[0m\u001b[0;34m)\u001b[0m\u001b[0;34m\u001b[0m\u001b[0;34m\u001b[0m\u001b[0m\n\u001b[1;32m      3\u001b[0m \u001b[0my_pred_train\u001b[0m \u001b[0;34m=\u001b[0m \u001b[0mbag\u001b[0m\u001b[0;34m.\u001b[0m\u001b[0mpredict\u001b[0m\u001b[0;34m(\u001b[0m\u001b[0mX_train\u001b[0m\u001b[0;34m)\u001b[0m\u001b[0;34m\u001b[0m\u001b[0;34m\u001b[0m\u001b[0m\n\u001b[1;32m      4\u001b[0m \u001b[0my_pred\u001b[0m \u001b[0;34m=\u001b[0m  \u001b[0mbag\u001b[0m\u001b[0;34m.\u001b[0m\u001b[0mpredict\u001b[0m\u001b[0;34m(\u001b[0m\u001b[0mX_test\u001b[0m\u001b[0;34m)\u001b[0m\u001b[0;34m\u001b[0m\u001b[0;34m\u001b[0m\u001b[0m\n\u001b[1;32m      5\u001b[0m \u001b[0;31m# TODO: рассчитайте MSE на тренировочной и тестовой выборках\u001b[0m\u001b[0;34m\u001b[0m\u001b[0;34m\u001b[0m\u001b[0m\n",
            "\u001b[0;31mNameError\u001b[0m: name 'BaggingRegressor' is not defined"
          ]
        }
      ]
    },
    {
      "cell_type": "markdown",
      "source": [
        "Выводы: Нормальную модель машинного обучения построить не получилось. Скорее всего причина в данных, либо в допущенных ошибках в процессе их подготовки."
      ],
      "metadata": {
        "id": "o3Aizdp5rAbm"
      }
    }
  ]
}