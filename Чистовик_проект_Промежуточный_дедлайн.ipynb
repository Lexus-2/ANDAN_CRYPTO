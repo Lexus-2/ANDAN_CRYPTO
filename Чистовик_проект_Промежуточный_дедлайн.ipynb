{
  "nbformat": 4,
  "nbformat_minor": 0,
  "metadata": {
    "colab": {
      "provenance": [],
      "collapsed_sections": [
        "fWWPSmdZKS_Q",
        "CNfu_jdYuVcG",
        "ugcN8FPmviAs",
        "Vg7CL1LUxPEv"
      ]
    },
    "kernelspec": {
      "name": "python3",
      "display_name": "Python 3"
    },
    "language_info": {
      "name": "python"
    },
    "gpuClass": "standard"
  },
  "cells": [
    {
      "cell_type": "markdown",
      "source": [
        "<center>\n",
        "<img src='https://media.giphy.com/media/v1.Y2lkPTc5MGI3NjExMDBjNTczYzE0NTIxMjlmYjg1OGQwN2UxYzk4M2VlYzRlYTUzNjlkMyZlcD12MV9pbnRlcm5hbF9naWZzX2dpZklkJmN0PWc/8qGPuB8AQW3AZuXVSb/giphy.gif' align='center' width=\"500x\">\n",
        "</center>"
      ],
      "metadata": {
        "id": "7rLQbdxXAY8N"
      }
    },
    {
      "cell_type": "markdown",
      "source": [
        "###**Тема проекта** \n",
        "Венчурные инвестиции в криптопроекты за период с 1 января 2021 года - до 1 января 2023 года\n",
        "\n",
        "\\\n",
        "\n",
        "---\n",
        "\\\n",
        "\n",
        "**Источник:** https://cryptorank.io/funding-rounds \n",
        "\n",
        "> Один из самых авторитетных источников, предоставляющий данные и аналитику о цифровых активах. Для сбора информации cryptorank использует первоначальные и проверенные источники, включая биржи криптовалют, официальные сайты компаний, новостные ресурсы, пресс-релизы, социальные сети проектов и другие источники, чтобы собирать информацию о финансировании проектов.\n",
        "\n",
        "\n"
      ],
      "metadata": {
        "id": "DQgbrsfV4mcP"
      }
    },
    {
      "cell_type": "markdown",
      "source": [
        "#Сбор данных"
      ],
      "metadata": {
        "id": "8rmYuROx4geQ"
      }
    },
    {
      "cell_type": "markdown",
      "source": [
        "Был выполнен парсинг источника проекта, отфильтрованного по дате за период с 1 января 2021 года - до 1 января 2023 года\n",
        "\n",
        "\\\n",
        "\n",
        "---\n"
      ],
      "metadata": {
        "id": "SPwL0iFgKqgO"
      }
    },
    {
      "cell_type": "code",
      "source": [
        "import urllib.request\n",
        "import requests\n",
        "from bs4 import BeautifulSoup\n",
        "import pandas as pd\n",
        "import numpy as np"
      ],
      "metadata": {
        "id": "ZpHYs4tAgtog"
      },
      "execution_count": null,
      "outputs": []
    },
    {
      "cell_type": "markdown",
      "source": [
        "**Шаг 1**\n",
        "\n",
        "Мы нашли в коде сайта местоположения таблиц \n",
        "\n",
        "> Так как outerHTML таблиц большие и по размеру, и по весу - мы сохранили ссылки на страницы, как текстовый файл и перенесли в Google Disk для их открытия\n",
        "\n"
      ],
      "metadata": {
        "id": "_2-1iuN-HkRA"
      }
    },
    {
      "cell_type": "code",
      "source": [
        "url = \"https://drive.google.com/uc?id=1PrjmYUWyA0ncWkkwn_7Girj4OJgjtXId\"\n",
        "with urllib.request.urlopen(url) as response:\n",
        "    html = response.read().decode()\n",
        "html = html.split(\"\\n\")"
      ],
      "metadata": {
        "id": "FOeFEqeB25rx"
      },
      "execution_count": null,
      "outputs": []
    },
    {
      "cell_type": "markdown",
      "source": [
        "**Шаг 2**\n",
        "\n",
        "Далее мы запарсили таблицы с помощью BeautifulSoup, который находит тег table - элемент, где как раз хранятся наши данные\n",
        "\n",
        "Нашли все строки и вытащили из каждой информацию про инвестиции в определенный проект\n",
        "\n",
        "Полученные данные сохранили в df для будущего анализа"
      ],
      "metadata": {
        "id": "O3YMJjfJIZit"
      }
    },
    {
      "cell_type": "code",
      "source": [
        "df = []\n",
        "for i in range(len(html)-1):\n",
        "    beautiful_soup = BeautifulSoup(html[i], 'html.parser')\n",
        "    table = beautiful_soup.find('table')\n",
        "    rows = table.find_all('tr')\n",
        "    \n",
        "    for row in rows:\n",
        "        cols = row.find_all('td')\n",
        "        cols = [col.text.strip() for col in cols]\n",
        "        df.append(cols) "
      ],
      "metadata": {
        "id": "23LAo36i3BBz"
      },
      "execution_count": null,
      "outputs": []
    },
    {
      "cell_type": "markdown",
      "source": [
        "**Шаг 3**\n",
        "\n",
        "Переформатировали запарсенные данные df в формат pandas и озаглавили столбцы соответственно для более удобного последующего анализа и моделирования"
      ],
      "metadata": {
        "id": "MEiFHRFDJ_PM"
      }
    },
    {
      "cell_type": "code",
      "source": [
        "funding_rounds = pd.DataFrame(df, columns = ['Project', 'Date', 'Raise', 'Stage', 'Funds and investors', 'Category'])\n",
        "\n",
        "print(funding_rounds.shape)\n",
        "funding_rounds.head()"
      ],
      "metadata": {
        "colab": {
          "base_uri": "https://localhost:8080/",
          "height": 224
        },
        "id": "ffu-Srql3Tvs",
        "outputId": "bab03576-090c-47e3-bfff-6de162197658"
      },
      "execution_count": null,
      "outputs": [
        {
          "output_type": "stream",
          "name": "stdout",
          "text": [
            "(3742, 6)\n"
          ]
        },
        {
          "output_type": "execute_result",
          "data": {
            "text/plain": [
              "         Project         Date        Raise     Stage Funds and investors  \\\n",
              "0           None         None         None      None                None   \n",
              "1       DeSchool  31 Dec 2022                   Seed     y2z Ventures +5   \n",
              "2  Magic Fantasy  30 Dec 2022  $ 3,000,000   Unknown           Easycoins   \n",
              "3          Twity  29 Dec 2022  $ 6,500,000  Series A        Wave Capital   \n",
              "4     wowTalkies  29 Dec 2022                Unknown  Tangentia Ventures   \n",
              "\n",
              "             Category  \n",
              "0                None  \n",
              "1  Blockchain Service  \n",
              "2              GameFi  \n",
              "3              Social  \n",
              "4              Social  "
            ],
            "text/html": [
              "\n",
              "  <div id=\"df-8dee14b2-ebd1-497f-a90f-a5d7458ce03b\">\n",
              "    <div class=\"colab-df-container\">\n",
              "      <div>\n",
              "<style scoped>\n",
              "    .dataframe tbody tr th:only-of-type {\n",
              "        vertical-align: middle;\n",
              "    }\n",
              "\n",
              "    .dataframe tbody tr th {\n",
              "        vertical-align: top;\n",
              "    }\n",
              "\n",
              "    .dataframe thead th {\n",
              "        text-align: right;\n",
              "    }\n",
              "</style>\n",
              "<table border=\"1\" class=\"dataframe\">\n",
              "  <thead>\n",
              "    <tr style=\"text-align: right;\">\n",
              "      <th></th>\n",
              "      <th>Project</th>\n",
              "      <th>Date</th>\n",
              "      <th>Raise</th>\n",
              "      <th>Stage</th>\n",
              "      <th>Funds and investors</th>\n",
              "      <th>Category</th>\n",
              "    </tr>\n",
              "  </thead>\n",
              "  <tbody>\n",
              "    <tr>\n",
              "      <th>0</th>\n",
              "      <td>None</td>\n",
              "      <td>None</td>\n",
              "      <td>None</td>\n",
              "      <td>None</td>\n",
              "      <td>None</td>\n",
              "      <td>None</td>\n",
              "    </tr>\n",
              "    <tr>\n",
              "      <th>1</th>\n",
              "      <td>DeSchool</td>\n",
              "      <td>31 Dec 2022</td>\n",
              "      <td></td>\n",
              "      <td>Seed</td>\n",
              "      <td>y2z Ventures +5</td>\n",
              "      <td>Blockchain Service</td>\n",
              "    </tr>\n",
              "    <tr>\n",
              "      <th>2</th>\n",
              "      <td>Magic Fantasy</td>\n",
              "      <td>30 Dec 2022</td>\n",
              "      <td>$ 3,000,000</td>\n",
              "      <td>Unknown</td>\n",
              "      <td>Easycoins</td>\n",
              "      <td>GameFi</td>\n",
              "    </tr>\n",
              "    <tr>\n",
              "      <th>3</th>\n",
              "      <td>Twity</td>\n",
              "      <td>29 Dec 2022</td>\n",
              "      <td>$ 6,500,000</td>\n",
              "      <td>Series A</td>\n",
              "      <td>Wave Capital</td>\n",
              "      <td>Social</td>\n",
              "    </tr>\n",
              "    <tr>\n",
              "      <th>4</th>\n",
              "      <td>wowTalkies</td>\n",
              "      <td>29 Dec 2022</td>\n",
              "      <td></td>\n",
              "      <td>Unknown</td>\n",
              "      <td>Tangentia Ventures</td>\n",
              "      <td>Social</td>\n",
              "    </tr>\n",
              "  </tbody>\n",
              "</table>\n",
              "</div>\n",
              "      <button class=\"colab-df-convert\" onclick=\"convertToInteractive('df-8dee14b2-ebd1-497f-a90f-a5d7458ce03b')\"\n",
              "              title=\"Convert this dataframe to an interactive table.\"\n",
              "              style=\"display:none;\">\n",
              "        \n",
              "  <svg xmlns=\"http://www.w3.org/2000/svg\" height=\"24px\"viewBox=\"0 0 24 24\"\n",
              "       width=\"24px\">\n",
              "    <path d=\"M0 0h24v24H0V0z\" fill=\"none\"/>\n",
              "    <path d=\"M18.56 5.44l.94 2.06.94-2.06 2.06-.94-2.06-.94-.94-2.06-.94 2.06-2.06.94zm-11 1L8.5 8.5l.94-2.06 2.06-.94-2.06-.94L8.5 2.5l-.94 2.06-2.06.94zm10 10l.94 2.06.94-2.06 2.06-.94-2.06-.94-.94-2.06-.94 2.06-2.06.94z\"/><path d=\"M17.41 7.96l-1.37-1.37c-.4-.4-.92-.59-1.43-.59-.52 0-1.04.2-1.43.59L10.3 9.45l-7.72 7.72c-.78.78-.78 2.05 0 2.83L4 21.41c.39.39.9.59 1.41.59.51 0 1.02-.2 1.41-.59l7.78-7.78 2.81-2.81c.8-.78.8-2.07 0-2.86zM5.41 20L4 18.59l7.72-7.72 1.47 1.35L5.41 20z\"/>\n",
              "  </svg>\n",
              "      </button>\n",
              "      \n",
              "  <style>\n",
              "    .colab-df-container {\n",
              "      display:flex;\n",
              "      flex-wrap:wrap;\n",
              "      gap: 12px;\n",
              "    }\n",
              "\n",
              "    .colab-df-convert {\n",
              "      background-color: #E8F0FE;\n",
              "      border: none;\n",
              "      border-radius: 50%;\n",
              "      cursor: pointer;\n",
              "      display: none;\n",
              "      fill: #1967D2;\n",
              "      height: 32px;\n",
              "      padding: 0 0 0 0;\n",
              "      width: 32px;\n",
              "    }\n",
              "\n",
              "    .colab-df-convert:hover {\n",
              "      background-color: #E2EBFA;\n",
              "      box-shadow: 0px 1px 2px rgba(60, 64, 67, 0.3), 0px 1px 3px 1px rgba(60, 64, 67, 0.15);\n",
              "      fill: #174EA6;\n",
              "    }\n",
              "\n",
              "    [theme=dark] .colab-df-convert {\n",
              "      background-color: #3B4455;\n",
              "      fill: #D2E3FC;\n",
              "    }\n",
              "\n",
              "    [theme=dark] .colab-df-convert:hover {\n",
              "      background-color: #434B5C;\n",
              "      box-shadow: 0px 1px 3px 1px rgba(0, 0, 0, 0.15);\n",
              "      filter: drop-shadow(0px 1px 2px rgba(0, 0, 0, 0.3));\n",
              "      fill: #FFFFFF;\n",
              "    }\n",
              "  </style>\n",
              "\n",
              "      <script>\n",
              "        const buttonEl =\n",
              "          document.querySelector('#df-8dee14b2-ebd1-497f-a90f-a5d7458ce03b button.colab-df-convert');\n",
              "        buttonEl.style.display =\n",
              "          google.colab.kernel.accessAllowed ? 'block' : 'none';\n",
              "\n",
              "        async function convertToInteractive(key) {\n",
              "          const element = document.querySelector('#df-8dee14b2-ebd1-497f-a90f-a5d7458ce03b');\n",
              "          const dataTable =\n",
              "            await google.colab.kernel.invokeFunction('convertToInteractive',\n",
              "                                                     [key], {});\n",
              "          if (!dataTable) return;\n",
              "\n",
              "          const docLinkHtml = 'Like what you see? Visit the ' +\n",
              "            '<a target=\"_blank\" href=https://colab.research.google.com/notebooks/data_table.ipynb>data table notebook</a>'\n",
              "            + ' to learn more about interactive tables.';\n",
              "          element.innerHTML = '';\n",
              "          dataTable['output_type'] = 'display_data';\n",
              "          await google.colab.output.renderOutput(dataTable, element);\n",
              "          const docLink = document.createElement('div');\n",
              "          docLink.innerHTML = docLinkHtml;\n",
              "          element.appendChild(docLink);\n",
              "        }\n",
              "      </script>\n",
              "    </div>\n",
              "  </div>\n",
              "  "
            ]
          },
          "metadata": {},
          "execution_count": 165
        }
      ]
    },
    {
      "cell_type": "markdown",
      "source": [
        "\n",
        "\n",
        "---\n",
        "\n",
        "\\\n",
        "**Информация о полученных данных (по столбцам):**\n",
        "\n",
        "1.    Project - название проекта (стартапа) в Web3, который находится на стадии рейза\n",
        "2.    Date - дата фандрейза проекта\n",
        "3.    Raise - сумма финансирования (cумма, которую стартап собрал от инвесторов и/или венчурных фондов, $)\n",
        "4.    Stage - раунд/стадия развития стартапа, на которую приходится венчурное финансирование\n",
        "5.    Funds and investors - инвесторы и/или венчурные фонды в проект (ведущий инвестор представленного раунда  + количество других инвесторов проекта)\n",
        "6.    Category - отрасль, тематика проекта\n"
      ],
      "metadata": {
        "id": "CrmM6twBLgkU"
      }
    },
    {
      "cell_type": "markdown",
      "source": [
        "# Предварительная обработка"
      ],
      "metadata": {
        "id": "fWWPSmdZKS_Q"
      }
    },
    {
      "cell_type": "markdown",
      "source": [
        "Была выполнена первоначальная обработка собранной информации: форматирование данных, заполнение пустых значений, нахождение и корректировка выбросов\n",
        "\n",
        "\\\n",
        "\n",
        "---\n"
      ],
      "metadata": {
        "id": "vR40GfgINaME"
      }
    },
    {
      "cell_type": "markdown",
      "source": [
        "**Шаг 1**\n",
        "\n",
        "Преобразуем пустые значения в более привычный нам вид NaN"
      ],
      "metadata": {
        "id": "2Ch06QnMOice"
      }
    },
    {
      "cell_type": "code",
      "source": [
        "funding_rounds = funding_rounds.dropna(how='all').replace('', np.nan)"
      ],
      "metadata": {
        "id": "ulJqOcHZ3bNR"
      },
      "execution_count": null,
      "outputs": []
    },
    {
      "cell_type": "markdown",
      "source": [
        "**Шаг 2**\n",
        "\n",
        "Поработаем над колонкой 'Funds and investors' - разделим ее на два новых столбца:\n",
        "\n",
        "\n",
        "1.   Lead Investor - ведущий инвестор (инвестор, который чаще всего предоставляет наибольший объем финансирования, обычно он вносит первые инвестиции в стартап и принимает большое участие в будущем развитии проекта)\n",
        "2.   Investors quantity - количество инвесторов (не включая лид - инвестора)\n",
        "\n"
      ],
      "metadata": {
        "id": "Ml3vXhmlOxIU"
      }
    },
    {
      "cell_type": "code",
      "source": [
        "funding_rounds[['Lead Investor', 'Investors quantity']] = funding_rounds['Funds and investors'].str.rsplit(' +', n=1, expand=True)\n",
        "funding_rounds = funding_rounds.drop('Funds and investors', axis=1)\n",
        "\n",
        "funding_rounds.head()"
      ],
      "metadata": {
        "colab": {
          "base_uri": "https://localhost:8080/",
          "height": 206
        },
        "id": "oAKrajEJOu6Z",
        "outputId": "22819b77-17af-485f-d35a-a1148db455a9"
      },
      "execution_count": null,
      "outputs": [
        {
          "output_type": "execute_result",
          "data": {
            "text/plain": [
              "           Project         Date         Raise           Stage  \\\n",
              "1         DeSchool  31 Dec 2022           NaN            Seed   \n",
              "2    Magic Fantasy  30 Dec 2022   $ 3,000,000         Unknown   \n",
              "3            Twity  29 Dec 2022   $ 6,500,000        Series A   \n",
              "4       wowTalkies  29 Dec 2022           NaN         Unknown   \n",
              "5  Argo Blockchain  28 Dec 2022  $ 35,000,000  Debt Financing   \n",
              "\n",
              "             Category       Lead Investor Investors quantity  \n",
              "1  Blockchain Service        y2z Ventures                  5  \n",
              "2              GameFi           Easycoins               None  \n",
              "3              Social        Wave Capital               None  \n",
              "4              Social  Tangentia Ventures               None  \n",
              "5  Blockchain Service              Galaxy               None  "
            ],
            "text/html": [
              "\n",
              "  <div id=\"df-3a7730ed-b5e9-42ae-b6ea-880b5e2deed4\">\n",
              "    <div class=\"colab-df-container\">\n",
              "      <div>\n",
              "<style scoped>\n",
              "    .dataframe tbody tr th:only-of-type {\n",
              "        vertical-align: middle;\n",
              "    }\n",
              "\n",
              "    .dataframe tbody tr th {\n",
              "        vertical-align: top;\n",
              "    }\n",
              "\n",
              "    .dataframe thead th {\n",
              "        text-align: right;\n",
              "    }\n",
              "</style>\n",
              "<table border=\"1\" class=\"dataframe\">\n",
              "  <thead>\n",
              "    <tr style=\"text-align: right;\">\n",
              "      <th></th>\n",
              "      <th>Project</th>\n",
              "      <th>Date</th>\n",
              "      <th>Raise</th>\n",
              "      <th>Stage</th>\n",
              "      <th>Category</th>\n",
              "      <th>Lead Investor</th>\n",
              "      <th>Investors quantity</th>\n",
              "    </tr>\n",
              "  </thead>\n",
              "  <tbody>\n",
              "    <tr>\n",
              "      <th>1</th>\n",
              "      <td>DeSchool</td>\n",
              "      <td>31 Dec 2022</td>\n",
              "      <td>NaN</td>\n",
              "      <td>Seed</td>\n",
              "      <td>Blockchain Service</td>\n",
              "      <td>y2z Ventures</td>\n",
              "      <td>5</td>\n",
              "    </tr>\n",
              "    <tr>\n",
              "      <th>2</th>\n",
              "      <td>Magic Fantasy</td>\n",
              "      <td>30 Dec 2022</td>\n",
              "      <td>$ 3,000,000</td>\n",
              "      <td>Unknown</td>\n",
              "      <td>GameFi</td>\n",
              "      <td>Easycoins</td>\n",
              "      <td>None</td>\n",
              "    </tr>\n",
              "    <tr>\n",
              "      <th>3</th>\n",
              "      <td>Twity</td>\n",
              "      <td>29 Dec 2022</td>\n",
              "      <td>$ 6,500,000</td>\n",
              "      <td>Series A</td>\n",
              "      <td>Social</td>\n",
              "      <td>Wave Capital</td>\n",
              "      <td>None</td>\n",
              "    </tr>\n",
              "    <tr>\n",
              "      <th>4</th>\n",
              "      <td>wowTalkies</td>\n",
              "      <td>29 Dec 2022</td>\n",
              "      <td>NaN</td>\n",
              "      <td>Unknown</td>\n",
              "      <td>Social</td>\n",
              "      <td>Tangentia Ventures</td>\n",
              "      <td>None</td>\n",
              "    </tr>\n",
              "    <tr>\n",
              "      <th>5</th>\n",
              "      <td>Argo Blockchain</td>\n",
              "      <td>28 Dec 2022</td>\n",
              "      <td>$ 35,000,000</td>\n",
              "      <td>Debt Financing</td>\n",
              "      <td>Blockchain Service</td>\n",
              "      <td>Galaxy</td>\n",
              "      <td>None</td>\n",
              "    </tr>\n",
              "  </tbody>\n",
              "</table>\n",
              "</div>\n",
              "      <button class=\"colab-df-convert\" onclick=\"convertToInteractive('df-3a7730ed-b5e9-42ae-b6ea-880b5e2deed4')\"\n",
              "              title=\"Convert this dataframe to an interactive table.\"\n",
              "              style=\"display:none;\">\n",
              "        \n",
              "  <svg xmlns=\"http://www.w3.org/2000/svg\" height=\"24px\"viewBox=\"0 0 24 24\"\n",
              "       width=\"24px\">\n",
              "    <path d=\"M0 0h24v24H0V0z\" fill=\"none\"/>\n",
              "    <path d=\"M18.56 5.44l.94 2.06.94-2.06 2.06-.94-2.06-.94-.94-2.06-.94 2.06-2.06.94zm-11 1L8.5 8.5l.94-2.06 2.06-.94-2.06-.94L8.5 2.5l-.94 2.06-2.06.94zm10 10l.94 2.06.94-2.06 2.06-.94-2.06-.94-.94-2.06-.94 2.06-2.06.94z\"/><path d=\"M17.41 7.96l-1.37-1.37c-.4-.4-.92-.59-1.43-.59-.52 0-1.04.2-1.43.59L10.3 9.45l-7.72 7.72c-.78.78-.78 2.05 0 2.83L4 21.41c.39.39.9.59 1.41.59.51 0 1.02-.2 1.41-.59l7.78-7.78 2.81-2.81c.8-.78.8-2.07 0-2.86zM5.41 20L4 18.59l7.72-7.72 1.47 1.35L5.41 20z\"/>\n",
              "  </svg>\n",
              "      </button>\n",
              "      \n",
              "  <style>\n",
              "    .colab-df-container {\n",
              "      display:flex;\n",
              "      flex-wrap:wrap;\n",
              "      gap: 12px;\n",
              "    }\n",
              "\n",
              "    .colab-df-convert {\n",
              "      background-color: #E8F0FE;\n",
              "      border: none;\n",
              "      border-radius: 50%;\n",
              "      cursor: pointer;\n",
              "      display: none;\n",
              "      fill: #1967D2;\n",
              "      height: 32px;\n",
              "      padding: 0 0 0 0;\n",
              "      width: 32px;\n",
              "    }\n",
              "\n",
              "    .colab-df-convert:hover {\n",
              "      background-color: #E2EBFA;\n",
              "      box-shadow: 0px 1px 2px rgba(60, 64, 67, 0.3), 0px 1px 3px 1px rgba(60, 64, 67, 0.15);\n",
              "      fill: #174EA6;\n",
              "    }\n",
              "\n",
              "    [theme=dark] .colab-df-convert {\n",
              "      background-color: #3B4455;\n",
              "      fill: #D2E3FC;\n",
              "    }\n",
              "\n",
              "    [theme=dark] .colab-df-convert:hover {\n",
              "      background-color: #434B5C;\n",
              "      box-shadow: 0px 1px 3px 1px rgba(0, 0, 0, 0.15);\n",
              "      filter: drop-shadow(0px 1px 2px rgba(0, 0, 0, 0.3));\n",
              "      fill: #FFFFFF;\n",
              "    }\n",
              "  </style>\n",
              "\n",
              "      <script>\n",
              "        const buttonEl =\n",
              "          document.querySelector('#df-3a7730ed-b5e9-42ae-b6ea-880b5e2deed4 button.colab-df-convert');\n",
              "        buttonEl.style.display =\n",
              "          google.colab.kernel.accessAllowed ? 'block' : 'none';\n",
              "\n",
              "        async function convertToInteractive(key) {\n",
              "          const element = document.querySelector('#df-3a7730ed-b5e9-42ae-b6ea-880b5e2deed4');\n",
              "          const dataTable =\n",
              "            await google.colab.kernel.invokeFunction('convertToInteractive',\n",
              "                                                     [key], {});\n",
              "          if (!dataTable) return;\n",
              "\n",
              "          const docLinkHtml = 'Like what you see? Visit the ' +\n",
              "            '<a target=\"_blank\" href=https://colab.research.google.com/notebooks/data_table.ipynb>data table notebook</a>'\n",
              "            + ' to learn more about interactive tables.';\n",
              "          element.innerHTML = '';\n",
              "          dataTable['output_type'] = 'display_data';\n",
              "          await google.colab.output.renderOutput(dataTable, element);\n",
              "          const docLink = document.createElement('div');\n",
              "          docLink.innerHTML = docLinkHtml;\n",
              "          element.appendChild(docLink);\n",
              "        }\n",
              "      </script>\n",
              "    </div>\n",
              "  </div>\n",
              "  "
            ]
          },
          "metadata": {},
          "execution_count": 167
        }
      ]
    },
    {
      "cell_type": "code",
      "source": [
        "funding_rounds.info()"
      ],
      "metadata": {
        "colab": {
          "base_uri": "https://localhost:8080/"
        },
        "id": "q-LP1C_IPpVq",
        "outputId": "659cc920-6a61-4906-ce8b-d09fabbe39ba"
      },
      "execution_count": null,
      "outputs": [
        {
          "output_type": "stream",
          "name": "stdout",
          "text": [
            "<class 'pandas.core.frame.DataFrame'>\n",
            "Int64Index: 3704 entries, 1 to 3741\n",
            "Data columns (total 7 columns):\n",
            " #   Column              Non-Null Count  Dtype \n",
            "---  ------              --------------  ----- \n",
            " 0   Project             3704 non-null   object\n",
            " 1   Date                3704 non-null   object\n",
            " 2   Raise               3244 non-null   object\n",
            " 3   Stage               3704 non-null   object\n",
            " 4   Category            3678 non-null   object\n",
            " 5   Lead Investor       3494 non-null   object\n",
            " 6   Investors quantity  2887 non-null   object\n",
            "dtypes: object(7)\n",
            "memory usage: 231.5+ KB\n"
          ]
        }
      ]
    },
    {
      "cell_type": "markdown",
      "source": [
        "**Проанализировав информацию о данных, мы выявили несколько моментов, требующих обработки:**\n",
        "\n",
        "1.   На данном этапе все данные имеют тип 'object', хотя у нас есть \n",
        "количественные признаки и информация о дате\n",
        "\n",
        "2.   Есть пропущенные значения:\n",
        "*   *Столбец 2* - raise (460 пропущенных)\n",
        "*   *Столбец 4* - category (26 пропущенных)\n",
        "*   *Столбец 5* - lead investor (210 пропущенных)\n",
        "*   *Столбец 6* - Investors quantity (817 пропущенных)\n",
        "\n",
        "\\\n",
        "\n",
        "---\n"
      ],
      "metadata": {
        "id": "rMamk6NfPtqe"
      }
    },
    {
      "cell_type": "code",
      "source": [
        "funding_rounds.isna().sum()"
      ],
      "metadata": {
        "colab": {
          "base_uri": "https://localhost:8080/"
        },
        "id": "UAxawy0M8Elj",
        "outputId": "0cb70dd1-f60e-4af3-d333-1885068149a2"
      },
      "execution_count": null,
      "outputs": [
        {
          "output_type": "execute_result",
          "data": {
            "text/plain": [
              "Project                 0\n",
              "Date                    0\n",
              "Raise                 460\n",
              "Stage                   0\n",
              "Category               26\n",
              "Lead Investor         210\n",
              "Investors quantity    817\n",
              "dtype: int64"
            ]
          },
          "metadata": {},
          "execution_count": 169
        }
      ]
    },
    {
      "cell_type": "markdown",
      "source": [
        "**Шаг 3**\n",
        "\n",
        "Привели значения 'Investors quantity' и 'Raise' к типу float (во втором случае еще удалили значок $ для форматирования)\n",
        "\n",
        "Привели значения 'Date' к типу datetime"
      ],
      "metadata": {
        "id": "wi_4RA4YSDvm"
      }
    },
    {
      "cell_type": "code",
      "source": [
        "funding_rounds['Investors quantity'] = pd.to_numeric(funding_rounds['Investors quantity'], errors='coerce')\n",
        "funding_rounds['Raise'] = funding_rounds['Raise'].astype(str).str.replace(',', '', regex=True).str.replace('$', '', regex=True)\n",
        "funding_rounds['Raise'] = funding_rounds['Raise'].astype(float)\n",
        "funding_rounds['Date'] = pd.to_datetime(funding_rounds['Date'], format='%d %b %Y')"
      ],
      "metadata": {
        "id": "pFX3gOrX3hua"
      },
      "execution_count": null,
      "outputs": []
    },
    {
      "cell_type": "code",
      "source": [
        "funding_rounds.info()"
      ],
      "metadata": {
        "colab": {
          "base_uri": "https://localhost:8080/"
        },
        "id": "rjd8OTprULg0",
        "outputId": "786e8ade-c332-4925-bfbf-e5e87c0c8c9c"
      },
      "execution_count": null,
      "outputs": [
        {
          "output_type": "stream",
          "name": "stdout",
          "text": [
            "<class 'pandas.core.frame.DataFrame'>\n",
            "Int64Index: 3704 entries, 1 to 3741\n",
            "Data columns (total 7 columns):\n",
            " #   Column              Non-Null Count  Dtype         \n",
            "---  ------              --------------  -----         \n",
            " 0   Project             3704 non-null   object        \n",
            " 1   Date                3704 non-null   datetime64[ns]\n",
            " 2   Raise               3244 non-null   float64       \n",
            " 3   Stage               3704 non-null   object        \n",
            " 4   Category            3678 non-null   object        \n",
            " 5   Lead Investor       3494 non-null   object        \n",
            " 6   Investors quantity  2887 non-null   float64       \n",
            "dtypes: datetime64[ns](1), float64(2), object(4)\n",
            "memory usage: 231.5+ KB\n"
          ]
        }
      ]
    },
    {
      "cell_type": "markdown",
      "source": [
        "\n",
        "**Как заполняем пустые значения?**\n",
        "\n",
        "> \n",
        "> ---\n",
        "> *Столбец 2* - Raise\n",
        "> \n",
        "> *Столбец 5* - Lead Investor\n",
        "> \n",
        "> ---\n",
        "> \n",
        "> 1) Если нет данных о рейзе, но есть инвесторы - выносим в отдельную таблицу и находим лучший способ заполнения пропусков \n",
        "> \n",
        "> 2) Если нет данных об инвесторах, но есть данные о рейзе - ставим вместо NaN: 'Private investor' + количество инвесторов 1\n",
        "> \n",
        "> 3) Если проект не поднял никаких инвестиций и нет данных ни об инвесторах, ни о рейзе, то ставим 0 в рейзе, No investors в Lead investor + в количество инвесторов 0\n",
        "> \n",
        "> ---\n",
        "> \n",
        "> *Столбец 6* - Investors quantity\n",
        "> \n",
        "> ---\n",
        "> \n",
        "> 1) К Investors quantity добавить 1 (это неучтенный лид инвестор)\n",
        "> \n",
        "> 2) Где NaN: \n",
        "> - где-то должна быть 1, если есть лид инвестор \n",
        "- оставшиеся NaN, если его нет, заполняем: либо 1, как Private Investor (если есть рейз) , либо 0 (если нет рейза)\n",
        "> \n",
        "> ---\n",
        "> \n",
        "> *Столбец 4* - Category (≈ 30 пропущенных)\n",
        "> \n",
        "> ---\n",
        "> \n",
        "> Пустые значения вынесим в отдельную таблицу и заполним, анализируя проекты\n",
        "\n",
        "\n"
      ],
      "metadata": {
        "id": "BQvpDKZ6UnNb"
      }
    },
    {
      "cell_type": "markdown",
      "source": [
        "**Шаг 4**\n",
        "\n",
        "Добавили единицу к значениям столбца Investors quantity, поскольку в нём не учитывался ведущий инвестор (такова особенность данных)"
      ],
      "metadata": {
        "id": "Wc2KFdtGeZFC"
      }
    },
    {
      "cell_type": "code",
      "source": [
        "funding_rounds['Investors quantity'] = funding_rounds['Investors quantity'].add(1)"
      ],
      "metadata": {
        "id": "-Z9IneXqevoQ"
      },
      "execution_count": null,
      "outputs": []
    },
    {
      "cell_type": "markdown",
      "source": [
        "**Шаг 5**\n",
        "\n",
        "Там где есть информация о лид инвесторе, но нет количества инвесторов, ставим единицу в Investors quantity\n",
        "\n"
      ],
      "metadata": {
        "id": "SkfFfh3new7G"
      }
    },
    {
      "cell_type": "code",
      "source": [
        "funding_rounds.loc[\n",
        "    funding_rounds['Lead Investor'].notnull() & funding_rounds['Investors quantity'].isnull(),\n",
        "    'Investors quantity'\n",
        "] = 1"
      ],
      "metadata": {
        "id": "kgSfBzBoe5Kb"
      },
      "execution_count": null,
      "outputs": []
    },
    {
      "cell_type": "markdown",
      "source": [
        "**Шаг 6**\n",
        "\n",
        "Там где нет информации о лид инвесторе, но есть информация о рейзе, ставим единицу в Investors quantity и 'Private investor' в столбце лид инвестора\n",
        "\n",
        "\n",
        "> Мы сделали предположение, что, скорее всего, инвестиции осуществил какой-то частный инвестор, которого cryptorank не знает\n",
        "\n",
        "\n",
        "\n"
      ],
      "metadata": {
        "id": "3nE0q5EOfVLq"
      }
    },
    {
      "cell_type": "code",
      "source": [
        "funding_rounds.loc[\n",
        "    (funding_rounds['Lead Investor'].isna()) & (funding_rounds['Raise'].notna()),\n",
        "    ['Lead Investor', 'Investors quantity']\n",
        "] = ['Private investor', 1]"
      ],
      "metadata": {
        "id": "UNfKd2H4fj5D"
      },
      "execution_count": null,
      "outputs": []
    },
    {
      "cell_type": "markdown",
      "source": [
        "\n",
        "**Шаг 7**\n",
        "\n",
        "Там где нет информации о лид инвесторе и нет информации о рейзе, ставим 0 в Investors quantity и 'No investors' в столбце лид инвестора, так как проект не поднял никаких инвестиций"
      ],
      "metadata": {
        "id": "48LFg4DV86xv"
      }
    },
    {
      "cell_type": "code",
      "source": [
        "funding_rounds.loc[\n",
        "    (funding_rounds['Lead Investor'].isna()) & (funding_rounds['Raise'].isna()),\n",
        "    ['Lead Investor', 'Investors quantity', 'Raise']\n",
        "] = ['No investors', 0, 0]\n",
        "\n",
        "funding_rounds.head()"
      ],
      "metadata": {
        "colab": {
          "base_uri": "https://localhost:8080/",
          "height": 206
        },
        "id": "IX91N9eQ3m0-",
        "outputId": "f83592a1-9ac8-4031-803c-d79785f81066"
      },
      "execution_count": null,
      "outputs": [
        {
          "output_type": "execute_result",
          "data": {
            "text/plain": [
              "           Project       Date       Raise           Stage            Category  \\\n",
              "1         DeSchool 2022-12-31         NaN            Seed  Blockchain Service   \n",
              "2    Magic Fantasy 2022-12-30   3000000.0         Unknown              GameFi   \n",
              "3            Twity 2022-12-29   6500000.0        Series A              Social   \n",
              "4       wowTalkies 2022-12-29         NaN         Unknown              Social   \n",
              "5  Argo Blockchain 2022-12-28  35000000.0  Debt Financing  Blockchain Service   \n",
              "\n",
              "        Lead Investor  Investors quantity  \n",
              "1        y2z Ventures                 6.0  \n",
              "2           Easycoins                 1.0  \n",
              "3        Wave Capital                 1.0  \n",
              "4  Tangentia Ventures                 1.0  \n",
              "5              Galaxy                 1.0  "
            ],
            "text/html": [
              "\n",
              "  <div id=\"df-115a3138-99e5-4da1-b52f-4eea5f0d603f\">\n",
              "    <div class=\"colab-df-container\">\n",
              "      <div>\n",
              "<style scoped>\n",
              "    .dataframe tbody tr th:only-of-type {\n",
              "        vertical-align: middle;\n",
              "    }\n",
              "\n",
              "    .dataframe tbody tr th {\n",
              "        vertical-align: top;\n",
              "    }\n",
              "\n",
              "    .dataframe thead th {\n",
              "        text-align: right;\n",
              "    }\n",
              "</style>\n",
              "<table border=\"1\" class=\"dataframe\">\n",
              "  <thead>\n",
              "    <tr style=\"text-align: right;\">\n",
              "      <th></th>\n",
              "      <th>Project</th>\n",
              "      <th>Date</th>\n",
              "      <th>Raise</th>\n",
              "      <th>Stage</th>\n",
              "      <th>Category</th>\n",
              "      <th>Lead Investor</th>\n",
              "      <th>Investors quantity</th>\n",
              "    </tr>\n",
              "  </thead>\n",
              "  <tbody>\n",
              "    <tr>\n",
              "      <th>1</th>\n",
              "      <td>DeSchool</td>\n",
              "      <td>2022-12-31</td>\n",
              "      <td>NaN</td>\n",
              "      <td>Seed</td>\n",
              "      <td>Blockchain Service</td>\n",
              "      <td>y2z Ventures</td>\n",
              "      <td>6.0</td>\n",
              "    </tr>\n",
              "    <tr>\n",
              "      <th>2</th>\n",
              "      <td>Magic Fantasy</td>\n",
              "      <td>2022-12-30</td>\n",
              "      <td>3000000.0</td>\n",
              "      <td>Unknown</td>\n",
              "      <td>GameFi</td>\n",
              "      <td>Easycoins</td>\n",
              "      <td>1.0</td>\n",
              "    </tr>\n",
              "    <tr>\n",
              "      <th>3</th>\n",
              "      <td>Twity</td>\n",
              "      <td>2022-12-29</td>\n",
              "      <td>6500000.0</td>\n",
              "      <td>Series A</td>\n",
              "      <td>Social</td>\n",
              "      <td>Wave Capital</td>\n",
              "      <td>1.0</td>\n",
              "    </tr>\n",
              "    <tr>\n",
              "      <th>4</th>\n",
              "      <td>wowTalkies</td>\n",
              "      <td>2022-12-29</td>\n",
              "      <td>NaN</td>\n",
              "      <td>Unknown</td>\n",
              "      <td>Social</td>\n",
              "      <td>Tangentia Ventures</td>\n",
              "      <td>1.0</td>\n",
              "    </tr>\n",
              "    <tr>\n",
              "      <th>5</th>\n",
              "      <td>Argo Blockchain</td>\n",
              "      <td>2022-12-28</td>\n",
              "      <td>35000000.0</td>\n",
              "      <td>Debt Financing</td>\n",
              "      <td>Blockchain Service</td>\n",
              "      <td>Galaxy</td>\n",
              "      <td>1.0</td>\n",
              "    </tr>\n",
              "  </tbody>\n",
              "</table>\n",
              "</div>\n",
              "      <button class=\"colab-df-convert\" onclick=\"convertToInteractive('df-115a3138-99e5-4da1-b52f-4eea5f0d603f')\"\n",
              "              title=\"Convert this dataframe to an interactive table.\"\n",
              "              style=\"display:none;\">\n",
              "        \n",
              "  <svg xmlns=\"http://www.w3.org/2000/svg\" height=\"24px\"viewBox=\"0 0 24 24\"\n",
              "       width=\"24px\">\n",
              "    <path d=\"M0 0h24v24H0V0z\" fill=\"none\"/>\n",
              "    <path d=\"M18.56 5.44l.94 2.06.94-2.06 2.06-.94-2.06-.94-.94-2.06-.94 2.06-2.06.94zm-11 1L8.5 8.5l.94-2.06 2.06-.94-2.06-.94L8.5 2.5l-.94 2.06-2.06.94zm10 10l.94 2.06.94-2.06 2.06-.94-2.06-.94-.94-2.06-.94 2.06-2.06.94z\"/><path d=\"M17.41 7.96l-1.37-1.37c-.4-.4-.92-.59-1.43-.59-.52 0-1.04.2-1.43.59L10.3 9.45l-7.72 7.72c-.78.78-.78 2.05 0 2.83L4 21.41c.39.39.9.59 1.41.59.51 0 1.02-.2 1.41-.59l7.78-7.78 2.81-2.81c.8-.78.8-2.07 0-2.86zM5.41 20L4 18.59l7.72-7.72 1.47 1.35L5.41 20z\"/>\n",
              "  </svg>\n",
              "      </button>\n",
              "      \n",
              "  <style>\n",
              "    .colab-df-container {\n",
              "      display:flex;\n",
              "      flex-wrap:wrap;\n",
              "      gap: 12px;\n",
              "    }\n",
              "\n",
              "    .colab-df-convert {\n",
              "      background-color: #E8F0FE;\n",
              "      border: none;\n",
              "      border-radius: 50%;\n",
              "      cursor: pointer;\n",
              "      display: none;\n",
              "      fill: #1967D2;\n",
              "      height: 32px;\n",
              "      padding: 0 0 0 0;\n",
              "      width: 32px;\n",
              "    }\n",
              "\n",
              "    .colab-df-convert:hover {\n",
              "      background-color: #E2EBFA;\n",
              "      box-shadow: 0px 1px 2px rgba(60, 64, 67, 0.3), 0px 1px 3px 1px rgba(60, 64, 67, 0.15);\n",
              "      fill: #174EA6;\n",
              "    }\n",
              "\n",
              "    [theme=dark] .colab-df-convert {\n",
              "      background-color: #3B4455;\n",
              "      fill: #D2E3FC;\n",
              "    }\n",
              "\n",
              "    [theme=dark] .colab-df-convert:hover {\n",
              "      background-color: #434B5C;\n",
              "      box-shadow: 0px 1px 3px 1px rgba(0, 0, 0, 0.15);\n",
              "      filter: drop-shadow(0px 1px 2px rgba(0, 0, 0, 0.3));\n",
              "      fill: #FFFFFF;\n",
              "    }\n",
              "  </style>\n",
              "\n",
              "      <script>\n",
              "        const buttonEl =\n",
              "          document.querySelector('#df-115a3138-99e5-4da1-b52f-4eea5f0d603f button.colab-df-convert');\n",
              "        buttonEl.style.display =\n",
              "          google.colab.kernel.accessAllowed ? 'block' : 'none';\n",
              "\n",
              "        async function convertToInteractive(key) {\n",
              "          const element = document.querySelector('#df-115a3138-99e5-4da1-b52f-4eea5f0d603f');\n",
              "          const dataTable =\n",
              "            await google.colab.kernel.invokeFunction('convertToInteractive',\n",
              "                                                     [key], {});\n",
              "          if (!dataTable) return;\n",
              "\n",
              "          const docLinkHtml = 'Like what you see? Visit the ' +\n",
              "            '<a target=\"_blank\" href=https://colab.research.google.com/notebooks/data_table.ipynb>data table notebook</a>'\n",
              "            + ' to learn more about interactive tables.';\n",
              "          element.innerHTML = '';\n",
              "          dataTable['output_type'] = 'display_data';\n",
              "          await google.colab.output.renderOutput(dataTable, element);\n",
              "          const docLink = document.createElement('div');\n",
              "          docLink.innerHTML = docLinkHtml;\n",
              "          element.appendChild(docLink);\n",
              "        }\n",
              "      </script>\n",
              "    </div>\n",
              "  </div>\n",
              "  "
            ]
          },
          "metadata": {},
          "execution_count": 175
        }
      ]
    },
    {
      "cell_type": "markdown",
      "source": [
        "**Шаг 8**\n",
        "\n",
        "Мы решили, что заполнять оставшиеся пропуски в столбце Raise стоит, учитывая все три критерия\n",
        "\n",
        "\n",
        "> *Логика:* \n",
        ">\n",
        "> Мы видим, что Raise неизвестен, но зато мы знаем три самых важных признака проекта (стадию, категорию и количество инвесторов), запоминаем их и ищём во всей таблице аналогичные случаи, но те, у которых Raise известен. По всем нашедшим данным нашли среднее значение и заполнили искомый Raise:)\n",
        "\n",
        "\\\n",
        "\n",
        "> *Замечание*: \n",
        "> \n",
        "> Поиск среднего даёт нам число, которое совсем не похоже на реальный рэйз. Вряд ли кто-то будет инвестировать в проект странную сумму, например, 3872691823.4832! Этот факт подтверждают прочие суммы рэйзов в таблице - все они ровные, без \"копеек\". Именно поэтому мы приняли решение округлить среднее до миллионов.\n",
        "\n",
        "\n",
        "\n",
        "\n"
      ],
      "metadata": {
        "id": "dLw24_xehe0D"
      }
    },
    {
      "cell_type": "code",
      "source": [
        "missing_raise = funding_rounds[funding_rounds['Raise'].isna()]    # находим, где неизвестен Raise\n",
        "\n",
        "for index, row in missing_raise.iterrows():\n",
        "    inv_qty = row['Investors quantity']  \n",
        "    category = row['Category']  \n",
        "    stage = row['Stage']  \n",
        "\n",
        "    # фильтруем таблицу, оставляя только известные Raise с таким же количеством инвесторов, категорией и стадией\n",
        "    known_raise = funding_rounds[\n",
        "        (funding_rounds['Raise'].notna()) &\n",
        "        (funding_rounds['Investors quantity'] == inv_qty) &\n",
        "        (funding_rounds['Category'] == category) &\n",
        "        (funding_rounds['Stage'] == stage)\n",
        "    ] \n",
        "\n",
        "    if not known_raise.empty:\n",
        "        avg_raise = known_raise['Raise'].mean()\n",
        "        avg_raise = round(avg_raise / 1000000) * 1000000    # округляем до миллионов\n",
        "    else:\n",
        "        avg_raise = np.nan\n",
        "    \n",
        "    funding_rounds.at[index, 'Raise'] = avg_raise    # заполняем пропуск средним значением\n"
      ],
      "metadata": {
        "id": "9DWf_Us00tsW"
      },
      "execution_count": null,
      "outputs": []
    },
    {
      "cell_type": "code",
      "source": [
        "funding_rounds.isna().sum()"
      ],
      "metadata": {
        "colab": {
          "base_uri": "https://localhost:8080/"
        },
        "id": "tNwqLkw9pxy2",
        "outputId": "38ac49b4-21d2-407a-cbda-70dc34b14aae"
      },
      "execution_count": null,
      "outputs": [
        {
          "output_type": "execute_result",
          "data": {
            "text/plain": [
              "Project                0\n",
              "Date                   0\n",
              "Raise                 42\n",
              "Stage                  0\n",
              "Category              26\n",
              "Lead Investor          0\n",
              "Investors quantity     0\n",
              "dtype: int64"
            ]
          },
          "metadata": {},
          "execution_count": 177
        }
      ]
    },
    {
      "cell_type": "markdown",
      "source": [
        "\n",
        "\n",
        "> К сожалению, полностью заполнить пропуски не удалось и у нас осталось ещё **42 пустых рейза.** Это могло произойти из-за отсутствия аналогичных случаев. Мы решили снизить наши требования: теперь для нас достаточно соответствия двум критериям (категории и количеству инвесторов) для того, чтобы считать проект аналогичным и посчитать среднее\n",
        "\n",
        "\n"
      ],
      "metadata": {
        "id": "CM7_1sLUqZIO"
      }
    },
    {
      "cell_type": "code",
      "source": [
        "unknown_raise = funding_rounds[funding_rounds['Raise'].isna()]\n",
        "\n",
        "for index, row in unknown_raise.iterrows():\n",
        "    inv_qty = row['Investors quantity']    # количество инвесторов в текущей строке\n",
        "    category = row['Category']    # категория текущей строки\n",
        "    \n",
        "    # фильтруем таблицу, оставляя только известные Raise с таким же количеством инвесторов и категорией\n",
        "    known_raise = funding_rounds[\n",
        "    (funding_rounds['Raise'].notna()) &\n",
        "    (funding_rounds['Investors quantity'] == inv_qty) &\n",
        "    (funding_rounds['Category'] == category)\n",
        "    ]\n",
        "\n",
        "    if not known_raise.empty:\n",
        "        avg_raise = known_raise['Raise'].mean()\n",
        "    else:\n",
        "        avg_raise = np.nan\n",
        "    \n",
        "    funding_rounds.at[index, 'Raise'] = avg_raise"
      ],
      "metadata": {
        "id": "1PaI5ukil_dS"
      },
      "execution_count": null,
      "outputs": []
    },
    {
      "cell_type": "markdown",
      "source": [
        "\n",
        "> У нас осталось всего **2 затерявшихся рейза**! \n",
        "> \n",
        "> Посмотрим на них:\n",
        "\n",
        "\n",
        "\n",
        "\n"
      ],
      "metadata": {
        "id": "cbZjIp3VrqEV"
      }
    },
    {
      "cell_type": "code",
      "source": [
        "unknown_raise = funding_rounds.loc[funding_rounds['Raise'].isna()]\n",
        "unknown_raise"
      ],
      "metadata": {
        "id": "ykfHRecW5hZ2",
        "colab": {
          "base_uri": "https://localhost:8080/",
          "height": 112
        },
        "outputId": "fb9d787a-c2c6-491b-e11f-b30b3fa6821f"
      },
      "execution_count": null,
      "outputs": [
        {
          "output_type": "execute_result",
          "data": {
            "text/plain": [
              "        Project       Date  Raise    Stage Category  \\\n",
              "756     LF Labs 2022-07-13    NaN     Seed      NaN   \n",
              "1253  Syndicate 2022-05-03    NaN  Unknown     DeFi   \n",
              "\n",
              "                   Lead Investor  Investors quantity  \n",
              "756                 Alliance DAO                 1.0  \n",
              "1253  Andreessen Horowitz (a16z)                46.0  "
            ],
            "text/html": [
              "\n",
              "  <div id=\"df-5625e844-4fdd-42dc-9a42-cbdad497f933\">\n",
              "    <div class=\"colab-df-container\">\n",
              "      <div>\n",
              "<style scoped>\n",
              "    .dataframe tbody tr th:only-of-type {\n",
              "        vertical-align: middle;\n",
              "    }\n",
              "\n",
              "    .dataframe tbody tr th {\n",
              "        vertical-align: top;\n",
              "    }\n",
              "\n",
              "    .dataframe thead th {\n",
              "        text-align: right;\n",
              "    }\n",
              "</style>\n",
              "<table border=\"1\" class=\"dataframe\">\n",
              "  <thead>\n",
              "    <tr style=\"text-align: right;\">\n",
              "      <th></th>\n",
              "      <th>Project</th>\n",
              "      <th>Date</th>\n",
              "      <th>Raise</th>\n",
              "      <th>Stage</th>\n",
              "      <th>Category</th>\n",
              "      <th>Lead Investor</th>\n",
              "      <th>Investors quantity</th>\n",
              "    </tr>\n",
              "  </thead>\n",
              "  <tbody>\n",
              "    <tr>\n",
              "      <th>756</th>\n",
              "      <td>LF Labs</td>\n",
              "      <td>2022-07-13</td>\n",
              "      <td>NaN</td>\n",
              "      <td>Seed</td>\n",
              "      <td>NaN</td>\n",
              "      <td>Alliance DAO</td>\n",
              "      <td>1.0</td>\n",
              "    </tr>\n",
              "    <tr>\n",
              "      <th>1253</th>\n",
              "      <td>Syndicate</td>\n",
              "      <td>2022-05-03</td>\n",
              "      <td>NaN</td>\n",
              "      <td>Unknown</td>\n",
              "      <td>DeFi</td>\n",
              "      <td>Andreessen Horowitz (a16z)</td>\n",
              "      <td>46.0</td>\n",
              "    </tr>\n",
              "  </tbody>\n",
              "</table>\n",
              "</div>\n",
              "      <button class=\"colab-df-convert\" onclick=\"convertToInteractive('df-5625e844-4fdd-42dc-9a42-cbdad497f933')\"\n",
              "              title=\"Convert this dataframe to an interactive table.\"\n",
              "              style=\"display:none;\">\n",
              "        \n",
              "  <svg xmlns=\"http://www.w3.org/2000/svg\" height=\"24px\"viewBox=\"0 0 24 24\"\n",
              "       width=\"24px\">\n",
              "    <path d=\"M0 0h24v24H0V0z\" fill=\"none\"/>\n",
              "    <path d=\"M18.56 5.44l.94 2.06.94-2.06 2.06-.94-2.06-.94-.94-2.06-.94 2.06-2.06.94zm-11 1L8.5 8.5l.94-2.06 2.06-.94-2.06-.94L8.5 2.5l-.94 2.06-2.06.94zm10 10l.94 2.06.94-2.06 2.06-.94-2.06-.94-.94-2.06-.94 2.06-2.06.94z\"/><path d=\"M17.41 7.96l-1.37-1.37c-.4-.4-.92-.59-1.43-.59-.52 0-1.04.2-1.43.59L10.3 9.45l-7.72 7.72c-.78.78-.78 2.05 0 2.83L4 21.41c.39.39.9.59 1.41.59.51 0 1.02-.2 1.41-.59l7.78-7.78 2.81-2.81c.8-.78.8-2.07 0-2.86zM5.41 20L4 18.59l7.72-7.72 1.47 1.35L5.41 20z\"/>\n",
              "  </svg>\n",
              "      </button>\n",
              "      \n",
              "  <style>\n",
              "    .colab-df-container {\n",
              "      display:flex;\n",
              "      flex-wrap:wrap;\n",
              "      gap: 12px;\n",
              "    }\n",
              "\n",
              "    .colab-df-convert {\n",
              "      background-color: #E8F0FE;\n",
              "      border: none;\n",
              "      border-radius: 50%;\n",
              "      cursor: pointer;\n",
              "      display: none;\n",
              "      fill: #1967D2;\n",
              "      height: 32px;\n",
              "      padding: 0 0 0 0;\n",
              "      width: 32px;\n",
              "    }\n",
              "\n",
              "    .colab-df-convert:hover {\n",
              "      background-color: #E2EBFA;\n",
              "      box-shadow: 0px 1px 2px rgba(60, 64, 67, 0.3), 0px 1px 3px 1px rgba(60, 64, 67, 0.15);\n",
              "      fill: #174EA6;\n",
              "    }\n",
              "\n",
              "    [theme=dark] .colab-df-convert {\n",
              "      background-color: #3B4455;\n",
              "      fill: #D2E3FC;\n",
              "    }\n",
              "\n",
              "    [theme=dark] .colab-df-convert:hover {\n",
              "      background-color: #434B5C;\n",
              "      box-shadow: 0px 1px 3px 1px rgba(0, 0, 0, 0.15);\n",
              "      filter: drop-shadow(0px 1px 2px rgba(0, 0, 0, 0.3));\n",
              "      fill: #FFFFFF;\n",
              "    }\n",
              "  </style>\n",
              "\n",
              "      <script>\n",
              "        const buttonEl =\n",
              "          document.querySelector('#df-5625e844-4fdd-42dc-9a42-cbdad497f933 button.colab-df-convert');\n",
              "        buttonEl.style.display =\n",
              "          google.colab.kernel.accessAllowed ? 'block' : 'none';\n",
              "\n",
              "        async function convertToInteractive(key) {\n",
              "          const element = document.querySelector('#df-5625e844-4fdd-42dc-9a42-cbdad497f933');\n",
              "          const dataTable =\n",
              "            await google.colab.kernel.invokeFunction('convertToInteractive',\n",
              "                                                     [key], {});\n",
              "          if (!dataTable) return;\n",
              "\n",
              "          const docLinkHtml = 'Like what you see? Visit the ' +\n",
              "            '<a target=\"_blank\" href=https://colab.research.google.com/notebooks/data_table.ipynb>data table notebook</a>'\n",
              "            + ' to learn more about interactive tables.';\n",
              "          element.innerHTML = '';\n",
              "          dataTable['output_type'] = 'display_data';\n",
              "          await google.colab.output.renderOutput(dataTable, element);\n",
              "          const docLink = document.createElement('div');\n",
              "          docLink.innerHTML = docLinkHtml;\n",
              "          element.appendChild(docLink);\n",
              "        }\n",
              "      </script>\n",
              "    </div>\n",
              "  </div>\n",
              "  "
            ]
          },
          "metadata": {},
          "execution_count": 179
        }
      ]
    },
    {
      "cell_type": "markdown",
      "source": [
        "Рэйз проекта LF Labs нашли по аналогичной стадии и количеству инвесторов:"
      ],
      "metadata": {
        "id": "WOiwKbld23lo"
      }
    },
    {
      "cell_type": "code",
      "source": [
        "filtered_df = funding_rounds[(funding_rounds['Stage'] == 'Seed') & (funding_rounds['Investors quantity'] == 1)]\n",
        "average_raise = filtered_df['Raise'].mean()\n",
        "funding_rounds.at[756, 'Raise'] = average_raise"
      ],
      "metadata": {
        "id": "AoAsREo-tKSX"
      },
      "execution_count": null,
      "outputs": []
    },
    {
      "cell_type": "markdown",
      "source": [
        "Данные по Syndicate\tмы нашли вручную, поскольку аналогов этому проекту в таблице нет. Нам известен Lead Investor, поэтому сделать это не составило большого труда - мы смогли даже найти стадию и категорию! \n",
        "\n",
        "> https://cryptorank.io/ru/ico/syndicate-dao#funding-rounds\n",
        "\n"
      ],
      "metadata": {
        "id": "zbA3yqxA3Ub4"
      }
    },
    {
      "cell_type": "code",
      "source": [
        "funding_rounds.at[1253, 'Raise'] = int(2000000)\n",
        "funding_rounds.at[1253, 'Stage'] = 'Series A'\n",
        "funding_rounds.at[1253, 'Category'] = 'DeFi'\n",
        "funding_rounds.isna().sum()"
      ],
      "metadata": {
        "colab": {
          "base_uri": "https://localhost:8080/"
        },
        "id": "xFuFP0P_3Y7b",
        "outputId": "dab36fe0-aeb8-4c61-f6a7-214237792032"
      },
      "execution_count": null,
      "outputs": [
        {
          "output_type": "execute_result",
          "data": {
            "text/plain": [
              "Project                0\n",
              "Date                   0\n",
              "Raise                  0\n",
              "Stage                  0\n",
              "Category              26\n",
              "Lead Investor          0\n",
              "Investors quantity     0\n",
              "dtype: int64"
            ]
          },
          "metadata": {},
          "execution_count": 181
        }
      ]
    },
    {
      "cell_type": "markdown",
      "source": [
        "**Шаг 9**\n",
        "\n",
        "Так как проектов, где неизвестны категории не много, мы сами расставили им данные значения, проанализировав сайты и социальные сети проктов и поняв их функцию и цель"
      ],
      "metadata": {
        "id": "NcCnsNMJkL2I"
      }
    },
    {
      "cell_type": "code",
      "source": [
        "funding_rounds['Category'].value_counts()"
      ],
      "metadata": {
        "id": "79N-P5543uHo",
        "colab": {
          "base_uri": "https://localhost:8080/"
        },
        "outputId": "0639e6eb-a96f-4965-d14b-b8a43c7ebf22"
      },
      "execution_count": null,
      "outputs": [
        {
          "output_type": "execute_result",
          "data": {
            "text/plain": [
              "Blockchain Service           1137\n",
              "DeFi                          713\n",
              "GameFi                        521\n",
              "CeFi                          444\n",
              "NFT                           368\n",
              "Social                        240\n",
              "Blockchain Infrastructure     237\n",
              "Stablecoin                     14\n",
              "Currency                        3\n",
              "Tokenized Stock                 1\n",
              "Name: Category, dtype: int64"
            ]
          },
          "metadata": {},
          "execution_count": 182
        }
      ]
    },
    {
      "cell_type": "code",
      "source": [
        "no_info_category = funding_rounds.loc[funding_rounds['Category'].isna()]\n",
        "no_info_category_index = no_info_category.index\n",
        "no_info_category.head()"
      ],
      "metadata": {
        "id": "G0-NJ5Rl3yFi",
        "colab": {
          "base_uri": "https://localhost:8080/",
          "height": 206
        },
        "outputId": "e97b4eff-b5b6-4c42-c1ed-2da7a9a6c378"
      },
      "execution_count": null,
      "outputs": [
        {
          "output_type": "execute_result",
          "data": {
            "text/plain": [
              "              Project       Date         Raise               Stage Category  \\\n",
              "756           LF Labs 2022-07-13  7.443014e+06                Seed      NaN   \n",
              "782   META WORLDMETAD 2022-07-10  3.000000e+07             Unknown      NaN   \n",
              "1134    Seed ClubCLUB 2022-05-18  1.500000e+07  Private Token Sale      NaN   \n",
              "1284      PeculiumPCL 2022-04-27  1.055000e+07             Unknown      NaN   \n",
              "2004   CardashiftCLAP 2022-01-16  1.500000e+06  Private Token Sale      NaN   \n",
              "\n",
              "                                Lead Investor  Investors quantity  \n",
              "756                              Alliance DAO                 1.0  \n",
              "782                               Mai Vu Minh                 1.0  \n",
              "1134                        Multicoin Capital                15.0  \n",
              "1284  The Global Emerging Markets Group (GEM)                 1.0  \n",
              "2004                         Private investor                 1.0  "
            ],
            "text/html": [
              "\n",
              "  <div id=\"df-f29a2378-74fc-44cf-92f3-9310a6ce094d\">\n",
              "    <div class=\"colab-df-container\">\n",
              "      <div>\n",
              "<style scoped>\n",
              "    .dataframe tbody tr th:only-of-type {\n",
              "        vertical-align: middle;\n",
              "    }\n",
              "\n",
              "    .dataframe tbody tr th {\n",
              "        vertical-align: top;\n",
              "    }\n",
              "\n",
              "    .dataframe thead th {\n",
              "        text-align: right;\n",
              "    }\n",
              "</style>\n",
              "<table border=\"1\" class=\"dataframe\">\n",
              "  <thead>\n",
              "    <tr style=\"text-align: right;\">\n",
              "      <th></th>\n",
              "      <th>Project</th>\n",
              "      <th>Date</th>\n",
              "      <th>Raise</th>\n",
              "      <th>Stage</th>\n",
              "      <th>Category</th>\n",
              "      <th>Lead Investor</th>\n",
              "      <th>Investors quantity</th>\n",
              "    </tr>\n",
              "  </thead>\n",
              "  <tbody>\n",
              "    <tr>\n",
              "      <th>756</th>\n",
              "      <td>LF Labs</td>\n",
              "      <td>2022-07-13</td>\n",
              "      <td>7.443014e+06</td>\n",
              "      <td>Seed</td>\n",
              "      <td>NaN</td>\n",
              "      <td>Alliance DAO</td>\n",
              "      <td>1.0</td>\n",
              "    </tr>\n",
              "    <tr>\n",
              "      <th>782</th>\n",
              "      <td>META WORLDMETAD</td>\n",
              "      <td>2022-07-10</td>\n",
              "      <td>3.000000e+07</td>\n",
              "      <td>Unknown</td>\n",
              "      <td>NaN</td>\n",
              "      <td>Mai Vu Minh</td>\n",
              "      <td>1.0</td>\n",
              "    </tr>\n",
              "    <tr>\n",
              "      <th>1134</th>\n",
              "      <td>Seed ClubCLUB</td>\n",
              "      <td>2022-05-18</td>\n",
              "      <td>1.500000e+07</td>\n",
              "      <td>Private Token Sale</td>\n",
              "      <td>NaN</td>\n",
              "      <td>Multicoin Capital</td>\n",
              "      <td>15.0</td>\n",
              "    </tr>\n",
              "    <tr>\n",
              "      <th>1284</th>\n",
              "      <td>PeculiumPCL</td>\n",
              "      <td>2022-04-27</td>\n",
              "      <td>1.055000e+07</td>\n",
              "      <td>Unknown</td>\n",
              "      <td>NaN</td>\n",
              "      <td>The Global Emerging Markets Group (GEM)</td>\n",
              "      <td>1.0</td>\n",
              "    </tr>\n",
              "    <tr>\n",
              "      <th>2004</th>\n",
              "      <td>CardashiftCLAP</td>\n",
              "      <td>2022-01-16</td>\n",
              "      <td>1.500000e+06</td>\n",
              "      <td>Private Token Sale</td>\n",
              "      <td>NaN</td>\n",
              "      <td>Private investor</td>\n",
              "      <td>1.0</td>\n",
              "    </tr>\n",
              "  </tbody>\n",
              "</table>\n",
              "</div>\n",
              "      <button class=\"colab-df-convert\" onclick=\"convertToInteractive('df-f29a2378-74fc-44cf-92f3-9310a6ce094d')\"\n",
              "              title=\"Convert this dataframe to an interactive table.\"\n",
              "              style=\"display:none;\">\n",
              "        \n",
              "  <svg xmlns=\"http://www.w3.org/2000/svg\" height=\"24px\"viewBox=\"0 0 24 24\"\n",
              "       width=\"24px\">\n",
              "    <path d=\"M0 0h24v24H0V0z\" fill=\"none\"/>\n",
              "    <path d=\"M18.56 5.44l.94 2.06.94-2.06 2.06-.94-2.06-.94-.94-2.06-.94 2.06-2.06.94zm-11 1L8.5 8.5l.94-2.06 2.06-.94-2.06-.94L8.5 2.5l-.94 2.06-2.06.94zm10 10l.94 2.06.94-2.06 2.06-.94-2.06-.94-.94-2.06-.94 2.06-2.06.94z\"/><path d=\"M17.41 7.96l-1.37-1.37c-.4-.4-.92-.59-1.43-.59-.52 0-1.04.2-1.43.59L10.3 9.45l-7.72 7.72c-.78.78-.78 2.05 0 2.83L4 21.41c.39.39.9.59 1.41.59.51 0 1.02-.2 1.41-.59l7.78-7.78 2.81-2.81c.8-.78.8-2.07 0-2.86zM5.41 20L4 18.59l7.72-7.72 1.47 1.35L5.41 20z\"/>\n",
              "  </svg>\n",
              "      </button>\n",
              "      \n",
              "  <style>\n",
              "    .colab-df-container {\n",
              "      display:flex;\n",
              "      flex-wrap:wrap;\n",
              "      gap: 12px;\n",
              "    }\n",
              "\n",
              "    .colab-df-convert {\n",
              "      background-color: #E8F0FE;\n",
              "      border: none;\n",
              "      border-radius: 50%;\n",
              "      cursor: pointer;\n",
              "      display: none;\n",
              "      fill: #1967D2;\n",
              "      height: 32px;\n",
              "      padding: 0 0 0 0;\n",
              "      width: 32px;\n",
              "    }\n",
              "\n",
              "    .colab-df-convert:hover {\n",
              "      background-color: #E2EBFA;\n",
              "      box-shadow: 0px 1px 2px rgba(60, 64, 67, 0.3), 0px 1px 3px 1px rgba(60, 64, 67, 0.15);\n",
              "      fill: #174EA6;\n",
              "    }\n",
              "\n",
              "    [theme=dark] .colab-df-convert {\n",
              "      background-color: #3B4455;\n",
              "      fill: #D2E3FC;\n",
              "    }\n",
              "\n",
              "    [theme=dark] .colab-df-convert:hover {\n",
              "      background-color: #434B5C;\n",
              "      box-shadow: 0px 1px 3px 1px rgba(0, 0, 0, 0.15);\n",
              "      filter: drop-shadow(0px 1px 2px rgba(0, 0, 0, 0.3));\n",
              "      fill: #FFFFFF;\n",
              "    }\n",
              "  </style>\n",
              "\n",
              "      <script>\n",
              "        const buttonEl =\n",
              "          document.querySelector('#df-f29a2378-74fc-44cf-92f3-9310a6ce094d button.colab-df-convert');\n",
              "        buttonEl.style.display =\n",
              "          google.colab.kernel.accessAllowed ? 'block' : 'none';\n",
              "\n",
              "        async function convertToInteractive(key) {\n",
              "          const element = document.querySelector('#df-f29a2378-74fc-44cf-92f3-9310a6ce094d');\n",
              "          const dataTable =\n",
              "            await google.colab.kernel.invokeFunction('convertToInteractive',\n",
              "                                                     [key], {});\n",
              "          if (!dataTable) return;\n",
              "\n",
              "          const docLinkHtml = 'Like what you see? Visit the ' +\n",
              "            '<a target=\"_blank\" href=https://colab.research.google.com/notebooks/data_table.ipynb>data table notebook</a>'\n",
              "            + ' to learn more about interactive tables.';\n",
              "          element.innerHTML = '';\n",
              "          dataTable['output_type'] = 'display_data';\n",
              "          await google.colab.output.renderOutput(dataTable, element);\n",
              "          const docLink = document.createElement('div');\n",
              "          docLink.innerHTML = docLinkHtml;\n",
              "          element.appendChild(docLink);\n",
              "        }\n",
              "      </script>\n",
              "    </div>\n",
              "  </div>\n",
              "  "
            ]
          },
          "metadata": {},
          "execution_count": 183
        }
      ]
    },
    {
      "cell_type": "markdown",
      "source": [
        "\n",
        "**Meta World** - многопользовательская онлайн-игра (GameFi)\n",
        "\n",
        "**Seed Club** - инкубатор для создания и развития DAO (Blockchain Service)\n",
        "\n",
        "**PeculiumPCL** - предоставляет финансовые услуги и инвестиции, есть элементы DeFi и AI (DeFi)\n",
        "\n",
        "**Cardashift** - платформа для продажи и покупки цифровых активов (Blockchain Service)\n",
        "\n",
        "**Aster Protocol** - космическая игра с использованием технологии блокчейна (GameFi)\n",
        "\n",
        "**Popop World** - платформа для создания и обмена цифровыми коллекционными карточками, известными как \"Pops\" (Social)\n",
        "\n",
        "**Whalemap** - предоставляет аналитические данные и инструменты для трейдеров и инвесторов криптовалют (Blockchain Service)\n",
        "\n",
        "**Whydah** - платформа для безопасной передачи и хранения данных, авторизации и идентификации (Blockchain Service)\n",
        "\n",
        "**Saddle** -  протокол, предназначенный для обмена stablecoins на блокчейне Ethereum (DeFi)\n",
        "\n",
        "**Republic Note** - платформа-посредник между предпринимателями и инвесторами (Blockchain Service)\n",
        "\n",
        "**PrivacySwap**  - децентрализованная платформа для обмена криптовалюты с фокусом на приватность пользователей (DeFi)\n",
        "\n",
        "**TAIKAI**  - платформа для проведения соревнований и хакатонов (Blockchain Service)\n",
        "\n",
        "**FynCom** - система генерации откликов, которая вознаграждает потенциальных клиентов за ответы на звонки/сообщения/эл.письма (Blockchain Service)\n",
        "\n",
        "**BlockTrade** - CEX / централизованная криптовалютная биржа (DeFi)\n",
        "\n",
        "**WIVA** - платформа, обеспечивающая доступ к инвестиционным возможностям (Blockchain Service)\n",
        "\n",
        "**IAGON** - платформа, объединяющая вычислительные ресурсы в глобальное сетевое облако (Blockchain Service)\n",
        "\n",
        "**EmiSwap** - децентрализованная платформа обмена криптовалютами (DeFi)\n",
        "\n",
        "**Cryption NetworkC** - экосистема, предоставляющая различные блокчейн-сервисы и инструменты управления цифровыми активами (Blockchain Service)\n",
        "\n",
        "**Zkchaos** - блокчеин сервис, предоставляющий инструменты для обеспечения конфиденциальности при совершении транзакций с различными криптовалютами (Blockchain Service)\n",
        "\n",
        "**PolkaDomain** - масштабируемая блокчейн платформа, предоставляющая инфраструктуру для взаимодействия с другими блокчейнами (Blockchain Infrastructure)\n",
        "\n",
        "**Sil.Finance** - услуги децентрализованного финансового обеспечения (DeFi)\n",
        "\n",
        "**Siren** - платформа для создания и торговли финансовыми производными на базе блокчейна (DeFi)\n",
        "\n",
        "**LF Labs**\t- не работает сайт - можно\tудалить\n"
      ],
      "metadata": {
        "id": "PXX74EfxlXZl"
      }
    },
    {
      "cell_type": "code",
      "source": [
        "funding_rounds.at[782, 'Category'] = 'GameFi'\n",
        "funding_rounds.at[1134, 'Category'] = 'Blockchain Service'\n",
        "funding_rounds.at[1284, 'Category'] = 'DeFi'\n",
        "funding_rounds.at[2004, 'Category'] = 'Blockchain Service'\n",
        "funding_rounds.at[2077, 'Category'] = 'GameFi'\n",
        "funding_rounds.at[2227, 'Category'] = 'Social'\n",
        "funding_rounds.at[2229, 'Category'] = 'Blockchain Service'\n",
        "funding_rounds.at[2230, 'Category'] = 'Blockchain Service'\n",
        "funding_rounds.at[2380, 'Category'] = 'DeFi'\n",
        "funding_rounds.at[2518, 'Category'] = 'Blockchain Service'\n",
        "funding_rounds.at[2526, 'Category'] = 'DeFi'\n",
        "funding_rounds.at[2728, 'Category'] = 'Blockchain Service'\n",
        "funding_rounds.at[2786, 'Category'] = 'Blockchain Service'\n",
        "funding_rounds.at[2834, 'Category'] = 'CeFi'\n",
        "funding_rounds.at[2913, 'Category'] = 'Blockchain Service'\n",
        "funding_rounds.at[2954, 'Category'] = 'Blockchain Service'\n",
        "funding_rounds.at[2980, 'Category'] = 'Blockchain Service'\n",
        "funding_rounds.at[3099, 'Category'] = 'DeFi'\n",
        "funding_rounds.at[3138, 'Category'] = 'Blockchain Service'\n",
        "funding_rounds.at[3188, 'Category'] = 'Blockchain Service'\n",
        "funding_rounds.at[3390, 'Category'] = 'Blockchain Infrastructure'\n",
        "funding_rounds.at[3452, 'Category'] = 'Blockchain Service'\n",
        "funding_rounds.at[3527, 'Category'] = 'DeFi'\n",
        "funding_rounds.at[3576, 'Category'] = 'DeFi'\n",
        "funding_rounds.at[3696, 'Category'] = 'DeFi'\n",
        "funding_rounds = funding_rounds.drop(756)"
      ],
      "metadata": {
        "id": "Njs9f9dRrHSX"
      },
      "execution_count": null,
      "outputs": []
    },
    {
      "cell_type": "markdown",
      "source": [
        "\n",
        "\n",
        "> *Замечание*: \n",
        "> \n",
        "> Мы заметили, что некоторые проекты повторяются, но данные собраны по разным раундам инвестирования стартапа, поэтому мы их не удаляем. Но в будущем, при построении модели - надо скорее всего эту особенность данных учесть\n",
        "\n"
      ],
      "metadata": {
        "id": "amoxL2-xoaq7"
      }
    },
    {
      "cell_type": "code",
      "source": [
        "duplicates = funding_rounds[funding_rounds.duplicated(['Project'], keep=False)]\n",
        "duplicates = funding_rounds.loc[funding_rounds['Project'].isin(duplicates['Project'])]\n",
        "duplicates.sort_values(by = 'Project')"
      ],
      "metadata": {
        "id": "RrJow0U231mz",
        "colab": {
          "base_uri": "https://localhost:8080/",
          "height": 424
        },
        "outputId": "d9991cd5-6ac8-478b-a9b0-c7bc6c6053b9"
      },
      "execution_count": null,
      "outputs": [
        {
          "output_type": "execute_result",
          "data": {
            "text/plain": [
              "             Project       Date         Raise      Stage  \\\n",
              "3653  0x ProtocolZRX 2021-02-05  1.500000e+07   Series A   \n",
              "1291  0x ProtocolZRX 2022-04-26  7.000000e+07   Series B   \n",
              "2276             2TM 2021-11-30  5.030000e+07   Series B   \n",
              "3103             2TM 2021-06-01  2.000000e+08   Series B   \n",
              "2445        5ire5IRE 2021-10-28  2.100000e+07       Seed   \n",
              "...              ...        ...           ...        ...   \n",
              "1748           tZERO 2022-02-22  5.482179e+07  Strategic   \n",
              "521         thirdweb 2022-08-25  2.400000e+07   Series A   \n",
              "2195        thirdweb 2021-12-13  5.000000e+06       Seed   \n",
              "3392  zCloak Network 2021-04-09  1.300000e+06       Seed   \n",
              "908   zCloak Network 2022-06-17  5.800000e+06    Unknown   \n",
              "\n",
              "                       Category              Lead Investor  Investors quantity  \n",
              "3653                       DeFi            Pantera Capital                 7.0  \n",
              "1291                       DeFi          Greylock Partners                10.0  \n",
              "2276         Blockchain Service              Tribe Capital                 5.0  \n",
              "3103         Blockchain Service                   SoftBank                 1.0  \n",
              "2445  Blockchain Infrastructure                GEM Digital                 1.0  \n",
              "...                         ...                        ...                 ...  \n",
              "1748                       CeFi  Intercontinental Exchange                 3.0  \n",
              "521          Blockchain Service              Haun Ventures                 7.0  \n",
              "2195         Blockchain Service                 Mark Cuban                 2.0  \n",
              "3392         Blockchain Service                       IOSG                 7.0  \n",
              "908          Blockchain Service          Coinbase Ventures                21.0  \n",
              "\n",
              "[1357 rows x 7 columns]"
            ],
            "text/html": [
              "\n",
              "  <div id=\"df-ee324c4f-2282-4bb9-a7cd-ddcdc05ecfc2\">\n",
              "    <div class=\"colab-df-container\">\n",
              "      <div>\n",
              "<style scoped>\n",
              "    .dataframe tbody tr th:only-of-type {\n",
              "        vertical-align: middle;\n",
              "    }\n",
              "\n",
              "    .dataframe tbody tr th {\n",
              "        vertical-align: top;\n",
              "    }\n",
              "\n",
              "    .dataframe thead th {\n",
              "        text-align: right;\n",
              "    }\n",
              "</style>\n",
              "<table border=\"1\" class=\"dataframe\">\n",
              "  <thead>\n",
              "    <tr style=\"text-align: right;\">\n",
              "      <th></th>\n",
              "      <th>Project</th>\n",
              "      <th>Date</th>\n",
              "      <th>Raise</th>\n",
              "      <th>Stage</th>\n",
              "      <th>Category</th>\n",
              "      <th>Lead Investor</th>\n",
              "      <th>Investors quantity</th>\n",
              "    </tr>\n",
              "  </thead>\n",
              "  <tbody>\n",
              "    <tr>\n",
              "      <th>3653</th>\n",
              "      <td>0x ProtocolZRX</td>\n",
              "      <td>2021-02-05</td>\n",
              "      <td>1.500000e+07</td>\n",
              "      <td>Series A</td>\n",
              "      <td>DeFi</td>\n",
              "      <td>Pantera Capital</td>\n",
              "      <td>7.0</td>\n",
              "    </tr>\n",
              "    <tr>\n",
              "      <th>1291</th>\n",
              "      <td>0x ProtocolZRX</td>\n",
              "      <td>2022-04-26</td>\n",
              "      <td>7.000000e+07</td>\n",
              "      <td>Series B</td>\n",
              "      <td>DeFi</td>\n",
              "      <td>Greylock Partners</td>\n",
              "      <td>10.0</td>\n",
              "    </tr>\n",
              "    <tr>\n",
              "      <th>2276</th>\n",
              "      <td>2TM</td>\n",
              "      <td>2021-11-30</td>\n",
              "      <td>5.030000e+07</td>\n",
              "      <td>Series B</td>\n",
              "      <td>Blockchain Service</td>\n",
              "      <td>Tribe Capital</td>\n",
              "      <td>5.0</td>\n",
              "    </tr>\n",
              "    <tr>\n",
              "      <th>3103</th>\n",
              "      <td>2TM</td>\n",
              "      <td>2021-06-01</td>\n",
              "      <td>2.000000e+08</td>\n",
              "      <td>Series B</td>\n",
              "      <td>Blockchain Service</td>\n",
              "      <td>SoftBank</td>\n",
              "      <td>1.0</td>\n",
              "    </tr>\n",
              "    <tr>\n",
              "      <th>2445</th>\n",
              "      <td>5ire5IRE</td>\n",
              "      <td>2021-10-28</td>\n",
              "      <td>2.100000e+07</td>\n",
              "      <td>Seed</td>\n",
              "      <td>Blockchain Infrastructure</td>\n",
              "      <td>GEM Digital</td>\n",
              "      <td>1.0</td>\n",
              "    </tr>\n",
              "    <tr>\n",
              "      <th>...</th>\n",
              "      <td>...</td>\n",
              "      <td>...</td>\n",
              "      <td>...</td>\n",
              "      <td>...</td>\n",
              "      <td>...</td>\n",
              "      <td>...</td>\n",
              "      <td>...</td>\n",
              "    </tr>\n",
              "    <tr>\n",
              "      <th>1748</th>\n",
              "      <td>tZERO</td>\n",
              "      <td>2022-02-22</td>\n",
              "      <td>5.482179e+07</td>\n",
              "      <td>Strategic</td>\n",
              "      <td>CeFi</td>\n",
              "      <td>Intercontinental Exchange</td>\n",
              "      <td>3.0</td>\n",
              "    </tr>\n",
              "    <tr>\n",
              "      <th>521</th>\n",
              "      <td>thirdweb</td>\n",
              "      <td>2022-08-25</td>\n",
              "      <td>2.400000e+07</td>\n",
              "      <td>Series A</td>\n",
              "      <td>Blockchain Service</td>\n",
              "      <td>Haun Ventures</td>\n",
              "      <td>7.0</td>\n",
              "    </tr>\n",
              "    <tr>\n",
              "      <th>2195</th>\n",
              "      <td>thirdweb</td>\n",
              "      <td>2021-12-13</td>\n",
              "      <td>5.000000e+06</td>\n",
              "      <td>Seed</td>\n",
              "      <td>Blockchain Service</td>\n",
              "      <td>Mark Cuban</td>\n",
              "      <td>2.0</td>\n",
              "    </tr>\n",
              "    <tr>\n",
              "      <th>3392</th>\n",
              "      <td>zCloak Network</td>\n",
              "      <td>2021-04-09</td>\n",
              "      <td>1.300000e+06</td>\n",
              "      <td>Seed</td>\n",
              "      <td>Blockchain Service</td>\n",
              "      <td>IOSG</td>\n",
              "      <td>7.0</td>\n",
              "    </tr>\n",
              "    <tr>\n",
              "      <th>908</th>\n",
              "      <td>zCloak Network</td>\n",
              "      <td>2022-06-17</td>\n",
              "      <td>5.800000e+06</td>\n",
              "      <td>Unknown</td>\n",
              "      <td>Blockchain Service</td>\n",
              "      <td>Coinbase Ventures</td>\n",
              "      <td>21.0</td>\n",
              "    </tr>\n",
              "  </tbody>\n",
              "</table>\n",
              "<p>1357 rows × 7 columns</p>\n",
              "</div>\n",
              "      <button class=\"colab-df-convert\" onclick=\"convertToInteractive('df-ee324c4f-2282-4bb9-a7cd-ddcdc05ecfc2')\"\n",
              "              title=\"Convert this dataframe to an interactive table.\"\n",
              "              style=\"display:none;\">\n",
              "        \n",
              "  <svg xmlns=\"http://www.w3.org/2000/svg\" height=\"24px\"viewBox=\"0 0 24 24\"\n",
              "       width=\"24px\">\n",
              "    <path d=\"M0 0h24v24H0V0z\" fill=\"none\"/>\n",
              "    <path d=\"M18.56 5.44l.94 2.06.94-2.06 2.06-.94-2.06-.94-.94-2.06-.94 2.06-2.06.94zm-11 1L8.5 8.5l.94-2.06 2.06-.94-2.06-.94L8.5 2.5l-.94 2.06-2.06.94zm10 10l.94 2.06.94-2.06 2.06-.94-2.06-.94-.94-2.06-.94 2.06-2.06.94z\"/><path d=\"M17.41 7.96l-1.37-1.37c-.4-.4-.92-.59-1.43-.59-.52 0-1.04.2-1.43.59L10.3 9.45l-7.72 7.72c-.78.78-.78 2.05 0 2.83L4 21.41c.39.39.9.59 1.41.59.51 0 1.02-.2 1.41-.59l7.78-7.78 2.81-2.81c.8-.78.8-2.07 0-2.86zM5.41 20L4 18.59l7.72-7.72 1.47 1.35L5.41 20z\"/>\n",
              "  </svg>\n",
              "      </button>\n",
              "      \n",
              "  <style>\n",
              "    .colab-df-container {\n",
              "      display:flex;\n",
              "      flex-wrap:wrap;\n",
              "      gap: 12px;\n",
              "    }\n",
              "\n",
              "    .colab-df-convert {\n",
              "      background-color: #E8F0FE;\n",
              "      border: none;\n",
              "      border-radius: 50%;\n",
              "      cursor: pointer;\n",
              "      display: none;\n",
              "      fill: #1967D2;\n",
              "      height: 32px;\n",
              "      padding: 0 0 0 0;\n",
              "      width: 32px;\n",
              "    }\n",
              "\n",
              "    .colab-df-convert:hover {\n",
              "      background-color: #E2EBFA;\n",
              "      box-shadow: 0px 1px 2px rgba(60, 64, 67, 0.3), 0px 1px 3px 1px rgba(60, 64, 67, 0.15);\n",
              "      fill: #174EA6;\n",
              "    }\n",
              "\n",
              "    [theme=dark] .colab-df-convert {\n",
              "      background-color: #3B4455;\n",
              "      fill: #D2E3FC;\n",
              "    }\n",
              "\n",
              "    [theme=dark] .colab-df-convert:hover {\n",
              "      background-color: #434B5C;\n",
              "      box-shadow: 0px 1px 3px 1px rgba(0, 0, 0, 0.15);\n",
              "      filter: drop-shadow(0px 1px 2px rgba(0, 0, 0, 0.3));\n",
              "      fill: #FFFFFF;\n",
              "    }\n",
              "  </style>\n",
              "\n",
              "      <script>\n",
              "        const buttonEl =\n",
              "          document.querySelector('#df-ee324c4f-2282-4bb9-a7cd-ddcdc05ecfc2 button.colab-df-convert');\n",
              "        buttonEl.style.display =\n",
              "          google.colab.kernel.accessAllowed ? 'block' : 'none';\n",
              "\n",
              "        async function convertToInteractive(key) {\n",
              "          const element = document.querySelector('#df-ee324c4f-2282-4bb9-a7cd-ddcdc05ecfc2');\n",
              "          const dataTable =\n",
              "            await google.colab.kernel.invokeFunction('convertToInteractive',\n",
              "                                                     [key], {});\n",
              "          if (!dataTable) return;\n",
              "\n",
              "          const docLinkHtml = 'Like what you see? Visit the ' +\n",
              "            '<a target=\"_blank\" href=https://colab.research.google.com/notebooks/data_table.ipynb>data table notebook</a>'\n",
              "            + ' to learn more about interactive tables.';\n",
              "          element.innerHTML = '';\n",
              "          dataTable['output_type'] = 'display_data';\n",
              "          await google.colab.output.renderOutput(dataTable, element);\n",
              "          const docLink = document.createElement('div');\n",
              "          docLink.innerHTML = docLinkHtml;\n",
              "          element.appendChild(docLink);\n",
              "        }\n",
              "      </script>\n",
              "    </div>\n",
              "  </div>\n",
              "  "
            ]
          },
          "metadata": {},
          "execution_count": 185
        }
      ]
    },
    {
      "cell_type": "markdown",
      "source": [
        "# Выбросы"
      ],
      "metadata": {
        "id": "CNfu_jdYuVcG"
      }
    },
    {
      "cell_type": "code",
      "source": [
        "import seaborn as sns\n",
        "import matplotlib as plt\n",
        "import numpy as np\n",
        "import pandas as pd\n",
        "from typing import  List\n",
        "import matplotlib.pyplot as plt\n",
        "import seaborn as sns\n",
        "from string import punctuation"
      ],
      "metadata": {
        "id": "Q3ZZTJQVueEW"
      },
      "execution_count": null,
      "outputs": []
    },
    {
      "cell_type": "markdown",
      "source": [
        "**Проанализируем данные на выбросы**\n",
        "\n",
        "\\\n",
        "\n",
        "**Шаг 1**\n",
        "\n",
        "Построим ящик с усами, чтобы понять, есть ли у нас выбросы или наши данные однородны"
      ],
      "metadata": {
        "id": "KPudiKrlqOhf"
      }
    },
    {
      "cell_type": "code",
      "source": [
        "fig, axs = plt.subplots(2,1, figsize = (15, 7), sharey=True)\n",
        "hist_1 = sns.boxplot(data=funding_rounds, x=\"Raise\", color = 'cadetblue', ax = axs[0])\n",
        "hist_1.legend(['Выбросы в столбце Raise'])\n",
        "hist_2 = sns.boxplot(data = funding_rounds, x =\"Investors quantity\", color = \"indianred\",ax = axs[1])\n",
        "hist_2.legend(['Выбросы в столбце Investors quantity'])\n",
        "plt.show()"
      ],
      "metadata": {
        "id": "SSpArNamzo7g",
        "colab": {
          "base_uri": "https://localhost:8080/",
          "height": 619
        },
        "outputId": "b6a73ed1-8c1c-4813-e8a8-9c966253326e"
      },
      "execution_count": null,
      "outputs": [
        {
          "output_type": "display_data",
          "data": {
            "text/plain": [
              "<Figure size 1500x700 with 2 Axes>"
            ],
            "image/png": "[encoded data removed]"
          },
          "metadata": {}
        }
      ]
    },
    {
      "cell_type": "markdown",
      "source": [
        "\n",
        "\n",
        "> В первую очередь заметим, что ящики несимметричны - усики имеют разную длину, что указывает на наличие выбросов и асимметрии в данных.\n",
        "Ассиметрия логична, ведь есть нижнее ограничение рейза (можно не поднять инвестиций вообще и у нас были такие примеры), а вот верхней границы тут нет: некоторые криптопроекты поднимают инвестиции в несколько миллиардов долларов.\n",
        "> \n",
        "> Что можно еще заметить - это сильно сжатые ящики, что указывает, что в данных нет значительной вариации или разброса и дисперсия скорее всего низкая.\n",
        ">\n",
        "> В третьих, у нас есть достаточно много выбросов, так как ящик содержит точки за пределами усов, эчто говорит о наличии экстремальных значений в данных.\n"
      ],
      "metadata": {
        "id": "Vrx3crgsq-ff"
      }
    },
    {
      "cell_type": "markdown",
      "source": [
        "**Шаг 2**\n",
        "\n",
        "Чтобы избавиться от выбросов, которые исказят в будущем анализ и модель, мы использовали метод межквартильного размаха:\n",
        "\n",
        "\n",
        "1) Вычислили первый и третий квантиль для переменной 'Raise' с помощью функции quantile\n",
        "\n",
        "2) Вычислили межквартильного размаха (IQR) путем вычитания первого квантиля из третьего\n",
        "\n",
        "3) Определили нижнюю и верхнюю границы для определения выбросов, которые не входят в данный диапазон\n"
      ],
      "metadata": {
        "id": "DCChkANFtR_W"
      }
    },
    {
      "cell_type": "code",
      "source": [
        "q_1 = funding_rounds['Raise'].quantile(0.25)\n",
        "q_3 = funding_rounds['Raise'].quantile(0.75)\n",
        "IQR = q_3 - q_1\n",
        "low = q_1 - 1.5 * IQR\n",
        "up = q_3 + 1.5 * IQR\n",
        "\n",
        "funding_rounds_new = funding_rounds[(funding_rounds['Raise'] >= low) & (funding_rounds['Raise'] <= up)]\n",
        "funding_rounds_new.head()"
      ],
      "metadata": {
        "id": "1tHJ7ZWruVTh",
        "colab": {
          "base_uri": "https://localhost:8080/",
          "height": 206
        },
        "outputId": "02dd57b9-184b-4802-a69d-a5067f3e2c46"
      },
      "execution_count": null,
      "outputs": [
        {
          "output_type": "execute_result",
          "data": {
            "text/plain": [
              "         Project       Date      Raise         Stage            Category  \\\n",
              "1       DeSchool 2022-12-31  6000000.0          Seed  Blockchain Service   \n",
              "2  Magic Fantasy 2022-12-30  3000000.0       Unknown              GameFi   \n",
              "3          Twity 2022-12-29  6500000.0      Series A              Social   \n",
              "4     wowTalkies 2022-12-29  9000000.0       Unknown              Social   \n",
              "6        Centbee 2022-12-28  1000000.0  Pre-Series A                CeFi   \n",
              "\n",
              "        Lead Investor  Investors quantity  \n",
              "1        y2z Ventures                 6.0  \n",
              "2           Easycoins                 1.0  \n",
              "3        Wave Capital                 1.0  \n",
              "4  Tangentia Ventures                 1.0  \n",
              "6         Calvin Ayre                 1.0  "
            ],
            "text/html": [
              "\n",
              "  <div id=\"df-f7078590-d4d4-4b9f-a970-ff3623b2b5ee\">\n",
              "    <div class=\"colab-df-container\">\n",
              "      <div>\n",
              "<style scoped>\n",
              "    .dataframe tbody tr th:only-of-type {\n",
              "        vertical-align: middle;\n",
              "    }\n",
              "\n",
              "    .dataframe tbody tr th {\n",
              "        vertical-align: top;\n",
              "    }\n",
              "\n",
              "    .dataframe thead th {\n",
              "        text-align: right;\n",
              "    }\n",
              "</style>\n",
              "<table border=\"1\" class=\"dataframe\">\n",
              "  <thead>\n",
              "    <tr style=\"text-align: right;\">\n",
              "      <th></th>\n",
              "      <th>Project</th>\n",
              "      <th>Date</th>\n",
              "      <th>Raise</th>\n",
              "      <th>Stage</th>\n",
              "      <th>Category</th>\n",
              "      <th>Lead Investor</th>\n",
              "      <th>Investors quantity</th>\n",
              "    </tr>\n",
              "  </thead>\n",
              "  <tbody>\n",
              "    <tr>\n",
              "      <th>1</th>\n",
              "      <td>DeSchool</td>\n",
              "      <td>2022-12-31</td>\n",
              "      <td>6000000.0</td>\n",
              "      <td>Seed</td>\n",
              "      <td>Blockchain Service</td>\n",
              "      <td>y2z Ventures</td>\n",
              "      <td>6.0</td>\n",
              "    </tr>\n",
              "    <tr>\n",
              "      <th>2</th>\n",
              "      <td>Magic Fantasy</td>\n",
              "      <td>2022-12-30</td>\n",
              "      <td>3000000.0</td>\n",
              "      <td>Unknown</td>\n",
              "      <td>GameFi</td>\n",
              "      <td>Easycoins</td>\n",
              "      <td>1.0</td>\n",
              "    </tr>\n",
              "    <tr>\n",
              "      <th>3</th>\n",
              "      <td>Twity</td>\n",
              "      <td>2022-12-29</td>\n",
              "      <td>6500000.0</td>\n",
              "      <td>Series A</td>\n",
              "      <td>Social</td>\n",
              "      <td>Wave Capital</td>\n",
              "      <td>1.0</td>\n",
              "    </tr>\n",
              "    <tr>\n",
              "      <th>4</th>\n",
              "      <td>wowTalkies</td>\n",
              "      <td>2022-12-29</td>\n",
              "      <td>9000000.0</td>\n",
              "      <td>Unknown</td>\n",
              "      <td>Social</td>\n",
              "      <td>Tangentia Ventures</td>\n",
              "      <td>1.0</td>\n",
              "    </tr>\n",
              "    <tr>\n",
              "      <th>6</th>\n",
              "      <td>Centbee</td>\n",
              "      <td>2022-12-28</td>\n",
              "      <td>1000000.0</td>\n",
              "      <td>Pre-Series A</td>\n",
              "      <td>CeFi</td>\n",
              "      <td>Calvin Ayre</td>\n",
              "      <td>1.0</td>\n",
              "    </tr>\n",
              "  </tbody>\n",
              "</table>\n",
              "</div>\n",
              "      <button class=\"colab-df-convert\" onclick=\"convertToInteractive('df-f7078590-d4d4-4b9f-a970-ff3623b2b5ee')\"\n",
              "              title=\"Convert this dataframe to an interactive table.\"\n",
              "              style=\"display:none;\">\n",
              "        \n",
              "  <svg xmlns=\"http://www.w3.org/2000/svg\" height=\"24px\"viewBox=\"0 0 24 24\"\n",
              "       width=\"24px\">\n",
              "    <path d=\"M0 0h24v24H0V0z\" fill=\"none\"/>\n",
              "    <path d=\"M18.56 5.44l.94 2.06.94-2.06 2.06-.94-2.06-.94-.94-2.06-.94 2.06-2.06.94zm-11 1L8.5 8.5l.94-2.06 2.06-.94-2.06-.94L8.5 2.5l-.94 2.06-2.06.94zm10 10l.94 2.06.94-2.06 2.06-.94-2.06-.94-.94-2.06-.94 2.06-2.06.94z\"/><path d=\"M17.41 7.96l-1.37-1.37c-.4-.4-.92-.59-1.43-.59-.52 0-1.04.2-1.43.59L10.3 9.45l-7.72 7.72c-.78.78-.78 2.05 0 2.83L4 21.41c.39.39.9.59 1.41.59.51 0 1.02-.2 1.41-.59l7.78-7.78 2.81-2.81c.8-.78.8-2.07 0-2.86zM5.41 20L4 18.59l7.72-7.72 1.47 1.35L5.41 20z\"/>\n",
              "  </svg>\n",
              "      </button>\n",
              "      \n",
              "  <style>\n",
              "    .colab-df-container {\n",
              "      display:flex;\n",
              "      flex-wrap:wrap;\n",
              "      gap: 12px;\n",
              "    }\n",
              "\n",
              "    .colab-df-convert {\n",
              "      background-color: #E8F0FE;\n",
              "      border: none;\n",
              "      border-radius: 50%;\n",
              "      cursor: pointer;\n",
              "      display: none;\n",
              "      fill: #1967D2;\n",
              "      height: 32px;\n",
              "      padding: 0 0 0 0;\n",
              "      width: 32px;\n",
              "    }\n",
              "\n",
              "    .colab-df-convert:hover {\n",
              "      background-color: #E2EBFA;\n",
              "      box-shadow: 0px 1px 2px rgba(60, 64, 67, 0.3), 0px 1px 3px 1px rgba(60, 64, 67, 0.15);\n",
              "      fill: #174EA6;\n",
              "    }\n",
              "\n",
              "    [theme=dark] .colab-df-convert {\n",
              "      background-color: #3B4455;\n",
              "      fill: #D2E3FC;\n",
              "    }\n",
              "\n",
              "    [theme=dark] .colab-df-convert:hover {\n",
              "      background-color: #434B5C;\n",
              "      box-shadow: 0px 1px 3px 1px rgba(0, 0, 0, 0.15);\n",
              "      filter: drop-shadow(0px 1px 2px rgba(0, 0, 0, 0.3));\n",
              "      fill: #FFFFFF;\n",
              "    }\n",
              "  </style>\n",
              "\n",
              "      <script>\n",
              "        const buttonEl =\n",
              "          document.querySelector('#df-f7078590-d4d4-4b9f-a970-ff3623b2b5ee button.colab-df-convert');\n",
              "        buttonEl.style.display =\n",
              "          google.colab.kernel.accessAllowed ? 'block' : 'none';\n",
              "\n",
              "        async function convertToInteractive(key) {\n",
              "          const element = document.querySelector('#df-f7078590-d4d4-4b9f-a970-ff3623b2b5ee');\n",
              "          const dataTable =\n",
              "            await google.colab.kernel.invokeFunction('convertToInteractive',\n",
              "                                                     [key], {});\n",
              "          if (!dataTable) return;\n",
              "\n",
              "          const docLinkHtml = 'Like what you see? Visit the ' +\n",
              "            '<a target=\"_blank\" href=https://colab.research.google.com/notebooks/data_table.ipynb>data table notebook</a>'\n",
              "            + ' to learn more about interactive tables.';\n",
              "          element.innerHTML = '';\n",
              "          dataTable['output_type'] = 'display_data';\n",
              "          await google.colab.output.renderOutput(dataTable, element);\n",
              "          const docLink = document.createElement('div');\n",
              "          docLink.innerHTML = docLinkHtml;\n",
              "          element.appendChild(docLink);\n",
              "        }\n",
              "      </script>\n",
              "    </div>\n",
              "  </div>\n",
              "  "
            ]
          },
          "metadata": {},
          "execution_count": 188
        }
      ]
    },
    {
      "cell_type": "markdown",
      "source": [
        "Посмотрим, что получилось:"
      ],
      "metadata": {
        "id": "OarfxmwBuuLD"
      }
    },
    {
      "cell_type": "code",
      "source": [
        "fig, axs = plt.subplots(2,1, figsize = (15, 7), sharey=True)\n",
        "hist_1 = sns.boxplot(data=funding_rounds_new, x=\"Raise\", color = 'cadetblue', ax = axs[0])\n",
        "hist_1.legend(['Выбросы в столбце Raise'])\n",
        "hist_2 = sns.boxplot(data = funding_rounds_new, x =\"Investors quantity\", color = \"indianred\",ax = axs[1])\n",
        "hist_2.legend(['Выбросы в столбце Investors quantity'])\n",
        "plt.show()"
      ],
      "metadata": {
        "colab": {
          "base_uri": "https://localhost:8080/",
          "height": 619
        },
        "id": "JRUagWPIvMTe",
        "outputId": "a4c7c133-f6de-4e04-995e-185c81a88456"
      },
      "execution_count": null,
      "outputs": [
        {
          "output_type": "display_data",
          "data": {
            "text/plain": [
              "<Figure size 1500x700 with 2 Axes>"
            ],
            "image/png": "[encoded data removed]"
          },
          "metadata": {}
        }
      ]
    },
    {
      "cell_type": "markdown",
      "source": [
        "\n",
        "> Ящики все еще несимметричны, но как обговаривалось ранне тут это логично. Также ящики менее сжатые и выбросов за их пределами меньше.\n",
        ">\n",
        "> В целом, метод межквартильного размаха улучшил ситуацию"
      ],
      "metadata": {
        "id": "fRYWzR--u5n_"
      }
    },
    {
      "cell_type": "markdown",
      "source": [
        "# Визуализация и первые гипотезы"
      ],
      "metadata": {
        "id": "ugcN8FPmviAs"
      }
    },
    {
      "cell_type": "markdown",
      "source": [
        "**Шаг 1**\n",
        "\n",
        "Мы рассмотрели категориальный признак - Category"
      ],
      "metadata": {
        "id": "0r7ev4Ro4MaS"
      }
    },
    {
      "cell_type": "code",
      "source": [
        "plt.figure(figsize=(9, 5))\n",
        "funding_rounds['Category'].value_counts()\n",
        "sns.histplot(data = funding_rounds_new, x = 'Category', color = 'royalblue')\n",
        "plt.xticks(rotation=45)\n",
        "plt.grid(True)\n",
        "plt.title('Категории проектов по их популярности')\n",
        "plt.show()"
      ],
      "metadata": {
        "colab": {
          "base_uri": "https://localhost:8080/",
          "height": 607
        },
        "id": "pGWI9YpZukxy",
        "outputId": "407c6344-41c6-403a-ada8-a8d6cb1b2737"
      },
      "execution_count": null,
      "outputs": [
        {
          "output_type": "display_data",
          "data": {
            "text/plain": [
              "<Figure size 900x500 with 1 Axes>"
            ],
            "image/png": "[encoded data removed]"
          },
          "metadata": {}
        }
      ]
    },
    {
      "cell_type": "code",
      "source": [
        "plt.figure(figsize=(9, 5))\n",
        "funding_rounds['Category'].value_counts()\n",
        "sns.barplot(data = funding_rounds_new, x = 'Category', y = 'Raise', color = 'darkgrey')\n",
        "plt.xticks(rotation=45)\n",
        "plt.grid(True)\n",
        "plt.title('Категории проектов по raise (в млн долларов)')\n",
        "plt.show()"
      ],
      "metadata": {
        "colab": {
          "base_uri": "https://localhost:8080/",
          "height": 607
        },
        "id": "gDJbWSVjzjtP",
        "outputId": "2cd6ed6b-9791-454f-d7c1-af293b43c8b9"
      },
      "execution_count": null,
      "outputs": [
        {
          "output_type": "display_data",
          "data": {
            "text/plain": [
              "<Figure size 900x500 with 1 Axes>"
            ],
            "image/png": "[encoded data removed]"
          },
          "metadata": {}
        }
      ]
    },
    {
      "cell_type": "markdown",
      "source": [
        "> Заметим, что самый большой рейз в категории - это Currency, но данный факт скорее всего обусловлен недостатком данных - в этой категории всего 3 стартапа, как было выведено раннее.\n",
        "> \n",
        "> Также заметим, что лидирующие места по рейзу занимают CeFi и Infra, хотя проектов из этой категории тоже немного.\n",
        ">\n",
        "> Подавляющее количество проектов собрано в Blockchain Service, что делает данную категорию скорее всего самую разношерстную по показателям рейза. \n",
        ">\n",
        "> Многие скатегории (NFT, Social, GameFi, DeFi) имеют приблизительно одинаковые показатели рейза.\n",
        ">\n",
        "> \\\n",
        ">\n",
        "> *Тут можно выдвинуть несколько **гипотез**:*\n",
        "> 1.   Количество проектов в категории и рейз по ней имеют небольшую отрицательную корреляцию -  признаки друг от друга обратно зависимы \n",
        "> 2.   Данный категориальный признак оказывает влияние на рейз, но оно несильное (так как многие данные имеют приблизительно одинаковые показатели)\n",
        ">"
      ],
      "metadata": {
        "id": "9YBYv2UJ3LG8"
      }
    },
    {
      "cell_type": "markdown",
      "source": [
        "**Шаг 2**\n",
        "\n",
        "Мы рассмотрели следующий признак - Date"
      ],
      "metadata": {
        "id": "8ZDoOq9N7jYV"
      }
    },
    {
      "cell_type": "code",
      "source": [
        "funding_rounds_Q = funding_rounds_new\n",
        "first_cvar_2021 = funding_rounds_Q[(funding_rounds_Q['Date'] >= '2021-01-01') & (funding_rounds_Q['Date'] <= '2021-03-31')]\n",
        "second_cvar_2021 = funding_rounds_Q[(funding_rounds_Q['Date'] > '2021-03-31') & (funding_rounds_Q['Date'] <= '2021-06-30')]\n",
        "third_cvar_2021 = funding_rounds_Q[(funding_rounds_Q['Date'] > '2021-06-30') & (funding_rounds_Q['Date'] <= '2021-09-30')]\n",
        "forth_cvar_2021 = funding_rounds_Q[(funding_rounds_Q['Date'] > '2021-09-30') & (funding_rounds_Q['Date'] <= '2021-12-31')]\n",
        "number_projects_1_2021 = len(first_cvar_2021['Project'])\n",
        "number_projects_2_2021 = len(second_cvar_2021['Project'])\n",
        "number_projects_3_2021 = len(third_cvar_2021['Project'])\n",
        "number_projects_4_2021 = len(forth_cvar_2021['Project'])\n",
        "\n",
        "first_cvar_2022 = funding_rounds_Q[(funding_rounds_Q['Date'] > '2022-01-01') & (funding_rounds_Q['Date'] <= '2022-03-31')]\n",
        "second_cvar_2022 = funding_rounds_Q[(funding_rounds_Q['Date'] > '2022-03-31') & (funding_rounds_Q['Date'] <= '2022-06-30')]\n",
        "third_cvar_2022 = funding_rounds_Q[(funding_rounds_Q['Date'] > '2022-06-30') & (funding_rounds_Q['Date'] <= '2022-09-30')]\n",
        "forth_cvar_2022 = funding_rounds_Q[(funding_rounds_Q['Date'] > '2022-09-30') & (funding_rounds_Q['Date'] <= '2022-12-31')]\n",
        "number_projects_1_2022 = len(first_cvar_2022['Project'])\n",
        "number_projects_2_2022 = len(second_cvar_2022['Project'])\n",
        "number_projects_3_2022 = len(third_cvar_2022['Project'])\n",
        "number_projects_4_2022 = len(forth_cvar_2022['Project'])\n",
        "\n",
        "Number_project_per_cvartal = [number_projects_1_2021, number_projects_2_2021, number_projects_3_2021, number_projects_4_2021,\n",
        "                             number_projects_1_2022, number_projects_2_2022, number_projects_3_2022, number_projects_4_2022]\n",
        "\n",
        "plt.figure(figsize=(9, 5))\n",
        "sns.barplot(y = data_cvar, x = Number_project_per_cvartal, color = 'royalblue', orient = \"h\")\n",
        "plt.xticks(rotation=45)\n",
        "plt.grid(True)\n",
        "plt.title('Количество проектов по кварталам с 2021 по 2023')\n",
        "plt.xlabel('Количество проектов')\n",
        "plt.show()"
      ],
      "metadata": {
        "colab": {
          "base_uri": "https://localhost:8080/",
          "height": 502
        },
        "id": "68_QLgtE1RX4",
        "outputId": "b091f3c9-d87e-494e-d9d9-09f12a635eca"
      },
      "execution_count": null,
      "outputs": [
        {
          "output_type": "display_data",
          "data": {
            "text/plain": [
              "<Figure size 900x500 with 1 Axes>"
            ],
            "image/png": "[encoded data removed]"
          },
          "metadata": {}
        }
      ]
    },
    {
      "cell_type": "code",
      "source": [
        "first_cvar_2021 = funding_rounds_Q[(funding_rounds_Q['Date'] >= '2021-01-01') & (funding_rounds_Q['Date'] <= '2021-03-31')]\n",
        "second_cvar_2021 = funding_rounds_Q[(funding_rounds_Q['Date'] > '2021-03-31') & (funding_rounds_Q['Date'] <= '2021-06-30')]\n",
        "third_cvar_2021 = funding_rounds_Q[(funding_rounds_Q['Date'] > '2021-06-30') & (funding_rounds_Q['Date'] <= '2021-09-30')]\n",
        "forth_cvar_2021 = funding_rounds_Q[(funding_rounds_Q['Date'] > '2021-09-30') & (funding_rounds_Q['Date'] <= '2021-12-31')]\n",
        "mean_raise_1_2021 = first_cvar_2021['Raise'].mean()\n",
        "mean_raise_2_2021 = second_cvar_2021['Raise'].mean()\n",
        "mean_raise_3_2021 = third_cvar_2021['Raise'].mean()\n",
        "mean_raise_4_2021 = forth_cvar_2021['Raise'].mean()\n",
        "\n",
        "\n",
        "first_cvar_2022 = funding_rounds_Q[(funding_rounds_Q['Date'] > '2022-01-01') & (funding_rounds_Q['Date'] <= '2022-03-31')]\n",
        "second_cvar_2022 = funding_rounds_Q[(funding_rounds_Q['Date'] > '2022-03-31') & (funding_rounds_Q['Date'] <= '2022-06-30')]\n",
        "third_cvar_2022 = funding_rounds_Q[(funding_rounds_Q['Date'] > '2022-06-30') & (funding_rounds_Q['Date'] <= '2022-09-30')]\n",
        "forth_cvar_2022 = funding_rounds_Q[(funding_rounds_Q['Date'] > '2022-09-30') & (funding_rounds_Q['Date'] <= '2022-12-31')]\n",
        "mean_raise_1_2022 = first_cvar_2022['Raise'].mean()\n",
        "mean_raise_2_2022 = second_cvar_2022['Raise'].mean()\n",
        "mean_raise_3_2022 = third_cvar_2022['Raise'].mean()\n",
        "mean_raise_4_2022 = forth_cvar_2022['Raise'].mean()\n",
        "data_cvar = ['1 квартал 2021', '2 квартал 2021', '3 квартал 2021', '4 квартал 2021', '1 квартал 2022', '2 квартал 2022', '3 квартал 2022', '4 квартал 2022']\n",
        "mean_raise = [mean_raise_1_2021, mean_raise_2_2021, mean_raise_3_2021, mean_raise_4_2021, mean_raise_1_2022, mean_raise_2_2022, mean_raise_3_2022, mean_raise_4_2022]\n",
        "\n",
        "\n",
        "plt.figure(figsize=(9, 5))\n",
        "sns.barplot(y = data_cvar, x = mean_raise, color = 'darkgrey', orient = \"h\")\n",
        "plt.xticks(rotation=45)\n",
        "plt.grid(True)\n",
        "plt.title('Средний raise проектов по кварталам в млн долларов')\n",
        "plt.xlabel('Средний Raise')\n",
        "plt.show()"
      ],
      "metadata": {
        "colab": {
          "base_uri": "https://localhost:8080/",
          "height": 489
        },
        "id": "CCyjp97gvBZU",
        "outputId": "b1fee44f-9865-411e-f761-d0d900d504e6"
      },
      "execution_count": null,
      "outputs": [
        {
          "output_type": "display_data",
          "data": {
            "text/plain": [
              "<Figure size 900x500 with 1 Axes>"
            ],
            "image/png": "[encoded data removed]"
          },
          "metadata": {}
        }
      ]
    },
    {
      "cell_type": "markdown",
      "source": [
        "> По получившимся графикам прослеживается корреляция с ценами криптовалютного рынка: \n",
        "> *   пандемия в 2021 году привела к огромному скачку капитализаций цифровых активов и вызвало огромный интерес к криптовалюте, что послужило стимвулом создания проектов в Web3 и инвестирования в быстроменяющиеся тренды растущего рынка \n",
        "> *   во 2-3 квартале 2022 года произошел обвал криптовалютного сегмента, что послужило началом криптозимы\n",
        ">\n",
        "> Есть два типа инвесторов: те, кто входят в много проектов с низкими чеками и те, кто инвестируют очень изборочно, но с большим ticketsize. Так криптозима могла сказаться и на тех, и на тех, но в разной мере.\n",
        ">\n",
        "> Как мы видим количество проектов, которые собирают раунды резко снизилось с падением цен активов, а вот показатель сренего рейза хоть и снизился, но не так резко, как того ожидалось. Это можно объяснить несколькими причинами:\n",
        "> *   Многие проекты перенесли свои запуски на биржах (как на CEX, так и на DEX) из-за непопулярности рынка и большого риска плохого лаунча\n",
        "> *   Многие фонды и инвесторы потеряли свои активы и у них нет возможности продолжать деятельность, а это в большей мере фонды tier 3-5. Средние/слабые проекты это понимают и поэтому не начинают или затягивают раунды\n",
        "> *   Но сильные фонды продолжают деятельность, так еще и более активно, так как лучше инвестировать и покупать активы на низах рынка, поэтому показатель среднего рейза не так сильно упал, ведь tier 1-2 фонды имеют высокий AUM, даже после обвала рынка и готовы заходить в сильные проекты во время криптозимы даже с большими суммами\n",
        "> \n",
        "> \\\n",
        ">\n",
        "> *Тут можно выдвинуть несколько **гипотез**:*\n",
        "> 1.   Дата оказывает влияние на рейз (в 1Q 2022 показатель растет, в 3Q снижается), но не так значительно, как количество стартапов, которые поднимают рейз\n",
        "> "
      ],
      "metadata": {
        "id": "63IhPjqM8SRC"
      }
    },
    {
      "cell_type": "markdown",
      "source": [
        "# Машинное обучение\n"
      ],
      "metadata": {
        "id": "Vg7CL1LUxPEv"
      }
    },
    {
      "cell_type": "markdown",
      "source": [
        "Что касается блока \"Машинное обучение\", то тут седующие планы:\n",
        "\n",
        "\n",
        "1.   В качестве переменной, которую будем предсказывать, выбрали колонку RAISE\n",
        "2.   Так как в Raise находятся вещественные числа, будем обучать модель линейной регрессии\n",
        "3.   Будем проводить скалирование и регуляризацию\n",
        "4.   Скорее всего, разбиение выборки будет на трэйн и тетс в соотношении 70/30 или 80/20\n",
        "5.   Для кодирования будем использова\n",
        "6.   Для модели будем использовать следующие метрики: MSE, MAE, MAPE, HUBER_LOSS, MSLE и другие метрики\n",
        "7.  Возможно добавления ещё одних данных, с уточнением по инвесторам (рыночная капитализация, торговый объём в 24 часа, коэффициент доминации на рынке). Далее будет проведена работа над признаками: использование полиномов, отбор на основе корреляции или дисперсии.\n",
        "\n"
      ],
      "metadata": {
        "id": "OY6VT97CxUG0"
      }
    }
  ]
}